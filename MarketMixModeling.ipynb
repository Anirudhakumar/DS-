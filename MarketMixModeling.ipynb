{
  "nbformat": 4,
  "nbformat_minor": 0,
  "metadata": {
    "colab": {
      "name": "MarketMixModeling.ipynb",
      "provenance": [],
      "collapsed_sections": [],
      "mount_file_id": "1XYoJ-KDaGH0y86xJxGCX3tcjH6JIj9Xu",
      "authorship_tag": "ABX9TyM4lsLvIswka+WBnERXo11M",
      "include_colab_link": true
    },
    "kernelspec": {
      "name": "python3",
      "display_name": "Python 3"
    },
    "accelerator": "GPU"
  },
  "cells": [
    {
      "cell_type": "markdown",
      "metadata": {
        "id": "view-in-github",
        "colab_type": "text"
      },
      "source": [
        "<a href=\"https://colab.research.google.com/github/Anirudhakumar/DS-/blob/master/MarketMixModeling.ipynb\" target=\"_parent\"><img src=\"https://colab.research.google.com/assets/colab-badge.svg\" alt=\"Open In Colab\"/></a>"
      ]
    },
    {
      "cell_type": "code",
      "metadata": {
        "id": "cSzl4g9wpEpZ",
        "colab_type": "code",
        "colab": {}
      },
      "source": [
        "import pandas as pd\n",
        "from google.colab import drive\n",
        "import matplotlib.pyplot as plt\n",
        "import seaborn as sns\n",
        "import warnings\n",
        "warnings.filterwarnings(\"ignore\")\n",
        "%matplotlib inline "
      ],
      "execution_count": 61,
      "outputs": []
    },
    {
      "cell_type": "code",
      "metadata": {
        "id": "vSAgMsZNu3-9",
        "colab_type": "code",
        "colab": {
          "base_uri": "https://localhost:8080/",
          "height": 35
        },
        "outputId": "050a4f1a-1bda-41c2-cadf-56ba88292e01"
      },
      "source": [
        "drive.mount(\"/content/drive\")"
      ],
      "execution_count": 62,
      "outputs": [
        {
          "output_type": "stream",
          "text": [
            "Drive already mounted at /content/drive; to attempt to forcibly remount, call drive.mount(\"/content/drive\", force_remount=True).\n"
          ],
          "name": "stdout"
        }
      ]
    },
    {
      "cell_type": "code",
      "metadata": {
        "id": "avfSu1VtvCzi",
        "colab_type": "code",
        "colab": {}
      },
      "source": [
        "#reading the data \n",
        "data_frame=pd.read_csv(\"./drive/My Drive/ConsumerElectronics.csv\")"
      ],
      "execution_count": 63,
      "outputs": []
    },
    {
      "cell_type": "code",
      "metadata": {
        "id": "2iRMoAt_z0pN",
        "colab_type": "code",
        "colab": {}
      },
      "source": [
        "df=data_frame.copy()"
      ],
      "execution_count": 64,
      "outputs": []
    },
    {
      "cell_type": "code",
      "metadata": {
        "id": "Ylb3pzkGwmAm",
        "colab_type": "code",
        "colab": {
          "base_uri": "https://localhost:8080/",
          "height": 309
        },
        "outputId": "5ddd32bd-4af1-4c2d-9e7c-0826f033de03"
      },
      "source": [
        "#printing some rows of data\n",
        "df.head()"
      ],
      "execution_count": 65,
      "outputs": [
        {
          "output_type": "execute_result",
          "data": {
            "text/html": [
              "<div>\n",
              "<style scoped>\n",
              "    .dataframe tbody tr th:only-of-type {\n",
              "        vertical-align: middle;\n",
              "    }\n",
              "\n",
              "    .dataframe tbody tr th {\n",
              "        vertical-align: top;\n",
              "    }\n",
              "\n",
              "    .dataframe thead th {\n",
              "        text-align: right;\n",
              "    }\n",
              "</style>\n",
              "<table border=\"1\" class=\"dataframe\">\n",
              "  <thead>\n",
              "    <tr style=\"text-align: right;\">\n",
              "      <th></th>\n",
              "      <th>fsn_id</th>\n",
              "      <th>order_date</th>\n",
              "      <th>Year</th>\n",
              "      <th>Month</th>\n",
              "      <th>order_id</th>\n",
              "      <th>order_item_id</th>\n",
              "      <th>gmv</th>\n",
              "      <th>units</th>\n",
              "      <th>deliverybdays</th>\n",
              "      <th>deliverycdays</th>\n",
              "      <th>s1_fact.order_payment_type</th>\n",
              "      <th>sla</th>\n",
              "      <th>cust_id</th>\n",
              "      <th>pincode</th>\n",
              "      <th>product_analytic_super_category</th>\n",
              "      <th>product_analytic_category</th>\n",
              "      <th>product_analytic_sub_category</th>\n",
              "      <th>product_analytic_vertical</th>\n",
              "      <th>product_mrp</th>\n",
              "      <th>product_procurement_sla</th>\n",
              "    </tr>\n",
              "  </thead>\n",
              "  <tbody>\n",
              "    <tr>\n",
              "      <th>0</th>\n",
              "      <td>ACCCX3S58G7B5F6P</td>\n",
              "      <td>2015-10-17 15:11:54</td>\n",
              "      <td>2015</td>\n",
              "      <td>10</td>\n",
              "      <td>3.419301e+15</td>\n",
              "      <td>3.419301e+15</td>\n",
              "      <td>6400</td>\n",
              "      <td>1</td>\n",
              "      <td>\\N</td>\n",
              "      <td>\\N</td>\n",
              "      <td>COD</td>\n",
              "      <td>5</td>\n",
              "      <td>-1.01299130778588E+018</td>\n",
              "      <td>-7.79175582905735E+018</td>\n",
              "      <td>CE</td>\n",
              "      <td>CameraAccessory</td>\n",
              "      <td>CameraAccessory</td>\n",
              "      <td>CameraTripod</td>\n",
              "      <td>7190</td>\n",
              "      <td>0</td>\n",
              "    </tr>\n",
              "    <tr>\n",
              "      <th>1</th>\n",
              "      <td>ACCCX3S58G7B5F6P</td>\n",
              "      <td>2015-10-19 10:07:22</td>\n",
              "      <td>2015</td>\n",
              "      <td>10</td>\n",
              "      <td>1.420831e+15</td>\n",
              "      <td>1.420831e+15</td>\n",
              "      <td>6900</td>\n",
              "      <td>1</td>\n",
              "      <td>\\N</td>\n",
              "      <td>\\N</td>\n",
              "      <td>COD</td>\n",
              "      <td>7</td>\n",
              "      <td>-8.99032457905512E+018</td>\n",
              "      <td>7.33541149097431E+018</td>\n",
              "      <td>CE</td>\n",
              "      <td>CameraAccessory</td>\n",
              "      <td>CameraAccessory</td>\n",
              "      <td>CameraTripod</td>\n",
              "      <td>7190</td>\n",
              "      <td>0</td>\n",
              "    </tr>\n",
              "    <tr>\n",
              "      <th>2</th>\n",
              "      <td>ACCCX3S5AHMF55FV</td>\n",
              "      <td>2015-10-20 15:45:56</td>\n",
              "      <td>2015</td>\n",
              "      <td>10</td>\n",
              "      <td>2.421913e+15</td>\n",
              "      <td>2.421913e+15</td>\n",
              "      <td>1990</td>\n",
              "      <td>1</td>\n",
              "      <td>\\N</td>\n",
              "      <td>\\N</td>\n",
              "      <td>COD</td>\n",
              "      <td>10</td>\n",
              "      <td>-1.0404429420466E+018</td>\n",
              "      <td>-7.47768776228657E+018</td>\n",
              "      <td>CE</td>\n",
              "      <td>CameraAccessory</td>\n",
              "      <td>CameraAccessory</td>\n",
              "      <td>CameraTripod</td>\n",
              "      <td>2099</td>\n",
              "      <td>3</td>\n",
              "    </tr>\n",
              "    <tr>\n",
              "      <th>3</th>\n",
              "      <td>ACCCX3S5AHMF55FV</td>\n",
              "      <td>2015-10-14 12:05:15</td>\n",
              "      <td>2015</td>\n",
              "      <td>10</td>\n",
              "      <td>4.416592e+15</td>\n",
              "      <td>4.416592e+15</td>\n",
              "      <td>1690</td>\n",
              "      <td>1</td>\n",
              "      <td>\\N</td>\n",
              "      <td>\\N</td>\n",
              "      <td>Prepaid</td>\n",
              "      <td>4</td>\n",
              "      <td>-7.60496084352714E+018</td>\n",
              "      <td>-5.83593163877661E+018</td>\n",
              "      <td>CE</td>\n",
              "      <td>CameraAccessory</td>\n",
              "      <td>CameraAccessory</td>\n",
              "      <td>CameraTripod</td>\n",
              "      <td>2099</td>\n",
              "      <td>3</td>\n",
              "    </tr>\n",
              "    <tr>\n",
              "      <th>4</th>\n",
              "      <td>ACCCX3S5AHMF55FV</td>\n",
              "      <td>2015-10-17 21:25:03</td>\n",
              "      <td>2015</td>\n",
              "      <td>10</td>\n",
              "      <td>4.419525e+15</td>\n",
              "      <td>4.419525e+15</td>\n",
              "      <td>1618</td>\n",
              "      <td>1</td>\n",
              "      <td>\\N</td>\n",
              "      <td>\\N</td>\n",
              "      <td>Prepaid</td>\n",
              "      <td>6</td>\n",
              "      <td>2.8945572083453E+018</td>\n",
              "      <td>5.34735360997242E+017</td>\n",
              "      <td>CE</td>\n",
              "      <td>CameraAccessory</td>\n",
              "      <td>CameraAccessory</td>\n",
              "      <td>CameraTripod</td>\n",
              "      <td>2099</td>\n",
              "      <td>3</td>\n",
              "    </tr>\n",
              "  </tbody>\n",
              "</table>\n",
              "</div>"
            ],
            "text/plain": [
              "             fsn_id           order_date  ...  product_mrp  product_procurement_sla\n",
              "0  ACCCX3S58G7B5F6P  2015-10-17 15:11:54  ...         7190                        0\n",
              "1  ACCCX3S58G7B5F6P  2015-10-19 10:07:22  ...         7190                        0\n",
              "2  ACCCX3S5AHMF55FV  2015-10-20 15:45:56  ...         2099                        3\n",
              "3  ACCCX3S5AHMF55FV  2015-10-14 12:05:15  ...         2099                        3\n",
              "4  ACCCX3S5AHMF55FV  2015-10-17 21:25:03  ...         2099                        3\n",
              "\n",
              "[5 rows x 20 columns]"
            ]
          },
          "metadata": {
            "tags": []
          },
          "execution_count": 65
        }
      ]
    },
    {
      "cell_type": "code",
      "metadata": {
        "id": "EfBa3l41wrus",
        "colab_type": "code",
        "colab": {
          "base_uri": "https://localhost:8080/",
          "height": 485
        },
        "outputId": "de92a4ee-337f-47f2-c220-f066d0c5b3c6"
      },
      "source": [
        "#checking data info \n",
        "df.info()"
      ],
      "execution_count": 66,
      "outputs": [
        {
          "output_type": "stream",
          "text": [
            "<class 'pandas.core.frame.DataFrame'>\n",
            "RangeIndex: 1648824 entries, 0 to 1648823\n",
            "Data columns (total 20 columns):\n",
            " #   Column                           Non-Null Count    Dtype  \n",
            "---  ------                           --------------    -----  \n",
            " 0   fsn_id                           1648824 non-null  object \n",
            " 1   order_date                       1648824 non-null  object \n",
            " 2   Year                             1648824 non-null  int64  \n",
            " 3   Month                            1648824 non-null  int64  \n",
            " 4   order_id                         1648824 non-null  float64\n",
            " 5   order_item_id                    1648824 non-null  float64\n",
            " 6   gmv                              1648824 non-null  object \n",
            " 7   units                            1648824 non-null  int64  \n",
            " 8   deliverybdays                    1648824 non-null  object \n",
            " 9   deliverycdays                    1648824 non-null  object \n",
            " 10  s1_fact.order_payment_type       1648824 non-null  object \n",
            " 11  sla                              1648824 non-null  int64  \n",
            " 12  cust_id                          1648824 non-null  object \n",
            " 13  pincode                          1648824 non-null  object \n",
            " 14  product_analytic_super_category  1648824 non-null  object \n",
            " 15  product_analytic_category        1648824 non-null  object \n",
            " 16  product_analytic_sub_category    1648824 non-null  object \n",
            " 17  product_analytic_vertical        1648824 non-null  object \n",
            " 18  product_mrp                      1648824 non-null  int64  \n",
            " 19  product_procurement_sla          1648824 non-null  int64  \n",
            "dtypes: float64(2), int64(6), object(12)\n",
            "memory usage: 251.6+ MB\n"
          ],
          "name": "stdout"
        }
      ]
    },
    {
      "cell_type": "code",
      "metadata": {
        "id": "94h5vFExDKJq",
        "colab_type": "code",
        "colab": {}
      },
      "source": [
        "#We should change the order_date data type for future use\n",
        "df[\"order_date\"]=pd.to_datetime(df[\"order_date\"], errors='coerce')"
      ],
      "execution_count": 67,
      "outputs": []
    },
    {
      "cell_type": "code",
      "metadata": {
        "id": "NwnuwYoWxgeF",
        "colab_type": "code",
        "colab": {
          "base_uri": "https://localhost:8080/",
          "height": 309
        },
        "outputId": "f2e65dae-9f04-4a75-8a97-77584a3c696d"
      },
      "source": [
        "#while changing the gmv column to numeric we can find we have some data where gmv is \" \"\n",
        "df[df[\"gmv\"]==\" \"].head()"
      ],
      "execution_count": 68,
      "outputs": [
        {
          "output_type": "execute_result",
          "data": {
            "text/html": [
              "<div>\n",
              "<style scoped>\n",
              "    .dataframe tbody tr th:only-of-type {\n",
              "        vertical-align: middle;\n",
              "    }\n",
              "\n",
              "    .dataframe tbody tr th {\n",
              "        vertical-align: top;\n",
              "    }\n",
              "\n",
              "    .dataframe thead th {\n",
              "        text-align: right;\n",
              "    }\n",
              "</style>\n",
              "<table border=\"1\" class=\"dataframe\">\n",
              "  <thead>\n",
              "    <tr style=\"text-align: right;\">\n",
              "      <th></th>\n",
              "      <th>fsn_id</th>\n",
              "      <th>order_date</th>\n",
              "      <th>Year</th>\n",
              "      <th>Month</th>\n",
              "      <th>order_id</th>\n",
              "      <th>order_item_id</th>\n",
              "      <th>gmv</th>\n",
              "      <th>units</th>\n",
              "      <th>deliverybdays</th>\n",
              "      <th>deliverycdays</th>\n",
              "      <th>s1_fact.order_payment_type</th>\n",
              "      <th>sla</th>\n",
              "      <th>cust_id</th>\n",
              "      <th>pincode</th>\n",
              "      <th>product_analytic_super_category</th>\n",
              "      <th>product_analytic_category</th>\n",
              "      <th>product_analytic_sub_category</th>\n",
              "      <th>product_analytic_vertical</th>\n",
              "      <th>product_mrp</th>\n",
              "      <th>product_procurement_sla</th>\n",
              "    </tr>\n",
              "  </thead>\n",
              "  <tbody>\n",
              "    <tr>\n",
              "      <th>8</th>\n",
              "      <td>ACCCX3S5JGAJETYR</td>\n",
              "      <td>2015-10-16 00:49:14</td>\n",
              "      <td>2015</td>\n",
              "      <td>10</td>\n",
              "      <td>2.417870e+15</td>\n",
              "      <td>2.417870e+15</td>\n",
              "      <td></td>\n",
              "      <td>1</td>\n",
              "      <td>\\N</td>\n",
              "      <td>\\N</td>\n",
              "      <td>Prepaid</td>\n",
              "      <td>9</td>\n",
              "      <td></td>\n",
              "      <td></td>\n",
              "      <td>CE</td>\n",
              "      <td>CameraAccessory</td>\n",
              "      <td>CameraAccessory</td>\n",
              "      <td>CameraTripod</td>\n",
              "      <td>4044</td>\n",
              "      <td>5</td>\n",
              "    </tr>\n",
              "    <tr>\n",
              "      <th>95</th>\n",
              "      <td>ACCCX3SGAR6NNBMR</td>\n",
              "      <td>2015-10-05 13:25:48</td>\n",
              "      <td>2015</td>\n",
              "      <td>10</td>\n",
              "      <td>2.408842e+15</td>\n",
              "      <td>2.408842e+15</td>\n",
              "      <td></td>\n",
              "      <td>1</td>\n",
              "      <td>\\N</td>\n",
              "      <td>\\N</td>\n",
              "      <td>Prepaid</td>\n",
              "      <td>3</td>\n",
              "      <td></td>\n",
              "      <td></td>\n",
              "      <td>CE</td>\n",
              "      <td>CameraAccessory</td>\n",
              "      <td>CameraAccessory</td>\n",
              "      <td>Lens</td>\n",
              "      <td>7150</td>\n",
              "      <td>5</td>\n",
              "    </tr>\n",
              "    <tr>\n",
              "      <th>124</th>\n",
              "      <td>ACCCX3SGDGPZAQXD</td>\n",
              "      <td>2015-10-16 01:49:30</td>\n",
              "      <td>2015</td>\n",
              "      <td>10</td>\n",
              "      <td>4.417909e+15</td>\n",
              "      <td>4.417909e+15</td>\n",
              "      <td></td>\n",
              "      <td>1</td>\n",
              "      <td>\\N</td>\n",
              "      <td>\\N</td>\n",
              "      <td>Prepaid</td>\n",
              "      <td>6</td>\n",
              "      <td></td>\n",
              "      <td></td>\n",
              "      <td>CE</td>\n",
              "      <td>CameraAccessory</td>\n",
              "      <td>CameraAccessory</td>\n",
              "      <td>Lens</td>\n",
              "      <td>17995</td>\n",
              "      <td>5</td>\n",
              "    </tr>\n",
              "    <tr>\n",
              "      <th>142</th>\n",
              "      <td>ACCCX3SGDGPZAQXD</td>\n",
              "      <td>2015-10-16 22:59:20</td>\n",
              "      <td>2015</td>\n",
              "      <td>10</td>\n",
              "      <td>4.418717e+15</td>\n",
              "      <td>4.418717e+15</td>\n",
              "      <td></td>\n",
              "      <td>1</td>\n",
              "      <td>\\N</td>\n",
              "      <td>\\N</td>\n",
              "      <td>Prepaid</td>\n",
              "      <td>6</td>\n",
              "      <td></td>\n",
              "      <td></td>\n",
              "      <td>CE</td>\n",
              "      <td>CameraAccessory</td>\n",
              "      <td>CameraAccessory</td>\n",
              "      <td>Lens</td>\n",
              "      <td>17995</td>\n",
              "      <td>5</td>\n",
              "    </tr>\n",
              "    <tr>\n",
              "      <th>186</th>\n",
              "      <td>ACCCX3SGDGPZAQXD</td>\n",
              "      <td>2015-10-16 07:30:25</td>\n",
              "      <td>2015</td>\n",
              "      <td>10</td>\n",
              "      <td>4.418158e+15</td>\n",
              "      <td>4.418158e+15</td>\n",
              "      <td></td>\n",
              "      <td>1</td>\n",
              "      <td>\\N</td>\n",
              "      <td>\\N</td>\n",
              "      <td>Prepaid</td>\n",
              "      <td>6</td>\n",
              "      <td></td>\n",
              "      <td></td>\n",
              "      <td>CE</td>\n",
              "      <td>CameraAccessory</td>\n",
              "      <td>CameraAccessory</td>\n",
              "      <td>Lens</td>\n",
              "      <td>17995</td>\n",
              "      <td>5</td>\n",
              "    </tr>\n",
              "  </tbody>\n",
              "</table>\n",
              "</div>"
            ],
            "text/plain": [
              "               fsn_id          order_date  ...  product_mrp  product_procurement_sla\n",
              "8    ACCCX3S5JGAJETYR 2015-10-16 00:49:14  ...         4044                        5\n",
              "95   ACCCX3SGAR6NNBMR 2015-10-05 13:25:48  ...         7150                        5\n",
              "124  ACCCX3SGDGPZAQXD 2015-10-16 01:49:30  ...        17995                        5\n",
              "142  ACCCX3SGDGPZAQXD 2015-10-16 22:59:20  ...        17995                        5\n",
              "186  ACCCX3SGDGPZAQXD 2015-10-16 07:30:25  ...        17995                        5\n",
              "\n",
              "[5 rows x 20 columns]"
            ]
          },
          "metadata": {
            "tags": []
          },
          "execution_count": 68
        }
      ]
    },
    {
      "cell_type": "code",
      "metadata": {
        "id": "PaXQOkl2yKza",
        "colab_type": "code",
        "colab": {}
      },
      "source": [
        "df[\"gmv\"].replace(\" \",0,inplace=True)"
      ],
      "execution_count": 69,
      "outputs": []
    },
    {
      "cell_type": "code",
      "metadata": {
        "id": "kx7h98kEuF-N",
        "colab_type": "code",
        "colab": {}
      },
      "source": [
        "#we need to change the data type of gmv(Gross Merchandise Value or Revenue) to int as this is of int type\n",
        "df[\"gmv\"]=pd.to_numeric(df[\"gmv\"])"
      ],
      "execution_count": 70,
      "outputs": []
    },
    {
      "cell_type": "code",
      "metadata": {
        "id": "Ds6U9Em0xASn",
        "colab_type": "code",
        "colab": {
          "base_uri": "https://localhost:8080/",
          "height": 35
        },
        "outputId": "1b173b8a-cdf9-47d1-bc6a-632003ccea52"
      },
      "source": [
        "#checking shape of data\n",
        "df.shape"
      ],
      "execution_count": 71,
      "outputs": [
        {
          "output_type": "execute_result",
          "data": {
            "text/plain": [
              "(1648824, 20)"
            ]
          },
          "metadata": {
            "tags": []
          },
          "execution_count": 71
        }
      ]
    },
    {
      "cell_type": "code",
      "metadata": {
        "id": "LiwusWP1FTyp",
        "colab_type": "code",
        "colab": {
          "base_uri": "https://localhost:8080/",
          "height": 381
        },
        "outputId": "c42800b3-0071-4663-8e94-adea8b601aef"
      },
      "source": [
        "#checking for null values in dataset\n",
        "df.isnull().sum()"
      ],
      "execution_count": 72,
      "outputs": [
        {
          "output_type": "execute_result",
          "data": {
            "text/plain": [
              "fsn_id                             0\n",
              "order_date                         0\n",
              "Year                               0\n",
              "Month                              0\n",
              "order_id                           0\n",
              "order_item_id                      0\n",
              "gmv                                0\n",
              "units                              0\n",
              "deliverybdays                      0\n",
              "deliverycdays                      0\n",
              "s1_fact.order_payment_type         0\n",
              "sla                                0\n",
              "cust_id                            0\n",
              "pincode                            0\n",
              "product_analytic_super_category    0\n",
              "product_analytic_category          0\n",
              "product_analytic_sub_category      0\n",
              "product_analytic_vertical          0\n",
              "product_mrp                        0\n",
              "product_procurement_sla            0\n",
              "dtype: int64"
            ]
          },
          "metadata": {
            "tags": []
          },
          "execution_count": 72
        }
      ]
    },
    {
      "cell_type": "code",
      "metadata": {
        "id": "qKT0ztWOH44K",
        "colab_type": "code",
        "colab": {}
      },
      "source": [
        "df=df[(df[\"order_date\"]>=\"2015-07-01\") & (df[\"order_date\"]<\"2016-07-01\")]"
      ],
      "execution_count": 73,
      "outputs": []
    },
    {
      "cell_type": "code",
      "metadata": {
        "id": "wyeFYkZaI1UI",
        "colab_type": "code",
        "colab": {
          "base_uri": "https://localhost:8080/",
          "height": 1000
        },
        "outputId": "0cf5685f-1781-45c6-fee9-d822476a2ad9"
      },
      "source": [
        "arr=[\"Year\",\"Month\",\"product_analytic_super_category\",\"product_analytic_category\",\"product_analytic_sub_category\",\"product_analytic_vertical\",\"s1_fact.order_payment_type\"]\n",
        "for i in arr:\n",
        "  sns.countplot(x=i,data=df)\n",
        "  plt.xticks(rotation=90)\n",
        "  plt.show()"
      ],
      "execution_count": 74,
      "outputs": [
        {
          "output_type": "display_data",
          "data": {
            "image/png": "[encoded data removed]",
            "text/plain": [
              "<Figure size 432x288 with 1 Axes>"
            ]
          },
          "metadata": {
            "tags": [],
            "needs_background": "light"
          }
        },
        {
          "output_type": "display_data",
          "data": {
            "image/png": "[encoded data removed]",
            "text/plain": [
              "<Figure size 432x288 with 1 Axes>"
            ]
          },
          "metadata": {
            "tags": [],
            "needs_background": "light"
          }
        },
        {
          "output_type": "display_data",
          "data": {
            "image/png": "[encoded data removed]",
            "text/plain": [
              "<Figure size 432x288 with 1 Axes>"
            ]
          },
          "metadata": {
            "tags": [],
            "needs_background": "light"
          }
        },
        {
          "output_type": "display_data",
          "data": {
            "image/png": "[encoded data removed]",
            "text/plain": [
              "<Figure size 432x288 with 1 Axes>"
            ]
          },
          "metadata": {
            "tags": [],
            "needs_background": "light"
          }
        },
        {
          "output_type": "display_data",
          "data": {
            "image/png": "[encoded data removed]",
            "text/plain": [
              "<Figure size 432x288 with 1 Axes>"
            ]
          },
          "metadata": {
            "tags": [],
            "needs_background": "light"
          }
        },
        {
          "output_type": "display_data",
          "data": {
            "image/png": "[encoded data removed]",
            "text/plain": [
              "<Figure size 432x288 with 1 Axes>"
            ]
          },
          "metadata": {
            "tags": [],
            "needs_background": "light"
          }
        },
        {
          "output_type": "display_data",
          "data": {
            "image/png": "[encoded data removed]",
            "text/plain": [
              "<Figure size 432x288 with 1 Axes>"
            ]
          },
          "metadata": {
            "tags": [],
            "needs_background": "light"
          }
        }
      ]
    },
    {
      "cell_type": "code",
      "metadata": {
        "id": "HfH8DCVzd89L",
        "colab_type": "code",
        "colab": {}
      },
      "source": [
        "#As we can see we have only 2 types of payment i am converting them into 0 and 1 that may be helpful in future calculation\n",
        "df[\"s1_fact.order_payment_type\"].replace(\"COD\",1,inplace=True)\n",
        "df[\"s1_fact.order_payment_type\"].replace(\"Prepaid\",0,inplace=True)"
      ],
      "execution_count": 75,
      "outputs": []
    },
    {
      "cell_type": "code",
      "metadata": {
        "id": "esH0FUU5T2kF",
        "colab_type": "code",
        "colab": {
          "base_uri": "https://localhost:8080/",
          "height": 603
        },
        "outputId": "9ee2f055-d5b9-48fc-c558-1cc6a18402a3"
      },
      "source": [
        "plt.figure(figsize=(8,8))\n",
        "sns.set(style=\"darkgrid\")\n",
        "sns.countplot(x=\"product_analytic_category\",hue=\"product_analytic_sub_category\",data=df)\n",
        "plt.xticks(rotation=90)\n",
        "plt.show()"
      ],
      "execution_count": 76,
      "outputs": [
        {
          "output_type": "display_data",
          "data": {
            "image/png": "[encoded data removed]",
            "text/plain": [
              "<Figure size 576x576 with 1 Axes>"
            ]
          },
          "metadata": {
            "tags": [],
            "needs_background": "light"
          }
        }
      ]
    },
    {
      "cell_type": "code",
      "metadata": {
        "id": "oCQglEbRYwst",
        "colab_type": "code",
        "colab": {
          "base_uri": "https://localhost:8080/",
          "height": 303
        },
        "outputId": "2224bef5-5db7-4ea5-c78b-b76dc8897c5c"
      },
      "source": [
        "sns.scatterplot(x=\"product_mrp\",y=\"gmv\",data=df)"
      ],
      "execution_count": 77,
      "outputs": [
        {
          "output_type": "execute_result",
          "data": {
            "text/plain": [
              "<matplotlib.axes._subplots.AxesSubplot at 0x7f8f1af03550>"
            ]
          },
          "metadata": {
            "tags": []
          },
          "execution_count": 77
        },
        {
          "output_type": "display_data",
          "data": {
            "image/png": "[encoded data removed]",
            "text/plain": [
              "<Figure size 432x288 with 1 Axes>"
            ]
          },
          "metadata": {
            "tags": []
          }
        }
      ]
    },
    {
      "cell_type": "code",
      "metadata": {
        "id": "-IxpavUrmojW",
        "colab_type": "code",
        "colab": {
          "base_uri": "https://localhost:8080/",
          "height": 285
        },
        "outputId": "6ae02de9-21b9-4fd8-b640-567f5acbf9fd"
      },
      "source": [
        "plt.scatter(df[\"product_mrp\"],df[\"units\"])"
      ],
      "execution_count": 78,
      "outputs": [
        {
          "output_type": "execute_result",
          "data": {
            "text/plain": [
              "<matplotlib.collections.PathCollection at 0x7f8f19c1ec18>"
            ]
          },
          "metadata": {
            "tags": []
          },
          "execution_count": 78
        },
        {
          "output_type": "display_data",
          "data": {
            "image/png": "[encoded data removed]",
            "text/plain": [
              "<Figure size 432x288 with 1 Axes>"
            ]
          },
          "metadata": {
            "tags": []
          }
        }
      ]
    },
    {
      "cell_type": "code",
      "metadata": {
        "id": "ul7EaZYYm03s",
        "colab_type": "code",
        "colab": {}
      },
      "source": [
        "#sns.pairplot(df)"
      ],
      "execution_count": 79,
      "outputs": []
    },
    {
      "cell_type": "code",
      "metadata": {
        "id": "tya-eQm0hp0b",
        "colab_type": "code",
        "colab": {
          "base_uri": "https://localhost:8080/",
          "height": 314
        },
        "outputId": "f51b4d83-16c2-4a4f-882b-92df254e5d40"
      },
      "source": [
        "df.describe()"
      ],
      "execution_count": 80,
      "outputs": [
        {
          "output_type": "execute_result",
          "data": {
            "text/html": [
              "<div>\n",
              "<style scoped>\n",
              "    .dataframe tbody tr th:only-of-type {\n",
              "        vertical-align: middle;\n",
              "    }\n",
              "\n",
              "    .dataframe tbody tr th {\n",
              "        vertical-align: top;\n",
              "    }\n",
              "\n",
              "    .dataframe thead th {\n",
              "        text-align: right;\n",
              "    }\n",
              "</style>\n",
              "<table border=\"1\" class=\"dataframe\">\n",
              "  <thead>\n",
              "    <tr style=\"text-align: right;\">\n",
              "      <th></th>\n",
              "      <th>Year</th>\n",
              "      <th>Month</th>\n",
              "      <th>order_id</th>\n",
              "      <th>order_item_id</th>\n",
              "      <th>gmv</th>\n",
              "      <th>units</th>\n",
              "      <th>s1_fact.order_payment_type</th>\n",
              "      <th>sla</th>\n",
              "      <th>product_mrp</th>\n",
              "      <th>product_procurement_sla</th>\n",
              "    </tr>\n",
              "  </thead>\n",
              "  <tbody>\n",
              "    <tr>\n",
              "      <th>count</th>\n",
              "      <td>1.648215e+06</td>\n",
              "      <td>1.648215e+06</td>\n",
              "      <td>1.648215e+06</td>\n",
              "      <td>1.648215e+06</td>\n",
              "      <td>1.648215e+06</td>\n",
              "      <td>1.648215e+06</td>\n",
              "      <td>1.648215e+06</td>\n",
              "      <td>1.648215e+06</td>\n",
              "      <td>1.648215e+06</td>\n",
              "      <td>1.648215e+06</td>\n",
              "    </tr>\n",
              "    <tr>\n",
              "      <th>mean</th>\n",
              "      <td>2.015518e+03</td>\n",
              "      <td>6.585501e+00</td>\n",
              "      <td>2.842324e+15</td>\n",
              "      <td>1.376019e+16</td>\n",
              "      <td>2.453656e+03</td>\n",
              "      <td>1.022088e+00</td>\n",
              "      <td>7.225750e-01</td>\n",
              "      <td>5.687996e+00</td>\n",
              "      <td>4.108187e+03</td>\n",
              "      <td>5.402785e+00</td>\n",
              "    </tr>\n",
              "    <tr>\n",
              "      <th>std</th>\n",
              "      <td>4.996622e-01</td>\n",
              "      <td>3.624011e+00</td>\n",
              "      <td>1.269160e+15</td>\n",
              "      <td>5.595594e+16</td>\n",
              "      <td>5.611181e+03</td>\n",
              "      <td>2.535490e-01</td>\n",
              "      <td>4.477281e-01</td>\n",
              "      <td>2.983321e+00</td>\n",
              "      <td>8.510337e+03</td>\n",
              "      <td>5.345918e+01</td>\n",
              "    </tr>\n",
              "    <tr>\n",
              "      <th>min</th>\n",
              "      <td>2.015000e+03</td>\n",
              "      <td>1.000000e+00</td>\n",
              "      <td>7.633152e+07</td>\n",
              "      <td>1.080165e+08</td>\n",
              "      <td>0.000000e+00</td>\n",
              "      <td>1.000000e+00</td>\n",
              "      <td>0.000000e+00</td>\n",
              "      <td>0.000000e+00</td>\n",
              "      <td>0.000000e+00</td>\n",
              "      <td>-1.000000e+00</td>\n",
              "    </tr>\n",
              "    <tr>\n",
              "      <th>25%</th>\n",
              "      <td>2.015000e+03</td>\n",
              "      <td>3.000000e+00</td>\n",
              "      <td>1.602512e+15</td>\n",
              "      <td>1.606665e+15</td>\n",
              "      <td>3.390000e+02</td>\n",
              "      <td>1.000000e+00</td>\n",
              "      <td>0.000000e+00</td>\n",
              "      <td>4.000000e+00</td>\n",
              "      <td>7.990000e+02</td>\n",
              "      <td>1.000000e+00</td>\n",
              "    </tr>\n",
              "    <tr>\n",
              "      <th>50%</th>\n",
              "      <td>2.016000e+03</td>\n",
              "      <td>6.000000e+00</td>\n",
              "      <td>2.611775e+15</td>\n",
              "      <td>2.619112e+15</td>\n",
              "      <td>7.490000e+02</td>\n",
              "      <td>1.000000e+00</td>\n",
              "      <td>1.000000e+00</td>\n",
              "      <td>6.000000e+00</td>\n",
              "      <td>1.599000e+03</td>\n",
              "      <td>2.000000e+00</td>\n",
              "    </tr>\n",
              "    <tr>\n",
              "      <th>75%</th>\n",
              "      <td>2.016000e+03</td>\n",
              "      <td>1.000000e+01</td>\n",
              "      <td>3.610554e+15</td>\n",
              "      <td>4.397703e+15</td>\n",
              "      <td>1.999000e+03</td>\n",
              "      <td>1.000000e+00</td>\n",
              "      <td>1.000000e+00</td>\n",
              "      <td>7.000000e+00</td>\n",
              "      <td>3.499000e+03</td>\n",
              "      <td>3.000000e+00</td>\n",
              "    </tr>\n",
              "    <tr>\n",
              "      <th>max</th>\n",
              "      <td>2.016000e+03</td>\n",
              "      <td>1.200000e+01</td>\n",
              "      <td>5.395077e+15</td>\n",
              "      <td>3.000373e+17</td>\n",
              "      <td>2.269470e+05</td>\n",
              "      <td>5.000000e+01</td>\n",
              "      <td>1.000000e+00</td>\n",
              "      <td>1.006000e+03</td>\n",
              "      <td>2.999990e+05</td>\n",
              "      <td>1.000000e+03</td>\n",
              "    </tr>\n",
              "  </tbody>\n",
              "</table>\n",
              "</div>"
            ],
            "text/plain": [
              "               Year         Month  ...   product_mrp  product_procurement_sla\n",
              "count  1.648215e+06  1.648215e+06  ...  1.648215e+06             1.648215e+06\n",
              "mean   2.015518e+03  6.585501e+00  ...  4.108187e+03             5.402785e+00\n",
              "std    4.996622e-01  3.624011e+00  ...  8.510337e+03             5.345918e+01\n",
              "min    2.015000e+03  1.000000e+00  ...  0.000000e+00            -1.000000e+00\n",
              "25%    2.015000e+03  3.000000e+00  ...  7.990000e+02             1.000000e+00\n",
              "50%    2.016000e+03  6.000000e+00  ...  1.599000e+03             2.000000e+00\n",
              "75%    2.016000e+03  1.000000e+01  ...  3.499000e+03             3.000000e+00\n",
              "max    2.016000e+03  1.200000e+01  ...  2.999990e+05             1.000000e+03\n",
              "\n",
              "[8 rows x 10 columns]"
            ]
          },
          "metadata": {
            "tags": []
          },
          "execution_count": 80
        }
      ]
    },
    {
      "cell_type": "markdown",
      "metadata": {
        "id": "zQsjFTRRa2yw",
        "colab_type": "text"
      },
      "source": [
        "## Some Checks on Data like mrp should be greater than 0."
      ]
    },
    {
      "cell_type": "code",
      "metadata": {
        "id": "ecfIo6cXoRI2",
        "colab_type": "code",
        "colab": {}
      },
      "source": [
        "#removing rows having price < 0 as we can see in the description the minimum value of price is 0. And this is not correct\n",
        "df=df[df[\"product_mrp\"]>0]"
      ],
      "execution_count": 81,
      "outputs": []
    },
    {
      "cell_type": "code",
      "metadata": {
        "id": "9JZhc3o8hEwe",
        "colab_type": "code",
        "colab": {}
      },
      "source": [
        "#gmv(Gross Merchandise Value or Revenue) should be greater than product_mrp * units. So, removing the data which does not satisfy the criteria\n",
        "df=df[df[\"gmv\"]<df[\"product_mrp\"]*df[\"units\"]]"
      ],
      "execution_count": 82,
      "outputs": []
    },
    {
      "cell_type": "code",
      "metadata": {
        "id": "IL3ObrHh-eLD",
        "colab_type": "code",
        "colab": {
          "base_uri": "https://localhost:8080/",
          "height": 35
        },
        "outputId": "c65ce289-07c1-4395-f85f-c2237508aac1"
      },
      "source": [
        "#printing the shape of data after removing unwanted data\n",
        "df.shape"
      ],
      "execution_count": 83,
      "outputs": [
        {
          "output_type": "execute_result",
          "data": {
            "text/plain": [
              "(1583842, 20)"
            ]
          },
          "metadata": {
            "tags": []
          },
          "execution_count": 83
        }
      ]
    },
    {
      "cell_type": "code",
      "metadata": {
        "id": "7Kz9qB3wlVgj",
        "colab_type": "code",
        "colab": {
          "base_uri": "https://localhost:8080/",
          "height": 35
        },
        "outputId": "0a20de4b-34f5-4933-c971-cf021ac0afd0"
      },
      "source": [
        "#printing the shape of original data \n",
        "data_frame.shape"
      ],
      "execution_count": 84,
      "outputs": [
        {
          "output_type": "execute_result",
          "data": {
            "text/plain": [
              "(1648824, 20)"
            ]
          },
          "metadata": {
            "tags": []
          },
          "execution_count": 84
        }
      ]
    },
    {
      "cell_type": "code",
      "metadata": {
        "id": "odTUCUOQz-Yn",
        "colab_type": "code",
        "colab": {
          "base_uri": "https://localhost:8080/",
          "height": 35
        },
        "outputId": "e3719cb2-cb30-4cab-b409-135eae33085e"
      },
      "source": [
        "# printing %ge of data loss\n",
        "round(100*((data_frame.shape[0]-df.shape[0])/data_frame.shape[0]),2)"
      ],
      "execution_count": 85,
      "outputs": [
        {
          "output_type": "execute_result",
          "data": {
            "text/plain": [
              "3.94"
            ]
          },
          "metadata": {
            "tags": []
          },
          "execution_count": 85
        }
      ]
    },
    {
      "cell_type": "markdown",
      "metadata": {
        "id": "vWD04L3D0-yW",
        "colab_type": "text"
      },
      "source": [
        "So we are loosing only 4 percent of data . And it will not impact our analysis."
      ]
    },
    {
      "cell_type": "markdown",
      "metadata": {
        "id": "WXB_jUZU2l_2",
        "colab_type": "text"
      },
      "source": [
        "### Dividing the data on the basis of product subcategories."
      ]
    },
    {
      "cell_type": "code",
      "metadata": {
        "id": "px4JOUuu3UtC",
        "colab_type": "code",
        "colab": {
          "base_uri": "https://localhost:8080/",
          "height": 277
        },
        "outputId": "bd8a5924-cd9d-4c83-d5d0-6b63123f59c8"
      },
      "source": [
        "df[\"product_analytic_sub_category\"].value_counts()"
      ],
      "execution_count": 86,
      "outputs": [
        {
          "output_type": "execute_result",
          "data": {
            "text/plain": [
              "Speaker                533134\n",
              "CameraAccessory        229488\n",
              "GamingAccessory        196023\n",
              "TVVideoSmall           140852\n",
              "HomeAudio              118542\n",
              "AudioMP3Player         111349\n",
              "Camera                  99576\n",
              "Game                    91021\n",
              "GamingConsole           27605\n",
              "CameraStorage           17695\n",
              "AudioAccessory          10302\n",
              "HomeTheatre              4141\n",
              "AmplifierReceiver        4017\n",
              "GameMembershipCards        97\n",
              "Name: product_analytic_sub_category, dtype: int64"
            ]
          },
          "metadata": {
            "tags": []
          },
          "execution_count": 86
        }
      ]
    },
    {
      "cell_type": "code",
      "metadata": {
        "id": "KZjvhQzq0Z2A",
        "colab_type": "code",
        "colab": {}
      },
      "source": [
        "df_homeaudio=df[df[\"product_analytic_sub_category\"] == \"HomeAudio\"].copy()"
      ],
      "execution_count": 87,
      "outputs": []
    },
    {
      "cell_type": "code",
      "metadata": {
        "id": "s_CM10Ld3fLT",
        "colab_type": "code",
        "colab": {}
      },
      "source": [
        "df_CameraAccessory=df[df[\"product_analytic_sub_category\"] == \"CameraAccessory\"].copy()"
      ],
      "execution_count": 88,
      "outputs": []
    },
    {
      "cell_type": "code",
      "metadata": {
        "id": "rwygHoUw3pw7",
        "colab_type": "code",
        "colab": {}
      },
      "source": [
        "df_GamingAccessory=df[df[\"product_analytic_sub_category\"] == \"GamingAccessory\"].copy()"
      ],
      "execution_count": 89,
      "outputs": []
    },
    {
      "cell_type": "code",
      "metadata": {
        "id": "b_KPYGkI37Ui",
        "colab_type": "code",
        "colab": {
          "base_uri": "https://localhost:8080/",
          "height": 309
        },
        "outputId": "0a2a082e-59fd-46ac-e3c1-a3f57b8f2236"
      },
      "source": [
        "#printing some data from each of the data frame\n",
        "df_homeaudio.head()"
      ],
      "execution_count": 90,
      "outputs": [
        {
          "output_type": "execute_result",
          "data": {
            "text/html": [
              "<div>\n",
              "<style scoped>\n",
              "    .dataframe tbody tr th:only-of-type {\n",
              "        vertical-align: middle;\n",
              "    }\n",
              "\n",
              "    .dataframe tbody tr th {\n",
              "        vertical-align: top;\n",
              "    }\n",
              "\n",
              "    .dataframe thead th {\n",
              "        text-align: right;\n",
              "    }\n",
              "</style>\n",
              "<table border=\"1\" class=\"dataframe\">\n",
              "  <thead>\n",
              "    <tr style=\"text-align: right;\">\n",
              "      <th></th>\n",
              "      <th>fsn_id</th>\n",
              "      <th>order_date</th>\n",
              "      <th>Year</th>\n",
              "      <th>Month</th>\n",
              "      <th>order_id</th>\n",
              "      <th>order_item_id</th>\n",
              "      <th>gmv</th>\n",
              "      <th>units</th>\n",
              "      <th>deliverybdays</th>\n",
              "      <th>deliverycdays</th>\n",
              "      <th>s1_fact.order_payment_type</th>\n",
              "      <th>sla</th>\n",
              "      <th>cust_id</th>\n",
              "      <th>pincode</th>\n",
              "      <th>product_analytic_super_category</th>\n",
              "      <th>product_analytic_category</th>\n",
              "      <th>product_analytic_sub_category</th>\n",
              "      <th>product_analytic_vertical</th>\n",
              "      <th>product_mrp</th>\n",
              "      <th>product_procurement_sla</th>\n",
              "    </tr>\n",
              "  </thead>\n",
              "  <tbody>\n",
              "    <tr>\n",
              "      <th>2840</th>\n",
              "      <td>ACCCZZC9XHZZ49FS</td>\n",
              "      <td>2015-10-03 20:35:30</td>\n",
              "      <td>2015</td>\n",
              "      <td>10</td>\n",
              "      <td>1.407396e+15</td>\n",
              "      <td>1.407396e+15</td>\n",
              "      <td>7049.0</td>\n",
              "      <td>1</td>\n",
              "      <td>\\N</td>\n",
              "      <td>\\N</td>\n",
              "      <td>0</td>\n",
              "      <td>5</td>\n",
              "      <td>-7.59891246232286E+018</td>\n",
              "      <td>-1.44900165321989E+018</td>\n",
              "      <td>CE</td>\n",
              "      <td>EntertainmentSmall</td>\n",
              "      <td>HomeAudio</td>\n",
              "      <td>HomeAudioSpeaker</td>\n",
              "      <td>7499</td>\n",
              "      <td>5</td>\n",
              "    </tr>\n",
              "    <tr>\n",
              "      <th>2841</th>\n",
              "      <td>ACCCZZC9XHZZ49FS</td>\n",
              "      <td>2015-10-16 09:03:09</td>\n",
              "      <td>2015</td>\n",
              "      <td>10</td>\n",
              "      <td>2.418214e+15</td>\n",
              "      <td>2.418214e+15</td>\n",
              "      <td>5489.0</td>\n",
              "      <td>1</td>\n",
              "      <td>\\N</td>\n",
              "      <td>\\N</td>\n",
              "      <td>0</td>\n",
              "      <td>2</td>\n",
              "      <td>-2.19573032414406E+018</td>\n",
              "      <td>5.51019732830323E+018</td>\n",
              "      <td>CE</td>\n",
              "      <td>EntertainmentSmall</td>\n",
              "      <td>HomeAudio</td>\n",
              "      <td>HomeAudioSpeaker</td>\n",
              "      <td>7499</td>\n",
              "      <td>5</td>\n",
              "    </tr>\n",
              "    <tr>\n",
              "      <th>2842</th>\n",
              "      <td>ACCCZZC9XHZZ49FS</td>\n",
              "      <td>2015-10-16 21:55:31</td>\n",
              "      <td>2015</td>\n",
              "      <td>10</td>\n",
              "      <td>2.418676e+15</td>\n",
              "      <td>2.418676e+15</td>\n",
              "      <td>6255.0</td>\n",
              "      <td>1</td>\n",
              "      <td>\\N</td>\n",
              "      <td>\\N</td>\n",
              "      <td>0</td>\n",
              "      <td>9</td>\n",
              "      <td>-8.69764155132085E+018</td>\n",
              "      <td>4.07895330887739E+018</td>\n",
              "      <td>CE</td>\n",
              "      <td>EntertainmentSmall</td>\n",
              "      <td>HomeAudio</td>\n",
              "      <td>HomeAudioSpeaker</td>\n",
              "      <td>7499</td>\n",
              "      <td>5</td>\n",
              "    </tr>\n",
              "    <tr>\n",
              "      <th>2843</th>\n",
              "      <td>ACCCZZC9XHZZ49FS</td>\n",
              "      <td>2015-10-16 23:25:07</td>\n",
              "      <td>2015</td>\n",
              "      <td>10</td>\n",
              "      <td>1.418727e+15</td>\n",
              "      <td>1.418727e+15</td>\n",
              "      <td>6099.0</td>\n",
              "      <td>1</td>\n",
              "      <td>\\N</td>\n",
              "      <td>\\N</td>\n",
              "      <td>0</td>\n",
              "      <td>3</td>\n",
              "      <td>-4.98961621154979E+018</td>\n",
              "      <td>9.06892083579869E+018</td>\n",
              "      <td>CE</td>\n",
              "      <td>EntertainmentSmall</td>\n",
              "      <td>HomeAudio</td>\n",
              "      <td>HomeAudioSpeaker</td>\n",
              "      <td>7499</td>\n",
              "      <td>5</td>\n",
              "    </tr>\n",
              "    <tr>\n",
              "      <th>2844</th>\n",
              "      <td>ACCCZZC9XHZZ49FS</td>\n",
              "      <td>2015-10-20 17:42:59</td>\n",
              "      <td>2015</td>\n",
              "      <td>10</td>\n",
              "      <td>2.421984e+15</td>\n",
              "      <td>2.421984e+15</td>\n",
              "      <td>6850.0</td>\n",
              "      <td>1</td>\n",
              "      <td>\\N</td>\n",
              "      <td>\\N</td>\n",
              "      <td>1</td>\n",
              "      <td>9</td>\n",
              "      <td>6.04651405718702E+018</td>\n",
              "      <td>2.15973604441674E+018</td>\n",
              "      <td>CE</td>\n",
              "      <td>EntertainmentSmall</td>\n",
              "      <td>HomeAudio</td>\n",
              "      <td>HomeAudioSpeaker</td>\n",
              "      <td>7499</td>\n",
              "      <td>5</td>\n",
              "    </tr>\n",
              "  </tbody>\n",
              "</table>\n",
              "</div>"
            ],
            "text/plain": [
              "                fsn_id  ... product_procurement_sla\n",
              "2840  ACCCZZC9XHZZ49FS  ...                       5\n",
              "2841  ACCCZZC9XHZZ49FS  ...                       5\n",
              "2842  ACCCZZC9XHZZ49FS  ...                       5\n",
              "2843  ACCCZZC9XHZZ49FS  ...                       5\n",
              "2844  ACCCZZC9XHZZ49FS  ...                       5\n",
              "\n",
              "[5 rows x 20 columns]"
            ]
          },
          "metadata": {
            "tags": []
          },
          "execution_count": 90
        }
      ]
    },
    {
      "cell_type": "code",
      "metadata": {
        "id": "tkoCKbs34DVD",
        "colab_type": "code",
        "colab": {
          "base_uri": "https://localhost:8080/",
          "height": 309
        },
        "outputId": "de65bc92-593f-466b-911c-717a6e05c27f"
      },
      "source": [
        "df_CameraAccessory.head()"
      ],
      "execution_count": 91,
      "outputs": [
        {
          "output_type": "execute_result",
          "data": {
            "text/html": [
              "<div>\n",
              "<style scoped>\n",
              "    .dataframe tbody tr th:only-of-type {\n",
              "        vertical-align: middle;\n",
              "    }\n",
              "\n",
              "    .dataframe tbody tr th {\n",
              "        vertical-align: top;\n",
              "    }\n",
              "\n",
              "    .dataframe thead th {\n",
              "        text-align: right;\n",
              "    }\n",
              "</style>\n",
              "<table border=\"1\" class=\"dataframe\">\n",
              "  <thead>\n",
              "    <tr style=\"text-align: right;\">\n",
              "      <th></th>\n",
              "      <th>fsn_id</th>\n",
              "      <th>order_date</th>\n",
              "      <th>Year</th>\n",
              "      <th>Month</th>\n",
              "      <th>order_id</th>\n",
              "      <th>order_item_id</th>\n",
              "      <th>gmv</th>\n",
              "      <th>units</th>\n",
              "      <th>deliverybdays</th>\n",
              "      <th>deliverycdays</th>\n",
              "      <th>s1_fact.order_payment_type</th>\n",
              "      <th>sla</th>\n",
              "      <th>cust_id</th>\n",
              "      <th>pincode</th>\n",
              "      <th>product_analytic_super_category</th>\n",
              "      <th>product_analytic_category</th>\n",
              "      <th>product_analytic_sub_category</th>\n",
              "      <th>product_analytic_vertical</th>\n",
              "      <th>product_mrp</th>\n",
              "      <th>product_procurement_sla</th>\n",
              "    </tr>\n",
              "  </thead>\n",
              "  <tbody>\n",
              "    <tr>\n",
              "      <th>0</th>\n",
              "      <td>ACCCX3S58G7B5F6P</td>\n",
              "      <td>2015-10-17 15:11:54</td>\n",
              "      <td>2015</td>\n",
              "      <td>10</td>\n",
              "      <td>3.419301e+15</td>\n",
              "      <td>3.419301e+15</td>\n",
              "      <td>6400.0</td>\n",
              "      <td>1</td>\n",
              "      <td>\\N</td>\n",
              "      <td>\\N</td>\n",
              "      <td>1</td>\n",
              "      <td>5</td>\n",
              "      <td>-1.01299130778588E+018</td>\n",
              "      <td>-7.79175582905735E+018</td>\n",
              "      <td>CE</td>\n",
              "      <td>CameraAccessory</td>\n",
              "      <td>CameraAccessory</td>\n",
              "      <td>CameraTripod</td>\n",
              "      <td>7190</td>\n",
              "      <td>0</td>\n",
              "    </tr>\n",
              "    <tr>\n",
              "      <th>1</th>\n",
              "      <td>ACCCX3S58G7B5F6P</td>\n",
              "      <td>2015-10-19 10:07:22</td>\n",
              "      <td>2015</td>\n",
              "      <td>10</td>\n",
              "      <td>1.420831e+15</td>\n",
              "      <td>1.420831e+15</td>\n",
              "      <td>6900.0</td>\n",
              "      <td>1</td>\n",
              "      <td>\\N</td>\n",
              "      <td>\\N</td>\n",
              "      <td>1</td>\n",
              "      <td>7</td>\n",
              "      <td>-8.99032457905512E+018</td>\n",
              "      <td>7.33541149097431E+018</td>\n",
              "      <td>CE</td>\n",
              "      <td>CameraAccessory</td>\n",
              "      <td>CameraAccessory</td>\n",
              "      <td>CameraTripod</td>\n",
              "      <td>7190</td>\n",
              "      <td>0</td>\n",
              "    </tr>\n",
              "    <tr>\n",
              "      <th>2</th>\n",
              "      <td>ACCCX3S5AHMF55FV</td>\n",
              "      <td>2015-10-20 15:45:56</td>\n",
              "      <td>2015</td>\n",
              "      <td>10</td>\n",
              "      <td>2.421913e+15</td>\n",
              "      <td>2.421913e+15</td>\n",
              "      <td>1990.0</td>\n",
              "      <td>1</td>\n",
              "      <td>\\N</td>\n",
              "      <td>\\N</td>\n",
              "      <td>1</td>\n",
              "      <td>10</td>\n",
              "      <td>-1.0404429420466E+018</td>\n",
              "      <td>-7.47768776228657E+018</td>\n",
              "      <td>CE</td>\n",
              "      <td>CameraAccessory</td>\n",
              "      <td>CameraAccessory</td>\n",
              "      <td>CameraTripod</td>\n",
              "      <td>2099</td>\n",
              "      <td>3</td>\n",
              "    </tr>\n",
              "    <tr>\n",
              "      <th>3</th>\n",
              "      <td>ACCCX3S5AHMF55FV</td>\n",
              "      <td>2015-10-14 12:05:15</td>\n",
              "      <td>2015</td>\n",
              "      <td>10</td>\n",
              "      <td>4.416592e+15</td>\n",
              "      <td>4.416592e+15</td>\n",
              "      <td>1690.0</td>\n",
              "      <td>1</td>\n",
              "      <td>\\N</td>\n",
              "      <td>\\N</td>\n",
              "      <td>0</td>\n",
              "      <td>4</td>\n",
              "      <td>-7.60496084352714E+018</td>\n",
              "      <td>-5.83593163877661E+018</td>\n",
              "      <td>CE</td>\n",
              "      <td>CameraAccessory</td>\n",
              "      <td>CameraAccessory</td>\n",
              "      <td>CameraTripod</td>\n",
              "      <td>2099</td>\n",
              "      <td>3</td>\n",
              "    </tr>\n",
              "    <tr>\n",
              "      <th>4</th>\n",
              "      <td>ACCCX3S5AHMF55FV</td>\n",
              "      <td>2015-10-17 21:25:03</td>\n",
              "      <td>2015</td>\n",
              "      <td>10</td>\n",
              "      <td>4.419525e+15</td>\n",
              "      <td>4.419525e+15</td>\n",
              "      <td>1618.0</td>\n",
              "      <td>1</td>\n",
              "      <td>\\N</td>\n",
              "      <td>\\N</td>\n",
              "      <td>0</td>\n",
              "      <td>6</td>\n",
              "      <td>2.8945572083453E+018</td>\n",
              "      <td>5.34735360997242E+017</td>\n",
              "      <td>CE</td>\n",
              "      <td>CameraAccessory</td>\n",
              "      <td>CameraAccessory</td>\n",
              "      <td>CameraTripod</td>\n",
              "      <td>2099</td>\n",
              "      <td>3</td>\n",
              "    </tr>\n",
              "  </tbody>\n",
              "</table>\n",
              "</div>"
            ],
            "text/plain": [
              "             fsn_id          order_date  ...  product_mrp  product_procurement_sla\n",
              "0  ACCCX3S58G7B5F6P 2015-10-17 15:11:54  ...         7190                        0\n",
              "1  ACCCX3S58G7B5F6P 2015-10-19 10:07:22  ...         7190                        0\n",
              "2  ACCCX3S5AHMF55FV 2015-10-20 15:45:56  ...         2099                        3\n",
              "3  ACCCX3S5AHMF55FV 2015-10-14 12:05:15  ...         2099                        3\n",
              "4  ACCCX3S5AHMF55FV 2015-10-17 21:25:03  ...         2099                        3\n",
              "\n",
              "[5 rows x 20 columns]"
            ]
          },
          "metadata": {
            "tags": []
          },
          "execution_count": 91
        }
      ]
    },
    {
      "cell_type": "code",
      "metadata": {
        "id": "Ap4Z5xqo4G8p",
        "colab_type": "code",
        "colab": {
          "base_uri": "https://localhost:8080/",
          "height": 309
        },
        "outputId": "de2f3413-76bd-4a4c-815f-3b4b3fd3fbb8"
      },
      "source": [
        "df_GamingAccessory.head()"
      ],
      "execution_count": 92,
      "outputs": [
        {
          "output_type": "execute_result",
          "data": {
            "text/html": [
              "<div>\n",
              "<style scoped>\n",
              "    .dataframe tbody tr th:only-of-type {\n",
              "        vertical-align: middle;\n",
              "    }\n",
              "\n",
              "    .dataframe tbody tr th {\n",
              "        vertical-align: top;\n",
              "    }\n",
              "\n",
              "    .dataframe thead th {\n",
              "        text-align: right;\n",
              "    }\n",
              "</style>\n",
              "<table border=\"1\" class=\"dataframe\">\n",
              "  <thead>\n",
              "    <tr style=\"text-align: right;\">\n",
              "      <th></th>\n",
              "      <th>fsn_id</th>\n",
              "      <th>order_date</th>\n",
              "      <th>Year</th>\n",
              "      <th>Month</th>\n",
              "      <th>order_id</th>\n",
              "      <th>order_item_id</th>\n",
              "      <th>gmv</th>\n",
              "      <th>units</th>\n",
              "      <th>deliverybdays</th>\n",
              "      <th>deliverycdays</th>\n",
              "      <th>s1_fact.order_payment_type</th>\n",
              "      <th>sla</th>\n",
              "      <th>cust_id</th>\n",
              "      <th>pincode</th>\n",
              "      <th>product_analytic_super_category</th>\n",
              "      <th>product_analytic_category</th>\n",
              "      <th>product_analytic_sub_category</th>\n",
              "      <th>product_analytic_vertical</th>\n",
              "      <th>product_mrp</th>\n",
              "      <th>product_procurement_sla</th>\n",
              "    </tr>\n",
              "  </thead>\n",
              "  <tbody>\n",
              "    <tr>\n",
              "      <th>1598</th>\n",
              "      <td>ACCCZ34CBVZJTVQF</td>\n",
              "      <td>2015-10-04 19:24:36</td>\n",
              "      <td>2015</td>\n",
              "      <td>10</td>\n",
              "      <td>1.408217e+15</td>\n",
              "      <td>1.408217e+15</td>\n",
              "      <td>3075.0</td>\n",
              "      <td>1</td>\n",
              "      <td>\\N</td>\n",
              "      <td>\\N</td>\n",
              "      <td>1</td>\n",
              "      <td>9</td>\n",
              "      <td>4.34477146699389E+018</td>\n",
              "      <td>-1.78050760490657E+018</td>\n",
              "      <td>CE</td>\n",
              "      <td>GamingHardware</td>\n",
              "      <td>GamingAccessory</td>\n",
              "      <td>GamePad</td>\n",
              "      <td>3999</td>\n",
              "      <td>5</td>\n",
              "    </tr>\n",
              "    <tr>\n",
              "      <th>1599</th>\n",
              "      <td>ACCCZ34CBVZJTVQF</td>\n",
              "      <td>2015-10-14 22:54:54</td>\n",
              "      <td>2015</td>\n",
              "      <td>10</td>\n",
              "      <td>1.416985e+15</td>\n",
              "      <td>1.416985e+15</td>\n",
              "      <td>2750.0</td>\n",
              "      <td>1</td>\n",
              "      <td>\\N</td>\n",
              "      <td>\\N</td>\n",
              "      <td>1</td>\n",
              "      <td>7</td>\n",
              "      <td>9.04157730463172E+018</td>\n",
              "      <td>-5.1750058942027E+018</td>\n",
              "      <td>CE</td>\n",
              "      <td>GamingHardware</td>\n",
              "      <td>GamingAccessory</td>\n",
              "      <td>GamePad</td>\n",
              "      <td>3999</td>\n",
              "      <td>5</td>\n",
              "    </tr>\n",
              "    <tr>\n",
              "      <th>1600</th>\n",
              "      <td>ACCCZ34CBVZJTVQF</td>\n",
              "      <td>2015-10-15 20:19:38</td>\n",
              "      <td>2015</td>\n",
              "      <td>10</td>\n",
              "      <td>1.417669e+15</td>\n",
              "      <td>1.417669e+15</td>\n",
              "      <td>2899.0</td>\n",
              "      <td>1</td>\n",
              "      <td>\\N</td>\n",
              "      <td>\\N</td>\n",
              "      <td>0</td>\n",
              "      <td>5</td>\n",
              "      <td>8.97383112414031E+018</td>\n",
              "      <td>-7.07126047139944E+017</td>\n",
              "      <td>CE</td>\n",
              "      <td>GamingHardware</td>\n",
              "      <td>GamingAccessory</td>\n",
              "      <td>GamePad</td>\n",
              "      <td>3999</td>\n",
              "      <td>5</td>\n",
              "    </tr>\n",
              "    <tr>\n",
              "      <th>1601</th>\n",
              "      <td>ACCCZ34CBVZJTVQF</td>\n",
              "      <td>2015-10-17 18:21:43</td>\n",
              "      <td>2015</td>\n",
              "      <td>10</td>\n",
              "      <td>1.419415e+15</td>\n",
              "      <td>1.419415e+15</td>\n",
              "      <td>2609.0</td>\n",
              "      <td>1</td>\n",
              "      <td>\\N</td>\n",
              "      <td>\\N</td>\n",
              "      <td>0</td>\n",
              "      <td>5</td>\n",
              "      <td>-4.82414273647179E+018</td>\n",
              "      <td>6.40491320207757E+018</td>\n",
              "      <td>CE</td>\n",
              "      <td>GamingHardware</td>\n",
              "      <td>GamingAccessory</td>\n",
              "      <td>GamePad</td>\n",
              "      <td>3999</td>\n",
              "      <td>5</td>\n",
              "    </tr>\n",
              "    <tr>\n",
              "      <th>1602</th>\n",
              "      <td>ACCCZ34CBVZJTVQF</td>\n",
              "      <td>2015-10-26 17:49:39</td>\n",
              "      <td>2015</td>\n",
              "      <td>10</td>\n",
              "      <td>1.427168e+15</td>\n",
              "      <td>1.427168e+15</td>\n",
              "      <td>2772.0</td>\n",
              "      <td>1</td>\n",
              "      <td>\\N</td>\n",
              "      <td>\\N</td>\n",
              "      <td>0</td>\n",
              "      <td>5</td>\n",
              "      <td>-3.30536529726028E+018</td>\n",
              "      <td>2.08941992580576E+018</td>\n",
              "      <td>CE</td>\n",
              "      <td>GamingHardware</td>\n",
              "      <td>GamingAccessory</td>\n",
              "      <td>GamePad</td>\n",
              "      <td>3999</td>\n",
              "      <td>5</td>\n",
              "    </tr>\n",
              "  </tbody>\n",
              "</table>\n",
              "</div>"
            ],
            "text/plain": [
              "                fsn_id  ... product_procurement_sla\n",
              "1598  ACCCZ34CBVZJTVQF  ...                       5\n",
              "1599  ACCCZ34CBVZJTVQF  ...                       5\n",
              "1600  ACCCZ34CBVZJTVQF  ...                       5\n",
              "1601  ACCCZ34CBVZJTVQF  ...                       5\n",
              "1602  ACCCZ34CBVZJTVQF  ...                       5\n",
              "\n",
              "[5 rows x 20 columns]"
            ]
          },
          "metadata": {
            "tags": []
          },
          "execution_count": 92
        }
      ]
    },
    {
      "cell_type": "code",
      "metadata": {
        "id": "uLrSYtRQ4KFX",
        "colab_type": "code",
        "colab": {
          "base_uri": "https://localhost:8080/",
          "height": 69
        },
        "outputId": "ba764f11-7256-453a-c92a-26fd49b809c3"
      },
      "source": [
        "#printing the shape of all the three data frame\n",
        "print(df_CameraAccessory.shape)\n",
        "print(df_GamingAccessory.shape)\n",
        "print(df_homeaudio.shape)"
      ],
      "execution_count": 93,
      "outputs": [
        {
          "output_type": "stream",
          "text": [
            "(229488, 20)\n",
            "(196023, 20)\n",
            "(118542, 20)\n"
          ],
          "name": "stdout"
        }
      ]
    },
    {
      "cell_type": "code",
      "metadata": {
        "id": "cgOOUPrH4Vhw",
        "colab_type": "code",
        "colab": {}
      },
      "source": [
        "#Adding Week column in the each data frame\n",
        "df_CameraAccessory['order_week'] = df_CameraAccessory['order_date'].dt.week\n",
        "df_CameraAccessory.loc[(df_CameraAccessory.Year == 2016) & (df_CameraAccessory['order_date'].dt.week !=53), 'order_week'] = 53+df_CameraAccessory['order_date'].dt.week\n",
        "df_GamingAccessory[ 'order_week'] = df_GamingAccessory['order_date'].dt.week\n",
        "df_GamingAccessory.loc[(df_GamingAccessory.Year == 2016) & (df_GamingAccessory['order_date'].dt.week !=53),'order_week'] = 53+df_GamingAccessory['order_date'].dt.week\n",
        "df_homeaudio.loc['order_week'] = df_homeaudio['order_date'].dt.week\n",
        "df_homeaudio.loc[(df_homeaudio.Year == 2016) & (df_homeaudio['order_date'].dt.week !=53),'order_week'] = 53+df_homeaudio['order_date'].dt.week"
      ],
      "execution_count": 94,
      "outputs": []
    },
    {
      "cell_type": "code",
      "metadata": {
        "id": "r4ACwPDd5G-p",
        "colab_type": "code",
        "colab": {
          "base_uri": "https://localhost:8080/",
          "height": 309
        },
        "outputId": "447ef6b8-56e7-4b40-a00e-cfc90b7cace9"
      },
      "source": [
        "#Printing some rows of modified data frame\n",
        "df_CameraAccessory.head()"
      ],
      "execution_count": 95,
      "outputs": [
        {
          "output_type": "execute_result",
          "data": {
            "text/html": [
              "<div>\n",
              "<style scoped>\n",
              "    .dataframe tbody tr th:only-of-type {\n",
              "        vertical-align: middle;\n",
              "    }\n",
              "\n",
              "    .dataframe tbody tr th {\n",
              "        vertical-align: top;\n",
              "    }\n",
              "\n",
              "    .dataframe thead th {\n",
              "        text-align: right;\n",
              "    }\n",
              "</style>\n",
              "<table border=\"1\" class=\"dataframe\">\n",
              "  <thead>\n",
              "    <tr style=\"text-align: right;\">\n",
              "      <th></th>\n",
              "      <th>fsn_id</th>\n",
              "      <th>order_date</th>\n",
              "      <th>Year</th>\n",
              "      <th>Month</th>\n",
              "      <th>order_id</th>\n",
              "      <th>order_item_id</th>\n",
              "      <th>gmv</th>\n",
              "      <th>units</th>\n",
              "      <th>deliverybdays</th>\n",
              "      <th>deliverycdays</th>\n",
              "      <th>s1_fact.order_payment_type</th>\n",
              "      <th>sla</th>\n",
              "      <th>cust_id</th>\n",
              "      <th>pincode</th>\n",
              "      <th>product_analytic_super_category</th>\n",
              "      <th>product_analytic_category</th>\n",
              "      <th>product_analytic_sub_category</th>\n",
              "      <th>product_analytic_vertical</th>\n",
              "      <th>product_mrp</th>\n",
              "      <th>product_procurement_sla</th>\n",
              "      <th>order_week</th>\n",
              "    </tr>\n",
              "  </thead>\n",
              "  <tbody>\n",
              "    <tr>\n",
              "      <th>0</th>\n",
              "      <td>ACCCX3S58G7B5F6P</td>\n",
              "      <td>2015-10-17 15:11:54</td>\n",
              "      <td>2015</td>\n",
              "      <td>10</td>\n",
              "      <td>3.419301e+15</td>\n",
              "      <td>3.419301e+15</td>\n",
              "      <td>6400.0</td>\n",
              "      <td>1</td>\n",
              "      <td>\\N</td>\n",
              "      <td>\\N</td>\n",
              "      <td>1</td>\n",
              "      <td>5</td>\n",
              "      <td>-1.01299130778588E+018</td>\n",
              "      <td>-7.79175582905735E+018</td>\n",
              "      <td>CE</td>\n",
              "      <td>CameraAccessory</td>\n",
              "      <td>CameraAccessory</td>\n",
              "      <td>CameraTripod</td>\n",
              "      <td>7190</td>\n",
              "      <td>0</td>\n",
              "      <td>42</td>\n",
              "    </tr>\n",
              "    <tr>\n",
              "      <th>1</th>\n",
              "      <td>ACCCX3S58G7B5F6P</td>\n",
              "      <td>2015-10-19 10:07:22</td>\n",
              "      <td>2015</td>\n",
              "      <td>10</td>\n",
              "      <td>1.420831e+15</td>\n",
              "      <td>1.420831e+15</td>\n",
              "      <td>6900.0</td>\n",
              "      <td>1</td>\n",
              "      <td>\\N</td>\n",
              "      <td>\\N</td>\n",
              "      <td>1</td>\n",
              "      <td>7</td>\n",
              "      <td>-8.99032457905512E+018</td>\n",
              "      <td>7.33541149097431E+018</td>\n",
              "      <td>CE</td>\n",
              "      <td>CameraAccessory</td>\n",
              "      <td>CameraAccessory</td>\n",
              "      <td>CameraTripod</td>\n",
              "      <td>7190</td>\n",
              "      <td>0</td>\n",
              "      <td>43</td>\n",
              "    </tr>\n",
              "    <tr>\n",
              "      <th>2</th>\n",
              "      <td>ACCCX3S5AHMF55FV</td>\n",
              "      <td>2015-10-20 15:45:56</td>\n",
              "      <td>2015</td>\n",
              "      <td>10</td>\n",
              "      <td>2.421913e+15</td>\n",
              "      <td>2.421913e+15</td>\n",
              "      <td>1990.0</td>\n",
              "      <td>1</td>\n",
              "      <td>\\N</td>\n",
              "      <td>\\N</td>\n",
              "      <td>1</td>\n",
              "      <td>10</td>\n",
              "      <td>-1.0404429420466E+018</td>\n",
              "      <td>-7.47768776228657E+018</td>\n",
              "      <td>CE</td>\n",
              "      <td>CameraAccessory</td>\n",
              "      <td>CameraAccessory</td>\n",
              "      <td>CameraTripod</td>\n",
              "      <td>2099</td>\n",
              "      <td>3</td>\n",
              "      <td>43</td>\n",
              "    </tr>\n",
              "    <tr>\n",
              "      <th>3</th>\n",
              "      <td>ACCCX3S5AHMF55FV</td>\n",
              "      <td>2015-10-14 12:05:15</td>\n",
              "      <td>2015</td>\n",
              "      <td>10</td>\n",
              "      <td>4.416592e+15</td>\n",
              "      <td>4.416592e+15</td>\n",
              "      <td>1690.0</td>\n",
              "      <td>1</td>\n",
              "      <td>\\N</td>\n",
              "      <td>\\N</td>\n",
              "      <td>0</td>\n",
              "      <td>4</td>\n",
              "      <td>-7.60496084352714E+018</td>\n",
              "      <td>-5.83593163877661E+018</td>\n",
              "      <td>CE</td>\n",
              "      <td>CameraAccessory</td>\n",
              "      <td>CameraAccessory</td>\n",
              "      <td>CameraTripod</td>\n",
              "      <td>2099</td>\n",
              "      <td>3</td>\n",
              "      <td>42</td>\n",
              "    </tr>\n",
              "    <tr>\n",
              "      <th>4</th>\n",
              "      <td>ACCCX3S5AHMF55FV</td>\n",
              "      <td>2015-10-17 21:25:03</td>\n",
              "      <td>2015</td>\n",
              "      <td>10</td>\n",
              "      <td>4.419525e+15</td>\n",
              "      <td>4.419525e+15</td>\n",
              "      <td>1618.0</td>\n",
              "      <td>1</td>\n",
              "      <td>\\N</td>\n",
              "      <td>\\N</td>\n",
              "      <td>0</td>\n",
              "      <td>6</td>\n",
              "      <td>2.8945572083453E+018</td>\n",
              "      <td>5.34735360997242E+017</td>\n",
              "      <td>CE</td>\n",
              "      <td>CameraAccessory</td>\n",
              "      <td>CameraAccessory</td>\n",
              "      <td>CameraTripod</td>\n",
              "      <td>2099</td>\n",
              "      <td>3</td>\n",
              "      <td>42</td>\n",
              "    </tr>\n",
              "  </tbody>\n",
              "</table>\n",
              "</div>"
            ],
            "text/plain": [
              "             fsn_id          order_date  ...  product_procurement_sla  order_week\n",
              "0  ACCCX3S58G7B5F6P 2015-10-17 15:11:54  ...                        0          42\n",
              "1  ACCCX3S58G7B5F6P 2015-10-19 10:07:22  ...                        0          43\n",
              "2  ACCCX3S5AHMF55FV 2015-10-20 15:45:56  ...                        3          43\n",
              "3  ACCCX3S5AHMF55FV 2015-10-14 12:05:15  ...                        3          42\n",
              "4  ACCCX3S5AHMF55FV 2015-10-17 21:25:03  ...                        3          42\n",
              "\n",
              "[5 rows x 21 columns]"
            ]
          },
          "metadata": {
            "tags": []
          },
          "execution_count": 95
        }
      ]
    },
    {
      "cell_type": "code",
      "metadata": {
        "id": "46ZVjakEC1Sh",
        "colab_type": "code",
        "colab": {
          "base_uri": "https://localhost:8080/",
          "height": 720
        },
        "outputId": "686b6443-002f-4012-ef01-f610f9eb7ad0"
      },
      "source": [
        "plt.figure(figsize=(12,12))\n",
        "sns.countplot(x=\"order_week\",data=df_GamingAccessory)\n",
        "plt.show()"
      ],
      "execution_count": 96,
      "outputs": [
        {
          "output_type": "display_data",
          "data": {
            "image/png": "[encoded data removed]",
            "text/plain": [
              "<Figure size 864x864 with 1 Axes>"
            ]
          },
          "metadata": {
            "tags": []
          }
        }
      ]
    },
    {
      "cell_type": "markdown",
      "metadata": {
        "id": "I1EP-ubyb2NR",
        "colab_type": "text"
      },
      "source": [
        "Adding Discount column in all the data frame "
      ]
    },
    {
      "cell_type": "code",
      "metadata": {
        "id": "nWx7lomXHZbI",
        "colab_type": "code",
        "colab": {}
      },
      "source": [
        "df_CameraAccessory['Discount'] = (df_CameraAccessory['product_mrp']-df_CameraAccessory['gmv'])/df_CameraAccessory['units']"
      ],
      "execution_count": 97,
      "outputs": []
    },
    {
      "cell_type": "code",
      "metadata": {
        "id": "-qcO4-qGaF-X",
        "colab_type": "code",
        "colab": {}
      },
      "source": [
        "df_GamingAccessory['Discount'] = (df_GamingAccessory['product_mrp']-df_GamingAccessory['gmv'])/df_GamingAccessory['units']\n",
        "df_homeaudio['Discount'] = (df_homeaudio['product_mrp']-df_homeaudio['gmv'])/df_homeaudio['units']"
      ],
      "execution_count": 98,
      "outputs": []
    },
    {
      "cell_type": "code",
      "metadata": {
        "id": "ENwqbHtsbq80",
        "colab_type": "code",
        "colab": {
          "base_uri": "https://localhost:8080/",
          "height": 309
        },
        "outputId": "862c25c8-b3cc-46e8-d42a-546774fdd8bb"
      },
      "source": [
        "df_CameraAccessory.head()"
      ],
      "execution_count": 99,
      "outputs": [
        {
          "output_type": "execute_result",
          "data": {
            "text/html": [
              "<div>\n",
              "<style scoped>\n",
              "    .dataframe tbody tr th:only-of-type {\n",
              "        vertical-align: middle;\n",
              "    }\n",
              "\n",
              "    .dataframe tbody tr th {\n",
              "        vertical-align: top;\n",
              "    }\n",
              "\n",
              "    .dataframe thead th {\n",
              "        text-align: right;\n",
              "    }\n",
              "</style>\n",
              "<table border=\"1\" class=\"dataframe\">\n",
              "  <thead>\n",
              "    <tr style=\"text-align: right;\">\n",
              "      <th></th>\n",
              "      <th>fsn_id</th>\n",
              "      <th>order_date</th>\n",
              "      <th>Year</th>\n",
              "      <th>Month</th>\n",
              "      <th>order_id</th>\n",
              "      <th>order_item_id</th>\n",
              "      <th>gmv</th>\n",
              "      <th>units</th>\n",
              "      <th>deliverybdays</th>\n",
              "      <th>deliverycdays</th>\n",
              "      <th>s1_fact.order_payment_type</th>\n",
              "      <th>sla</th>\n",
              "      <th>cust_id</th>\n",
              "      <th>pincode</th>\n",
              "      <th>product_analytic_super_category</th>\n",
              "      <th>product_analytic_category</th>\n",
              "      <th>product_analytic_sub_category</th>\n",
              "      <th>product_analytic_vertical</th>\n",
              "      <th>product_mrp</th>\n",
              "      <th>product_procurement_sla</th>\n",
              "      <th>order_week</th>\n",
              "      <th>Discount</th>\n",
              "    </tr>\n",
              "  </thead>\n",
              "  <tbody>\n",
              "    <tr>\n",
              "      <th>0</th>\n",
              "      <td>ACCCX3S58G7B5F6P</td>\n",
              "      <td>2015-10-17 15:11:54</td>\n",
              "      <td>2015</td>\n",
              "      <td>10</td>\n",
              "      <td>3.419301e+15</td>\n",
              "      <td>3.419301e+15</td>\n",
              "      <td>6400.0</td>\n",
              "      <td>1</td>\n",
              "      <td>\\N</td>\n",
              "      <td>\\N</td>\n",
              "      <td>1</td>\n",
              "      <td>5</td>\n",
              "      <td>-1.01299130778588E+018</td>\n",
              "      <td>-7.79175582905735E+018</td>\n",
              "      <td>CE</td>\n",
              "      <td>CameraAccessory</td>\n",
              "      <td>CameraAccessory</td>\n",
              "      <td>CameraTripod</td>\n",
              "      <td>7190</td>\n",
              "      <td>0</td>\n",
              "      <td>42</td>\n",
              "      <td>790.0</td>\n",
              "    </tr>\n",
              "    <tr>\n",
              "      <th>1</th>\n",
              "      <td>ACCCX3S58G7B5F6P</td>\n",
              "      <td>2015-10-19 10:07:22</td>\n",
              "      <td>2015</td>\n",
              "      <td>10</td>\n",
              "      <td>1.420831e+15</td>\n",
              "      <td>1.420831e+15</td>\n",
              "      <td>6900.0</td>\n",
              "      <td>1</td>\n",
              "      <td>\\N</td>\n",
              "      <td>\\N</td>\n",
              "      <td>1</td>\n",
              "      <td>7</td>\n",
              "      <td>-8.99032457905512E+018</td>\n",
              "      <td>7.33541149097431E+018</td>\n",
              "      <td>CE</td>\n",
              "      <td>CameraAccessory</td>\n",
              "      <td>CameraAccessory</td>\n",
              "      <td>CameraTripod</td>\n",
              "      <td>7190</td>\n",
              "      <td>0</td>\n",
              "      <td>43</td>\n",
              "      <td>290.0</td>\n",
              "    </tr>\n",
              "    <tr>\n",
              "      <th>2</th>\n",
              "      <td>ACCCX3S5AHMF55FV</td>\n",
              "      <td>2015-10-20 15:45:56</td>\n",
              "      <td>2015</td>\n",
              "      <td>10</td>\n",
              "      <td>2.421913e+15</td>\n",
              "      <td>2.421913e+15</td>\n",
              "      <td>1990.0</td>\n",
              "      <td>1</td>\n",
              "      <td>\\N</td>\n",
              "      <td>\\N</td>\n",
              "      <td>1</td>\n",
              "      <td>10</td>\n",
              "      <td>-1.0404429420466E+018</td>\n",
              "      <td>-7.47768776228657E+018</td>\n",
              "      <td>CE</td>\n",
              "      <td>CameraAccessory</td>\n",
              "      <td>CameraAccessory</td>\n",
              "      <td>CameraTripod</td>\n",
              "      <td>2099</td>\n",
              "      <td>3</td>\n",
              "      <td>43</td>\n",
              "      <td>109.0</td>\n",
              "    </tr>\n",
              "    <tr>\n",
              "      <th>3</th>\n",
              "      <td>ACCCX3S5AHMF55FV</td>\n",
              "      <td>2015-10-14 12:05:15</td>\n",
              "      <td>2015</td>\n",
              "      <td>10</td>\n",
              "      <td>4.416592e+15</td>\n",
              "      <td>4.416592e+15</td>\n",
              "      <td>1690.0</td>\n",
              "      <td>1</td>\n",
              "      <td>\\N</td>\n",
              "      <td>\\N</td>\n",
              "      <td>0</td>\n",
              "      <td>4</td>\n",
              "      <td>-7.60496084352714E+018</td>\n",
              "      <td>-5.83593163877661E+018</td>\n",
              "      <td>CE</td>\n",
              "      <td>CameraAccessory</td>\n",
              "      <td>CameraAccessory</td>\n",
              "      <td>CameraTripod</td>\n",
              "      <td>2099</td>\n",
              "      <td>3</td>\n",
              "      <td>42</td>\n",
              "      <td>409.0</td>\n",
              "    </tr>\n",
              "    <tr>\n",
              "      <th>4</th>\n",
              "      <td>ACCCX3S5AHMF55FV</td>\n",
              "      <td>2015-10-17 21:25:03</td>\n",
              "      <td>2015</td>\n",
              "      <td>10</td>\n",
              "      <td>4.419525e+15</td>\n",
              "      <td>4.419525e+15</td>\n",
              "      <td>1618.0</td>\n",
              "      <td>1</td>\n",
              "      <td>\\N</td>\n",
              "      <td>\\N</td>\n",
              "      <td>0</td>\n",
              "      <td>6</td>\n",
              "      <td>2.8945572083453E+018</td>\n",
              "      <td>5.34735360997242E+017</td>\n",
              "      <td>CE</td>\n",
              "      <td>CameraAccessory</td>\n",
              "      <td>CameraAccessory</td>\n",
              "      <td>CameraTripod</td>\n",
              "      <td>2099</td>\n",
              "      <td>3</td>\n",
              "      <td>42</td>\n",
              "      <td>481.0</td>\n",
              "    </tr>\n",
              "  </tbody>\n",
              "</table>\n",
              "</div>"
            ],
            "text/plain": [
              "             fsn_id          order_date  ...  order_week  Discount\n",
              "0  ACCCX3S58G7B5F6P 2015-10-17 15:11:54  ...          42     790.0\n",
              "1  ACCCX3S58G7B5F6P 2015-10-19 10:07:22  ...          43     290.0\n",
              "2  ACCCX3S5AHMF55FV 2015-10-20 15:45:56  ...          43     109.0\n",
              "3  ACCCX3S5AHMF55FV 2015-10-14 12:05:15  ...          42     409.0\n",
              "4  ACCCX3S5AHMF55FV 2015-10-17 21:25:03  ...          42     481.0\n",
              "\n",
              "[5 rows x 22 columns]"
            ]
          },
          "metadata": {
            "tags": []
          },
          "execution_count": 99
        }
      ]
    },
    {
      "cell_type": "code",
      "metadata": {
        "id": "VZWfJHuihnZX",
        "colab_type": "code",
        "colab": {}
      },
      "source": [
        "CameraAccessory=round(df_CameraAccessory.groupby(\"order_week\")[\"Year\",\"Month\",\"gmv\",\"units\",\"sla\",\"product_mrp\",\"Discount\"].mean())"
      ],
      "execution_count": 100,
      "outputs": []
    },
    {
      "cell_type": "code",
      "metadata": {
        "id": "xn9xwZh9x2-C",
        "colab_type": "code",
        "colab": {
          "base_uri": "https://localhost:8080/",
          "height": 233
        },
        "outputId": "1f1eb283-342d-47eb-96ee-1895ae90a9b9"
      },
      "source": [
        "#printing some rows of the gropped data frame \n",
        "CameraAccessory.head()"
      ],
      "execution_count": 101,
      "outputs": [
        {
          "output_type": "execute_result",
          "data": {
            "text/html": [
              "<div>\n",
              "<style scoped>\n",
              "    .dataframe tbody tr th:only-of-type {\n",
              "        vertical-align: middle;\n",
              "    }\n",
              "\n",
              "    .dataframe tbody tr th {\n",
              "        vertical-align: top;\n",
              "    }\n",
              "\n",
              "    .dataframe thead th {\n",
              "        text-align: right;\n",
              "    }\n",
              "</style>\n",
              "<table border=\"1\" class=\"dataframe\">\n",
              "  <thead>\n",
              "    <tr style=\"text-align: right;\">\n",
              "      <th></th>\n",
              "      <th>Year</th>\n",
              "      <th>Month</th>\n",
              "      <th>gmv</th>\n",
              "      <th>units</th>\n",
              "      <th>sla</th>\n",
              "      <th>product_mrp</th>\n",
              "      <th>Discount</th>\n",
              "    </tr>\n",
              "    <tr>\n",
              "      <th>order_week</th>\n",
              "      <th></th>\n",
              "      <th></th>\n",
              "      <th></th>\n",
              "      <th></th>\n",
              "      <th></th>\n",
              "      <th></th>\n",
              "      <th></th>\n",
              "    </tr>\n",
              "  </thead>\n",
              "  <tbody>\n",
              "    <tr>\n",
              "      <th>27</th>\n",
              "      <td>2015.0</td>\n",
              "      <td>7.0</td>\n",
              "      <td>674.0</td>\n",
              "      <td>1.0</td>\n",
              "      <td>2.0</td>\n",
              "      <td>1512.0</td>\n",
              "      <td>838.0</td>\n",
              "    </tr>\n",
              "    <tr>\n",
              "      <th>28</th>\n",
              "      <td>2015.0</td>\n",
              "      <td>7.0</td>\n",
              "      <td>1372.0</td>\n",
              "      <td>1.0</td>\n",
              "      <td>7.0</td>\n",
              "      <td>2488.0</td>\n",
              "      <td>1105.0</td>\n",
              "    </tr>\n",
              "    <tr>\n",
              "      <th>29</th>\n",
              "      <td>2015.0</td>\n",
              "      <td>7.0</td>\n",
              "      <td>1488.0</td>\n",
              "      <td>1.0</td>\n",
              "      <td>6.0</td>\n",
              "      <td>2567.0</td>\n",
              "      <td>1079.0</td>\n",
              "    </tr>\n",
              "    <tr>\n",
              "      <th>30</th>\n",
              "      <td>2015.0</td>\n",
              "      <td>7.0</td>\n",
              "      <td>1454.0</td>\n",
              "      <td>1.0</td>\n",
              "      <td>6.0</td>\n",
              "      <td>2571.0</td>\n",
              "      <td>1121.0</td>\n",
              "    </tr>\n",
              "    <tr>\n",
              "      <th>31</th>\n",
              "      <td>2015.0</td>\n",
              "      <td>7.0</td>\n",
              "      <td>1464.0</td>\n",
              "      <td>1.0</td>\n",
              "      <td>6.0</td>\n",
              "      <td>2498.0</td>\n",
              "      <td>1034.0</td>\n",
              "    </tr>\n",
              "  </tbody>\n",
              "</table>\n",
              "</div>"
            ],
            "text/plain": [
              "              Year  Month     gmv  units  sla  product_mrp  Discount\n",
              "order_week                                                          \n",
              "27          2015.0    7.0   674.0    1.0  2.0       1512.0     838.0\n",
              "28          2015.0    7.0  1372.0    1.0  7.0       2488.0    1105.0\n",
              "29          2015.0    7.0  1488.0    1.0  6.0       2567.0    1079.0\n",
              "30          2015.0    7.0  1454.0    1.0  6.0       2571.0    1121.0\n",
              "31          2015.0    7.0  1464.0    1.0  6.0       2498.0    1034.0"
            ]
          },
          "metadata": {
            "tags": []
          },
          "execution_count": 101
        }
      ]
    },
    {
      "cell_type": "code",
      "metadata": {
        "id": "tcFVkXgdG5kC",
        "colab_type": "code",
        "colab": {}
      },
      "source": [
        "GamingAccessory=round(df_GamingAccessory.groupby(\"order_week\")[\"Year\",\"Month\",\"gmv\",\"units\",\"sla\",\"product_mrp\",\"Discount\"].mean())"
      ],
      "execution_count": 102,
      "outputs": []
    },
    {
      "cell_type": "code",
      "metadata": {
        "id": "_ZmALYo6ODy2",
        "colab_type": "code",
        "colab": {
          "base_uri": "https://localhost:8080/",
          "height": 233
        },
        "outputId": "d2684e8b-5a86-4c47-adb2-3d77d2319cf6"
      },
      "source": [
        "GamingAccessory.head()"
      ],
      "execution_count": 103,
      "outputs": [
        {
          "output_type": "execute_result",
          "data": {
            "text/html": [
              "<div>\n",
              "<style scoped>\n",
              "    .dataframe tbody tr th:only-of-type {\n",
              "        vertical-align: middle;\n",
              "    }\n",
              "\n",
              "    .dataframe tbody tr th {\n",
              "        vertical-align: top;\n",
              "    }\n",
              "\n",
              "    .dataframe thead th {\n",
              "        text-align: right;\n",
              "    }\n",
              "</style>\n",
              "<table border=\"1\" class=\"dataframe\">\n",
              "  <thead>\n",
              "    <tr style=\"text-align: right;\">\n",
              "      <th></th>\n",
              "      <th>Year</th>\n",
              "      <th>Month</th>\n",
              "      <th>gmv</th>\n",
              "      <th>units</th>\n",
              "      <th>sla</th>\n",
              "      <th>product_mrp</th>\n",
              "      <th>Discount</th>\n",
              "    </tr>\n",
              "    <tr>\n",
              "      <th>order_week</th>\n",
              "      <th></th>\n",
              "      <th></th>\n",
              "      <th></th>\n",
              "      <th></th>\n",
              "      <th></th>\n",
              "      <th></th>\n",
              "      <th></th>\n",
              "    </tr>\n",
              "  </thead>\n",
              "  <tbody>\n",
              "    <tr>\n",
              "      <th>27</th>\n",
              "      <td>2015.0</td>\n",
              "      <td>7.0</td>\n",
              "      <td>1294.0</td>\n",
              "      <td>1.0</td>\n",
              "      <td>3.0</td>\n",
              "      <td>3766.0</td>\n",
              "      <td>2480.0</td>\n",
              "    </tr>\n",
              "    <tr>\n",
              "      <th>28</th>\n",
              "      <td>2015.0</td>\n",
              "      <td>7.0</td>\n",
              "      <td>899.0</td>\n",
              "      <td>1.0</td>\n",
              "      <td>5.0</td>\n",
              "      <td>1828.0</td>\n",
              "      <td>939.0</td>\n",
              "    </tr>\n",
              "    <tr>\n",
              "      <th>29</th>\n",
              "      <td>2015.0</td>\n",
              "      <td>7.0</td>\n",
              "      <td>828.0</td>\n",
              "      <td>1.0</td>\n",
              "      <td>5.0</td>\n",
              "      <td>1805.0</td>\n",
              "      <td>983.0</td>\n",
              "    </tr>\n",
              "    <tr>\n",
              "      <th>30</th>\n",
              "      <td>2015.0</td>\n",
              "      <td>7.0</td>\n",
              "      <td>1038.0</td>\n",
              "      <td>1.0</td>\n",
              "      <td>5.0</td>\n",
              "      <td>2322.0</td>\n",
              "      <td>1281.0</td>\n",
              "    </tr>\n",
              "    <tr>\n",
              "      <th>31</th>\n",
              "      <td>2015.0</td>\n",
              "      <td>7.0</td>\n",
              "      <td>1038.0</td>\n",
              "      <td>1.0</td>\n",
              "      <td>6.0</td>\n",
              "      <td>5045.0</td>\n",
              "      <td>4027.0</td>\n",
              "    </tr>\n",
              "  </tbody>\n",
              "</table>\n",
              "</div>"
            ],
            "text/plain": [
              "              Year  Month     gmv  units  sla  product_mrp  Discount\n",
              "order_week                                                          \n",
              "27          2015.0    7.0  1294.0    1.0  3.0       3766.0    2480.0\n",
              "28          2015.0    7.0   899.0    1.0  5.0       1828.0     939.0\n",
              "29          2015.0    7.0   828.0    1.0  5.0       1805.0     983.0\n",
              "30          2015.0    7.0  1038.0    1.0  5.0       2322.0    1281.0\n",
              "31          2015.0    7.0  1038.0    1.0  6.0       5045.0    4027.0"
            ]
          },
          "metadata": {
            "tags": []
          },
          "execution_count": 103
        }
      ]
    },
    {
      "cell_type": "code",
      "metadata": {
        "id": "a4PlFAiIOHHA",
        "colab_type": "code",
        "colab": {}
      },
      "source": [
        "homeaudio=round(df_homeaudio.groupby(\"order_week\")[\"Year\",\"Month\",\"gmv\",\"units\",\"sla\",\"product_mrp\",\"Discount\"].mean())"
      ],
      "execution_count": 104,
      "outputs": []
    },
    {
      "cell_type": "code",
      "metadata": {
        "id": "Psk5_pbeOWlS",
        "colab_type": "code",
        "colab": {
          "base_uri": "https://localhost:8080/",
          "height": 233
        },
        "outputId": "484348e0-ca23-4a89-9e5d-7a26444f0fb3"
      },
      "source": [
        "homeaudio.head()"
      ],
      "execution_count": 105,
      "outputs": [
        {
          "output_type": "execute_result",
          "data": {
            "text/html": [
              "<div>\n",
              "<style scoped>\n",
              "    .dataframe tbody tr th:only-of-type {\n",
              "        vertical-align: middle;\n",
              "    }\n",
              "\n",
              "    .dataframe tbody tr th {\n",
              "        vertical-align: top;\n",
              "    }\n",
              "\n",
              "    .dataframe thead th {\n",
              "        text-align: right;\n",
              "    }\n",
              "</style>\n",
              "<table border=\"1\" class=\"dataframe\">\n",
              "  <thead>\n",
              "    <tr style=\"text-align: right;\">\n",
              "      <th></th>\n",
              "      <th>Year</th>\n",
              "      <th>Month</th>\n",
              "      <th>gmv</th>\n",
              "      <th>units</th>\n",
              "      <th>sla</th>\n",
              "      <th>product_mrp</th>\n",
              "      <th>Discount</th>\n",
              "    </tr>\n",
              "    <tr>\n",
              "      <th>order_week</th>\n",
              "      <th></th>\n",
              "      <th></th>\n",
              "      <th></th>\n",
              "      <th></th>\n",
              "      <th></th>\n",
              "      <th></th>\n",
              "      <th></th>\n",
              "    </tr>\n",
              "  </thead>\n",
              "  <tbody>\n",
              "    <tr>\n",
              "      <th>54.0</th>\n",
              "      <td>2016.0</td>\n",
              "      <td>1.0</td>\n",
              "      <td>2158.0</td>\n",
              "      <td>1.0</td>\n",
              "      <td>5.0</td>\n",
              "      <td>4526.0</td>\n",
              "      <td>2368.0</td>\n",
              "    </tr>\n",
              "    <tr>\n",
              "      <th>55.0</th>\n",
              "      <td>2016.0</td>\n",
              "      <td>1.0</td>\n",
              "      <td>2240.0</td>\n",
              "      <td>1.0</td>\n",
              "      <td>5.0</td>\n",
              "      <td>4230.0</td>\n",
              "      <td>1991.0</td>\n",
              "    </tr>\n",
              "    <tr>\n",
              "      <th>56.0</th>\n",
              "      <td>2016.0</td>\n",
              "      <td>1.0</td>\n",
              "      <td>2173.0</td>\n",
              "      <td>1.0</td>\n",
              "      <td>5.0</td>\n",
              "      <td>4111.0</td>\n",
              "      <td>1941.0</td>\n",
              "    </tr>\n",
              "    <tr>\n",
              "      <th>57.0</th>\n",
              "      <td>2016.0</td>\n",
              "      <td>1.0</td>\n",
              "      <td>2188.0</td>\n",
              "      <td>1.0</td>\n",
              "      <td>6.0</td>\n",
              "      <td>3986.0</td>\n",
              "      <td>1799.0</td>\n",
              "    </tr>\n",
              "    <tr>\n",
              "      <th>58.0</th>\n",
              "      <td>2016.0</td>\n",
              "      <td>2.0</td>\n",
              "      <td>2172.0</td>\n",
              "      <td>1.0</td>\n",
              "      <td>5.0</td>\n",
              "      <td>4320.0</td>\n",
              "      <td>2148.0</td>\n",
              "    </tr>\n",
              "  </tbody>\n",
              "</table>\n",
              "</div>"
            ],
            "text/plain": [
              "              Year  Month     gmv  units  sla  product_mrp  Discount\n",
              "order_week                                                          \n",
              "54.0        2016.0    1.0  2158.0    1.0  5.0       4526.0    2368.0\n",
              "55.0        2016.0    1.0  2240.0    1.0  5.0       4230.0    1991.0\n",
              "56.0        2016.0    1.0  2173.0    1.0  5.0       4111.0    1941.0\n",
              "57.0        2016.0    1.0  2188.0    1.0  6.0       3986.0    1799.0\n",
              "58.0        2016.0    2.0  2172.0    1.0  5.0       4320.0    2148.0"
            ]
          },
          "metadata": {
            "tags": []
          },
          "execution_count": 105
        }
      ]
    },
    {
      "cell_type": "code",
      "metadata": {
        "id": "Ng7hpFO0OZQX",
        "colab_type": "code",
        "colab": {}
      },
      "source": [
        ""
      ],
      "execution_count": 105,
      "outputs": []
    }
  ]
}