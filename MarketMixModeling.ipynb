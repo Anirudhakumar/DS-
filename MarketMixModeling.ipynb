{
  "nbformat": 4,
  "nbformat_minor": 0,
  "metadata": {
    "colab": {
      "name": "MarketMixModeling.ipynb",
      "provenance": [],
      "collapsed_sections": [],
      "include_colab_link": true
    },
    "kernelspec": {
      "name": "python3",
      "display_name": "Python 3"
    },
    "accelerator": "GPU"
  },
  "cells": [
    {
      "cell_type": "markdown",
      "metadata": {
        "id": "view-in-github",
        "colab_type": "text"
      },
      "source": [
        "<a href=\"https://colab.research.google.com/github/Anirudhakumar/DS-/blob/master/MarketMixModeling.ipynb\" target=\"_parent\"><img src=\"https://colab.research.google.com/assets/colab-badge.svg\" alt=\"Open In Colab\"/></a>"
      ]
    },
    {
      "cell_type": "code",
      "metadata": {
        "id": "cSzl4g9wpEpZ",
        "colab_type": "code",
        "colab": {}
      },
      "source": [
        "import pandas as pd\n",
        "import numpy as np\n",
        "import datetime\n",
        "from google.colab import drive\n",
        "import matplotlib.pyplot as plt\n",
        "import seaborn as sns\n",
        "import warnings\n",
        "warnings.filterwarnings(\"ignore\")\n",
        "%matplotlib inline \n",
        "\n",
        "from IPython.core.interactiveshell import InteractiveShell\n",
        "InteractiveShell.ast_node_interactivity = \"all\"\n",
        "%matplotlib inline\n",
        "\n",
        "pd.set_option(\"display.max_columns\", 300)\n",
        "pd.set_option(\"display.max_rows\", 300)\n",
        "\n",
        "import sklearn\n",
        "import statsmodels.api as sm\n",
        "from sklearn.metrics import mean_absolute_error as mas\n",
        "from sklearn.metrics import mean_squared_error as mse\n",
        "from sklearn.model_selection import train_test_split\n",
        "from sklearn.preprocessing import MinMaxScaler\n",
        "from sklearn.preprocessing import StandardScaler\n",
        "from sklearn.preprocessing import PolynomialFeatures\n",
        "from sklearn.preprocessing import scale\n",
        "from sklearn.feature_selection import RFE\n",
        "from sklearn.linear_model import LinearRegression\n",
        "from sklearn.model_selection import cross_val_score\n",
        "from sklearn.model_selection import KFold\n",
        "from sklearn.model_selection import GridSearchCV\n",
        "from sklearn.pipeline import make_pipeline\n",
        "from sklearn.metrics import r2_score\n",
        "from statsmodels.stats.outliers_influence import variance_inflation_factor\n",
        "\n",
        "from sklearn import metrics\n",
        "\n",
        "import warnings # supress warnings\n",
        "warnings.filterwarnings('ignore')"
      ],
      "execution_count": 1106,
      "outputs": []
    },
    {
      "cell_type": "code",
      "metadata": {
        "id": "vSAgMsZNu3-9",
        "colab_type": "code",
        "colab": {
          "base_uri": "https://localhost:8080/",
          "height": 35
        },
        "outputId": "81c12df9-664f-46d3-8055-e211072e8657"
      },
      "source": [
        "drive.mount(\"/content/drive\")"
      ],
      "execution_count": 1107,
      "outputs": [
        {
          "output_type": "stream",
          "text": [
            "Drive already mounted at /content/drive; to attempt to forcibly remount, call drive.mount(\"/content/drive\", force_remount=True).\n"
          ],
          "name": "stdout"
        }
      ]
    },
    {
      "cell_type": "code",
      "metadata": {
        "id": "avfSu1VtvCzi",
        "colab_type": "code",
        "colab": {}
      },
      "source": [
        "#reading the data \n",
        "data_frame=pd.read_csv(\"./drive/My Drive/ConsumerElectronics.csv\")\n",
        "media_data=pd.read_excel(\"./drive/My Drive/Media data and other information.xlsx\",sheet_name='Media Investment')\n",
        "climate_2015=pd.read_csv(\"./drive/My Drive/ONTARIO-2015.csv\")\n",
        "climate_2016=pd.read_csv(\"./drive/My Drive/ONTARIO-2016.csv\")"
      ],
      "execution_count": 1108,
      "outputs": []
    },
    {
      "cell_type": "code",
      "metadata": {
        "id": "2iRMoAt_z0pN",
        "colab_type": "code",
        "colab": {}
      },
      "source": [
        "df=data_frame.copy()"
      ],
      "execution_count": 1109,
      "outputs": []
    },
    {
      "cell_type": "code",
      "metadata": {
        "id": "Ylb3pzkGwmAm",
        "colab_type": "code",
        "colab": {
          "base_uri": "https://localhost:8080/",
          "height": 309
        },
        "outputId": "f7caf465-d197-4df4-b8ab-8418a0fc8e08"
      },
      "source": [
        "#printing some rows of data\n",
        "df.head()"
      ],
      "execution_count": 1110,
      "outputs": [
        {
          "output_type": "execute_result",
          "data": {
            "text/html": [
              "<div>\n",
              "<style scoped>\n",
              "    .dataframe tbody tr th:only-of-type {\n",
              "        vertical-align: middle;\n",
              "    }\n",
              "\n",
              "    .dataframe tbody tr th {\n",
              "        vertical-align: top;\n",
              "    }\n",
              "\n",
              "    .dataframe thead th {\n",
              "        text-align: right;\n",
              "    }\n",
              "</style>\n",
              "<table border=\"1\" class=\"dataframe\">\n",
              "  <thead>\n",
              "    <tr style=\"text-align: right;\">\n",
              "      <th></th>\n",
              "      <th>fsn_id</th>\n",
              "      <th>order_date</th>\n",
              "      <th>Year</th>\n",
              "      <th>Month</th>\n",
              "      <th>order_id</th>\n",
              "      <th>order_item_id</th>\n",
              "      <th>gmv</th>\n",
              "      <th>units</th>\n",
              "      <th>deliverybdays</th>\n",
              "      <th>deliverycdays</th>\n",
              "      <th>s1_fact.order_payment_type</th>\n",
              "      <th>sla</th>\n",
              "      <th>cust_id</th>\n",
              "      <th>pincode</th>\n",
              "      <th>product_analytic_super_category</th>\n",
              "      <th>product_analytic_category</th>\n",
              "      <th>product_analytic_sub_category</th>\n",
              "      <th>product_analytic_vertical</th>\n",
              "      <th>product_mrp</th>\n",
              "      <th>product_procurement_sla</th>\n",
              "    </tr>\n",
              "  </thead>\n",
              "  <tbody>\n",
              "    <tr>\n",
              "      <th>0</th>\n",
              "      <td>ACCCX3S58G7B5F6P</td>\n",
              "      <td>2015-10-17 15:11:54</td>\n",
              "      <td>2015</td>\n",
              "      <td>10</td>\n",
              "      <td>3.419301e+15</td>\n",
              "      <td>3.419301e+15</td>\n",
              "      <td>6400</td>\n",
              "      <td>1</td>\n",
              "      <td>\\N</td>\n",
              "      <td>\\N</td>\n",
              "      <td>COD</td>\n",
              "      <td>5</td>\n",
              "      <td>-1.01299130778588E+018</td>\n",
              "      <td>-7.79175582905735E+018</td>\n",
              "      <td>CE</td>\n",
              "      <td>CameraAccessory</td>\n",
              "      <td>CameraAccessory</td>\n",
              "      <td>CameraTripod</td>\n",
              "      <td>7190</td>\n",
              "      <td>0</td>\n",
              "    </tr>\n",
              "    <tr>\n",
              "      <th>1</th>\n",
              "      <td>ACCCX3S58G7B5F6P</td>\n",
              "      <td>2015-10-19 10:07:22</td>\n",
              "      <td>2015</td>\n",
              "      <td>10</td>\n",
              "      <td>1.420831e+15</td>\n",
              "      <td>1.420831e+15</td>\n",
              "      <td>6900</td>\n",
              "      <td>1</td>\n",
              "      <td>\\N</td>\n",
              "      <td>\\N</td>\n",
              "      <td>COD</td>\n",
              "      <td>7</td>\n",
              "      <td>-8.99032457905512E+018</td>\n",
              "      <td>7.33541149097431E+018</td>\n",
              "      <td>CE</td>\n",
              "      <td>CameraAccessory</td>\n",
              "      <td>CameraAccessory</td>\n",
              "      <td>CameraTripod</td>\n",
              "      <td>7190</td>\n",
              "      <td>0</td>\n",
              "    </tr>\n",
              "    <tr>\n",
              "      <th>2</th>\n",
              "      <td>ACCCX3S5AHMF55FV</td>\n",
              "      <td>2015-10-20 15:45:56</td>\n",
              "      <td>2015</td>\n",
              "      <td>10</td>\n",
              "      <td>2.421913e+15</td>\n",
              "      <td>2.421913e+15</td>\n",
              "      <td>1990</td>\n",
              "      <td>1</td>\n",
              "      <td>\\N</td>\n",
              "      <td>\\N</td>\n",
              "      <td>COD</td>\n",
              "      <td>10</td>\n",
              "      <td>-1.0404429420466E+018</td>\n",
              "      <td>-7.47768776228657E+018</td>\n",
              "      <td>CE</td>\n",
              "      <td>CameraAccessory</td>\n",
              "      <td>CameraAccessory</td>\n",
              "      <td>CameraTripod</td>\n",
              "      <td>2099</td>\n",
              "      <td>3</td>\n",
              "    </tr>\n",
              "    <tr>\n",
              "      <th>3</th>\n",
              "      <td>ACCCX3S5AHMF55FV</td>\n",
              "      <td>2015-10-14 12:05:15</td>\n",
              "      <td>2015</td>\n",
              "      <td>10</td>\n",
              "      <td>4.416592e+15</td>\n",
              "      <td>4.416592e+15</td>\n",
              "      <td>1690</td>\n",
              "      <td>1</td>\n",
              "      <td>\\N</td>\n",
              "      <td>\\N</td>\n",
              "      <td>Prepaid</td>\n",
              "      <td>4</td>\n",
              "      <td>-7.60496084352714E+018</td>\n",
              "      <td>-5.83593163877661E+018</td>\n",
              "      <td>CE</td>\n",
              "      <td>CameraAccessory</td>\n",
              "      <td>CameraAccessory</td>\n",
              "      <td>CameraTripod</td>\n",
              "      <td>2099</td>\n",
              "      <td>3</td>\n",
              "    </tr>\n",
              "    <tr>\n",
              "      <th>4</th>\n",
              "      <td>ACCCX3S5AHMF55FV</td>\n",
              "      <td>2015-10-17 21:25:03</td>\n",
              "      <td>2015</td>\n",
              "      <td>10</td>\n",
              "      <td>4.419525e+15</td>\n",
              "      <td>4.419525e+15</td>\n",
              "      <td>1618</td>\n",
              "      <td>1</td>\n",
              "      <td>\\N</td>\n",
              "      <td>\\N</td>\n",
              "      <td>Prepaid</td>\n",
              "      <td>6</td>\n",
              "      <td>2.8945572083453E+018</td>\n",
              "      <td>5.34735360997242E+017</td>\n",
              "      <td>CE</td>\n",
              "      <td>CameraAccessory</td>\n",
              "      <td>CameraAccessory</td>\n",
              "      <td>CameraTripod</td>\n",
              "      <td>2099</td>\n",
              "      <td>3</td>\n",
              "    </tr>\n",
              "  </tbody>\n",
              "</table>\n",
              "</div>"
            ],
            "text/plain": [
              "             fsn_id           order_date  Year  Month      order_id  \\\n",
              "0  ACCCX3S58G7B5F6P  2015-10-17 15:11:54  2015     10  3.419301e+15   \n",
              "1  ACCCX3S58G7B5F6P  2015-10-19 10:07:22  2015     10  1.420831e+15   \n",
              "2  ACCCX3S5AHMF55FV  2015-10-20 15:45:56  2015     10  2.421913e+15   \n",
              "3  ACCCX3S5AHMF55FV  2015-10-14 12:05:15  2015     10  4.416592e+15   \n",
              "4  ACCCX3S5AHMF55FV  2015-10-17 21:25:03  2015     10  4.419525e+15   \n",
              "\n",
              "   order_item_id   gmv  units deliverybdays deliverycdays  \\\n",
              "0   3.419301e+15  6400      1            \\N            \\N   \n",
              "1   1.420831e+15  6900      1            \\N            \\N   \n",
              "2   2.421913e+15  1990      1            \\N            \\N   \n",
              "3   4.416592e+15  1690      1            \\N            \\N   \n",
              "4   4.419525e+15  1618      1            \\N            \\N   \n",
              "\n",
              "  s1_fact.order_payment_type  sla                 cust_id  \\\n",
              "0                        COD    5  -1.01299130778588E+018   \n",
              "1                        COD    7  -8.99032457905512E+018   \n",
              "2                        COD   10   -1.0404429420466E+018   \n",
              "3                    Prepaid    4  -7.60496084352714E+018   \n",
              "4                    Prepaid    6    2.8945572083453E+018   \n",
              "\n",
              "                  pincode product_analytic_super_category  \\\n",
              "0  -7.79175582905735E+018                              CE   \n",
              "1   7.33541149097431E+018                              CE   \n",
              "2  -7.47768776228657E+018                              CE   \n",
              "3  -5.83593163877661E+018                              CE   \n",
              "4   5.34735360997242E+017                              CE   \n",
              "\n",
              "  product_analytic_category product_analytic_sub_category  \\\n",
              "0           CameraAccessory               CameraAccessory   \n",
              "1           CameraAccessory               CameraAccessory   \n",
              "2           CameraAccessory               CameraAccessory   \n",
              "3           CameraAccessory               CameraAccessory   \n",
              "4           CameraAccessory               CameraAccessory   \n",
              "\n",
              "  product_analytic_vertical  product_mrp  product_procurement_sla  \n",
              "0              CameraTripod         7190                        0  \n",
              "1              CameraTripod         7190                        0  \n",
              "2              CameraTripod         2099                        3  \n",
              "3              CameraTripod         2099                        3  \n",
              "4              CameraTripod         2099                        3  "
            ]
          },
          "metadata": {
            "tags": []
          },
          "execution_count": 1110
        }
      ]
    },
    {
      "cell_type": "code",
      "metadata": {
        "id": "EfBa3l41wrus",
        "colab_type": "code",
        "colab": {
          "base_uri": "https://localhost:8080/",
          "height": 485
        },
        "outputId": "ee4c0dd2-799b-46d5-a55f-2d3791914623"
      },
      "source": [
        "#checking data info \n",
        "df.info()"
      ],
      "execution_count": 1111,
      "outputs": [
        {
          "output_type": "stream",
          "text": [
            "<class 'pandas.core.frame.DataFrame'>\n",
            "RangeIndex: 1648824 entries, 0 to 1648823\n",
            "Data columns (total 20 columns):\n",
            " #   Column                           Non-Null Count    Dtype  \n",
            "---  ------                           --------------    -----  \n",
            " 0   fsn_id                           1648824 non-null  object \n",
            " 1   order_date                       1648824 non-null  object \n",
            " 2   Year                             1648824 non-null  int64  \n",
            " 3   Month                            1648824 non-null  int64  \n",
            " 4   order_id                         1648824 non-null  float64\n",
            " 5   order_item_id                    1648824 non-null  float64\n",
            " 6   gmv                              1648824 non-null  object \n",
            " 7   units                            1648824 non-null  int64  \n",
            " 8   deliverybdays                    1648824 non-null  object \n",
            " 9   deliverycdays                    1648824 non-null  object \n",
            " 10  s1_fact.order_payment_type       1648824 non-null  object \n",
            " 11  sla                              1648824 non-null  int64  \n",
            " 12  cust_id                          1648824 non-null  object \n",
            " 13  pincode                          1648824 non-null  object \n",
            " 14  product_analytic_super_category  1648824 non-null  object \n",
            " 15  product_analytic_category        1648824 non-null  object \n",
            " 16  product_analytic_sub_category    1648824 non-null  object \n",
            " 17  product_analytic_vertical        1648824 non-null  object \n",
            " 18  product_mrp                      1648824 non-null  int64  \n",
            " 19  product_procurement_sla          1648824 non-null  int64  \n",
            "dtypes: float64(2), int64(6), object(12)\n",
            "memory usage: 251.6+ MB\n"
          ],
          "name": "stdout"
        }
      ]
    },
    {
      "cell_type": "code",
      "metadata": {
        "id": "94h5vFExDKJq",
        "colab_type": "code",
        "colab": {}
      },
      "source": [
        "#We should change the order_date data type for future use\n",
        "df[\"order_date\"]=pd.to_datetime(df[\"order_date\"], errors='coerce')"
      ],
      "execution_count": 1112,
      "outputs": []
    },
    {
      "cell_type": "code",
      "metadata": {
        "id": "NwnuwYoWxgeF",
        "colab_type": "code",
        "colab": {
          "base_uri": "https://localhost:8080/",
          "height": 309
        },
        "outputId": "fb64a5a2-ab4b-40f8-e5d3-e2911924eed1"
      },
      "source": [
        "#while changing the gmv column to numeric we can find we have some data where gmv is \" \"\n",
        "df[df[\"gmv\"]==\" \"].head()"
      ],
      "execution_count": 1113,
      "outputs": [
        {
          "output_type": "execute_result",
          "data": {
            "text/html": [
              "<div>\n",
              "<style scoped>\n",
              "    .dataframe tbody tr th:only-of-type {\n",
              "        vertical-align: middle;\n",
              "    }\n",
              "\n",
              "    .dataframe tbody tr th {\n",
              "        vertical-align: top;\n",
              "    }\n",
              "\n",
              "    .dataframe thead th {\n",
              "        text-align: right;\n",
              "    }\n",
              "</style>\n",
              "<table border=\"1\" class=\"dataframe\">\n",
              "  <thead>\n",
              "    <tr style=\"text-align: right;\">\n",
              "      <th></th>\n",
              "      <th>fsn_id</th>\n",
              "      <th>order_date</th>\n",
              "      <th>Year</th>\n",
              "      <th>Month</th>\n",
              "      <th>order_id</th>\n",
              "      <th>order_item_id</th>\n",
              "      <th>gmv</th>\n",
              "      <th>units</th>\n",
              "      <th>deliverybdays</th>\n",
              "      <th>deliverycdays</th>\n",
              "      <th>s1_fact.order_payment_type</th>\n",
              "      <th>sla</th>\n",
              "      <th>cust_id</th>\n",
              "      <th>pincode</th>\n",
              "      <th>product_analytic_super_category</th>\n",
              "      <th>product_analytic_category</th>\n",
              "      <th>product_analytic_sub_category</th>\n",
              "      <th>product_analytic_vertical</th>\n",
              "      <th>product_mrp</th>\n",
              "      <th>product_procurement_sla</th>\n",
              "    </tr>\n",
              "  </thead>\n",
              "  <tbody>\n",
              "    <tr>\n",
              "      <th>8</th>\n",
              "      <td>ACCCX3S5JGAJETYR</td>\n",
              "      <td>2015-10-16 00:49:14</td>\n",
              "      <td>2015</td>\n",
              "      <td>10</td>\n",
              "      <td>2.417870e+15</td>\n",
              "      <td>2.417870e+15</td>\n",
              "      <td></td>\n",
              "      <td>1</td>\n",
              "      <td>\\N</td>\n",
              "      <td>\\N</td>\n",
              "      <td>Prepaid</td>\n",
              "      <td>9</td>\n",
              "      <td></td>\n",
              "      <td></td>\n",
              "      <td>CE</td>\n",
              "      <td>CameraAccessory</td>\n",
              "      <td>CameraAccessory</td>\n",
              "      <td>CameraTripod</td>\n",
              "      <td>4044</td>\n",
              "      <td>5</td>\n",
              "    </tr>\n",
              "    <tr>\n",
              "      <th>95</th>\n",
              "      <td>ACCCX3SGAR6NNBMR</td>\n",
              "      <td>2015-10-05 13:25:48</td>\n",
              "      <td>2015</td>\n",
              "      <td>10</td>\n",
              "      <td>2.408842e+15</td>\n",
              "      <td>2.408842e+15</td>\n",
              "      <td></td>\n",
              "      <td>1</td>\n",
              "      <td>\\N</td>\n",
              "      <td>\\N</td>\n",
              "      <td>Prepaid</td>\n",
              "      <td>3</td>\n",
              "      <td></td>\n",
              "      <td></td>\n",
              "      <td>CE</td>\n",
              "      <td>CameraAccessory</td>\n",
              "      <td>CameraAccessory</td>\n",
              "      <td>Lens</td>\n",
              "      <td>7150</td>\n",
              "      <td>5</td>\n",
              "    </tr>\n",
              "    <tr>\n",
              "      <th>124</th>\n",
              "      <td>ACCCX3SGDGPZAQXD</td>\n",
              "      <td>2015-10-16 01:49:30</td>\n",
              "      <td>2015</td>\n",
              "      <td>10</td>\n",
              "      <td>4.417909e+15</td>\n",
              "      <td>4.417909e+15</td>\n",
              "      <td></td>\n",
              "      <td>1</td>\n",
              "      <td>\\N</td>\n",
              "      <td>\\N</td>\n",
              "      <td>Prepaid</td>\n",
              "      <td>6</td>\n",
              "      <td></td>\n",
              "      <td></td>\n",
              "      <td>CE</td>\n",
              "      <td>CameraAccessory</td>\n",
              "      <td>CameraAccessory</td>\n",
              "      <td>Lens</td>\n",
              "      <td>17995</td>\n",
              "      <td>5</td>\n",
              "    </tr>\n",
              "    <tr>\n",
              "      <th>142</th>\n",
              "      <td>ACCCX3SGDGPZAQXD</td>\n",
              "      <td>2015-10-16 22:59:20</td>\n",
              "      <td>2015</td>\n",
              "      <td>10</td>\n",
              "      <td>4.418717e+15</td>\n",
              "      <td>4.418717e+15</td>\n",
              "      <td></td>\n",
              "      <td>1</td>\n",
              "      <td>\\N</td>\n",
              "      <td>\\N</td>\n",
              "      <td>Prepaid</td>\n",
              "      <td>6</td>\n",
              "      <td></td>\n",
              "      <td></td>\n",
              "      <td>CE</td>\n",
              "      <td>CameraAccessory</td>\n",
              "      <td>CameraAccessory</td>\n",
              "      <td>Lens</td>\n",
              "      <td>17995</td>\n",
              "      <td>5</td>\n",
              "    </tr>\n",
              "    <tr>\n",
              "      <th>186</th>\n",
              "      <td>ACCCX3SGDGPZAQXD</td>\n",
              "      <td>2015-10-16 07:30:25</td>\n",
              "      <td>2015</td>\n",
              "      <td>10</td>\n",
              "      <td>4.418158e+15</td>\n",
              "      <td>4.418158e+15</td>\n",
              "      <td></td>\n",
              "      <td>1</td>\n",
              "      <td>\\N</td>\n",
              "      <td>\\N</td>\n",
              "      <td>Prepaid</td>\n",
              "      <td>6</td>\n",
              "      <td></td>\n",
              "      <td></td>\n",
              "      <td>CE</td>\n",
              "      <td>CameraAccessory</td>\n",
              "      <td>CameraAccessory</td>\n",
              "      <td>Lens</td>\n",
              "      <td>17995</td>\n",
              "      <td>5</td>\n",
              "    </tr>\n",
              "  </tbody>\n",
              "</table>\n",
              "</div>"
            ],
            "text/plain": [
              "               fsn_id          order_date  Year  Month      order_id  \\\n",
              "8    ACCCX3S5JGAJETYR 2015-10-16 00:49:14  2015     10  2.417870e+15   \n",
              "95   ACCCX3SGAR6NNBMR 2015-10-05 13:25:48  2015     10  2.408842e+15   \n",
              "124  ACCCX3SGDGPZAQXD 2015-10-16 01:49:30  2015     10  4.417909e+15   \n",
              "142  ACCCX3SGDGPZAQXD 2015-10-16 22:59:20  2015     10  4.418717e+15   \n",
              "186  ACCCX3SGDGPZAQXD 2015-10-16 07:30:25  2015     10  4.418158e+15   \n",
              "\n",
              "     order_item_id gmv  units deliverybdays deliverycdays  \\\n",
              "8     2.417870e+15          1            \\N            \\N   \n",
              "95    2.408842e+15          1            \\N            \\N   \n",
              "124   4.417909e+15          1            \\N            \\N   \n",
              "142   4.418717e+15          1            \\N            \\N   \n",
              "186   4.418158e+15          1            \\N            \\N   \n",
              "\n",
              "    s1_fact.order_payment_type  sla cust_id pincode  \\\n",
              "8                      Prepaid    9                   \n",
              "95                     Prepaid    3                   \n",
              "124                    Prepaid    6                   \n",
              "142                    Prepaid    6                   \n",
              "186                    Prepaid    6                   \n",
              "\n",
              "    product_analytic_super_category product_analytic_category  \\\n",
              "8                                CE           CameraAccessory   \n",
              "95                               CE           CameraAccessory   \n",
              "124                              CE           CameraAccessory   \n",
              "142                              CE           CameraAccessory   \n",
              "186                              CE           CameraAccessory   \n",
              "\n",
              "    product_analytic_sub_category product_analytic_vertical  product_mrp  \\\n",
              "8                 CameraAccessory              CameraTripod         4044   \n",
              "95                CameraAccessory                      Lens         7150   \n",
              "124               CameraAccessory                      Lens        17995   \n",
              "142               CameraAccessory                      Lens        17995   \n",
              "186               CameraAccessory                      Lens        17995   \n",
              "\n",
              "     product_procurement_sla  \n",
              "8                          5  \n",
              "95                         5  \n",
              "124                        5  \n",
              "142                        5  \n",
              "186                        5  "
            ]
          },
          "metadata": {
            "tags": []
          },
          "execution_count": 1113
        }
      ]
    },
    {
      "cell_type": "code",
      "metadata": {
        "id": "PaXQOkl2yKza",
        "colab_type": "code",
        "colab": {}
      },
      "source": [
        "df[\"gmv\"].replace(\" \",0,inplace=True)"
      ],
      "execution_count": 1114,
      "outputs": []
    },
    {
      "cell_type": "code",
      "metadata": {
        "id": "kx7h98kEuF-N",
        "colab_type": "code",
        "colab": {}
      },
      "source": [
        "#we need to change the data type of gmv(Gross Merchandise Value or Revenue) to int as this is of int type\n",
        "df[\"gmv\"]=pd.to_numeric(df[\"gmv\"])"
      ],
      "execution_count": 1115,
      "outputs": []
    },
    {
      "cell_type": "code",
      "metadata": {
        "id": "Ds6U9Em0xASn",
        "colab_type": "code",
        "colab": {
          "base_uri": "https://localhost:8080/",
          "height": 35
        },
        "outputId": "79b8b6bb-b5d9-4785-d1e9-df7b9143ab35"
      },
      "source": [
        "#checking shape of data\n",
        "df.shape"
      ],
      "execution_count": 1116,
      "outputs": [
        {
          "output_type": "execute_result",
          "data": {
            "text/plain": [
              "(1648824, 20)"
            ]
          },
          "metadata": {
            "tags": []
          },
          "execution_count": 1116
        }
      ]
    },
    {
      "cell_type": "code",
      "metadata": {
        "id": "LiwusWP1FTyp",
        "colab_type": "code",
        "colab": {
          "base_uri": "https://localhost:8080/",
          "height": 381
        },
        "outputId": "d2e10e1d-561e-4085-caf8-5771fe3a9253"
      },
      "source": [
        "#checking for null values in dataset\n",
        "df.isnull().sum()"
      ],
      "execution_count": 1117,
      "outputs": [
        {
          "output_type": "execute_result",
          "data": {
            "text/plain": [
              "fsn_id                             0\n",
              "order_date                         0\n",
              "Year                               0\n",
              "Month                              0\n",
              "order_id                           0\n",
              "order_item_id                      0\n",
              "gmv                                0\n",
              "units                              0\n",
              "deliverybdays                      0\n",
              "deliverycdays                      0\n",
              "s1_fact.order_payment_type         0\n",
              "sla                                0\n",
              "cust_id                            0\n",
              "pincode                            0\n",
              "product_analytic_super_category    0\n",
              "product_analytic_category          0\n",
              "product_analytic_sub_category      0\n",
              "product_analytic_vertical          0\n",
              "product_mrp                        0\n",
              "product_procurement_sla            0\n",
              "dtype: int64"
            ]
          },
          "metadata": {
            "tags": []
          },
          "execution_count": 1117
        }
      ]
    },
    {
      "cell_type": "code",
      "metadata": {
        "id": "qKT0ztWOH44K",
        "colab_type": "code",
        "colab": {}
      },
      "source": [
        "df=df[(df[\"order_date\"]>=\"2015-07-01\") & (df[\"order_date\"]<\"2016-07-01\")]"
      ],
      "execution_count": 1118,
      "outputs": []
    },
    {
      "cell_type": "code",
      "metadata": {
        "id": "wyeFYkZaI1UI",
        "colab_type": "code",
        "colab": {
          "base_uri": "https://localhost:8080/",
          "height": 1000
        },
        "outputId": "80971212-5e2a-4aba-fa14-0a5d9fc34a74"
      },
      "source": [
        "arr=[\"Year\",\"Month\",\"product_analytic_super_category\",\"product_analytic_category\",\"product_analytic_sub_category\",\"product_analytic_vertical\",\"s1_fact.order_payment_type\"]\n",
        "for i in arr:\n",
        "  sns.countplot(x=i,data=df)\n",
        "  plt.xticks(rotation=90)\n",
        "  plt.show()"
      ],
      "execution_count": 1119,
      "outputs": [
        {
          "output_type": "execute_result",
          "data": {
            "text/plain": [
              "<matplotlib.axes._subplots.AxesSubplot at 0x7f8490964e48>"
            ]
          },
          "metadata": {
            "tags": []
          },
          "execution_count": 1119
        },
        {
          "output_type": "execute_result",
          "data": {
            "text/plain": [
              "(array([0, 1]), <a list of 2 Text major ticklabel objects>)"
            ]
          },
          "metadata": {
            "tags": []
          },
          "execution_count": 1119
        },
        {
          "output_type": "display_data",
          "data": {
            "image/png": "[encoded data removed]",
            "text/plain": [
              "<Figure size 432x288 with 1 Axes>"
            ]
          },
          "metadata": {
            "tags": [],
            "needs_background": "light"
          }
        },
        {
          "output_type": "execute_result",
          "data": {
            "text/plain": [
              "<matplotlib.axes._subplots.AxesSubplot at 0x7f8482149be0>"
            ]
          },
          "metadata": {
            "tags": []
          },
          "execution_count": 1119
        },
        {
          "output_type": "execute_result",
          "data": {
            "text/plain": [
              "(array([ 0,  1,  2,  3,  4,  5,  6,  7,  8,  9, 10, 11]),\n",
              " <a list of 12 Text major ticklabel objects>)"
            ]
          },
          "metadata": {
            "tags": []
          },
          "execution_count": 1119
        },
        {
          "output_type": "display_data",
          "data": {
            "image/png": "[encoded data removed]",
            "text/plain": [
              "<Figure size 432x288 with 1 Axes>"
            ]
          },
          "metadata": {
            "tags": [],
            "needs_background": "light"
          }
        },
        {
          "output_type": "execute_result",
          "data": {
            "text/plain": [
              "<matplotlib.axes._subplots.AxesSubplot at 0x7f84820c0cc0>"
            ]
          },
          "metadata": {
            "tags": []
          },
          "execution_count": 1119
        },
        {
          "output_type": "execute_result",
          "data": {
            "text/plain": [
              "(array([0]), <a list of 1 Text major ticklabel objects>)"
            ]
          },
          "metadata": {
            "tags": []
          },
          "execution_count": 1119
        },
        {
          "output_type": "display_data",
          "data": {
            "image/png": "[encoded data removed]",
            "text/plain": [
              "<Figure size 432x288 with 1 Axes>"
            ]
          },
          "metadata": {
            "tags": [],
            "needs_background": "light"
          }
        },
        {
          "output_type": "execute_result",
          "data": {
            "text/plain": [
              "<matplotlib.axes._subplots.AxesSubplot at 0x7f8482031e48>"
            ]
          },
          "metadata": {
            "tags": []
          },
          "execution_count": 1119
        },
        {
          "output_type": "execute_result",
          "data": {
            "text/plain": [
              "(array([0, 1, 2, 3, 4]), <a list of 5 Text major ticklabel objects>)"
            ]
          },
          "metadata": {
            "tags": []
          },
          "execution_count": 1119
        },
        {
          "output_type": "display_data",
          "data": {
            "image/png": "[encoded data removed]",
            "text/plain": [
              "<Figure size 432x288 with 1 Axes>"
            ]
          },
          "metadata": {
            "tags": [],
            "needs_background": "light"
          }
        },
        {
          "output_type": "execute_result",
          "data": {
            "text/plain": [
              "<matplotlib.axes._subplots.AxesSubplot at 0x7f84820070b8>"
            ]
          },
          "metadata": {
            "tags": []
          },
          "execution_count": 1119
        },
        {
          "output_type": "execute_result",
          "data": {
            "text/plain": [
              "(array([ 0,  1,  2,  3,  4,  5,  6,  7,  8,  9, 10, 11, 12, 13]),\n",
              " <a list of 14 Text major ticklabel objects>)"
            ]
          },
          "metadata": {
            "tags": []
          },
          "execution_count": 1119
        },
        {
          "output_type": "display_data",
          "data": {
            "image/png": "[encoded data removed]",
            "text/plain": [
              "<Figure size 432x288 with 1 Axes>"
            ]
          },
          "metadata": {
            "tags": [],
            "needs_background": "light"
          }
        },
        {
          "output_type": "execute_result",
          "data": {
            "text/plain": [
              "<matplotlib.axes._subplots.AxesSubplot at 0x7f8481f10898>"
            ]
          },
          "metadata": {
            "tags": []
          },
          "execution_count": 1119
        },
        {
          "output_type": "execute_result",
          "data": {
            "text/plain": [
              "(array([ 0,  1,  2,  3,  4,  5,  6,  7,  8,  9, 10, 11, 12, 13, 14, 15, 16,\n",
              "        17, 18, 19, 20, 21, 22, 23, 24, 25, 26, 27, 28, 29, 30, 31, 32, 33,\n",
              "        34, 35, 36, 37, 38, 39, 40, 41, 42, 43, 44, 45, 46, 47, 48, 49, 50,\n",
              "        51, 52, 53, 54, 55, 56, 57, 58, 59, 60, 61, 62, 63, 64, 65, 66, 67,\n",
              "        68, 69, 70, 71, 72, 73]), <a list of 74 Text major ticklabel objects>)"
            ]
          },
          "metadata": {
            "tags": []
          },
          "execution_count": 1119
        },
        {
          "output_type": "display_data",
          "data": {
            "image/png": "[encoded data removed]",
            "text/plain": [
              "<Figure size 432x288 with 1 Axes>"
            ]
          },
          "metadata": {
            "tags": [],
            "needs_background": "light"
          }
        },
        {
          "output_type": "execute_result",
          "data": {
            "text/plain": [
              "<matplotlib.axes._subplots.AxesSubplot at 0x7f8481da9b70>"
            ]
          },
          "metadata": {
            "tags": []
          },
          "execution_count": 1119
        },
        {
          "output_type": "execute_result",
          "data": {
            "text/plain": [
              "(array([0, 1]), <a list of 2 Text major ticklabel objects>)"
            ]
          },
          "metadata": {
            "tags": []
          },
          "execution_count": 1119
        },
        {
          "output_type": "display_data",
          "data": {
            "image/png": "[encoded data removed]",
            "text/plain": [
              "<Figure size 432x288 with 1 Axes>"
            ]
          },
          "metadata": {
            "tags": [],
            "needs_background": "light"
          }
        }
      ]
    },
    {
      "cell_type": "code",
      "metadata": {
        "id": "UdndhHCT0YgI",
        "colab_type": "code",
        "colab": {
          "base_uri": "https://localhost:8080/",
          "height": 680
        },
        "outputId": "fa2a0248-f202-4920-c9a9-72d3aca52291"
      },
      "source": [
        "plt.figure(figsize=(8,8))\n",
        "sns.set(style=\"darkgrid\")\n",
        "sns.countplot(x=\"product_analytic_sub_category\",hue=\"Year\",data=df)\n",
        "plt.xticks(rotation=90)\n",
        "plt.show()"
      ],
      "execution_count": 1120,
      "outputs": [
        {
          "output_type": "execute_result",
          "data": {
            "text/plain": [
              "<Figure size 576x576 with 0 Axes>"
            ]
          },
          "metadata": {
            "tags": []
          },
          "execution_count": 1120
        },
        {
          "output_type": "execute_result",
          "data": {
            "text/plain": [
              "<matplotlib.axes._subplots.AxesSubplot at 0x7f8490964978>"
            ]
          },
          "metadata": {
            "tags": []
          },
          "execution_count": 1120
        },
        {
          "output_type": "execute_result",
          "data": {
            "text/plain": [
              "(array([ 0,  1,  2,  3,  4,  5,  6,  7,  8,  9, 10, 11, 12, 13]),\n",
              " <a list of 14 Text major ticklabel objects>)"
            ]
          },
          "metadata": {
            "tags": []
          },
          "execution_count": 1120
        },
        {
          "output_type": "display_data",
          "data": {
            "image/png": "[encoded data removed]",
            "text/plain": [
              "<Figure size 576x576 with 1 Axes>"
            ]
          },
          "metadata": {
            "tags": [],
            "needs_background": "light"
          }
        }
      ]
    },
    {
      "cell_type": "code",
      "metadata": {
        "id": "HfH8DCVzd89L",
        "colab_type": "code",
        "colab": {}
      },
      "source": [
        "#As we can see we have only 2 types of payment i am converting them into 0 and 1 that may be helpful in future calculation\n",
        "df[\"s1_fact.order_payment_type\"].replace(\"COD\",1,inplace=True)\n",
        "df[\"s1_fact.order_payment_type\"].replace(\"Prepaid\",0,inplace=True)"
      ],
      "execution_count": 1121,
      "outputs": []
    },
    {
      "cell_type": "code",
      "metadata": {
        "id": "esH0FUU5T2kF",
        "colab_type": "code",
        "colab": {
          "base_uri": "https://localhost:8080/",
          "height": 638
        },
        "outputId": "cf9362f7-b984-42f8-8fa5-a6bcb8e97a96"
      },
      "source": [
        "plt.figure(figsize=(8,8))\n",
        "sns.set(style=\"darkgrid\")\n",
        "sns.countplot(x=\"product_analytic_category\",hue=\"product_analytic_sub_category\",data=df)\n",
        "plt.xticks(rotation=90)\n",
        "plt.show()"
      ],
      "execution_count": 1122,
      "outputs": [
        {
          "output_type": "execute_result",
          "data": {
            "text/plain": [
              "<Figure size 576x576 with 0 Axes>"
            ]
          },
          "metadata": {
            "tags": []
          },
          "execution_count": 1122
        },
        {
          "output_type": "execute_result",
          "data": {
            "text/plain": [
              "<matplotlib.axes._subplots.AxesSubplot at 0x7f8481cccd68>"
            ]
          },
          "metadata": {
            "tags": []
          },
          "execution_count": 1122
        },
        {
          "output_type": "execute_result",
          "data": {
            "text/plain": [
              "(array([0, 1, 2, 3, 4]), <a list of 5 Text major ticklabel objects>)"
            ]
          },
          "metadata": {
            "tags": []
          },
          "execution_count": 1122
        },
        {
          "output_type": "display_data",
          "data": {
            "image/png": "[encoded data removed]",
            "text/plain": [
              "<Figure size 576x576 with 1 Axes>"
            ]
          },
          "metadata": {
            "tags": []
          }
        }
      ]
    },
    {
      "cell_type": "code",
      "metadata": {
        "id": "oCQglEbRYwst",
        "colab_type": "code",
        "colab": {
          "base_uri": "https://localhost:8080/",
          "height": 303
        },
        "outputId": "04ccb0f8-9370-46dd-be25-52a881415511"
      },
      "source": [
        "sns.scatterplot(x=\"product_mrp\",y=\"gmv\",data=df)"
      ],
      "execution_count": 1123,
      "outputs": [
        {
          "output_type": "execute_result",
          "data": {
            "text/plain": [
              "<matplotlib.axes._subplots.AxesSubplot at 0x7f8481c41e48>"
            ]
          },
          "metadata": {
            "tags": []
          },
          "execution_count": 1123
        },
        {
          "output_type": "display_data",
          "data": {
            "image/png": "[encoded data removed]",
            "text/plain": [
              "<Figure size 432x288 with 1 Axes>"
            ]
          },
          "metadata": {
            "tags": []
          }
        }
      ]
    },
    {
      "cell_type": "code",
      "metadata": {
        "id": "-IxpavUrmojW",
        "colab_type": "code",
        "colab": {
          "base_uri": "https://localhost:8080/",
          "height": 285
        },
        "outputId": "a9332be9-c413-4a6d-9578-66d2032248c2"
      },
      "source": [
        "plt.scatter(df[\"product_mrp\"],df[\"units\"])"
      ],
      "execution_count": 1124,
      "outputs": [
        {
          "output_type": "execute_result",
          "data": {
            "text/plain": [
              "<matplotlib.collections.PathCollection at 0x7f8481ae91d0>"
            ]
          },
          "metadata": {
            "tags": []
          },
          "execution_count": 1124
        },
        {
          "output_type": "display_data",
          "data": {
            "image/png": "[encoded data removed]",
            "text/plain": [
              "<Figure size 432x288 with 1 Axes>"
            ]
          },
          "metadata": {
            "tags": []
          }
        }
      ]
    },
    {
      "cell_type": "code",
      "metadata": {
        "id": "ul7EaZYYm03s",
        "colab_type": "code",
        "colab": {}
      },
      "source": [
        "#sns.pairplot(df)"
      ],
      "execution_count": 1125,
      "outputs": []
    },
    {
      "cell_type": "code",
      "metadata": {
        "id": "tya-eQm0hp0b",
        "colab_type": "code",
        "colab": {
          "base_uri": "https://localhost:8080/",
          "height": 314
        },
        "outputId": "150f1e64-127d-4b45-a272-cd85a40697a6"
      },
      "source": [
        "df.describe()"
      ],
      "execution_count": 1126,
      "outputs": [
        {
          "output_type": "execute_result",
          "data": {
            "text/html": [
              "<div>\n",
              "<style scoped>\n",
              "    .dataframe tbody tr th:only-of-type {\n",
              "        vertical-align: middle;\n",
              "    }\n",
              "\n",
              "    .dataframe tbody tr th {\n",
              "        vertical-align: top;\n",
              "    }\n",
              "\n",
              "    .dataframe thead th {\n",
              "        text-align: right;\n",
              "    }\n",
              "</style>\n",
              "<table border=\"1\" class=\"dataframe\">\n",
              "  <thead>\n",
              "    <tr style=\"text-align: right;\">\n",
              "      <th></th>\n",
              "      <th>Year</th>\n",
              "      <th>Month</th>\n",
              "      <th>order_id</th>\n",
              "      <th>order_item_id</th>\n",
              "      <th>gmv</th>\n",
              "      <th>units</th>\n",
              "      <th>s1_fact.order_payment_type</th>\n",
              "      <th>sla</th>\n",
              "      <th>product_mrp</th>\n",
              "      <th>product_procurement_sla</th>\n",
              "    </tr>\n",
              "  </thead>\n",
              "  <tbody>\n",
              "    <tr>\n",
              "      <th>count</th>\n",
              "      <td>1.648215e+06</td>\n",
              "      <td>1.648215e+06</td>\n",
              "      <td>1.648215e+06</td>\n",
              "      <td>1.648215e+06</td>\n",
              "      <td>1.648215e+06</td>\n",
              "      <td>1.648215e+06</td>\n",
              "      <td>1.648215e+06</td>\n",
              "      <td>1.648215e+06</td>\n",
              "      <td>1.648215e+06</td>\n",
              "      <td>1.648215e+06</td>\n",
              "    </tr>\n",
              "    <tr>\n",
              "      <th>mean</th>\n",
              "      <td>2.015518e+03</td>\n",
              "      <td>6.585501e+00</td>\n",
              "      <td>2.842324e+15</td>\n",
              "      <td>1.376019e+16</td>\n",
              "      <td>2.453656e+03</td>\n",
              "      <td>1.022088e+00</td>\n",
              "      <td>7.225750e-01</td>\n",
              "      <td>5.687996e+00</td>\n",
              "      <td>4.108187e+03</td>\n",
              "      <td>5.402785e+00</td>\n",
              "    </tr>\n",
              "    <tr>\n",
              "      <th>std</th>\n",
              "      <td>4.996622e-01</td>\n",
              "      <td>3.624011e+00</td>\n",
              "      <td>1.269160e+15</td>\n",
              "      <td>5.595594e+16</td>\n",
              "      <td>5.611181e+03</td>\n",
              "      <td>2.535490e-01</td>\n",
              "      <td>4.477281e-01</td>\n",
              "      <td>2.983321e+00</td>\n",
              "      <td>8.510337e+03</td>\n",
              "      <td>5.345918e+01</td>\n",
              "    </tr>\n",
              "    <tr>\n",
              "      <th>min</th>\n",
              "      <td>2.015000e+03</td>\n",
              "      <td>1.000000e+00</td>\n",
              "      <td>7.633152e+07</td>\n",
              "      <td>1.080165e+08</td>\n",
              "      <td>0.000000e+00</td>\n",
              "      <td>1.000000e+00</td>\n",
              "      <td>0.000000e+00</td>\n",
              "      <td>0.000000e+00</td>\n",
              "      <td>0.000000e+00</td>\n",
              "      <td>-1.000000e+00</td>\n",
              "    </tr>\n",
              "    <tr>\n",
              "      <th>25%</th>\n",
              "      <td>2.015000e+03</td>\n",
              "      <td>3.000000e+00</td>\n",
              "      <td>1.602512e+15</td>\n",
              "      <td>1.606665e+15</td>\n",
              "      <td>3.390000e+02</td>\n",
              "      <td>1.000000e+00</td>\n",
              "      <td>0.000000e+00</td>\n",
              "      <td>4.000000e+00</td>\n",
              "      <td>7.990000e+02</td>\n",
              "      <td>1.000000e+00</td>\n",
              "    </tr>\n",
              "    <tr>\n",
              "      <th>50%</th>\n",
              "      <td>2.016000e+03</td>\n",
              "      <td>6.000000e+00</td>\n",
              "      <td>2.611775e+15</td>\n",
              "      <td>2.619112e+15</td>\n",
              "      <td>7.490000e+02</td>\n",
              "      <td>1.000000e+00</td>\n",
              "      <td>1.000000e+00</td>\n",
              "      <td>6.000000e+00</td>\n",
              "      <td>1.599000e+03</td>\n",
              "      <td>2.000000e+00</td>\n",
              "    </tr>\n",
              "    <tr>\n",
              "      <th>75%</th>\n",
              "      <td>2.016000e+03</td>\n",
              "      <td>1.000000e+01</td>\n",
              "      <td>3.610554e+15</td>\n",
              "      <td>4.397703e+15</td>\n",
              "      <td>1.999000e+03</td>\n",
              "      <td>1.000000e+00</td>\n",
              "      <td>1.000000e+00</td>\n",
              "      <td>7.000000e+00</td>\n",
              "      <td>3.499000e+03</td>\n",
              "      <td>3.000000e+00</td>\n",
              "    </tr>\n",
              "    <tr>\n",
              "      <th>max</th>\n",
              "      <td>2.016000e+03</td>\n",
              "      <td>1.200000e+01</td>\n",
              "      <td>5.395077e+15</td>\n",
              "      <td>3.000373e+17</td>\n",
              "      <td>2.269470e+05</td>\n",
              "      <td>5.000000e+01</td>\n",
              "      <td>1.000000e+00</td>\n",
              "      <td>1.006000e+03</td>\n",
              "      <td>2.999990e+05</td>\n",
              "      <td>1.000000e+03</td>\n",
              "    </tr>\n",
              "  </tbody>\n",
              "</table>\n",
              "</div>"
            ],
            "text/plain": [
              "               Year         Month      order_id  order_item_id           gmv  \\\n",
              "count  1.648215e+06  1.648215e+06  1.648215e+06   1.648215e+06  1.648215e+06   \n",
              "mean   2.015518e+03  6.585501e+00  2.842324e+15   1.376019e+16  2.453656e+03   \n",
              "std    4.996622e-01  3.624011e+00  1.269160e+15   5.595594e+16  5.611181e+03   \n",
              "min    2.015000e+03  1.000000e+00  7.633152e+07   1.080165e+08  0.000000e+00   \n",
              "25%    2.015000e+03  3.000000e+00  1.602512e+15   1.606665e+15  3.390000e+02   \n",
              "50%    2.016000e+03  6.000000e+00  2.611775e+15   2.619112e+15  7.490000e+02   \n",
              "75%    2.016000e+03  1.000000e+01  3.610554e+15   4.397703e+15  1.999000e+03   \n",
              "max    2.016000e+03  1.200000e+01  5.395077e+15   3.000373e+17  2.269470e+05   \n",
              "\n",
              "              units  s1_fact.order_payment_type           sla   product_mrp  \\\n",
              "count  1.648215e+06                1.648215e+06  1.648215e+06  1.648215e+06   \n",
              "mean   1.022088e+00                7.225750e-01  5.687996e+00  4.108187e+03   \n",
              "std    2.535490e-01                4.477281e-01  2.983321e+00  8.510337e+03   \n",
              "min    1.000000e+00                0.000000e+00  0.000000e+00  0.000000e+00   \n",
              "25%    1.000000e+00                0.000000e+00  4.000000e+00  7.990000e+02   \n",
              "50%    1.000000e+00                1.000000e+00  6.000000e+00  1.599000e+03   \n",
              "75%    1.000000e+00                1.000000e+00  7.000000e+00  3.499000e+03   \n",
              "max    5.000000e+01                1.000000e+00  1.006000e+03  2.999990e+05   \n",
              "\n",
              "       product_procurement_sla  \n",
              "count             1.648215e+06  \n",
              "mean              5.402785e+00  \n",
              "std               5.345918e+01  \n",
              "min              -1.000000e+00  \n",
              "25%               1.000000e+00  \n",
              "50%               2.000000e+00  \n",
              "75%               3.000000e+00  \n",
              "max               1.000000e+03  "
            ]
          },
          "metadata": {
            "tags": []
          },
          "execution_count": 1126
        }
      ]
    },
    {
      "cell_type": "markdown",
      "metadata": {
        "id": "zQsjFTRRa2yw",
        "colab_type": "text"
      },
      "source": [
        "## Some Checks on Data like mrp should be greater than 0."
      ]
    },
    {
      "cell_type": "code",
      "metadata": {
        "id": "ecfIo6cXoRI2",
        "colab_type": "code",
        "colab": {}
      },
      "source": [
        "#removing rows having price < 0 as we can see in the description the minimum value of price is 0. And this is not correct\n",
        "df=df[df[\"product_mrp\"]>0]"
      ],
      "execution_count": 1127,
      "outputs": []
    },
    {
      "cell_type": "code",
      "metadata": {
        "id": "9JZhc3o8hEwe",
        "colab_type": "code",
        "colab": {}
      },
      "source": [
        "#gmv(Gross Merchandise Value or Revenue) should be greater than product_mrp * units. So, removing the data which does not satisfy the criteria\n",
        "df=df[df[\"gmv\"]<df[\"product_mrp\"]*df[\"units\"]]"
      ],
      "execution_count": 1128,
      "outputs": []
    },
    {
      "cell_type": "code",
      "metadata": {
        "id": "IL3ObrHh-eLD",
        "colab_type": "code",
        "colab": {
          "base_uri": "https://localhost:8080/",
          "height": 35
        },
        "outputId": "24bbac48-692c-4a6f-a4d5-c4669bd0e193"
      },
      "source": [
        "#printing the shape of data after removing unwanted data\n",
        "df.shape"
      ],
      "execution_count": 1129,
      "outputs": [
        {
          "output_type": "execute_result",
          "data": {
            "text/plain": [
              "(1583842, 20)"
            ]
          },
          "metadata": {
            "tags": []
          },
          "execution_count": 1129
        }
      ]
    },
    {
      "cell_type": "code",
      "metadata": {
        "id": "7Kz9qB3wlVgj",
        "colab_type": "code",
        "colab": {
          "base_uri": "https://localhost:8080/",
          "height": 35
        },
        "outputId": "03dcd07c-b3a1-43ba-ed41-203a488198d8"
      },
      "source": [
        "#printing the shape of original data \n",
        "data_frame.shape"
      ],
      "execution_count": 1130,
      "outputs": [
        {
          "output_type": "execute_result",
          "data": {
            "text/plain": [
              "(1648824, 20)"
            ]
          },
          "metadata": {
            "tags": []
          },
          "execution_count": 1130
        }
      ]
    },
    {
      "cell_type": "code",
      "metadata": {
        "id": "odTUCUOQz-Yn",
        "colab_type": "code",
        "colab": {
          "base_uri": "https://localhost:8080/",
          "height": 35
        },
        "outputId": "6238ea9b-0e41-479b-ed22-f3612a373248"
      },
      "source": [
        "# printing %ge of data loss\n",
        "round(100*((data_frame.shape[0]-df.shape[0])/data_frame.shape[0]),2)"
      ],
      "execution_count": 1131,
      "outputs": [
        {
          "output_type": "execute_result",
          "data": {
            "text/plain": [
              "3.94"
            ]
          },
          "metadata": {
            "tags": []
          },
          "execution_count": 1131
        }
      ]
    },
    {
      "cell_type": "markdown",
      "metadata": {
        "id": "vWD04L3D0-yW",
        "colab_type": "text"
      },
      "source": [
        "So we are loosing only 4 percent of data . And it will not impact our analysis."
      ]
    },
    {
      "cell_type": "markdown",
      "metadata": {
        "id": "WXB_jUZU2l_2",
        "colab_type": "text"
      },
      "source": [
        "### Dividing the data on the basis of product subcategories."
      ]
    },
    {
      "cell_type": "code",
      "metadata": {
        "id": "px4JOUuu3UtC",
        "colab_type": "code",
        "colab": {
          "base_uri": "https://localhost:8080/",
          "height": 277
        },
        "outputId": "67319395-6c5c-43d8-aabc-0f771b62bc78"
      },
      "source": [
        "df[\"product_analytic_sub_category\"].value_counts()"
      ],
      "execution_count": 1132,
      "outputs": [
        {
          "output_type": "execute_result",
          "data": {
            "text/plain": [
              "Speaker                533134\n",
              "CameraAccessory        229488\n",
              "GamingAccessory        196023\n",
              "TVVideoSmall           140852\n",
              "HomeAudio              118542\n",
              "AudioMP3Player         111349\n",
              "Camera                  99576\n",
              "Game                    91021\n",
              "GamingConsole           27605\n",
              "CameraStorage           17695\n",
              "AudioAccessory          10302\n",
              "HomeTheatre              4141\n",
              "AmplifierReceiver        4017\n",
              "GameMembershipCards        97\n",
              "Name: product_analytic_sub_category, dtype: int64"
            ]
          },
          "metadata": {
            "tags": []
          },
          "execution_count": 1132
        }
      ]
    },
    {
      "cell_type": "code",
      "metadata": {
        "id": "KZjvhQzq0Z2A",
        "colab_type": "code",
        "colab": {}
      },
      "source": [
        "df_homeaudio=df[df[\"product_analytic_sub_category\"] == \"HomeAudio\"].copy()"
      ],
      "execution_count": 1133,
      "outputs": []
    },
    {
      "cell_type": "code",
      "metadata": {
        "id": "s_CM10Ld3fLT",
        "colab_type": "code",
        "colab": {}
      },
      "source": [
        "df_CameraAccessory=df[df[\"product_analytic_sub_category\"] == \"CameraAccessory\"].copy()"
      ],
      "execution_count": 1134,
      "outputs": []
    },
    {
      "cell_type": "code",
      "metadata": {
        "id": "rwygHoUw3pw7",
        "colab_type": "code",
        "colab": {}
      },
      "source": [
        "df_GamingAccessory=df[df[\"product_analytic_sub_category\"] == \"GamingAccessory\"].copy()"
      ],
      "execution_count": 1135,
      "outputs": []
    },
    {
      "cell_type": "code",
      "metadata": {
        "id": "b_KPYGkI37Ui",
        "colab_type": "code",
        "colab": {
          "base_uri": "https://localhost:8080/",
          "height": 309
        },
        "outputId": "14d5bda1-1899-4278-cdd2-da6945d52483"
      },
      "source": [
        "#printing some data from each of the data frame\n",
        "df_homeaudio.head()"
      ],
      "execution_count": 1136,
      "outputs": [
        {
          "output_type": "execute_result",
          "data": {
            "text/html": [
              "<div>\n",
              "<style scoped>\n",
              "    .dataframe tbody tr th:only-of-type {\n",
              "        vertical-align: middle;\n",
              "    }\n",
              "\n",
              "    .dataframe tbody tr th {\n",
              "        vertical-align: top;\n",
              "    }\n",
              "\n",
              "    .dataframe thead th {\n",
              "        text-align: right;\n",
              "    }\n",
              "</style>\n",
              "<table border=\"1\" class=\"dataframe\">\n",
              "  <thead>\n",
              "    <tr style=\"text-align: right;\">\n",
              "      <th></th>\n",
              "      <th>fsn_id</th>\n",
              "      <th>order_date</th>\n",
              "      <th>Year</th>\n",
              "      <th>Month</th>\n",
              "      <th>order_id</th>\n",
              "      <th>order_item_id</th>\n",
              "      <th>gmv</th>\n",
              "      <th>units</th>\n",
              "      <th>deliverybdays</th>\n",
              "      <th>deliverycdays</th>\n",
              "      <th>s1_fact.order_payment_type</th>\n",
              "      <th>sla</th>\n",
              "      <th>cust_id</th>\n",
              "      <th>pincode</th>\n",
              "      <th>product_analytic_super_category</th>\n",
              "      <th>product_analytic_category</th>\n",
              "      <th>product_analytic_sub_category</th>\n",
              "      <th>product_analytic_vertical</th>\n",
              "      <th>product_mrp</th>\n",
              "      <th>product_procurement_sla</th>\n",
              "    </tr>\n",
              "  </thead>\n",
              "  <tbody>\n",
              "    <tr>\n",
              "      <th>2840</th>\n",
              "      <td>ACCCZZC9XHZZ49FS</td>\n",
              "      <td>2015-10-03 20:35:30</td>\n",
              "      <td>2015</td>\n",
              "      <td>10</td>\n",
              "      <td>1.407396e+15</td>\n",
              "      <td>1.407396e+15</td>\n",
              "      <td>7049.0</td>\n",
              "      <td>1</td>\n",
              "      <td>\\N</td>\n",
              "      <td>\\N</td>\n",
              "      <td>0</td>\n",
              "      <td>5</td>\n",
              "      <td>-7.59891246232286E+018</td>\n",
              "      <td>-1.44900165321989E+018</td>\n",
              "      <td>CE</td>\n",
              "      <td>EntertainmentSmall</td>\n",
              "      <td>HomeAudio</td>\n",
              "      <td>HomeAudioSpeaker</td>\n",
              "      <td>7499</td>\n",
              "      <td>5</td>\n",
              "    </tr>\n",
              "    <tr>\n",
              "      <th>2841</th>\n",
              "      <td>ACCCZZC9XHZZ49FS</td>\n",
              "      <td>2015-10-16 09:03:09</td>\n",
              "      <td>2015</td>\n",
              "      <td>10</td>\n",
              "      <td>2.418214e+15</td>\n",
              "      <td>2.418214e+15</td>\n",
              "      <td>5489.0</td>\n",
              "      <td>1</td>\n",
              "      <td>\\N</td>\n",
              "      <td>\\N</td>\n",
              "      <td>0</td>\n",
              "      <td>2</td>\n",
              "      <td>-2.19573032414406E+018</td>\n",
              "      <td>5.51019732830323E+018</td>\n",
              "      <td>CE</td>\n",
              "      <td>EntertainmentSmall</td>\n",
              "      <td>HomeAudio</td>\n",
              "      <td>HomeAudioSpeaker</td>\n",
              "      <td>7499</td>\n",
              "      <td>5</td>\n",
              "    </tr>\n",
              "    <tr>\n",
              "      <th>2842</th>\n",
              "      <td>ACCCZZC9XHZZ49FS</td>\n",
              "      <td>2015-10-16 21:55:31</td>\n",
              "      <td>2015</td>\n",
              "      <td>10</td>\n",
              "      <td>2.418676e+15</td>\n",
              "      <td>2.418676e+15</td>\n",
              "      <td>6255.0</td>\n",
              "      <td>1</td>\n",
              "      <td>\\N</td>\n",
              "      <td>\\N</td>\n",
              "      <td>0</td>\n",
              "      <td>9</td>\n",
              "      <td>-8.69764155132085E+018</td>\n",
              "      <td>4.07895330887739E+018</td>\n",
              "      <td>CE</td>\n",
              "      <td>EntertainmentSmall</td>\n",
              "      <td>HomeAudio</td>\n",
              "      <td>HomeAudioSpeaker</td>\n",
              "      <td>7499</td>\n",
              "      <td>5</td>\n",
              "    </tr>\n",
              "    <tr>\n",
              "      <th>2843</th>\n",
              "      <td>ACCCZZC9XHZZ49FS</td>\n",
              "      <td>2015-10-16 23:25:07</td>\n",
              "      <td>2015</td>\n",
              "      <td>10</td>\n",
              "      <td>1.418727e+15</td>\n",
              "      <td>1.418727e+15</td>\n",
              "      <td>6099.0</td>\n",
              "      <td>1</td>\n",
              "      <td>\\N</td>\n",
              "      <td>\\N</td>\n",
              "      <td>0</td>\n",
              "      <td>3</td>\n",
              "      <td>-4.98961621154979E+018</td>\n",
              "      <td>9.06892083579869E+018</td>\n",
              "      <td>CE</td>\n",
              "      <td>EntertainmentSmall</td>\n",
              "      <td>HomeAudio</td>\n",
              "      <td>HomeAudioSpeaker</td>\n",
              "      <td>7499</td>\n",
              "      <td>5</td>\n",
              "    </tr>\n",
              "    <tr>\n",
              "      <th>2844</th>\n",
              "      <td>ACCCZZC9XHZZ49FS</td>\n",
              "      <td>2015-10-20 17:42:59</td>\n",
              "      <td>2015</td>\n",
              "      <td>10</td>\n",
              "      <td>2.421984e+15</td>\n",
              "      <td>2.421984e+15</td>\n",
              "      <td>6850.0</td>\n",
              "      <td>1</td>\n",
              "      <td>\\N</td>\n",
              "      <td>\\N</td>\n",
              "      <td>1</td>\n",
              "      <td>9</td>\n",
              "      <td>6.04651405718702E+018</td>\n",
              "      <td>2.15973604441674E+018</td>\n",
              "      <td>CE</td>\n",
              "      <td>EntertainmentSmall</td>\n",
              "      <td>HomeAudio</td>\n",
              "      <td>HomeAudioSpeaker</td>\n",
              "      <td>7499</td>\n",
              "      <td>5</td>\n",
              "    </tr>\n",
              "  </tbody>\n",
              "</table>\n",
              "</div>"
            ],
            "text/plain": [
              "                fsn_id          order_date  Year  Month      order_id  \\\n",
              "2840  ACCCZZC9XHZZ49FS 2015-10-03 20:35:30  2015     10  1.407396e+15   \n",
              "2841  ACCCZZC9XHZZ49FS 2015-10-16 09:03:09  2015     10  2.418214e+15   \n",
              "2842  ACCCZZC9XHZZ49FS 2015-10-16 21:55:31  2015     10  2.418676e+15   \n",
              "2843  ACCCZZC9XHZZ49FS 2015-10-16 23:25:07  2015     10  1.418727e+15   \n",
              "2844  ACCCZZC9XHZZ49FS 2015-10-20 17:42:59  2015     10  2.421984e+15   \n",
              "\n",
              "      order_item_id     gmv  units deliverybdays deliverycdays  \\\n",
              "2840   1.407396e+15  7049.0      1            \\N            \\N   \n",
              "2841   2.418214e+15  5489.0      1            \\N            \\N   \n",
              "2842   2.418676e+15  6255.0      1            \\N            \\N   \n",
              "2843   1.418727e+15  6099.0      1            \\N            \\N   \n",
              "2844   2.421984e+15  6850.0      1            \\N            \\N   \n",
              "\n",
              "      s1_fact.order_payment_type  sla                 cust_id  \\\n",
              "2840                           0    5  -7.59891246232286E+018   \n",
              "2841                           0    2  -2.19573032414406E+018   \n",
              "2842                           0    9  -8.69764155132085E+018   \n",
              "2843                           0    3  -4.98961621154979E+018   \n",
              "2844                           1    9   6.04651405718702E+018   \n",
              "\n",
              "                     pincode product_analytic_super_category  \\\n",
              "2840  -1.44900165321989E+018                              CE   \n",
              "2841   5.51019732830323E+018                              CE   \n",
              "2842   4.07895330887739E+018                              CE   \n",
              "2843   9.06892083579869E+018                              CE   \n",
              "2844   2.15973604441674E+018                              CE   \n",
              "\n",
              "     product_analytic_category product_analytic_sub_category  \\\n",
              "2840        EntertainmentSmall                     HomeAudio   \n",
              "2841        EntertainmentSmall                     HomeAudio   \n",
              "2842        EntertainmentSmall                     HomeAudio   \n",
              "2843        EntertainmentSmall                     HomeAudio   \n",
              "2844        EntertainmentSmall                     HomeAudio   \n",
              "\n",
              "     product_analytic_vertical  product_mrp  product_procurement_sla  \n",
              "2840          HomeAudioSpeaker         7499                        5  \n",
              "2841          HomeAudioSpeaker         7499                        5  \n",
              "2842          HomeAudioSpeaker         7499                        5  \n",
              "2843          HomeAudioSpeaker         7499                        5  \n",
              "2844          HomeAudioSpeaker         7499                        5  "
            ]
          },
          "metadata": {
            "tags": []
          },
          "execution_count": 1136
        }
      ]
    },
    {
      "cell_type": "code",
      "metadata": {
        "id": "tkoCKbs34DVD",
        "colab_type": "code",
        "colab": {
          "base_uri": "https://localhost:8080/",
          "height": 309
        },
        "outputId": "39288ebf-bb89-43bf-b17b-6516a9f4db34"
      },
      "source": [
        "df_CameraAccessory.head()"
      ],
      "execution_count": 1137,
      "outputs": [
        {
          "output_type": "execute_result",
          "data": {
            "text/html": [
              "<div>\n",
              "<style scoped>\n",
              "    .dataframe tbody tr th:only-of-type {\n",
              "        vertical-align: middle;\n",
              "    }\n",
              "\n",
              "    .dataframe tbody tr th {\n",
              "        vertical-align: top;\n",
              "    }\n",
              "\n",
              "    .dataframe thead th {\n",
              "        text-align: right;\n",
              "    }\n",
              "</style>\n",
              "<table border=\"1\" class=\"dataframe\">\n",
              "  <thead>\n",
              "    <tr style=\"text-align: right;\">\n",
              "      <th></th>\n",
              "      <th>fsn_id</th>\n",
              "      <th>order_date</th>\n",
              "      <th>Year</th>\n",
              "      <th>Month</th>\n",
              "      <th>order_id</th>\n",
              "      <th>order_item_id</th>\n",
              "      <th>gmv</th>\n",
              "      <th>units</th>\n",
              "      <th>deliverybdays</th>\n",
              "      <th>deliverycdays</th>\n",
              "      <th>s1_fact.order_payment_type</th>\n",
              "      <th>sla</th>\n",
              "      <th>cust_id</th>\n",
              "      <th>pincode</th>\n",
              "      <th>product_analytic_super_category</th>\n",
              "      <th>product_analytic_category</th>\n",
              "      <th>product_analytic_sub_category</th>\n",
              "      <th>product_analytic_vertical</th>\n",
              "      <th>product_mrp</th>\n",
              "      <th>product_procurement_sla</th>\n",
              "    </tr>\n",
              "  </thead>\n",
              "  <tbody>\n",
              "    <tr>\n",
              "      <th>0</th>\n",
              "      <td>ACCCX3S58G7B5F6P</td>\n",
              "      <td>2015-10-17 15:11:54</td>\n",
              "      <td>2015</td>\n",
              "      <td>10</td>\n",
              "      <td>3.419301e+15</td>\n",
              "      <td>3.419301e+15</td>\n",
              "      <td>6400.0</td>\n",
              "      <td>1</td>\n",
              "      <td>\\N</td>\n",
              "      <td>\\N</td>\n",
              "      <td>1</td>\n",
              "      <td>5</td>\n",
              "      <td>-1.01299130778588E+018</td>\n",
              "      <td>-7.79175582905735E+018</td>\n",
              "      <td>CE</td>\n",
              "      <td>CameraAccessory</td>\n",
              "      <td>CameraAccessory</td>\n",
              "      <td>CameraTripod</td>\n",
              "      <td>7190</td>\n",
              "      <td>0</td>\n",
              "    </tr>\n",
              "    <tr>\n",
              "      <th>1</th>\n",
              "      <td>ACCCX3S58G7B5F6P</td>\n",
              "      <td>2015-10-19 10:07:22</td>\n",
              "      <td>2015</td>\n",
              "      <td>10</td>\n",
              "      <td>1.420831e+15</td>\n",
              "      <td>1.420831e+15</td>\n",
              "      <td>6900.0</td>\n",
              "      <td>1</td>\n",
              "      <td>\\N</td>\n",
              "      <td>\\N</td>\n",
              "      <td>1</td>\n",
              "      <td>7</td>\n",
              "      <td>-8.99032457905512E+018</td>\n",
              "      <td>7.33541149097431E+018</td>\n",
              "      <td>CE</td>\n",
              "      <td>CameraAccessory</td>\n",
              "      <td>CameraAccessory</td>\n",
              "      <td>CameraTripod</td>\n",
              "      <td>7190</td>\n",
              "      <td>0</td>\n",
              "    </tr>\n",
              "    <tr>\n",
              "      <th>2</th>\n",
              "      <td>ACCCX3S5AHMF55FV</td>\n",
              "      <td>2015-10-20 15:45:56</td>\n",
              "      <td>2015</td>\n",
              "      <td>10</td>\n",
              "      <td>2.421913e+15</td>\n",
              "      <td>2.421913e+15</td>\n",
              "      <td>1990.0</td>\n",
              "      <td>1</td>\n",
              "      <td>\\N</td>\n",
              "      <td>\\N</td>\n",
              "      <td>1</td>\n",
              "      <td>10</td>\n",
              "      <td>-1.0404429420466E+018</td>\n",
              "      <td>-7.47768776228657E+018</td>\n",
              "      <td>CE</td>\n",
              "      <td>CameraAccessory</td>\n",
              "      <td>CameraAccessory</td>\n",
              "      <td>CameraTripod</td>\n",
              "      <td>2099</td>\n",
              "      <td>3</td>\n",
              "    </tr>\n",
              "    <tr>\n",
              "      <th>3</th>\n",
              "      <td>ACCCX3S5AHMF55FV</td>\n",
              "      <td>2015-10-14 12:05:15</td>\n",
              "      <td>2015</td>\n",
              "      <td>10</td>\n",
              "      <td>4.416592e+15</td>\n",
              "      <td>4.416592e+15</td>\n",
              "      <td>1690.0</td>\n",
              "      <td>1</td>\n",
              "      <td>\\N</td>\n",
              "      <td>\\N</td>\n",
              "      <td>0</td>\n",
              "      <td>4</td>\n",
              "      <td>-7.60496084352714E+018</td>\n",
              "      <td>-5.83593163877661E+018</td>\n",
              "      <td>CE</td>\n",
              "      <td>CameraAccessory</td>\n",
              "      <td>CameraAccessory</td>\n",
              "      <td>CameraTripod</td>\n",
              "      <td>2099</td>\n",
              "      <td>3</td>\n",
              "    </tr>\n",
              "    <tr>\n",
              "      <th>4</th>\n",
              "      <td>ACCCX3S5AHMF55FV</td>\n",
              "      <td>2015-10-17 21:25:03</td>\n",
              "      <td>2015</td>\n",
              "      <td>10</td>\n",
              "      <td>4.419525e+15</td>\n",
              "      <td>4.419525e+15</td>\n",
              "      <td>1618.0</td>\n",
              "      <td>1</td>\n",
              "      <td>\\N</td>\n",
              "      <td>\\N</td>\n",
              "      <td>0</td>\n",
              "      <td>6</td>\n",
              "      <td>2.8945572083453E+018</td>\n",
              "      <td>5.34735360997242E+017</td>\n",
              "      <td>CE</td>\n",
              "      <td>CameraAccessory</td>\n",
              "      <td>CameraAccessory</td>\n",
              "      <td>CameraTripod</td>\n",
              "      <td>2099</td>\n",
              "      <td>3</td>\n",
              "    </tr>\n",
              "  </tbody>\n",
              "</table>\n",
              "</div>"
            ],
            "text/plain": [
              "             fsn_id          order_date  Year  Month      order_id  \\\n",
              "0  ACCCX3S58G7B5F6P 2015-10-17 15:11:54  2015     10  3.419301e+15   \n",
              "1  ACCCX3S58G7B5F6P 2015-10-19 10:07:22  2015     10  1.420831e+15   \n",
              "2  ACCCX3S5AHMF55FV 2015-10-20 15:45:56  2015     10  2.421913e+15   \n",
              "3  ACCCX3S5AHMF55FV 2015-10-14 12:05:15  2015     10  4.416592e+15   \n",
              "4  ACCCX3S5AHMF55FV 2015-10-17 21:25:03  2015     10  4.419525e+15   \n",
              "\n",
              "   order_item_id     gmv  units deliverybdays deliverycdays  \\\n",
              "0   3.419301e+15  6400.0      1            \\N            \\N   \n",
              "1   1.420831e+15  6900.0      1            \\N            \\N   \n",
              "2   2.421913e+15  1990.0      1            \\N            \\N   \n",
              "3   4.416592e+15  1690.0      1            \\N            \\N   \n",
              "4   4.419525e+15  1618.0      1            \\N            \\N   \n",
              "\n",
              "   s1_fact.order_payment_type  sla                 cust_id  \\\n",
              "0                           1    5  -1.01299130778588E+018   \n",
              "1                           1    7  -8.99032457905512E+018   \n",
              "2                           1   10   -1.0404429420466E+018   \n",
              "3                           0    4  -7.60496084352714E+018   \n",
              "4                           0    6    2.8945572083453E+018   \n",
              "\n",
              "                  pincode product_analytic_super_category  \\\n",
              "0  -7.79175582905735E+018                              CE   \n",
              "1   7.33541149097431E+018                              CE   \n",
              "2  -7.47768776228657E+018                              CE   \n",
              "3  -5.83593163877661E+018                              CE   \n",
              "4   5.34735360997242E+017                              CE   \n",
              "\n",
              "  product_analytic_category product_analytic_sub_category  \\\n",
              "0           CameraAccessory               CameraAccessory   \n",
              "1           CameraAccessory               CameraAccessory   \n",
              "2           CameraAccessory               CameraAccessory   \n",
              "3           CameraAccessory               CameraAccessory   \n",
              "4           CameraAccessory               CameraAccessory   \n",
              "\n",
              "  product_analytic_vertical  product_mrp  product_procurement_sla  \n",
              "0              CameraTripod         7190                        0  \n",
              "1              CameraTripod         7190                        0  \n",
              "2              CameraTripod         2099                        3  \n",
              "3              CameraTripod         2099                        3  \n",
              "4              CameraTripod         2099                        3  "
            ]
          },
          "metadata": {
            "tags": []
          },
          "execution_count": 1137
        }
      ]
    },
    {
      "cell_type": "code",
      "metadata": {
        "id": "Ap4Z5xqo4G8p",
        "colab_type": "code",
        "colab": {
          "base_uri": "https://localhost:8080/",
          "height": 309
        },
        "outputId": "b5db002e-31f9-4d86-9630-c2eec5442992"
      },
      "source": [
        "df_GamingAccessory.head()"
      ],
      "execution_count": 1138,
      "outputs": [
        {
          "output_type": "execute_result",
          "data": {
            "text/html": [
              "<div>\n",
              "<style scoped>\n",
              "    .dataframe tbody tr th:only-of-type {\n",
              "        vertical-align: middle;\n",
              "    }\n",
              "\n",
              "    .dataframe tbody tr th {\n",
              "        vertical-align: top;\n",
              "    }\n",
              "\n",
              "    .dataframe thead th {\n",
              "        text-align: right;\n",
              "    }\n",
              "</style>\n",
              "<table border=\"1\" class=\"dataframe\">\n",
              "  <thead>\n",
              "    <tr style=\"text-align: right;\">\n",
              "      <th></th>\n",
              "      <th>fsn_id</th>\n",
              "      <th>order_date</th>\n",
              "      <th>Year</th>\n",
              "      <th>Month</th>\n",
              "      <th>order_id</th>\n",
              "      <th>order_item_id</th>\n",
              "      <th>gmv</th>\n",
              "      <th>units</th>\n",
              "      <th>deliverybdays</th>\n",
              "      <th>deliverycdays</th>\n",
              "      <th>s1_fact.order_payment_type</th>\n",
              "      <th>sla</th>\n",
              "      <th>cust_id</th>\n",
              "      <th>pincode</th>\n",
              "      <th>product_analytic_super_category</th>\n",
              "      <th>product_analytic_category</th>\n",
              "      <th>product_analytic_sub_category</th>\n",
              "      <th>product_analytic_vertical</th>\n",
              "      <th>product_mrp</th>\n",
              "      <th>product_procurement_sla</th>\n",
              "    </tr>\n",
              "  </thead>\n",
              "  <tbody>\n",
              "    <tr>\n",
              "      <th>1598</th>\n",
              "      <td>ACCCZ34CBVZJTVQF</td>\n",
              "      <td>2015-10-04 19:24:36</td>\n",
              "      <td>2015</td>\n",
              "      <td>10</td>\n",
              "      <td>1.408217e+15</td>\n",
              "      <td>1.408217e+15</td>\n",
              "      <td>3075.0</td>\n",
              "      <td>1</td>\n",
              "      <td>\\N</td>\n",
              "      <td>\\N</td>\n",
              "      <td>1</td>\n",
              "      <td>9</td>\n",
              "      <td>4.34477146699389E+018</td>\n",
              "      <td>-1.78050760490657E+018</td>\n",
              "      <td>CE</td>\n",
              "      <td>GamingHardware</td>\n",
              "      <td>GamingAccessory</td>\n",
              "      <td>GamePad</td>\n",
              "      <td>3999</td>\n",
              "      <td>5</td>\n",
              "    </tr>\n",
              "    <tr>\n",
              "      <th>1599</th>\n",
              "      <td>ACCCZ34CBVZJTVQF</td>\n",
              "      <td>2015-10-14 22:54:54</td>\n",
              "      <td>2015</td>\n",
              "      <td>10</td>\n",
              "      <td>1.416985e+15</td>\n",
              "      <td>1.416985e+15</td>\n",
              "      <td>2750.0</td>\n",
              "      <td>1</td>\n",
              "      <td>\\N</td>\n",
              "      <td>\\N</td>\n",
              "      <td>1</td>\n",
              "      <td>7</td>\n",
              "      <td>9.04157730463172E+018</td>\n",
              "      <td>-5.1750058942027E+018</td>\n",
              "      <td>CE</td>\n",
              "      <td>GamingHardware</td>\n",
              "      <td>GamingAccessory</td>\n",
              "      <td>GamePad</td>\n",
              "      <td>3999</td>\n",
              "      <td>5</td>\n",
              "    </tr>\n",
              "    <tr>\n",
              "      <th>1600</th>\n",
              "      <td>ACCCZ34CBVZJTVQF</td>\n",
              "      <td>2015-10-15 20:19:38</td>\n",
              "      <td>2015</td>\n",
              "      <td>10</td>\n",
              "      <td>1.417669e+15</td>\n",
              "      <td>1.417669e+15</td>\n",
              "      <td>2899.0</td>\n",
              "      <td>1</td>\n",
              "      <td>\\N</td>\n",
              "      <td>\\N</td>\n",
              "      <td>0</td>\n",
              "      <td>5</td>\n",
              "      <td>8.97383112414031E+018</td>\n",
              "      <td>-7.07126047139944E+017</td>\n",
              "      <td>CE</td>\n",
              "      <td>GamingHardware</td>\n",
              "      <td>GamingAccessory</td>\n",
              "      <td>GamePad</td>\n",
              "      <td>3999</td>\n",
              "      <td>5</td>\n",
              "    </tr>\n",
              "    <tr>\n",
              "      <th>1601</th>\n",
              "      <td>ACCCZ34CBVZJTVQF</td>\n",
              "      <td>2015-10-17 18:21:43</td>\n",
              "      <td>2015</td>\n",
              "      <td>10</td>\n",
              "      <td>1.419415e+15</td>\n",
              "      <td>1.419415e+15</td>\n",
              "      <td>2609.0</td>\n",
              "      <td>1</td>\n",
              "      <td>\\N</td>\n",
              "      <td>\\N</td>\n",
              "      <td>0</td>\n",
              "      <td>5</td>\n",
              "      <td>-4.82414273647179E+018</td>\n",
              "      <td>6.40491320207757E+018</td>\n",
              "      <td>CE</td>\n",
              "      <td>GamingHardware</td>\n",
              "      <td>GamingAccessory</td>\n",
              "      <td>GamePad</td>\n",
              "      <td>3999</td>\n",
              "      <td>5</td>\n",
              "    </tr>\n",
              "    <tr>\n",
              "      <th>1602</th>\n",
              "      <td>ACCCZ34CBVZJTVQF</td>\n",
              "      <td>2015-10-26 17:49:39</td>\n",
              "      <td>2015</td>\n",
              "      <td>10</td>\n",
              "      <td>1.427168e+15</td>\n",
              "      <td>1.427168e+15</td>\n",
              "      <td>2772.0</td>\n",
              "      <td>1</td>\n",
              "      <td>\\N</td>\n",
              "      <td>\\N</td>\n",
              "      <td>0</td>\n",
              "      <td>5</td>\n",
              "      <td>-3.30536529726028E+018</td>\n",
              "      <td>2.08941992580576E+018</td>\n",
              "      <td>CE</td>\n",
              "      <td>GamingHardware</td>\n",
              "      <td>GamingAccessory</td>\n",
              "      <td>GamePad</td>\n",
              "      <td>3999</td>\n",
              "      <td>5</td>\n",
              "    </tr>\n",
              "  </tbody>\n",
              "</table>\n",
              "</div>"
            ],
            "text/plain": [
              "                fsn_id          order_date  Year  Month      order_id  \\\n",
              "1598  ACCCZ34CBVZJTVQF 2015-10-04 19:24:36  2015     10  1.408217e+15   \n",
              "1599  ACCCZ34CBVZJTVQF 2015-10-14 22:54:54  2015     10  1.416985e+15   \n",
              "1600  ACCCZ34CBVZJTVQF 2015-10-15 20:19:38  2015     10  1.417669e+15   \n",
              "1601  ACCCZ34CBVZJTVQF 2015-10-17 18:21:43  2015     10  1.419415e+15   \n",
              "1602  ACCCZ34CBVZJTVQF 2015-10-26 17:49:39  2015     10  1.427168e+15   \n",
              "\n",
              "      order_item_id     gmv  units deliverybdays deliverycdays  \\\n",
              "1598   1.408217e+15  3075.0      1            \\N            \\N   \n",
              "1599   1.416985e+15  2750.0      1            \\N            \\N   \n",
              "1600   1.417669e+15  2899.0      1            \\N            \\N   \n",
              "1601   1.419415e+15  2609.0      1            \\N            \\N   \n",
              "1602   1.427168e+15  2772.0      1            \\N            \\N   \n",
              "\n",
              "      s1_fact.order_payment_type  sla                 cust_id  \\\n",
              "1598                           1    9   4.34477146699389E+018   \n",
              "1599                           1    7   9.04157730463172E+018   \n",
              "1600                           0    5   8.97383112414031E+018   \n",
              "1601                           0    5  -4.82414273647179E+018   \n",
              "1602                           0    5  -3.30536529726028E+018   \n",
              "\n",
              "                     pincode product_analytic_super_category  \\\n",
              "1598  -1.78050760490657E+018                              CE   \n",
              "1599   -5.1750058942027E+018                              CE   \n",
              "1600  -7.07126047139944E+017                              CE   \n",
              "1601   6.40491320207757E+018                              CE   \n",
              "1602   2.08941992580576E+018                              CE   \n",
              "\n",
              "     product_analytic_category product_analytic_sub_category  \\\n",
              "1598            GamingHardware               GamingAccessory   \n",
              "1599            GamingHardware               GamingAccessory   \n",
              "1600            GamingHardware               GamingAccessory   \n",
              "1601            GamingHardware               GamingAccessory   \n",
              "1602            GamingHardware               GamingAccessory   \n",
              "\n",
              "     product_analytic_vertical  product_mrp  product_procurement_sla  \n",
              "1598                   GamePad         3999                        5  \n",
              "1599                   GamePad         3999                        5  \n",
              "1600                   GamePad         3999                        5  \n",
              "1601                   GamePad         3999                        5  \n",
              "1602                   GamePad         3999                        5  "
            ]
          },
          "metadata": {
            "tags": []
          },
          "execution_count": 1138
        }
      ]
    },
    {
      "cell_type": "code",
      "metadata": {
        "id": "uLrSYtRQ4KFX",
        "colab_type": "code",
        "colab": {
          "base_uri": "https://localhost:8080/",
          "height": 69
        },
        "outputId": "b968fc2e-a352-4bc5-85b7-75163de03a32"
      },
      "source": [
        "#printing the shape of all the three data frame\n",
        "print(df_CameraAccessory.shape)\n",
        "print(df_GamingAccessory.shape)\n",
        "print(df_homeaudio.shape)"
      ],
      "execution_count": 1139,
      "outputs": [
        {
          "output_type": "stream",
          "text": [
            "(229488, 20)\n",
            "(196023, 20)\n",
            "(118542, 20)\n"
          ],
          "name": "stdout"
        }
      ]
    },
    {
      "cell_type": "code",
      "metadata": {
        "id": "Ca1iP9P31ZTG",
        "colab_type": "code",
        "colab": {
          "base_uri": "https://localhost:8080/",
          "height": 309
        },
        "outputId": "0f2e68d6-195e-4c17-d5eb-ece600057b04"
      },
      "source": [
        "df_homeaudio.head()"
      ],
      "execution_count": 1140,
      "outputs": [
        {
          "output_type": "execute_result",
          "data": {
            "text/html": [
              "<div>\n",
              "<style scoped>\n",
              "    .dataframe tbody tr th:only-of-type {\n",
              "        vertical-align: middle;\n",
              "    }\n",
              "\n",
              "    .dataframe tbody tr th {\n",
              "        vertical-align: top;\n",
              "    }\n",
              "\n",
              "    .dataframe thead th {\n",
              "        text-align: right;\n",
              "    }\n",
              "</style>\n",
              "<table border=\"1\" class=\"dataframe\">\n",
              "  <thead>\n",
              "    <tr style=\"text-align: right;\">\n",
              "      <th></th>\n",
              "      <th>fsn_id</th>\n",
              "      <th>order_date</th>\n",
              "      <th>Year</th>\n",
              "      <th>Month</th>\n",
              "      <th>order_id</th>\n",
              "      <th>order_item_id</th>\n",
              "      <th>gmv</th>\n",
              "      <th>units</th>\n",
              "      <th>deliverybdays</th>\n",
              "      <th>deliverycdays</th>\n",
              "      <th>s1_fact.order_payment_type</th>\n",
              "      <th>sla</th>\n",
              "      <th>cust_id</th>\n",
              "      <th>pincode</th>\n",
              "      <th>product_analytic_super_category</th>\n",
              "      <th>product_analytic_category</th>\n",
              "      <th>product_analytic_sub_category</th>\n",
              "      <th>product_analytic_vertical</th>\n",
              "      <th>product_mrp</th>\n",
              "      <th>product_procurement_sla</th>\n",
              "    </tr>\n",
              "  </thead>\n",
              "  <tbody>\n",
              "    <tr>\n",
              "      <th>2840</th>\n",
              "      <td>ACCCZZC9XHZZ49FS</td>\n",
              "      <td>2015-10-03 20:35:30</td>\n",
              "      <td>2015</td>\n",
              "      <td>10</td>\n",
              "      <td>1.407396e+15</td>\n",
              "      <td>1.407396e+15</td>\n",
              "      <td>7049.0</td>\n",
              "      <td>1</td>\n",
              "      <td>\\N</td>\n",
              "      <td>\\N</td>\n",
              "      <td>0</td>\n",
              "      <td>5</td>\n",
              "      <td>-7.59891246232286E+018</td>\n",
              "      <td>-1.44900165321989E+018</td>\n",
              "      <td>CE</td>\n",
              "      <td>EntertainmentSmall</td>\n",
              "      <td>HomeAudio</td>\n",
              "      <td>HomeAudioSpeaker</td>\n",
              "      <td>7499</td>\n",
              "      <td>5</td>\n",
              "    </tr>\n",
              "    <tr>\n",
              "      <th>2841</th>\n",
              "      <td>ACCCZZC9XHZZ49FS</td>\n",
              "      <td>2015-10-16 09:03:09</td>\n",
              "      <td>2015</td>\n",
              "      <td>10</td>\n",
              "      <td>2.418214e+15</td>\n",
              "      <td>2.418214e+15</td>\n",
              "      <td>5489.0</td>\n",
              "      <td>1</td>\n",
              "      <td>\\N</td>\n",
              "      <td>\\N</td>\n",
              "      <td>0</td>\n",
              "      <td>2</td>\n",
              "      <td>-2.19573032414406E+018</td>\n",
              "      <td>5.51019732830323E+018</td>\n",
              "      <td>CE</td>\n",
              "      <td>EntertainmentSmall</td>\n",
              "      <td>HomeAudio</td>\n",
              "      <td>HomeAudioSpeaker</td>\n",
              "      <td>7499</td>\n",
              "      <td>5</td>\n",
              "    </tr>\n",
              "    <tr>\n",
              "      <th>2842</th>\n",
              "      <td>ACCCZZC9XHZZ49FS</td>\n",
              "      <td>2015-10-16 21:55:31</td>\n",
              "      <td>2015</td>\n",
              "      <td>10</td>\n",
              "      <td>2.418676e+15</td>\n",
              "      <td>2.418676e+15</td>\n",
              "      <td>6255.0</td>\n",
              "      <td>1</td>\n",
              "      <td>\\N</td>\n",
              "      <td>\\N</td>\n",
              "      <td>0</td>\n",
              "      <td>9</td>\n",
              "      <td>-8.69764155132085E+018</td>\n",
              "      <td>4.07895330887739E+018</td>\n",
              "      <td>CE</td>\n",
              "      <td>EntertainmentSmall</td>\n",
              "      <td>HomeAudio</td>\n",
              "      <td>HomeAudioSpeaker</td>\n",
              "      <td>7499</td>\n",
              "      <td>5</td>\n",
              "    </tr>\n",
              "    <tr>\n",
              "      <th>2843</th>\n",
              "      <td>ACCCZZC9XHZZ49FS</td>\n",
              "      <td>2015-10-16 23:25:07</td>\n",
              "      <td>2015</td>\n",
              "      <td>10</td>\n",
              "      <td>1.418727e+15</td>\n",
              "      <td>1.418727e+15</td>\n",
              "      <td>6099.0</td>\n",
              "      <td>1</td>\n",
              "      <td>\\N</td>\n",
              "      <td>\\N</td>\n",
              "      <td>0</td>\n",
              "      <td>3</td>\n",
              "      <td>-4.98961621154979E+018</td>\n",
              "      <td>9.06892083579869E+018</td>\n",
              "      <td>CE</td>\n",
              "      <td>EntertainmentSmall</td>\n",
              "      <td>HomeAudio</td>\n",
              "      <td>HomeAudioSpeaker</td>\n",
              "      <td>7499</td>\n",
              "      <td>5</td>\n",
              "    </tr>\n",
              "    <tr>\n",
              "      <th>2844</th>\n",
              "      <td>ACCCZZC9XHZZ49FS</td>\n",
              "      <td>2015-10-20 17:42:59</td>\n",
              "      <td>2015</td>\n",
              "      <td>10</td>\n",
              "      <td>2.421984e+15</td>\n",
              "      <td>2.421984e+15</td>\n",
              "      <td>6850.0</td>\n",
              "      <td>1</td>\n",
              "      <td>\\N</td>\n",
              "      <td>\\N</td>\n",
              "      <td>1</td>\n",
              "      <td>9</td>\n",
              "      <td>6.04651405718702E+018</td>\n",
              "      <td>2.15973604441674E+018</td>\n",
              "      <td>CE</td>\n",
              "      <td>EntertainmentSmall</td>\n",
              "      <td>HomeAudio</td>\n",
              "      <td>HomeAudioSpeaker</td>\n",
              "      <td>7499</td>\n",
              "      <td>5</td>\n",
              "    </tr>\n",
              "  </tbody>\n",
              "</table>\n",
              "</div>"
            ],
            "text/plain": [
              "                fsn_id          order_date  Year  Month      order_id  \\\n",
              "2840  ACCCZZC9XHZZ49FS 2015-10-03 20:35:30  2015     10  1.407396e+15   \n",
              "2841  ACCCZZC9XHZZ49FS 2015-10-16 09:03:09  2015     10  2.418214e+15   \n",
              "2842  ACCCZZC9XHZZ49FS 2015-10-16 21:55:31  2015     10  2.418676e+15   \n",
              "2843  ACCCZZC9XHZZ49FS 2015-10-16 23:25:07  2015     10  1.418727e+15   \n",
              "2844  ACCCZZC9XHZZ49FS 2015-10-20 17:42:59  2015     10  2.421984e+15   \n",
              "\n",
              "      order_item_id     gmv  units deliverybdays deliverycdays  \\\n",
              "2840   1.407396e+15  7049.0      1            \\N            \\N   \n",
              "2841   2.418214e+15  5489.0      1            \\N            \\N   \n",
              "2842   2.418676e+15  6255.0      1            \\N            \\N   \n",
              "2843   1.418727e+15  6099.0      1            \\N            \\N   \n",
              "2844   2.421984e+15  6850.0      1            \\N            \\N   \n",
              "\n",
              "      s1_fact.order_payment_type  sla                 cust_id  \\\n",
              "2840                           0    5  -7.59891246232286E+018   \n",
              "2841                           0    2  -2.19573032414406E+018   \n",
              "2842                           0    9  -8.69764155132085E+018   \n",
              "2843                           0    3  -4.98961621154979E+018   \n",
              "2844                           1    9   6.04651405718702E+018   \n",
              "\n",
              "                     pincode product_analytic_super_category  \\\n",
              "2840  -1.44900165321989E+018                              CE   \n",
              "2841   5.51019732830323E+018                              CE   \n",
              "2842   4.07895330887739E+018                              CE   \n",
              "2843   9.06892083579869E+018                              CE   \n",
              "2844   2.15973604441674E+018                              CE   \n",
              "\n",
              "     product_analytic_category product_analytic_sub_category  \\\n",
              "2840        EntertainmentSmall                     HomeAudio   \n",
              "2841        EntertainmentSmall                     HomeAudio   \n",
              "2842        EntertainmentSmall                     HomeAudio   \n",
              "2843        EntertainmentSmall                     HomeAudio   \n",
              "2844        EntertainmentSmall                     HomeAudio   \n",
              "\n",
              "     product_analytic_vertical  product_mrp  product_procurement_sla  \n",
              "2840          HomeAudioSpeaker         7499                        5  \n",
              "2841          HomeAudioSpeaker         7499                        5  \n",
              "2842          HomeAudioSpeaker         7499                        5  \n",
              "2843          HomeAudioSpeaker         7499                        5  \n",
              "2844          HomeAudioSpeaker         7499                        5  "
            ]
          },
          "metadata": {
            "tags": []
          },
          "execution_count": 1140
        }
      ]
    },
    {
      "cell_type": "code",
      "metadata": {
        "id": "cgOOUPrH4Vhw",
        "colab_type": "code",
        "colab": {}
      },
      "source": [
        "#Adding Week column in the each data frame\n",
        "df_CameraAccessory['order_week'] = df_CameraAccessory['order_date'].dt.week\n",
        "df_CameraAccessory.loc[(df_CameraAccessory.Year == 2016) & (df_CameraAccessory['order_date'].dt.week !=53), 'order_week'] = 53+df_CameraAccessory['order_date'].dt.week\n",
        "df_GamingAccessory[ 'order_week'] = df_GamingAccessory['order_date'].dt.week\n",
        "df_GamingAccessory.loc[(df_GamingAccessory.Year == 2016) & (df_GamingAccessory['order_date'].dt.week !=53),'order_week'] = 53+df_GamingAccessory['order_date'].dt.week\n",
        "df_homeaudio['order_week'] = df_homeaudio['order_date'].dt.week\n",
        "df_homeaudio.loc[(df_homeaudio.Year == 2016) & (df_homeaudio['order_date'].dt.week !=53),'order_week'] = 53+df_homeaudio['order_date'].dt.week"
      ],
      "execution_count": 1141,
      "outputs": []
    },
    {
      "cell_type": "code",
      "metadata": {
        "id": "r4ACwPDd5G-p",
        "colab_type": "code",
        "colab": {
          "base_uri": "https://localhost:8080/",
          "height": 309
        },
        "outputId": "6f8f63ef-0fd5-4ac1-8e6a-eb6054645a94"
      },
      "source": [
        "#Printing some rows of modified data frame\n",
        "df_homeaudio.head()"
      ],
      "execution_count": 1142,
      "outputs": [
        {
          "output_type": "execute_result",
          "data": {
            "text/html": [
              "<div>\n",
              "<style scoped>\n",
              "    .dataframe tbody tr th:only-of-type {\n",
              "        vertical-align: middle;\n",
              "    }\n",
              "\n",
              "    .dataframe tbody tr th {\n",
              "        vertical-align: top;\n",
              "    }\n",
              "\n",
              "    .dataframe thead th {\n",
              "        text-align: right;\n",
              "    }\n",
              "</style>\n",
              "<table border=\"1\" class=\"dataframe\">\n",
              "  <thead>\n",
              "    <tr style=\"text-align: right;\">\n",
              "      <th></th>\n",
              "      <th>fsn_id</th>\n",
              "      <th>order_date</th>\n",
              "      <th>Year</th>\n",
              "      <th>Month</th>\n",
              "      <th>order_id</th>\n",
              "      <th>order_item_id</th>\n",
              "      <th>gmv</th>\n",
              "      <th>units</th>\n",
              "      <th>deliverybdays</th>\n",
              "      <th>deliverycdays</th>\n",
              "      <th>s1_fact.order_payment_type</th>\n",
              "      <th>sla</th>\n",
              "      <th>cust_id</th>\n",
              "      <th>pincode</th>\n",
              "      <th>product_analytic_super_category</th>\n",
              "      <th>product_analytic_category</th>\n",
              "      <th>product_analytic_sub_category</th>\n",
              "      <th>product_analytic_vertical</th>\n",
              "      <th>product_mrp</th>\n",
              "      <th>product_procurement_sla</th>\n",
              "      <th>order_week</th>\n",
              "    </tr>\n",
              "  </thead>\n",
              "  <tbody>\n",
              "    <tr>\n",
              "      <th>2840</th>\n",
              "      <td>ACCCZZC9XHZZ49FS</td>\n",
              "      <td>2015-10-03 20:35:30</td>\n",
              "      <td>2015</td>\n",
              "      <td>10</td>\n",
              "      <td>1.407396e+15</td>\n",
              "      <td>1.407396e+15</td>\n",
              "      <td>7049.0</td>\n",
              "      <td>1</td>\n",
              "      <td>\\N</td>\n",
              "      <td>\\N</td>\n",
              "      <td>0</td>\n",
              "      <td>5</td>\n",
              "      <td>-7.59891246232286E+018</td>\n",
              "      <td>-1.44900165321989E+018</td>\n",
              "      <td>CE</td>\n",
              "      <td>EntertainmentSmall</td>\n",
              "      <td>HomeAudio</td>\n",
              "      <td>HomeAudioSpeaker</td>\n",
              "      <td>7499</td>\n",
              "      <td>5</td>\n",
              "      <td>40</td>\n",
              "    </tr>\n",
              "    <tr>\n",
              "      <th>2841</th>\n",
              "      <td>ACCCZZC9XHZZ49FS</td>\n",
              "      <td>2015-10-16 09:03:09</td>\n",
              "      <td>2015</td>\n",
              "      <td>10</td>\n",
              "      <td>2.418214e+15</td>\n",
              "      <td>2.418214e+15</td>\n",
              "      <td>5489.0</td>\n",
              "      <td>1</td>\n",
              "      <td>\\N</td>\n",
              "      <td>\\N</td>\n",
              "      <td>0</td>\n",
              "      <td>2</td>\n",
              "      <td>-2.19573032414406E+018</td>\n",
              "      <td>5.51019732830323E+018</td>\n",
              "      <td>CE</td>\n",
              "      <td>EntertainmentSmall</td>\n",
              "      <td>HomeAudio</td>\n",
              "      <td>HomeAudioSpeaker</td>\n",
              "      <td>7499</td>\n",
              "      <td>5</td>\n",
              "      <td>42</td>\n",
              "    </tr>\n",
              "    <tr>\n",
              "      <th>2842</th>\n",
              "      <td>ACCCZZC9XHZZ49FS</td>\n",
              "      <td>2015-10-16 21:55:31</td>\n",
              "      <td>2015</td>\n",
              "      <td>10</td>\n",
              "      <td>2.418676e+15</td>\n",
              "      <td>2.418676e+15</td>\n",
              "      <td>6255.0</td>\n",
              "      <td>1</td>\n",
              "      <td>\\N</td>\n",
              "      <td>\\N</td>\n",
              "      <td>0</td>\n",
              "      <td>9</td>\n",
              "      <td>-8.69764155132085E+018</td>\n",
              "      <td>4.07895330887739E+018</td>\n",
              "      <td>CE</td>\n",
              "      <td>EntertainmentSmall</td>\n",
              "      <td>HomeAudio</td>\n",
              "      <td>HomeAudioSpeaker</td>\n",
              "      <td>7499</td>\n",
              "      <td>5</td>\n",
              "      <td>42</td>\n",
              "    </tr>\n",
              "    <tr>\n",
              "      <th>2843</th>\n",
              "      <td>ACCCZZC9XHZZ49FS</td>\n",
              "      <td>2015-10-16 23:25:07</td>\n",
              "      <td>2015</td>\n",
              "      <td>10</td>\n",
              "      <td>1.418727e+15</td>\n",
              "      <td>1.418727e+15</td>\n",
              "      <td>6099.0</td>\n",
              "      <td>1</td>\n",
              "      <td>\\N</td>\n",
              "      <td>\\N</td>\n",
              "      <td>0</td>\n",
              "      <td>3</td>\n",
              "      <td>-4.98961621154979E+018</td>\n",
              "      <td>9.06892083579869E+018</td>\n",
              "      <td>CE</td>\n",
              "      <td>EntertainmentSmall</td>\n",
              "      <td>HomeAudio</td>\n",
              "      <td>HomeAudioSpeaker</td>\n",
              "      <td>7499</td>\n",
              "      <td>5</td>\n",
              "      <td>42</td>\n",
              "    </tr>\n",
              "    <tr>\n",
              "      <th>2844</th>\n",
              "      <td>ACCCZZC9XHZZ49FS</td>\n",
              "      <td>2015-10-20 17:42:59</td>\n",
              "      <td>2015</td>\n",
              "      <td>10</td>\n",
              "      <td>2.421984e+15</td>\n",
              "      <td>2.421984e+15</td>\n",
              "      <td>6850.0</td>\n",
              "      <td>1</td>\n",
              "      <td>\\N</td>\n",
              "      <td>\\N</td>\n",
              "      <td>1</td>\n",
              "      <td>9</td>\n",
              "      <td>6.04651405718702E+018</td>\n",
              "      <td>2.15973604441674E+018</td>\n",
              "      <td>CE</td>\n",
              "      <td>EntertainmentSmall</td>\n",
              "      <td>HomeAudio</td>\n",
              "      <td>HomeAudioSpeaker</td>\n",
              "      <td>7499</td>\n",
              "      <td>5</td>\n",
              "      <td>43</td>\n",
              "    </tr>\n",
              "  </tbody>\n",
              "</table>\n",
              "</div>"
            ],
            "text/plain": [
              "                fsn_id          order_date  Year  Month      order_id  \\\n",
              "2840  ACCCZZC9XHZZ49FS 2015-10-03 20:35:30  2015     10  1.407396e+15   \n",
              "2841  ACCCZZC9XHZZ49FS 2015-10-16 09:03:09  2015     10  2.418214e+15   \n",
              "2842  ACCCZZC9XHZZ49FS 2015-10-16 21:55:31  2015     10  2.418676e+15   \n",
              "2843  ACCCZZC9XHZZ49FS 2015-10-16 23:25:07  2015     10  1.418727e+15   \n",
              "2844  ACCCZZC9XHZZ49FS 2015-10-20 17:42:59  2015     10  2.421984e+15   \n",
              "\n",
              "      order_item_id     gmv  units deliverybdays deliverycdays  \\\n",
              "2840   1.407396e+15  7049.0      1            \\N            \\N   \n",
              "2841   2.418214e+15  5489.0      1            \\N            \\N   \n",
              "2842   2.418676e+15  6255.0      1            \\N            \\N   \n",
              "2843   1.418727e+15  6099.0      1            \\N            \\N   \n",
              "2844   2.421984e+15  6850.0      1            \\N            \\N   \n",
              "\n",
              "      s1_fact.order_payment_type  sla                 cust_id  \\\n",
              "2840                           0    5  -7.59891246232286E+018   \n",
              "2841                           0    2  -2.19573032414406E+018   \n",
              "2842                           0    9  -8.69764155132085E+018   \n",
              "2843                           0    3  -4.98961621154979E+018   \n",
              "2844                           1    9   6.04651405718702E+018   \n",
              "\n",
              "                     pincode product_analytic_super_category  \\\n",
              "2840  -1.44900165321989E+018                              CE   \n",
              "2841   5.51019732830323E+018                              CE   \n",
              "2842   4.07895330887739E+018                              CE   \n",
              "2843   9.06892083579869E+018                              CE   \n",
              "2844   2.15973604441674E+018                              CE   \n",
              "\n",
              "     product_analytic_category product_analytic_sub_category  \\\n",
              "2840        EntertainmentSmall                     HomeAudio   \n",
              "2841        EntertainmentSmall                     HomeAudio   \n",
              "2842        EntertainmentSmall                     HomeAudio   \n",
              "2843        EntertainmentSmall                     HomeAudio   \n",
              "2844        EntertainmentSmall                     HomeAudio   \n",
              "\n",
              "     product_analytic_vertical  product_mrp  product_procurement_sla  \\\n",
              "2840          HomeAudioSpeaker         7499                        5   \n",
              "2841          HomeAudioSpeaker         7499                        5   \n",
              "2842          HomeAudioSpeaker         7499                        5   \n",
              "2843          HomeAudioSpeaker         7499                        5   \n",
              "2844          HomeAudioSpeaker         7499                        5   \n",
              "\n",
              "      order_week  \n",
              "2840          40  \n",
              "2841          42  \n",
              "2842          42  \n",
              "2843          42  \n",
              "2844          43  "
            ]
          },
          "metadata": {
            "tags": []
          },
          "execution_count": 1142
        }
      ]
    },
    {
      "cell_type": "code",
      "metadata": {
        "id": "46ZVjakEC1Sh",
        "colab_type": "code",
        "colab": {
          "base_uri": "https://localhost:8080/",
          "height": 737
        },
        "outputId": "1019ddd1-0902-4fdd-8d31-7e4c2f45b5a4"
      },
      "source": [
        "plt.figure(figsize=(12,12))\n",
        "sns.countplot(x=\"order_week\",data=df_GamingAccessory)\n",
        "plt.show()"
      ],
      "execution_count": 1143,
      "outputs": [
        {
          "output_type": "execute_result",
          "data": {
            "text/plain": [
              "<Figure size 864x864 with 0 Axes>"
            ]
          },
          "metadata": {
            "tags": []
          },
          "execution_count": 1143
        },
        {
          "output_type": "execute_result",
          "data": {
            "text/plain": [
              "<matplotlib.axes._subplots.AxesSubplot at 0x7f8481a9f400>"
            ]
          },
          "metadata": {
            "tags": []
          },
          "execution_count": 1143
        },
        {
          "output_type": "display_data",
          "data": {
            "image/png": "[encoded data removed]",
            "text/plain": [
              "<Figure size 864x864 with 1 Axes>"
            ]
          },
          "metadata": {
            "tags": []
          }
        }
      ]
    },
    {
      "cell_type": "markdown",
      "metadata": {
        "id": "I1EP-ubyb2NR",
        "colab_type": "text"
      },
      "source": [
        "Adding Discount column in all the data frame "
      ]
    },
    {
      "cell_type": "code",
      "metadata": {
        "id": "nWx7lomXHZbI",
        "colab_type": "code",
        "colab": {}
      },
      "source": [
        "df_CameraAccessory['Discount'] = (df_CameraAccessory['product_mrp']-df_CameraAccessory['gmv'])/df_CameraAccessory['units']"
      ],
      "execution_count": 1144,
      "outputs": []
    },
    {
      "cell_type": "code",
      "metadata": {
        "id": "-qcO4-qGaF-X",
        "colab_type": "code",
        "colab": {}
      },
      "source": [
        "df_GamingAccessory['Discount'] = (df_GamingAccessory['product_mrp']-df_GamingAccessory['gmv'])/df_GamingAccessory['units']\n",
        "df_homeaudio['Discount'] = (df_homeaudio['product_mrp']-df_homeaudio['gmv'])/df_homeaudio['units']"
      ],
      "execution_count": 1145,
      "outputs": []
    },
    {
      "cell_type": "code",
      "metadata": {
        "id": "ENwqbHtsbq80",
        "colab_type": "code",
        "colab": {
          "base_uri": "https://localhost:8080/",
          "height": 309
        },
        "outputId": "bccb3a2c-b189-4c84-a03f-e906903c3343"
      },
      "source": [
        "df_CameraAccessory.head()"
      ],
      "execution_count": 1146,
      "outputs": [
        {
          "output_type": "execute_result",
          "data": {
            "text/html": [
              "<div>\n",
              "<style scoped>\n",
              "    .dataframe tbody tr th:only-of-type {\n",
              "        vertical-align: middle;\n",
              "    }\n",
              "\n",
              "    .dataframe tbody tr th {\n",
              "        vertical-align: top;\n",
              "    }\n",
              "\n",
              "    .dataframe thead th {\n",
              "        text-align: right;\n",
              "    }\n",
              "</style>\n",
              "<table border=\"1\" class=\"dataframe\">\n",
              "  <thead>\n",
              "    <tr style=\"text-align: right;\">\n",
              "      <th></th>\n",
              "      <th>fsn_id</th>\n",
              "      <th>order_date</th>\n",
              "      <th>Year</th>\n",
              "      <th>Month</th>\n",
              "      <th>order_id</th>\n",
              "      <th>order_item_id</th>\n",
              "      <th>gmv</th>\n",
              "      <th>units</th>\n",
              "      <th>deliverybdays</th>\n",
              "      <th>deliverycdays</th>\n",
              "      <th>s1_fact.order_payment_type</th>\n",
              "      <th>sla</th>\n",
              "      <th>cust_id</th>\n",
              "      <th>pincode</th>\n",
              "      <th>product_analytic_super_category</th>\n",
              "      <th>product_analytic_category</th>\n",
              "      <th>product_analytic_sub_category</th>\n",
              "      <th>product_analytic_vertical</th>\n",
              "      <th>product_mrp</th>\n",
              "      <th>product_procurement_sla</th>\n",
              "      <th>order_week</th>\n",
              "      <th>Discount</th>\n",
              "    </tr>\n",
              "  </thead>\n",
              "  <tbody>\n",
              "    <tr>\n",
              "      <th>0</th>\n",
              "      <td>ACCCX3S58G7B5F6P</td>\n",
              "      <td>2015-10-17 15:11:54</td>\n",
              "      <td>2015</td>\n",
              "      <td>10</td>\n",
              "      <td>3.419301e+15</td>\n",
              "      <td>3.419301e+15</td>\n",
              "      <td>6400.0</td>\n",
              "      <td>1</td>\n",
              "      <td>\\N</td>\n",
              "      <td>\\N</td>\n",
              "      <td>1</td>\n",
              "      <td>5</td>\n",
              "      <td>-1.01299130778588E+018</td>\n",
              "      <td>-7.79175582905735E+018</td>\n",
              "      <td>CE</td>\n",
              "      <td>CameraAccessory</td>\n",
              "      <td>CameraAccessory</td>\n",
              "      <td>CameraTripod</td>\n",
              "      <td>7190</td>\n",
              "      <td>0</td>\n",
              "      <td>42</td>\n",
              "      <td>790.0</td>\n",
              "    </tr>\n",
              "    <tr>\n",
              "      <th>1</th>\n",
              "      <td>ACCCX3S58G7B5F6P</td>\n",
              "      <td>2015-10-19 10:07:22</td>\n",
              "      <td>2015</td>\n",
              "      <td>10</td>\n",
              "      <td>1.420831e+15</td>\n",
              "      <td>1.420831e+15</td>\n",
              "      <td>6900.0</td>\n",
              "      <td>1</td>\n",
              "      <td>\\N</td>\n",
              "      <td>\\N</td>\n",
              "      <td>1</td>\n",
              "      <td>7</td>\n",
              "      <td>-8.99032457905512E+018</td>\n",
              "      <td>7.33541149097431E+018</td>\n",
              "      <td>CE</td>\n",
              "      <td>CameraAccessory</td>\n",
              "      <td>CameraAccessory</td>\n",
              "      <td>CameraTripod</td>\n",
              "      <td>7190</td>\n",
              "      <td>0</td>\n",
              "      <td>43</td>\n",
              "      <td>290.0</td>\n",
              "    </tr>\n",
              "    <tr>\n",
              "      <th>2</th>\n",
              "      <td>ACCCX3S5AHMF55FV</td>\n",
              "      <td>2015-10-20 15:45:56</td>\n",
              "      <td>2015</td>\n",
              "      <td>10</td>\n",
              "      <td>2.421913e+15</td>\n",
              "      <td>2.421913e+15</td>\n",
              "      <td>1990.0</td>\n",
              "      <td>1</td>\n",
              "      <td>\\N</td>\n",
              "      <td>\\N</td>\n",
              "      <td>1</td>\n",
              "      <td>10</td>\n",
              "      <td>-1.0404429420466E+018</td>\n",
              "      <td>-7.47768776228657E+018</td>\n",
              "      <td>CE</td>\n",
              "      <td>CameraAccessory</td>\n",
              "      <td>CameraAccessory</td>\n",
              "      <td>CameraTripod</td>\n",
              "      <td>2099</td>\n",
              "      <td>3</td>\n",
              "      <td>43</td>\n",
              "      <td>109.0</td>\n",
              "    </tr>\n",
              "    <tr>\n",
              "      <th>3</th>\n",
              "      <td>ACCCX3S5AHMF55FV</td>\n",
              "      <td>2015-10-14 12:05:15</td>\n",
              "      <td>2015</td>\n",
              "      <td>10</td>\n",
              "      <td>4.416592e+15</td>\n",
              "      <td>4.416592e+15</td>\n",
              "      <td>1690.0</td>\n",
              "      <td>1</td>\n",
              "      <td>\\N</td>\n",
              "      <td>\\N</td>\n",
              "      <td>0</td>\n",
              "      <td>4</td>\n",
              "      <td>-7.60496084352714E+018</td>\n",
              "      <td>-5.83593163877661E+018</td>\n",
              "      <td>CE</td>\n",
              "      <td>CameraAccessory</td>\n",
              "      <td>CameraAccessory</td>\n",
              "      <td>CameraTripod</td>\n",
              "      <td>2099</td>\n",
              "      <td>3</td>\n",
              "      <td>42</td>\n",
              "      <td>409.0</td>\n",
              "    </tr>\n",
              "    <tr>\n",
              "      <th>4</th>\n",
              "      <td>ACCCX3S5AHMF55FV</td>\n",
              "      <td>2015-10-17 21:25:03</td>\n",
              "      <td>2015</td>\n",
              "      <td>10</td>\n",
              "      <td>4.419525e+15</td>\n",
              "      <td>4.419525e+15</td>\n",
              "      <td>1618.0</td>\n",
              "      <td>1</td>\n",
              "      <td>\\N</td>\n",
              "      <td>\\N</td>\n",
              "      <td>0</td>\n",
              "      <td>6</td>\n",
              "      <td>2.8945572083453E+018</td>\n",
              "      <td>5.34735360997242E+017</td>\n",
              "      <td>CE</td>\n",
              "      <td>CameraAccessory</td>\n",
              "      <td>CameraAccessory</td>\n",
              "      <td>CameraTripod</td>\n",
              "      <td>2099</td>\n",
              "      <td>3</td>\n",
              "      <td>42</td>\n",
              "      <td>481.0</td>\n",
              "    </tr>\n",
              "  </tbody>\n",
              "</table>\n",
              "</div>"
            ],
            "text/plain": [
              "             fsn_id          order_date  Year  Month      order_id  \\\n",
              "0  ACCCX3S58G7B5F6P 2015-10-17 15:11:54  2015     10  3.419301e+15   \n",
              "1  ACCCX3S58G7B5F6P 2015-10-19 10:07:22  2015     10  1.420831e+15   \n",
              "2  ACCCX3S5AHMF55FV 2015-10-20 15:45:56  2015     10  2.421913e+15   \n",
              "3  ACCCX3S5AHMF55FV 2015-10-14 12:05:15  2015     10  4.416592e+15   \n",
              "4  ACCCX3S5AHMF55FV 2015-10-17 21:25:03  2015     10  4.419525e+15   \n",
              "\n",
              "   order_item_id     gmv  units deliverybdays deliverycdays  \\\n",
              "0   3.419301e+15  6400.0      1            \\N            \\N   \n",
              "1   1.420831e+15  6900.0      1            \\N            \\N   \n",
              "2   2.421913e+15  1990.0      1            \\N            \\N   \n",
              "3   4.416592e+15  1690.0      1            \\N            \\N   \n",
              "4   4.419525e+15  1618.0      1            \\N            \\N   \n",
              "\n",
              "   s1_fact.order_payment_type  sla                 cust_id  \\\n",
              "0                           1    5  -1.01299130778588E+018   \n",
              "1                           1    7  -8.99032457905512E+018   \n",
              "2                           1   10   -1.0404429420466E+018   \n",
              "3                           0    4  -7.60496084352714E+018   \n",
              "4                           0    6    2.8945572083453E+018   \n",
              "\n",
              "                  pincode product_analytic_super_category  \\\n",
              "0  -7.79175582905735E+018                              CE   \n",
              "1   7.33541149097431E+018                              CE   \n",
              "2  -7.47768776228657E+018                              CE   \n",
              "3  -5.83593163877661E+018                              CE   \n",
              "4   5.34735360997242E+017                              CE   \n",
              "\n",
              "  product_analytic_category product_analytic_sub_category  \\\n",
              "0           CameraAccessory               CameraAccessory   \n",
              "1           CameraAccessory               CameraAccessory   \n",
              "2           CameraAccessory               CameraAccessory   \n",
              "3           CameraAccessory               CameraAccessory   \n",
              "4           CameraAccessory               CameraAccessory   \n",
              "\n",
              "  product_analytic_vertical  product_mrp  product_procurement_sla  order_week  \\\n",
              "0              CameraTripod         7190                        0          42   \n",
              "1              CameraTripod         7190                        0          43   \n",
              "2              CameraTripod         2099                        3          43   \n",
              "3              CameraTripod         2099                        3          42   \n",
              "4              CameraTripod         2099                        3          42   \n",
              "\n",
              "   Discount  \n",
              "0     790.0  \n",
              "1     290.0  \n",
              "2     109.0  \n",
              "3     409.0  \n",
              "4     481.0  "
            ]
          },
          "metadata": {
            "tags": []
          },
          "execution_count": 1146
        }
      ]
    },
    {
      "cell_type": "code",
      "metadata": {
        "id": "VZWfJHuihnZX",
        "colab_type": "code",
        "colab": {}
      },
      "source": [
        "CameraAccessory=round(df_CameraAccessory.groupby(\"order_week\")[\"Year\",\"Month\",\"gmv\",\"units\",\"sla\",\"product_mrp\",\"Discount\"].mean())"
      ],
      "execution_count": 1147,
      "outputs": []
    },
    {
      "cell_type": "code",
      "metadata": {
        "id": "xn9xwZh9x2-C",
        "colab_type": "code",
        "colab": {
          "base_uri": "https://localhost:8080/",
          "height": 233
        },
        "outputId": "b659eba1-703c-4b69-dfe2-a4a66a18bc35"
      },
      "source": [
        "#printing some rows of the gropped data frame \n",
        "CameraAccessory.head()"
      ],
      "execution_count": 1148,
      "outputs": [
        {
          "output_type": "execute_result",
          "data": {
            "text/html": [
              "<div>\n",
              "<style scoped>\n",
              "    .dataframe tbody tr th:only-of-type {\n",
              "        vertical-align: middle;\n",
              "    }\n",
              "\n",
              "    .dataframe tbody tr th {\n",
              "        vertical-align: top;\n",
              "    }\n",
              "\n",
              "    .dataframe thead th {\n",
              "        text-align: right;\n",
              "    }\n",
              "</style>\n",
              "<table border=\"1\" class=\"dataframe\">\n",
              "  <thead>\n",
              "    <tr style=\"text-align: right;\">\n",
              "      <th></th>\n",
              "      <th>Year</th>\n",
              "      <th>Month</th>\n",
              "      <th>gmv</th>\n",
              "      <th>units</th>\n",
              "      <th>sla</th>\n",
              "      <th>product_mrp</th>\n",
              "      <th>Discount</th>\n",
              "    </tr>\n",
              "    <tr>\n",
              "      <th>order_week</th>\n",
              "      <th></th>\n",
              "      <th></th>\n",
              "      <th></th>\n",
              "      <th></th>\n",
              "      <th></th>\n",
              "      <th></th>\n",
              "      <th></th>\n",
              "    </tr>\n",
              "  </thead>\n",
              "  <tbody>\n",
              "    <tr>\n",
              "      <th>27</th>\n",
              "      <td>2015.0</td>\n",
              "      <td>7.0</td>\n",
              "      <td>674.0</td>\n",
              "      <td>1.0</td>\n",
              "      <td>2.0</td>\n",
              "      <td>1512.0</td>\n",
              "      <td>838.0</td>\n",
              "    </tr>\n",
              "    <tr>\n",
              "      <th>28</th>\n",
              "      <td>2015.0</td>\n",
              "      <td>7.0</td>\n",
              "      <td>1372.0</td>\n",
              "      <td>1.0</td>\n",
              "      <td>7.0</td>\n",
              "      <td>2488.0</td>\n",
              "      <td>1105.0</td>\n",
              "    </tr>\n",
              "    <tr>\n",
              "      <th>29</th>\n",
              "      <td>2015.0</td>\n",
              "      <td>7.0</td>\n",
              "      <td>1488.0</td>\n",
              "      <td>1.0</td>\n",
              "      <td>6.0</td>\n",
              "      <td>2567.0</td>\n",
              "      <td>1079.0</td>\n",
              "    </tr>\n",
              "    <tr>\n",
              "      <th>30</th>\n",
              "      <td>2015.0</td>\n",
              "      <td>7.0</td>\n",
              "      <td>1454.0</td>\n",
              "      <td>1.0</td>\n",
              "      <td>6.0</td>\n",
              "      <td>2571.0</td>\n",
              "      <td>1121.0</td>\n",
              "    </tr>\n",
              "    <tr>\n",
              "      <th>31</th>\n",
              "      <td>2015.0</td>\n",
              "      <td>7.0</td>\n",
              "      <td>1464.0</td>\n",
              "      <td>1.0</td>\n",
              "      <td>6.0</td>\n",
              "      <td>2498.0</td>\n",
              "      <td>1034.0</td>\n",
              "    </tr>\n",
              "  </tbody>\n",
              "</table>\n",
              "</div>"
            ],
            "text/plain": [
              "              Year  Month     gmv  units  sla  product_mrp  Discount\n",
              "order_week                                                          \n",
              "27          2015.0    7.0   674.0    1.0  2.0       1512.0     838.0\n",
              "28          2015.0    7.0  1372.0    1.0  7.0       2488.0    1105.0\n",
              "29          2015.0    7.0  1488.0    1.0  6.0       2567.0    1079.0\n",
              "30          2015.0    7.0  1454.0    1.0  6.0       2571.0    1121.0\n",
              "31          2015.0    7.0  1464.0    1.0  6.0       2498.0    1034.0"
            ]
          },
          "metadata": {
            "tags": []
          },
          "execution_count": 1148
        }
      ]
    },
    {
      "cell_type": "code",
      "metadata": {
        "id": "tcFVkXgdG5kC",
        "colab_type": "code",
        "colab": {}
      },
      "source": [
        "GamingAccessory=round(df_GamingAccessory.groupby(\"order_week\")[\"Year\",\"Month\",\"gmv\",\"units\",\"sla\",\"product_mrp\",\"Discount\"].mean())"
      ],
      "execution_count": 1149,
      "outputs": []
    },
    {
      "cell_type": "code",
      "metadata": {
        "id": "_ZmALYo6ODy2",
        "colab_type": "code",
        "colab": {
          "base_uri": "https://localhost:8080/",
          "height": 233
        },
        "outputId": "0e81702a-17e7-47d0-dab4-a88e6484e3ec"
      },
      "source": [
        "GamingAccessory.head()"
      ],
      "execution_count": 1150,
      "outputs": [
        {
          "output_type": "execute_result",
          "data": {
            "text/html": [
              "<div>\n",
              "<style scoped>\n",
              "    .dataframe tbody tr th:only-of-type {\n",
              "        vertical-align: middle;\n",
              "    }\n",
              "\n",
              "    .dataframe tbody tr th {\n",
              "        vertical-align: top;\n",
              "    }\n",
              "\n",
              "    .dataframe thead th {\n",
              "        text-align: right;\n",
              "    }\n",
              "</style>\n",
              "<table border=\"1\" class=\"dataframe\">\n",
              "  <thead>\n",
              "    <tr style=\"text-align: right;\">\n",
              "      <th></th>\n",
              "      <th>Year</th>\n",
              "      <th>Month</th>\n",
              "      <th>gmv</th>\n",
              "      <th>units</th>\n",
              "      <th>sla</th>\n",
              "      <th>product_mrp</th>\n",
              "      <th>Discount</th>\n",
              "    </tr>\n",
              "    <tr>\n",
              "      <th>order_week</th>\n",
              "      <th></th>\n",
              "      <th></th>\n",
              "      <th></th>\n",
              "      <th></th>\n",
              "      <th></th>\n",
              "      <th></th>\n",
              "      <th></th>\n",
              "    </tr>\n",
              "  </thead>\n",
              "  <tbody>\n",
              "    <tr>\n",
              "      <th>27</th>\n",
              "      <td>2015.0</td>\n",
              "      <td>7.0</td>\n",
              "      <td>1294.0</td>\n",
              "      <td>1.0</td>\n",
              "      <td>3.0</td>\n",
              "      <td>3766.0</td>\n",
              "      <td>2480.0</td>\n",
              "    </tr>\n",
              "    <tr>\n",
              "      <th>28</th>\n",
              "      <td>2015.0</td>\n",
              "      <td>7.0</td>\n",
              "      <td>899.0</td>\n",
              "      <td>1.0</td>\n",
              "      <td>5.0</td>\n",
              "      <td>1828.0</td>\n",
              "      <td>939.0</td>\n",
              "    </tr>\n",
              "    <tr>\n",
              "      <th>29</th>\n",
              "      <td>2015.0</td>\n",
              "      <td>7.0</td>\n",
              "      <td>828.0</td>\n",
              "      <td>1.0</td>\n",
              "      <td>5.0</td>\n",
              "      <td>1805.0</td>\n",
              "      <td>983.0</td>\n",
              "    </tr>\n",
              "    <tr>\n",
              "      <th>30</th>\n",
              "      <td>2015.0</td>\n",
              "      <td>7.0</td>\n",
              "      <td>1038.0</td>\n",
              "      <td>1.0</td>\n",
              "      <td>5.0</td>\n",
              "      <td>2322.0</td>\n",
              "      <td>1281.0</td>\n",
              "    </tr>\n",
              "    <tr>\n",
              "      <th>31</th>\n",
              "      <td>2015.0</td>\n",
              "      <td>7.0</td>\n",
              "      <td>1038.0</td>\n",
              "      <td>1.0</td>\n",
              "      <td>6.0</td>\n",
              "      <td>5045.0</td>\n",
              "      <td>4027.0</td>\n",
              "    </tr>\n",
              "  </tbody>\n",
              "</table>\n",
              "</div>"
            ],
            "text/plain": [
              "              Year  Month     gmv  units  sla  product_mrp  Discount\n",
              "order_week                                                          \n",
              "27          2015.0    7.0  1294.0    1.0  3.0       3766.0    2480.0\n",
              "28          2015.0    7.0   899.0    1.0  5.0       1828.0     939.0\n",
              "29          2015.0    7.0   828.0    1.0  5.0       1805.0     983.0\n",
              "30          2015.0    7.0  1038.0    1.0  5.0       2322.0    1281.0\n",
              "31          2015.0    7.0  1038.0    1.0  6.0       5045.0    4027.0"
            ]
          },
          "metadata": {
            "tags": []
          },
          "execution_count": 1150
        }
      ]
    },
    {
      "cell_type": "code",
      "metadata": {
        "id": "a4PlFAiIOHHA",
        "colab_type": "code",
        "colab": {}
      },
      "source": [
        "homeaudio=round(df_homeaudio.groupby(\"order_week\")[\"Year\",\"Month\",\"gmv\",\"units\",\"sla\",\"product_mrp\",\"Discount\"].mean())"
      ],
      "execution_count": 1151,
      "outputs": []
    },
    {
      "cell_type": "code",
      "metadata": {
        "id": "Psk5_pbeOWlS",
        "colab_type": "code",
        "colab": {
          "base_uri": "https://localhost:8080/",
          "height": 233
        },
        "outputId": "1a2c0882-5946-40de-ae3c-bb2c8879bd9e"
      },
      "source": [
        "homeaudio.head()"
      ],
      "execution_count": 1152,
      "outputs": [
        {
          "output_type": "execute_result",
          "data": {
            "text/html": [
              "<div>\n",
              "<style scoped>\n",
              "    .dataframe tbody tr th:only-of-type {\n",
              "        vertical-align: middle;\n",
              "    }\n",
              "\n",
              "    .dataframe tbody tr th {\n",
              "        vertical-align: top;\n",
              "    }\n",
              "\n",
              "    .dataframe thead th {\n",
              "        text-align: right;\n",
              "    }\n",
              "</style>\n",
              "<table border=\"1\" class=\"dataframe\">\n",
              "  <thead>\n",
              "    <tr style=\"text-align: right;\">\n",
              "      <th></th>\n",
              "      <th>Year</th>\n",
              "      <th>Month</th>\n",
              "      <th>gmv</th>\n",
              "      <th>units</th>\n",
              "      <th>sla</th>\n",
              "      <th>product_mrp</th>\n",
              "      <th>Discount</th>\n",
              "    </tr>\n",
              "    <tr>\n",
              "      <th>order_week</th>\n",
              "      <th></th>\n",
              "      <th></th>\n",
              "      <th></th>\n",
              "      <th></th>\n",
              "      <th></th>\n",
              "      <th></th>\n",
              "      <th></th>\n",
              "    </tr>\n",
              "  </thead>\n",
              "  <tbody>\n",
              "    <tr>\n",
              "      <th>27</th>\n",
              "      <td>2015.0</td>\n",
              "      <td>7.0</td>\n",
              "      <td>2733.0</td>\n",
              "      <td>1.0</td>\n",
              "      <td>3.0</td>\n",
              "      <td>4712.0</td>\n",
              "      <td>1980.0</td>\n",
              "    </tr>\n",
              "    <tr>\n",
              "      <th>28</th>\n",
              "      <td>2015.0</td>\n",
              "      <td>7.0</td>\n",
              "      <td>2208.0</td>\n",
              "      <td>1.0</td>\n",
              "      <td>8.0</td>\n",
              "      <td>3512.0</td>\n",
              "      <td>1310.0</td>\n",
              "    </tr>\n",
              "    <tr>\n",
              "      <th>29</th>\n",
              "      <td>2015.0</td>\n",
              "      <td>7.0</td>\n",
              "      <td>2209.0</td>\n",
              "      <td>1.0</td>\n",
              "      <td>7.0</td>\n",
              "      <td>3622.0</td>\n",
              "      <td>1415.0</td>\n",
              "    </tr>\n",
              "    <tr>\n",
              "      <th>30</th>\n",
              "      <td>2015.0</td>\n",
              "      <td>7.0</td>\n",
              "      <td>2126.0</td>\n",
              "      <td>1.0</td>\n",
              "      <td>7.0</td>\n",
              "      <td>3554.0</td>\n",
              "      <td>1430.0</td>\n",
              "    </tr>\n",
              "    <tr>\n",
              "      <th>31</th>\n",
              "      <td>2015.0</td>\n",
              "      <td>7.0</td>\n",
              "      <td>2183.0</td>\n",
              "      <td>1.0</td>\n",
              "      <td>7.0</td>\n",
              "      <td>3606.0</td>\n",
              "      <td>1425.0</td>\n",
              "    </tr>\n",
              "  </tbody>\n",
              "</table>\n",
              "</div>"
            ],
            "text/plain": [
              "              Year  Month     gmv  units  sla  product_mrp  Discount\n",
              "order_week                                                          \n",
              "27          2015.0    7.0  2733.0    1.0  3.0       4712.0    1980.0\n",
              "28          2015.0    7.0  2208.0    1.0  8.0       3512.0    1310.0\n",
              "29          2015.0    7.0  2209.0    1.0  7.0       3622.0    1415.0\n",
              "30          2015.0    7.0  2126.0    1.0  7.0       3554.0    1430.0\n",
              "31          2015.0    7.0  2183.0    1.0  7.0       3606.0    1425.0"
            ]
          },
          "metadata": {
            "tags": []
          },
          "execution_count": 1152
        }
      ]
    },
    {
      "cell_type": "markdown",
      "metadata": {
        "id": "F2_D8FwAEzcQ",
        "colab_type": "text"
      },
      "source": [
        "Working and Merging data with main data frame"
      ]
    },
    {
      "cell_type": "code",
      "metadata": {
        "id": "75BGjwjSXm_d",
        "colab_type": "code",
        "colab": {
          "base_uri": "https://localhost:8080/",
          "height": 202
        },
        "outputId": "73a47219-225b-43bd-8b62-5a3fd9dc3c6e"
      },
      "source": [
        "media_data.head()"
      ],
      "execution_count": 1153,
      "outputs": [
        {
          "output_type": "execute_result",
          "data": {
            "text/html": [
              "<div>\n",
              "<style scoped>\n",
              "    .dataframe tbody tr th:only-of-type {\n",
              "        vertical-align: middle;\n",
              "    }\n",
              "\n",
              "    .dataframe tbody tr th {\n",
              "        vertical-align: top;\n",
              "    }\n",
              "\n",
              "    .dataframe thead th {\n",
              "        text-align: right;\n",
              "    }\n",
              "</style>\n",
              "<table border=\"1\" class=\"dataframe\">\n",
              "  <thead>\n",
              "    <tr style=\"text-align: right;\">\n",
              "      <th></th>\n",
              "      <th>Year</th>\n",
              "      <th>Month</th>\n",
              "      <th>Total Investment</th>\n",
              "      <th>TV</th>\n",
              "      <th>Digital</th>\n",
              "      <th>Sponsorship</th>\n",
              "      <th>Content Marketing</th>\n",
              "      <th>Online marketing</th>\n",
              "      <th>Affiliates</th>\n",
              "      <th>SEM</th>\n",
              "      <th>NPS</th>\n",
              "      <th>Stock Index</th>\n",
              "    </tr>\n",
              "  </thead>\n",
              "  <tbody>\n",
              "    <tr>\n",
              "      <th>0</th>\n",
              "      <td>2015</td>\n",
              "      <td>7</td>\n",
              "      <td>17.061775</td>\n",
              "      <td>0.215330</td>\n",
              "      <td>2.533014</td>\n",
              "      <td>7.414270</td>\n",
              "      <td>0.000933</td>\n",
              "      <td>1.327278</td>\n",
              "      <td>0.547254</td>\n",
              "      <td>5.023697</td>\n",
              "      <td>54.599588</td>\n",
              "      <td>1177</td>\n",
              "    </tr>\n",
              "    <tr>\n",
              "      <th>1</th>\n",
              "      <td>2015</td>\n",
              "      <td>8</td>\n",
              "      <td>5.064306</td>\n",
              "      <td>0.006438</td>\n",
              "      <td>1.278074</td>\n",
              "      <td>1.063332</td>\n",
              "      <td>0.000006</td>\n",
              "      <td>0.129244</td>\n",
              "      <td>0.073684</td>\n",
              "      <td>2.513528</td>\n",
              "      <td>59.987101</td>\n",
              "      <td>1206</td>\n",
              "    </tr>\n",
              "    <tr>\n",
              "      <th>2</th>\n",
              "      <td>2015</td>\n",
              "      <td>9</td>\n",
              "      <td>96.254380</td>\n",
              "      <td>3.879504</td>\n",
              "      <td>1.356528</td>\n",
              "      <td>62.787651</td>\n",
              "      <td>0.610292</td>\n",
              "      <td>16.379990</td>\n",
              "      <td>5.038266</td>\n",
              "      <td>6.202149</td>\n",
              "      <td>46.925419</td>\n",
              "      <td>1101</td>\n",
              "    </tr>\n",
              "    <tr>\n",
              "      <th>3</th>\n",
              "      <td>2015</td>\n",
              "      <td>10</td>\n",
              "      <td>170.156297</td>\n",
              "      <td>6.144711</td>\n",
              "      <td>12.622480</td>\n",
              "      <td>84.672532</td>\n",
              "      <td>3.444075</td>\n",
              "      <td>24.371778</td>\n",
              "      <td>6.973711</td>\n",
              "      <td>31.927011</td>\n",
              "      <td>44.398389</td>\n",
              "      <td>1210</td>\n",
              "    </tr>\n",
              "    <tr>\n",
              "      <th>4</th>\n",
              "      <td>2015</td>\n",
              "      <td>11</td>\n",
              "      <td>51.216220</td>\n",
              "      <td>4.220630</td>\n",
              "      <td>1.275469</td>\n",
              "      <td>14.172116</td>\n",
              "      <td>0.168633</td>\n",
              "      <td>19.561574</td>\n",
              "      <td>6.595767</td>\n",
              "      <td>5.222032</td>\n",
              "      <td>47.000000</td>\n",
              "      <td>1233</td>\n",
              "    </tr>\n",
              "  </tbody>\n",
              "</table>\n",
              "</div>"
            ],
            "text/plain": [
              "   Year  Month  Total Investment        TV    Digital  Sponsorship  \\\n",
              "0  2015      7         17.061775  0.215330   2.533014     7.414270   \n",
              "1  2015      8          5.064306  0.006438   1.278074     1.063332   \n",
              "2  2015      9         96.254380  3.879504   1.356528    62.787651   \n",
              "3  2015     10        170.156297  6.144711  12.622480    84.672532   \n",
              "4  2015     11         51.216220  4.220630   1.275469    14.172116   \n",
              "\n",
              "   Content Marketing  Online marketing   Affiliates        SEM        NPS  \\\n",
              "0           0.000933          1.327278     0.547254   5.023697  54.599588   \n",
              "1           0.000006          0.129244     0.073684   2.513528  59.987101   \n",
              "2           0.610292         16.379990     5.038266   6.202149  46.925419   \n",
              "3           3.444075         24.371778     6.973711  31.927011  44.398389   \n",
              "4           0.168633         19.561574     6.595767   5.222032  47.000000   \n",
              "\n",
              "   Stock Index  \n",
              "0         1177  \n",
              "1         1206  \n",
              "2         1101  \n",
              "3         1210  \n",
              "4         1233  "
            ]
          },
          "metadata": {
            "tags": []
          },
          "execution_count": 1153
        }
      ]
    },
    {
      "cell_type": "code",
      "metadata": {
        "id": "C_8KrdUshckF",
        "colab_type": "code",
        "colab": {}
      },
      "source": [
        "#Adding addstock variable\n",
        "media_data[\"Adstock_Digital\"] =media_data[\"Digital\"] + (0.5 * media_data[\"Digital\"].shift(1))\n",
        "media_data[\"Adstock_Sponsorship\"] =media_data[\"Sponsorship\"]+ (0.5 * media_data[\"Sponsorship\"].shift(1))\n",
        "media_data[\"Adstock_Online marketing\"] =media_data[\"Online marketing\"] + (0.5 * media_data[\"Online marketing\"].shift(1))\n",
        "media_data[\"Adstock_Digital\"][0] =media_data[\"Digital\"][0]\n",
        "media_data[\"Adstock_Sponsorship\"][0] =media_data[\"Sponsorship\"][0]\n",
        "media_data[\"Adstock_Online marketing\"][0] =media_data[\"Online marketing\"][0]"
      ],
      "execution_count": 1154,
      "outputs": []
    },
    {
      "cell_type": "code",
      "metadata": {
        "id": "tgo-L0r4nLB1",
        "colab_type": "code",
        "colab": {
          "base_uri": "https://localhost:8080/",
          "height": 239
        },
        "outputId": "534386ae-8d0f-4f38-ce7e-1658e8637fff"
      },
      "source": [
        "media_data.head()"
      ],
      "execution_count": 1155,
      "outputs": [
        {
          "output_type": "execute_result",
          "data": {
            "text/html": [
              "<div>\n",
              "<style scoped>\n",
              "    .dataframe tbody tr th:only-of-type {\n",
              "        vertical-align: middle;\n",
              "    }\n",
              "\n",
              "    .dataframe tbody tr th {\n",
              "        vertical-align: top;\n",
              "    }\n",
              "\n",
              "    .dataframe thead th {\n",
              "        text-align: right;\n",
              "    }\n",
              "</style>\n",
              "<table border=\"1\" class=\"dataframe\">\n",
              "  <thead>\n",
              "    <tr style=\"text-align: right;\">\n",
              "      <th></th>\n",
              "      <th>Year</th>\n",
              "      <th>Month</th>\n",
              "      <th>Total Investment</th>\n",
              "      <th>TV</th>\n",
              "      <th>Digital</th>\n",
              "      <th>Sponsorship</th>\n",
              "      <th>Content Marketing</th>\n",
              "      <th>Online marketing</th>\n",
              "      <th>Affiliates</th>\n",
              "      <th>SEM</th>\n",
              "      <th>NPS</th>\n",
              "      <th>Stock Index</th>\n",
              "      <th>Adstock_Digital</th>\n",
              "      <th>Adstock_Sponsorship</th>\n",
              "      <th>Adstock_Online marketing</th>\n",
              "    </tr>\n",
              "  </thead>\n",
              "  <tbody>\n",
              "    <tr>\n",
              "      <th>0</th>\n",
              "      <td>2015</td>\n",
              "      <td>7</td>\n",
              "      <td>17.061775</td>\n",
              "      <td>0.215330</td>\n",
              "      <td>2.533014</td>\n",
              "      <td>7.414270</td>\n",
              "      <td>0.000933</td>\n",
              "      <td>1.327278</td>\n",
              "      <td>0.547254</td>\n",
              "      <td>5.023697</td>\n",
              "      <td>54.599588</td>\n",
              "      <td>1177</td>\n",
              "      <td>2.533014</td>\n",
              "      <td>7.414270</td>\n",
              "      <td>1.327278</td>\n",
              "    </tr>\n",
              "    <tr>\n",
              "      <th>1</th>\n",
              "      <td>2015</td>\n",
              "      <td>8</td>\n",
              "      <td>5.064306</td>\n",
              "      <td>0.006438</td>\n",
              "      <td>1.278074</td>\n",
              "      <td>1.063332</td>\n",
              "      <td>0.000006</td>\n",
              "      <td>0.129244</td>\n",
              "      <td>0.073684</td>\n",
              "      <td>2.513528</td>\n",
              "      <td>59.987101</td>\n",
              "      <td>1206</td>\n",
              "      <td>2.544581</td>\n",
              "      <td>4.770467</td>\n",
              "      <td>0.792883</td>\n",
              "    </tr>\n",
              "    <tr>\n",
              "      <th>2</th>\n",
              "      <td>2015</td>\n",
              "      <td>9</td>\n",
              "      <td>96.254380</td>\n",
              "      <td>3.879504</td>\n",
              "      <td>1.356528</td>\n",
              "      <td>62.787651</td>\n",
              "      <td>0.610292</td>\n",
              "      <td>16.379990</td>\n",
              "      <td>5.038266</td>\n",
              "      <td>6.202149</td>\n",
              "      <td>46.925419</td>\n",
              "      <td>1101</td>\n",
              "      <td>1.995564</td>\n",
              "      <td>63.319317</td>\n",
              "      <td>16.444612</td>\n",
              "    </tr>\n",
              "    <tr>\n",
              "      <th>3</th>\n",
              "      <td>2015</td>\n",
              "      <td>10</td>\n",
              "      <td>170.156297</td>\n",
              "      <td>6.144711</td>\n",
              "      <td>12.622480</td>\n",
              "      <td>84.672532</td>\n",
              "      <td>3.444075</td>\n",
              "      <td>24.371778</td>\n",
              "      <td>6.973711</td>\n",
              "      <td>31.927011</td>\n",
              "      <td>44.398389</td>\n",
              "      <td>1210</td>\n",
              "      <td>13.300744</td>\n",
              "      <td>116.066357</td>\n",
              "      <td>32.561773</td>\n",
              "    </tr>\n",
              "    <tr>\n",
              "      <th>4</th>\n",
              "      <td>2015</td>\n",
              "      <td>11</td>\n",
              "      <td>51.216220</td>\n",
              "      <td>4.220630</td>\n",
              "      <td>1.275469</td>\n",
              "      <td>14.172116</td>\n",
              "      <td>0.168633</td>\n",
              "      <td>19.561574</td>\n",
              "      <td>6.595767</td>\n",
              "      <td>5.222032</td>\n",
              "      <td>47.000000</td>\n",
              "      <td>1233</td>\n",
              "      <td>7.586709</td>\n",
              "      <td>56.508382</td>\n",
              "      <td>31.747463</td>\n",
              "    </tr>\n",
              "  </tbody>\n",
              "</table>\n",
              "</div>"
            ],
            "text/plain": [
              "   Year  Month  Total Investment        TV    Digital  Sponsorship  \\\n",
              "0  2015      7         17.061775  0.215330   2.533014     7.414270   \n",
              "1  2015      8          5.064306  0.006438   1.278074     1.063332   \n",
              "2  2015      9         96.254380  3.879504   1.356528    62.787651   \n",
              "3  2015     10        170.156297  6.144711  12.622480    84.672532   \n",
              "4  2015     11         51.216220  4.220630   1.275469    14.172116   \n",
              "\n",
              "   Content Marketing  Online marketing   Affiliates        SEM        NPS  \\\n",
              "0           0.000933          1.327278     0.547254   5.023697  54.599588   \n",
              "1           0.000006          0.129244     0.073684   2.513528  59.987101   \n",
              "2           0.610292         16.379990     5.038266   6.202149  46.925419   \n",
              "3           3.444075         24.371778     6.973711  31.927011  44.398389   \n",
              "4           0.168633         19.561574     6.595767   5.222032  47.000000   \n",
              "\n",
              "   Stock Index  Adstock_Digital  Adstock_Sponsorship  Adstock_Online marketing  \n",
              "0         1177         2.533014             7.414270                  1.327278  \n",
              "1         1206         2.544581             4.770467                  0.792883  \n",
              "2         1101         1.995564            63.319317                 16.444612  \n",
              "3         1210        13.300744           116.066357                 32.561773  \n",
              "4         1233         7.586709            56.508382                 31.747463  "
            ]
          },
          "metadata": {
            "tags": []
          },
          "execution_count": 1155
        }
      ]
    },
    {
      "cell_type": "code",
      "metadata": {
        "id": "PKk5HHe7ZdNL",
        "colab_type": "code",
        "colab": {}
      },
      "source": [
        "CameraAccessory.reset_index(inplace=True)\n",
        "camedia=CameraAccessory.merge(media_data,how=\"inner\",on=[\"Year\",\"Month\"])"
      ],
      "execution_count": 1156,
      "outputs": []
    },
    {
      "cell_type": "code",
      "metadata": {
        "id": "KX3JqbgJawSe",
        "colab_type": "code",
        "colab": {
          "base_uri": "https://localhost:8080/",
          "height": 239
        },
        "outputId": "57055a7b-fbb6-40ae-dcad-81b12c3da416"
      },
      "source": [
        "camedia.head()"
      ],
      "execution_count": 1157,
      "outputs": [
        {
          "output_type": "execute_result",
          "data": {
            "text/html": [
              "<div>\n",
              "<style scoped>\n",
              "    .dataframe tbody tr th:only-of-type {\n",
              "        vertical-align: middle;\n",
              "    }\n",
              "\n",
              "    .dataframe tbody tr th {\n",
              "        vertical-align: top;\n",
              "    }\n",
              "\n",
              "    .dataframe thead th {\n",
              "        text-align: right;\n",
              "    }\n",
              "</style>\n",
              "<table border=\"1\" class=\"dataframe\">\n",
              "  <thead>\n",
              "    <tr style=\"text-align: right;\">\n",
              "      <th></th>\n",
              "      <th>order_week</th>\n",
              "      <th>Year</th>\n",
              "      <th>Month</th>\n",
              "      <th>gmv</th>\n",
              "      <th>units</th>\n",
              "      <th>sla</th>\n",
              "      <th>product_mrp</th>\n",
              "      <th>Discount</th>\n",
              "      <th>Total Investment</th>\n",
              "      <th>TV</th>\n",
              "      <th>Digital</th>\n",
              "      <th>Sponsorship</th>\n",
              "      <th>Content Marketing</th>\n",
              "      <th>Online marketing</th>\n",
              "      <th>Affiliates</th>\n",
              "      <th>SEM</th>\n",
              "      <th>NPS</th>\n",
              "      <th>Stock Index</th>\n",
              "      <th>Adstock_Digital</th>\n",
              "      <th>Adstock_Sponsorship</th>\n",
              "      <th>Adstock_Online marketing</th>\n",
              "    </tr>\n",
              "  </thead>\n",
              "  <tbody>\n",
              "    <tr>\n",
              "      <th>0</th>\n",
              "      <td>27</td>\n",
              "      <td>2015.0</td>\n",
              "      <td>7.0</td>\n",
              "      <td>674.0</td>\n",
              "      <td>1.0</td>\n",
              "      <td>2.0</td>\n",
              "      <td>1512.0</td>\n",
              "      <td>838.0</td>\n",
              "      <td>17.061775</td>\n",
              "      <td>0.21533</td>\n",
              "      <td>2.533014</td>\n",
              "      <td>7.41427</td>\n",
              "      <td>0.000933</td>\n",
              "      <td>1.327278</td>\n",
              "      <td>0.547254</td>\n",
              "      <td>5.023697</td>\n",
              "      <td>54.599588</td>\n",
              "      <td>1177</td>\n",
              "      <td>2.533014</td>\n",
              "      <td>7.41427</td>\n",
              "      <td>1.327278</td>\n",
              "    </tr>\n",
              "    <tr>\n",
              "      <th>1</th>\n",
              "      <td>28</td>\n",
              "      <td>2015.0</td>\n",
              "      <td>7.0</td>\n",
              "      <td>1372.0</td>\n",
              "      <td>1.0</td>\n",
              "      <td>7.0</td>\n",
              "      <td>2488.0</td>\n",
              "      <td>1105.0</td>\n",
              "      <td>17.061775</td>\n",
              "      <td>0.21533</td>\n",
              "      <td>2.533014</td>\n",
              "      <td>7.41427</td>\n",
              "      <td>0.000933</td>\n",
              "      <td>1.327278</td>\n",
              "      <td>0.547254</td>\n",
              "      <td>5.023697</td>\n",
              "      <td>54.599588</td>\n",
              "      <td>1177</td>\n",
              "      <td>2.533014</td>\n",
              "      <td>7.41427</td>\n",
              "      <td>1.327278</td>\n",
              "    </tr>\n",
              "    <tr>\n",
              "      <th>2</th>\n",
              "      <td>29</td>\n",
              "      <td>2015.0</td>\n",
              "      <td>7.0</td>\n",
              "      <td>1488.0</td>\n",
              "      <td>1.0</td>\n",
              "      <td>6.0</td>\n",
              "      <td>2567.0</td>\n",
              "      <td>1079.0</td>\n",
              "      <td>17.061775</td>\n",
              "      <td>0.21533</td>\n",
              "      <td>2.533014</td>\n",
              "      <td>7.41427</td>\n",
              "      <td>0.000933</td>\n",
              "      <td>1.327278</td>\n",
              "      <td>0.547254</td>\n",
              "      <td>5.023697</td>\n",
              "      <td>54.599588</td>\n",
              "      <td>1177</td>\n",
              "      <td>2.533014</td>\n",
              "      <td>7.41427</td>\n",
              "      <td>1.327278</td>\n",
              "    </tr>\n",
              "    <tr>\n",
              "      <th>3</th>\n",
              "      <td>30</td>\n",
              "      <td>2015.0</td>\n",
              "      <td>7.0</td>\n",
              "      <td>1454.0</td>\n",
              "      <td>1.0</td>\n",
              "      <td>6.0</td>\n",
              "      <td>2571.0</td>\n",
              "      <td>1121.0</td>\n",
              "      <td>17.061775</td>\n",
              "      <td>0.21533</td>\n",
              "      <td>2.533014</td>\n",
              "      <td>7.41427</td>\n",
              "      <td>0.000933</td>\n",
              "      <td>1.327278</td>\n",
              "      <td>0.547254</td>\n",
              "      <td>5.023697</td>\n",
              "      <td>54.599588</td>\n",
              "      <td>1177</td>\n",
              "      <td>2.533014</td>\n",
              "      <td>7.41427</td>\n",
              "      <td>1.327278</td>\n",
              "    </tr>\n",
              "    <tr>\n",
              "      <th>4</th>\n",
              "      <td>31</td>\n",
              "      <td>2015.0</td>\n",
              "      <td>7.0</td>\n",
              "      <td>1464.0</td>\n",
              "      <td>1.0</td>\n",
              "      <td>6.0</td>\n",
              "      <td>2498.0</td>\n",
              "      <td>1034.0</td>\n",
              "      <td>17.061775</td>\n",
              "      <td>0.21533</td>\n",
              "      <td>2.533014</td>\n",
              "      <td>7.41427</td>\n",
              "      <td>0.000933</td>\n",
              "      <td>1.327278</td>\n",
              "      <td>0.547254</td>\n",
              "      <td>5.023697</td>\n",
              "      <td>54.599588</td>\n",
              "      <td>1177</td>\n",
              "      <td>2.533014</td>\n",
              "      <td>7.41427</td>\n",
              "      <td>1.327278</td>\n",
              "    </tr>\n",
              "  </tbody>\n",
              "</table>\n",
              "</div>"
            ],
            "text/plain": [
              "   order_week    Year  Month     gmv  units  sla  product_mrp  Discount  \\\n",
              "0          27  2015.0    7.0   674.0    1.0  2.0       1512.0     838.0   \n",
              "1          28  2015.0    7.0  1372.0    1.0  7.0       2488.0    1105.0   \n",
              "2          29  2015.0    7.0  1488.0    1.0  6.0       2567.0    1079.0   \n",
              "3          30  2015.0    7.0  1454.0    1.0  6.0       2571.0    1121.0   \n",
              "4          31  2015.0    7.0  1464.0    1.0  6.0       2498.0    1034.0   \n",
              "\n",
              "   Total Investment       TV   Digital  Sponsorship  Content Marketing  \\\n",
              "0         17.061775  0.21533  2.533014      7.41427           0.000933   \n",
              "1         17.061775  0.21533  2.533014      7.41427           0.000933   \n",
              "2         17.061775  0.21533  2.533014      7.41427           0.000933   \n",
              "3         17.061775  0.21533  2.533014      7.41427           0.000933   \n",
              "4         17.061775  0.21533  2.533014      7.41427           0.000933   \n",
              "\n",
              "   Online marketing   Affiliates       SEM        NPS  Stock Index  \\\n",
              "0          1.327278     0.547254  5.023697  54.599588         1177   \n",
              "1          1.327278     0.547254  5.023697  54.599588         1177   \n",
              "2          1.327278     0.547254  5.023697  54.599588         1177   \n",
              "3          1.327278     0.547254  5.023697  54.599588         1177   \n",
              "4          1.327278     0.547254  5.023697  54.599588         1177   \n",
              "\n",
              "   Adstock_Digital  Adstock_Sponsorship  Adstock_Online marketing  \n",
              "0         2.533014              7.41427                  1.327278  \n",
              "1         2.533014              7.41427                  1.327278  \n",
              "2         2.533014              7.41427                  1.327278  \n",
              "3         2.533014              7.41427                  1.327278  \n",
              "4         2.533014              7.41427                  1.327278  "
            ]
          },
          "metadata": {
            "tags": []
          },
          "execution_count": 1157
        }
      ]
    },
    {
      "cell_type": "code",
      "metadata": {
        "id": "mOC5-FJjaySu",
        "colab_type": "code",
        "colab": {}
      },
      "source": [
        "homeaudio.reset_index(inplace=True)"
      ],
      "execution_count": 1158,
      "outputs": []
    },
    {
      "cell_type": "code",
      "metadata": {
        "id": "fDP5sDB3ybe2",
        "colab_type": "code",
        "colab": {}
      },
      "source": [
        "hamedia=homeaudio.merge(media_data,how=\"inner\",on=[\"Year\",\"Month\"])"
      ],
      "execution_count": 1159,
      "outputs": []
    },
    {
      "cell_type": "code",
      "metadata": {
        "id": "2jqUCpEeysGa",
        "colab_type": "code",
        "colab": {
          "base_uri": "https://localhost:8080/",
          "height": 239
        },
        "outputId": "3a9c4670-6df1-4a2f-f1f9-928834b2ae55"
      },
      "source": [
        "hamedia.head()"
      ],
      "execution_count": 1160,
      "outputs": [
        {
          "output_type": "execute_result",
          "data": {
            "text/html": [
              "<div>\n",
              "<style scoped>\n",
              "    .dataframe tbody tr th:only-of-type {\n",
              "        vertical-align: middle;\n",
              "    }\n",
              "\n",
              "    .dataframe tbody tr th {\n",
              "        vertical-align: top;\n",
              "    }\n",
              "\n",
              "    .dataframe thead th {\n",
              "        text-align: right;\n",
              "    }\n",
              "</style>\n",
              "<table border=\"1\" class=\"dataframe\">\n",
              "  <thead>\n",
              "    <tr style=\"text-align: right;\">\n",
              "      <th></th>\n",
              "      <th>order_week</th>\n",
              "      <th>Year</th>\n",
              "      <th>Month</th>\n",
              "      <th>gmv</th>\n",
              "      <th>units</th>\n",
              "      <th>sla</th>\n",
              "      <th>product_mrp</th>\n",
              "      <th>Discount</th>\n",
              "      <th>Total Investment</th>\n",
              "      <th>TV</th>\n",
              "      <th>Digital</th>\n",
              "      <th>Sponsorship</th>\n",
              "      <th>Content Marketing</th>\n",
              "      <th>Online marketing</th>\n",
              "      <th>Affiliates</th>\n",
              "      <th>SEM</th>\n",
              "      <th>NPS</th>\n",
              "      <th>Stock Index</th>\n",
              "      <th>Adstock_Digital</th>\n",
              "      <th>Adstock_Sponsorship</th>\n",
              "      <th>Adstock_Online marketing</th>\n",
              "    </tr>\n",
              "  </thead>\n",
              "  <tbody>\n",
              "    <tr>\n",
              "      <th>0</th>\n",
              "      <td>27</td>\n",
              "      <td>2015.0</td>\n",
              "      <td>7.0</td>\n",
              "      <td>2733.0</td>\n",
              "      <td>1.0</td>\n",
              "      <td>3.0</td>\n",
              "      <td>4712.0</td>\n",
              "      <td>1980.0</td>\n",
              "      <td>17.061775</td>\n",
              "      <td>0.21533</td>\n",
              "      <td>2.533014</td>\n",
              "      <td>7.41427</td>\n",
              "      <td>0.000933</td>\n",
              "      <td>1.327278</td>\n",
              "      <td>0.547254</td>\n",
              "      <td>5.023697</td>\n",
              "      <td>54.599588</td>\n",
              "      <td>1177</td>\n",
              "      <td>2.533014</td>\n",
              "      <td>7.41427</td>\n",
              "      <td>1.327278</td>\n",
              "    </tr>\n",
              "    <tr>\n",
              "      <th>1</th>\n",
              "      <td>28</td>\n",
              "      <td>2015.0</td>\n",
              "      <td>7.0</td>\n",
              "      <td>2208.0</td>\n",
              "      <td>1.0</td>\n",
              "      <td>8.0</td>\n",
              "      <td>3512.0</td>\n",
              "      <td>1310.0</td>\n",
              "      <td>17.061775</td>\n",
              "      <td>0.21533</td>\n",
              "      <td>2.533014</td>\n",
              "      <td>7.41427</td>\n",
              "      <td>0.000933</td>\n",
              "      <td>1.327278</td>\n",
              "      <td>0.547254</td>\n",
              "      <td>5.023697</td>\n",
              "      <td>54.599588</td>\n",
              "      <td>1177</td>\n",
              "      <td>2.533014</td>\n",
              "      <td>7.41427</td>\n",
              "      <td>1.327278</td>\n",
              "    </tr>\n",
              "    <tr>\n",
              "      <th>2</th>\n",
              "      <td>29</td>\n",
              "      <td>2015.0</td>\n",
              "      <td>7.0</td>\n",
              "      <td>2209.0</td>\n",
              "      <td>1.0</td>\n",
              "      <td>7.0</td>\n",
              "      <td>3622.0</td>\n",
              "      <td>1415.0</td>\n",
              "      <td>17.061775</td>\n",
              "      <td>0.21533</td>\n",
              "      <td>2.533014</td>\n",
              "      <td>7.41427</td>\n",
              "      <td>0.000933</td>\n",
              "      <td>1.327278</td>\n",
              "      <td>0.547254</td>\n",
              "      <td>5.023697</td>\n",
              "      <td>54.599588</td>\n",
              "      <td>1177</td>\n",
              "      <td>2.533014</td>\n",
              "      <td>7.41427</td>\n",
              "      <td>1.327278</td>\n",
              "    </tr>\n",
              "    <tr>\n",
              "      <th>3</th>\n",
              "      <td>30</td>\n",
              "      <td>2015.0</td>\n",
              "      <td>7.0</td>\n",
              "      <td>2126.0</td>\n",
              "      <td>1.0</td>\n",
              "      <td>7.0</td>\n",
              "      <td>3554.0</td>\n",
              "      <td>1430.0</td>\n",
              "      <td>17.061775</td>\n",
              "      <td>0.21533</td>\n",
              "      <td>2.533014</td>\n",
              "      <td>7.41427</td>\n",
              "      <td>0.000933</td>\n",
              "      <td>1.327278</td>\n",
              "      <td>0.547254</td>\n",
              "      <td>5.023697</td>\n",
              "      <td>54.599588</td>\n",
              "      <td>1177</td>\n",
              "      <td>2.533014</td>\n",
              "      <td>7.41427</td>\n",
              "      <td>1.327278</td>\n",
              "    </tr>\n",
              "    <tr>\n",
              "      <th>4</th>\n",
              "      <td>31</td>\n",
              "      <td>2015.0</td>\n",
              "      <td>7.0</td>\n",
              "      <td>2183.0</td>\n",
              "      <td>1.0</td>\n",
              "      <td>7.0</td>\n",
              "      <td>3606.0</td>\n",
              "      <td>1425.0</td>\n",
              "      <td>17.061775</td>\n",
              "      <td>0.21533</td>\n",
              "      <td>2.533014</td>\n",
              "      <td>7.41427</td>\n",
              "      <td>0.000933</td>\n",
              "      <td>1.327278</td>\n",
              "      <td>0.547254</td>\n",
              "      <td>5.023697</td>\n",
              "      <td>54.599588</td>\n",
              "      <td>1177</td>\n",
              "      <td>2.533014</td>\n",
              "      <td>7.41427</td>\n",
              "      <td>1.327278</td>\n",
              "    </tr>\n",
              "  </tbody>\n",
              "</table>\n",
              "</div>"
            ],
            "text/plain": [
              "   order_week    Year  Month     gmv  units  sla  product_mrp  Discount  \\\n",
              "0          27  2015.0    7.0  2733.0    1.0  3.0       4712.0    1980.0   \n",
              "1          28  2015.0    7.0  2208.0    1.0  8.0       3512.0    1310.0   \n",
              "2          29  2015.0    7.0  2209.0    1.0  7.0       3622.0    1415.0   \n",
              "3          30  2015.0    7.0  2126.0    1.0  7.0       3554.0    1430.0   \n",
              "4          31  2015.0    7.0  2183.0    1.0  7.0       3606.0    1425.0   \n",
              "\n",
              "   Total Investment       TV   Digital  Sponsorship  Content Marketing  \\\n",
              "0         17.061775  0.21533  2.533014      7.41427           0.000933   \n",
              "1         17.061775  0.21533  2.533014      7.41427           0.000933   \n",
              "2         17.061775  0.21533  2.533014      7.41427           0.000933   \n",
              "3         17.061775  0.21533  2.533014      7.41427           0.000933   \n",
              "4         17.061775  0.21533  2.533014      7.41427           0.000933   \n",
              "\n",
              "   Online marketing   Affiliates       SEM        NPS  Stock Index  \\\n",
              "0          1.327278     0.547254  5.023697  54.599588         1177   \n",
              "1          1.327278     0.547254  5.023697  54.599588         1177   \n",
              "2          1.327278     0.547254  5.023697  54.599588         1177   \n",
              "3          1.327278     0.547254  5.023697  54.599588         1177   \n",
              "4          1.327278     0.547254  5.023697  54.599588         1177   \n",
              "\n",
              "   Adstock_Digital  Adstock_Sponsorship  Adstock_Online marketing  \n",
              "0         2.533014              7.41427                  1.327278  \n",
              "1         2.533014              7.41427                  1.327278  \n",
              "2         2.533014              7.41427                  1.327278  \n",
              "3         2.533014              7.41427                  1.327278  \n",
              "4         2.533014              7.41427                  1.327278  "
            ]
          },
          "metadata": {
            "tags": []
          },
          "execution_count": 1160
        }
      ]
    },
    {
      "cell_type": "code",
      "metadata": {
        "id": "ZZRJozpvyuO4",
        "colab_type": "code",
        "colab": {}
      },
      "source": [
        "GamingAccessory.reset_index(inplace=True)\n",
        "gamedia=GamingAccessory.merge(media_data,how=\"inner\",on=[\"Year\",\"Month\"])"
      ],
      "execution_count": 1161,
      "outputs": []
    },
    {
      "cell_type": "code",
      "metadata": {
        "id": "VWd1t7puzN0A",
        "colab_type": "code",
        "colab": {
          "base_uri": "https://localhost:8080/",
          "height": 239
        },
        "outputId": "dfc304d1-c08a-42c3-828f-72a5d6b1d98e"
      },
      "source": [
        "gamedia.head()"
      ],
      "execution_count": 1162,
      "outputs": [
        {
          "output_type": "execute_result",
          "data": {
            "text/html": [
              "<div>\n",
              "<style scoped>\n",
              "    .dataframe tbody tr th:only-of-type {\n",
              "        vertical-align: middle;\n",
              "    }\n",
              "\n",
              "    .dataframe tbody tr th {\n",
              "        vertical-align: top;\n",
              "    }\n",
              "\n",
              "    .dataframe thead th {\n",
              "        text-align: right;\n",
              "    }\n",
              "</style>\n",
              "<table border=\"1\" class=\"dataframe\">\n",
              "  <thead>\n",
              "    <tr style=\"text-align: right;\">\n",
              "      <th></th>\n",
              "      <th>order_week</th>\n",
              "      <th>Year</th>\n",
              "      <th>Month</th>\n",
              "      <th>gmv</th>\n",
              "      <th>units</th>\n",
              "      <th>sla</th>\n",
              "      <th>product_mrp</th>\n",
              "      <th>Discount</th>\n",
              "      <th>Total Investment</th>\n",
              "      <th>TV</th>\n",
              "      <th>Digital</th>\n",
              "      <th>Sponsorship</th>\n",
              "      <th>Content Marketing</th>\n",
              "      <th>Online marketing</th>\n",
              "      <th>Affiliates</th>\n",
              "      <th>SEM</th>\n",
              "      <th>NPS</th>\n",
              "      <th>Stock Index</th>\n",
              "      <th>Adstock_Digital</th>\n",
              "      <th>Adstock_Sponsorship</th>\n",
              "      <th>Adstock_Online marketing</th>\n",
              "    </tr>\n",
              "  </thead>\n",
              "  <tbody>\n",
              "    <tr>\n",
              "      <th>0</th>\n",
              "      <td>27</td>\n",
              "      <td>2015.0</td>\n",
              "      <td>7.0</td>\n",
              "      <td>1294.0</td>\n",
              "      <td>1.0</td>\n",
              "      <td>3.0</td>\n",
              "      <td>3766.0</td>\n",
              "      <td>2480.0</td>\n",
              "      <td>17.061775</td>\n",
              "      <td>0.21533</td>\n",
              "      <td>2.533014</td>\n",
              "      <td>7.41427</td>\n",
              "      <td>0.000933</td>\n",
              "      <td>1.327278</td>\n",
              "      <td>0.547254</td>\n",
              "      <td>5.023697</td>\n",
              "      <td>54.599588</td>\n",
              "      <td>1177</td>\n",
              "      <td>2.533014</td>\n",
              "      <td>7.41427</td>\n",
              "      <td>1.327278</td>\n",
              "    </tr>\n",
              "    <tr>\n",
              "      <th>1</th>\n",
              "      <td>28</td>\n",
              "      <td>2015.0</td>\n",
              "      <td>7.0</td>\n",
              "      <td>899.0</td>\n",
              "      <td>1.0</td>\n",
              "      <td>5.0</td>\n",
              "      <td>1828.0</td>\n",
              "      <td>939.0</td>\n",
              "      <td>17.061775</td>\n",
              "      <td>0.21533</td>\n",
              "      <td>2.533014</td>\n",
              "      <td>7.41427</td>\n",
              "      <td>0.000933</td>\n",
              "      <td>1.327278</td>\n",
              "      <td>0.547254</td>\n",
              "      <td>5.023697</td>\n",
              "      <td>54.599588</td>\n",
              "      <td>1177</td>\n",
              "      <td>2.533014</td>\n",
              "      <td>7.41427</td>\n",
              "      <td>1.327278</td>\n",
              "    </tr>\n",
              "    <tr>\n",
              "      <th>2</th>\n",
              "      <td>29</td>\n",
              "      <td>2015.0</td>\n",
              "      <td>7.0</td>\n",
              "      <td>828.0</td>\n",
              "      <td>1.0</td>\n",
              "      <td>5.0</td>\n",
              "      <td>1805.0</td>\n",
              "      <td>983.0</td>\n",
              "      <td>17.061775</td>\n",
              "      <td>0.21533</td>\n",
              "      <td>2.533014</td>\n",
              "      <td>7.41427</td>\n",
              "      <td>0.000933</td>\n",
              "      <td>1.327278</td>\n",
              "      <td>0.547254</td>\n",
              "      <td>5.023697</td>\n",
              "      <td>54.599588</td>\n",
              "      <td>1177</td>\n",
              "      <td>2.533014</td>\n",
              "      <td>7.41427</td>\n",
              "      <td>1.327278</td>\n",
              "    </tr>\n",
              "    <tr>\n",
              "      <th>3</th>\n",
              "      <td>30</td>\n",
              "      <td>2015.0</td>\n",
              "      <td>7.0</td>\n",
              "      <td>1038.0</td>\n",
              "      <td>1.0</td>\n",
              "      <td>5.0</td>\n",
              "      <td>2322.0</td>\n",
              "      <td>1281.0</td>\n",
              "      <td>17.061775</td>\n",
              "      <td>0.21533</td>\n",
              "      <td>2.533014</td>\n",
              "      <td>7.41427</td>\n",
              "      <td>0.000933</td>\n",
              "      <td>1.327278</td>\n",
              "      <td>0.547254</td>\n",
              "      <td>5.023697</td>\n",
              "      <td>54.599588</td>\n",
              "      <td>1177</td>\n",
              "      <td>2.533014</td>\n",
              "      <td>7.41427</td>\n",
              "      <td>1.327278</td>\n",
              "    </tr>\n",
              "    <tr>\n",
              "      <th>4</th>\n",
              "      <td>31</td>\n",
              "      <td>2015.0</td>\n",
              "      <td>7.0</td>\n",
              "      <td>1038.0</td>\n",
              "      <td>1.0</td>\n",
              "      <td>6.0</td>\n",
              "      <td>5045.0</td>\n",
              "      <td>4027.0</td>\n",
              "      <td>17.061775</td>\n",
              "      <td>0.21533</td>\n",
              "      <td>2.533014</td>\n",
              "      <td>7.41427</td>\n",
              "      <td>0.000933</td>\n",
              "      <td>1.327278</td>\n",
              "      <td>0.547254</td>\n",
              "      <td>5.023697</td>\n",
              "      <td>54.599588</td>\n",
              "      <td>1177</td>\n",
              "      <td>2.533014</td>\n",
              "      <td>7.41427</td>\n",
              "      <td>1.327278</td>\n",
              "    </tr>\n",
              "  </tbody>\n",
              "</table>\n",
              "</div>"
            ],
            "text/plain": [
              "   order_week    Year  Month     gmv  units  sla  product_mrp  Discount  \\\n",
              "0          27  2015.0    7.0  1294.0    1.0  3.0       3766.0    2480.0   \n",
              "1          28  2015.0    7.0   899.0    1.0  5.0       1828.0     939.0   \n",
              "2          29  2015.0    7.0   828.0    1.0  5.0       1805.0     983.0   \n",
              "3          30  2015.0    7.0  1038.0    1.0  5.0       2322.0    1281.0   \n",
              "4          31  2015.0    7.0  1038.0    1.0  6.0       5045.0    4027.0   \n",
              "\n",
              "   Total Investment       TV   Digital  Sponsorship  Content Marketing  \\\n",
              "0         17.061775  0.21533  2.533014      7.41427           0.000933   \n",
              "1         17.061775  0.21533  2.533014      7.41427           0.000933   \n",
              "2         17.061775  0.21533  2.533014      7.41427           0.000933   \n",
              "3         17.061775  0.21533  2.533014      7.41427           0.000933   \n",
              "4         17.061775  0.21533  2.533014      7.41427           0.000933   \n",
              "\n",
              "   Online marketing   Affiliates       SEM        NPS  Stock Index  \\\n",
              "0          1.327278     0.547254  5.023697  54.599588         1177   \n",
              "1          1.327278     0.547254  5.023697  54.599588         1177   \n",
              "2          1.327278     0.547254  5.023697  54.599588         1177   \n",
              "3          1.327278     0.547254  5.023697  54.599588         1177   \n",
              "4          1.327278     0.547254  5.023697  54.599588         1177   \n",
              "\n",
              "   Adstock_Digital  Adstock_Sponsorship  Adstock_Online marketing  \n",
              "0         2.533014              7.41427                  1.327278  \n",
              "1         2.533014              7.41427                  1.327278  \n",
              "2         2.533014              7.41427                  1.327278  \n",
              "3         2.533014              7.41427                  1.327278  \n",
              "4         2.533014              7.41427                  1.327278  "
            ]
          },
          "metadata": {
            "tags": []
          },
          "execution_count": 1162
        }
      ]
    },
    {
      "cell_type": "markdown",
      "metadata": {
        "id": "81xBeCc6Er0-",
        "colab_type": "text"
      },
      "source": [
        "Working on climate data"
      ]
    },
    {
      "cell_type": "code",
      "metadata": {
        "id": "IUGOrn0nzYrs",
        "colab_type": "code",
        "colab": {
          "base_uri": "https://localhost:8080/",
          "height": 35
        },
        "outputId": "bf5011c1-bdf3-4c64-e746-712ff9f15774"
      },
      "source": [
        "climate_2015.shape"
      ],
      "execution_count": 1163,
      "outputs": [
        {
          "output_type": "execute_result",
          "data": {
            "text/plain": [
              "(365, 27)"
            ]
          },
          "metadata": {
            "tags": []
          },
          "execution_count": 1163
        }
      ]
    },
    {
      "cell_type": "code",
      "metadata": {
        "id": "P-xXUbLFzcDY",
        "colab_type": "code",
        "colab": {
          "base_uri": "https://localhost:8080/",
          "height": 35
        },
        "outputId": "0a0d04c5-89a4-4460-c039-a254ef36b89e"
      },
      "source": [
        "climate_2016.shape"
      ],
      "execution_count": 1164,
      "outputs": [
        {
          "output_type": "execute_result",
          "data": {
            "text/plain": [
              "(366, 27)"
            ]
          },
          "metadata": {
            "tags": []
          },
          "execution_count": 1164
        }
      ]
    },
    {
      "cell_type": "code",
      "metadata": {
        "id": "th_mzCqC4OLZ",
        "colab_type": "code",
        "colab": {
          "base_uri": "https://localhost:8080/",
          "height": 503
        },
        "outputId": "34ae8fc8-4a85-459e-8dd9-63369f3947c9"
      },
      "source": [
        "climate_2015.isnull().sum()"
      ],
      "execution_count": 1165,
      "outputs": [
        {
          "output_type": "execute_result",
          "data": {
            "text/plain": [
              "Date/Time                      0\n",
              "Year                           0\n",
              "Month                          0\n",
              "Day                            0\n",
              "Data Quality                 136\n",
              "Max Temp (°C)                149\n",
              "Max Temp Flag                352\n",
              "Min Temp (°C)                175\n",
              "Min Temp Flag                326\n",
              "Mean Temp (°C)               175\n",
              "Mean Temp Flag               326\n",
              "Heat Deg Days (°C)           175\n",
              "Heat Deg Days Flag           326\n",
              "Cool Deg Days (°C)           175\n",
              "Cool Deg Days Flag           326\n",
              "Total Rain (mm)              136\n",
              "Total Rain Flag              358\n",
              "Total Snow (cm)              136\n",
              "Total Snow Flag              356\n",
              "Total Precip (mm)            136\n",
              "Total Precip Flag            353\n",
              "Snow on Grnd (cm)            136\n",
              "Snow on Grnd Flag            363\n",
              "Dir of Max Gust (10s deg)    365\n",
              "Dir of Max Gust Flag         365\n",
              "Spd of Max Gust (km/h)       365\n",
              "Spd of Max Gust Flag         365\n",
              "dtype: int64"
            ]
          },
          "metadata": {
            "tags": []
          },
          "execution_count": 1165
        }
      ]
    },
    {
      "cell_type": "code",
      "metadata": {
        "id": "jRct2D_RrSt8",
        "colab_type": "code",
        "colab": {
          "base_uri": "https://localhost:8080/",
          "height": 503
        },
        "outputId": "533d09ad-2f94-48b5-f146-12f8730a2559"
      },
      "source": [
        "climate_2016.isnull().sum()"
      ],
      "execution_count": 1166,
      "outputs": [
        {
          "output_type": "execute_result",
          "data": {
            "text/plain": [
              "Date/Time                      0\n",
              "Year                           0\n",
              "Month                          0\n",
              "Day                            0\n",
              "Data Quality                 139\n",
              "Max Temp (°C)                140\n",
              "Max Temp Flag                365\n",
              "Min Temp (°C)                147\n",
              "Min Temp Flag                358\n",
              "Mean Temp (°C)               147\n",
              "Mean Temp Flag               358\n",
              "Heat Deg Days (°C)           147\n",
              "Heat Deg Days Flag           358\n",
              "Cool Deg Days (°C)           147\n",
              "Cool Deg Days Flag           358\n",
              "Total Rain (mm)              139\n",
              "Total Rain Flag              363\n",
              "Total Snow (cm)              139\n",
              "Total Snow Flag              359\n",
              "Total Precip (mm)            139\n",
              "Total Precip Flag            359\n",
              "Snow on Grnd (cm)            139\n",
              "Snow on Grnd Flag            360\n",
              "Dir of Max Gust (10s deg)    366\n",
              "Dir of Max Gust Flag         366\n",
              "Spd of Max Gust (km/h)       366\n",
              "Spd of Max Gust Flag         366\n",
              "dtype: int64"
            ]
          },
          "metadata": {
            "tags": []
          },
          "execution_count": 1166
        }
      ]
    },
    {
      "cell_type": "code",
      "metadata": {
        "id": "Bdbm8E_qrVsx",
        "colab_type": "code",
        "colab": {}
      },
      "source": [
        "#dropping Unwanted columns from both the data frame\n",
        "columns=[\"Data Quality\",\"Spd of Max Gust Flag\",\"Spd of Max Gust (km/h)\",\"Dir of Max Gust Flag\",\"Dir of Max Gust (10s deg)\",\"Snow on Grnd Flag\",\"Total Precip Flag\",\"Total Snow Flag\",\"Total Rain Flag\"\n",
        "          ,\"Cool Deg Days Flag\",\"Heat Deg Days Flag\",\"Mean Temp Flag\",\"Min Temp Flag\",\"Max Temp Flag\"]\n",
        "climate_2015.drop(columns,axis=1,inplace=True)\n"
      ],
      "execution_count": 1167,
      "outputs": []
    },
    {
      "cell_type": "code",
      "metadata": {
        "id": "-CLujGPm0638",
        "colab_type": "code",
        "colab": {}
      },
      "source": [
        "climate_2016.drop(columns,axis=1,inplace=True)"
      ],
      "execution_count": 1168,
      "outputs": []
    },
    {
      "cell_type": "code",
      "metadata": {
        "id": "2j9ySXfy098b",
        "colab_type": "code",
        "colab": {
          "base_uri": "https://localhost:8080/",
          "height": 306
        },
        "outputId": "c0e78459-8004-4c2d-bfdf-06bedc44fb2c"
      },
      "source": [
        "climate_2015.head()"
      ],
      "execution_count": 1169,
      "outputs": [
        {
          "output_type": "execute_result",
          "data": {
            "text/html": [
              "<div>\n",
              "<style scoped>\n",
              "    .dataframe tbody tr th:only-of-type {\n",
              "        vertical-align: middle;\n",
              "    }\n",
              "\n",
              "    .dataframe tbody tr th {\n",
              "        vertical-align: top;\n",
              "    }\n",
              "\n",
              "    .dataframe thead th {\n",
              "        text-align: right;\n",
              "    }\n",
              "</style>\n",
              "<table border=\"1\" class=\"dataframe\">\n",
              "  <thead>\n",
              "    <tr style=\"text-align: right;\">\n",
              "      <th></th>\n",
              "      <th>Date/Time</th>\n",
              "      <th>Year</th>\n",
              "      <th>Month</th>\n",
              "      <th>Day</th>\n",
              "      <th>Max Temp (°C)</th>\n",
              "      <th>Min Temp (°C)</th>\n",
              "      <th>Mean Temp (°C)</th>\n",
              "      <th>Heat Deg Days (°C)</th>\n",
              "      <th>Cool Deg Days (°C)</th>\n",
              "      <th>Total Rain (mm)</th>\n",
              "      <th>Total Snow (cm)</th>\n",
              "      <th>Total Precip (mm)</th>\n",
              "      <th>Snow on Grnd (cm)</th>\n",
              "    </tr>\n",
              "  </thead>\n",
              "  <tbody>\n",
              "    <tr>\n",
              "      <th>0</th>\n",
              "      <td>2015-01-01</td>\n",
              "      <td>2015</td>\n",
              "      <td>1</td>\n",
              "      <td>1</td>\n",
              "      <td>0.0</td>\n",
              "      <td>-8.5</td>\n",
              "      <td>-4.3</td>\n",
              "      <td>22.3</td>\n",
              "      <td>0.0</td>\n",
              "      <td>0.0</td>\n",
              "      <td>0.0</td>\n",
              "      <td>0.0</td>\n",
              "      <td>0.0</td>\n",
              "    </tr>\n",
              "    <tr>\n",
              "      <th>1</th>\n",
              "      <td>2015-01-02</td>\n",
              "      <td>2015</td>\n",
              "      <td>1</td>\n",
              "      <td>2</td>\n",
              "      <td>3.0</td>\n",
              "      <td>-3.0</td>\n",
              "      <td>0.0</td>\n",
              "      <td>18.0</td>\n",
              "      <td>0.0</td>\n",
              "      <td>0.0</td>\n",
              "      <td>0.0</td>\n",
              "      <td>0.0</td>\n",
              "      <td>0.0</td>\n",
              "    </tr>\n",
              "    <tr>\n",
              "      <th>2</th>\n",
              "      <td>2015-01-03</td>\n",
              "      <td>2015</td>\n",
              "      <td>1</td>\n",
              "      <td>3</td>\n",
              "      <td>2.5</td>\n",
              "      <td>-4.0</td>\n",
              "      <td>-0.8</td>\n",
              "      <td>18.8</td>\n",
              "      <td>0.0</td>\n",
              "      <td>24.0</td>\n",
              "      <td>0.0</td>\n",
              "      <td>24.0</td>\n",
              "      <td>0.0</td>\n",
              "    </tr>\n",
              "    <tr>\n",
              "      <th>3</th>\n",
              "      <td>2015-01-04</td>\n",
              "      <td>2015</td>\n",
              "      <td>1</td>\n",
              "      <td>4</td>\n",
              "      <td>2.5</td>\n",
              "      <td>0.0</td>\n",
              "      <td>1.3</td>\n",
              "      <td>16.7</td>\n",
              "      <td>0.0</td>\n",
              "      <td>0.0</td>\n",
              "      <td>1.0</td>\n",
              "      <td>1.0</td>\n",
              "      <td>0.0</td>\n",
              "    </tr>\n",
              "    <tr>\n",
              "      <th>4</th>\n",
              "      <td>2015-01-05</td>\n",
              "      <td>2015</td>\n",
              "      <td>1</td>\n",
              "      <td>5</td>\n",
              "      <td>-10.0</td>\n",
              "      <td>-13.5</td>\n",
              "      <td>-11.8</td>\n",
              "      <td>29.8</td>\n",
              "      <td>0.0</td>\n",
              "      <td>0.0</td>\n",
              "      <td>3.0</td>\n",
              "      <td>3.0</td>\n",
              "      <td>1.0</td>\n",
              "    </tr>\n",
              "  </tbody>\n",
              "</table>\n",
              "</div>"
            ],
            "text/plain": [
              "    Date/Time  Year  Month  Day  Max Temp (°C)  Min Temp (°C)  Mean Temp (°C)  \\\n",
              "0  2015-01-01  2015      1    1            0.0           -8.5            -4.3   \n",
              "1  2015-01-02  2015      1    2            3.0           -3.0             0.0   \n",
              "2  2015-01-03  2015      1    3            2.5           -4.0            -0.8   \n",
              "3  2015-01-04  2015      1    4            2.5            0.0             1.3   \n",
              "4  2015-01-05  2015      1    5          -10.0          -13.5           -11.8   \n",
              "\n",
              "   Heat Deg Days (°C)  Cool Deg Days (°C)  Total Rain (mm)  Total Snow (cm)  \\\n",
              "0                22.3                 0.0              0.0              0.0   \n",
              "1                18.0                 0.0              0.0              0.0   \n",
              "2                18.8                 0.0             24.0              0.0   \n",
              "3                16.7                 0.0              0.0              1.0   \n",
              "4                29.8                 0.0              0.0              3.0   \n",
              "\n",
              "   Total Precip (mm)  Snow on Grnd (cm)  \n",
              "0                0.0                0.0  \n",
              "1                0.0                0.0  \n",
              "2               24.0                0.0  \n",
              "3                1.0                0.0  \n",
              "4                3.0                1.0  "
            ]
          },
          "metadata": {
            "tags": []
          },
          "execution_count": 1169
        }
      ]
    },
    {
      "cell_type": "code",
      "metadata": {
        "id": "wAvfZszQ1B2s",
        "colab_type": "code",
        "colab": {
          "base_uri": "https://localhost:8080/",
          "height": 52
        },
        "outputId": "e2f739d3-cde5-4ea4-c9ba-fa8b99d4f933"
      },
      "source": [
        "#printing shape of both the dataframe\n",
        "print(climate_2015.shape)\n",
        "print(climate_2016.shape)"
      ],
      "execution_count": 1170,
      "outputs": [
        {
          "output_type": "stream",
          "text": [
            "(365, 13)\n",
            "(366, 13)\n"
          ],
          "name": "stdout"
        }
      ]
    },
    {
      "cell_type": "code",
      "metadata": {
        "id": "gUKEUlZS2PtC",
        "colab_type": "code",
        "colab": {}
      },
      "source": [
        "#concatting both the data frame\n",
        "climate=climate_2015.append(climate_2016)"
      ],
      "execution_count": 1171,
      "outputs": []
    },
    {
      "cell_type": "code",
      "metadata": {
        "id": "13ndtKlNBPi_",
        "colab_type": "code",
        "colab": {}
      },
      "source": [
        "climate=climate[(climate[\"Date/Time\"]>=\"2015-07-01\") & (climate[\"Date/Time\"]<\"2016-07-01\")]"
      ],
      "execution_count": 1172,
      "outputs": []
    },
    {
      "cell_type": "code",
      "metadata": {
        "id": "7pgS8ufL2qa9",
        "colab_type": "code",
        "colab": {}
      },
      "source": [
        "climate.reset_index(inplace=True)"
      ],
      "execution_count": 1173,
      "outputs": []
    },
    {
      "cell_type": "code",
      "metadata": {
        "id": "9PL5t9pK3aGc",
        "colab_type": "code",
        "colab": {}
      },
      "source": [
        "climate['Date/Time'] = pd.to_datetime(climate['Date/Time'],errors='coerce')"
      ],
      "execution_count": 1174,
      "outputs": []
    },
    {
      "cell_type": "code",
      "metadata": {
        "id": "by8tALm-2tkP",
        "colab_type": "code",
        "colab": {}
      },
      "source": [
        "climate['week'] = climate['Date/Time'].dt.week\n",
        "climate.loc[(climate.Year == 2016) & (climate['Date/Time'].dt.week !=53), 'week'] = 53+climate['Date/Time'].dt.week"
      ],
      "execution_count": 1175,
      "outputs": []
    },
    {
      "cell_type": "code",
      "metadata": {
        "id": "kcIWtl-D-7iB",
        "colab_type": "code",
        "colab": {}
      },
      "source": [
        "climate.drop(\"index\",axis=1,inplace=True)"
      ],
      "execution_count": 1176,
      "outputs": []
    },
    {
      "cell_type": "code",
      "metadata": {
        "id": "TMAswskH_JZH",
        "colab_type": "code",
        "colab": {}
      },
      "source": [
        "gropped_climate=round(climate.groupby(\"week\").mean())"
      ],
      "execution_count": 1177,
      "outputs": []
    },
    {
      "cell_type": "code",
      "metadata": {
        "id": "pycD-a1i_faT",
        "colab_type": "code",
        "colab": {
          "base_uri": "https://localhost:8080/",
          "height": 250
        },
        "outputId": "c5ad492b-05a5-42fe-9f5d-b5387141c99b"
      },
      "source": [
        "gropped_climate.head()"
      ],
      "execution_count": 1178,
      "outputs": [
        {
          "output_type": "execute_result",
          "data": {
            "text/html": [
              "<div>\n",
              "<style scoped>\n",
              "    .dataframe tbody tr th:only-of-type {\n",
              "        vertical-align: middle;\n",
              "    }\n",
              "\n",
              "    .dataframe tbody tr th {\n",
              "        vertical-align: top;\n",
              "    }\n",
              "\n",
              "    .dataframe thead th {\n",
              "        text-align: right;\n",
              "    }\n",
              "</style>\n",
              "<table border=\"1\" class=\"dataframe\">\n",
              "  <thead>\n",
              "    <tr style=\"text-align: right;\">\n",
              "      <th></th>\n",
              "      <th>Year</th>\n",
              "      <th>Month</th>\n",
              "      <th>Day</th>\n",
              "      <th>Max Temp (°C)</th>\n",
              "      <th>Min Temp (°C)</th>\n",
              "      <th>Mean Temp (°C)</th>\n",
              "      <th>Heat Deg Days (°C)</th>\n",
              "      <th>Cool Deg Days (°C)</th>\n",
              "      <th>Total Rain (mm)</th>\n",
              "      <th>Total Snow (cm)</th>\n",
              "      <th>Total Precip (mm)</th>\n",
              "      <th>Snow on Grnd (cm)</th>\n",
              "    </tr>\n",
              "    <tr>\n",
              "      <th>week</th>\n",
              "      <th></th>\n",
              "      <th></th>\n",
              "      <th></th>\n",
              "      <th></th>\n",
              "      <th></th>\n",
              "      <th></th>\n",
              "      <th></th>\n",
              "      <th></th>\n",
              "      <th></th>\n",
              "      <th></th>\n",
              "      <th></th>\n",
              "      <th></th>\n",
              "    </tr>\n",
              "  </thead>\n",
              "  <tbody>\n",
              "    <tr>\n",
              "      <th>27</th>\n",
              "      <td>2015.0</td>\n",
              "      <td>7.0</td>\n",
              "      <td>3.0</td>\n",
              "      <td>26.0</td>\n",
              "      <td>13.0</td>\n",
              "      <td>19.0</td>\n",
              "      <td>0.0</td>\n",
              "      <td>1.0</td>\n",
              "      <td>0.0</td>\n",
              "      <td>0.0</td>\n",
              "      <td>0.0</td>\n",
              "      <td>0.0</td>\n",
              "    </tr>\n",
              "    <tr>\n",
              "      <th>28</th>\n",
              "      <td>2015.0</td>\n",
              "      <td>7.0</td>\n",
              "      <td>9.0</td>\n",
              "      <td>25.0</td>\n",
              "      <td>15.0</td>\n",
              "      <td>20.0</td>\n",
              "      <td>0.0</td>\n",
              "      <td>2.0</td>\n",
              "      <td>4.0</td>\n",
              "      <td>0.0</td>\n",
              "      <td>4.0</td>\n",
              "      <td>0.0</td>\n",
              "    </tr>\n",
              "    <tr>\n",
              "      <th>29</th>\n",
              "      <td>2015.0</td>\n",
              "      <td>7.0</td>\n",
              "      <td>16.0</td>\n",
              "      <td>29.0</td>\n",
              "      <td>18.0</td>\n",
              "      <td>23.0</td>\n",
              "      <td>0.0</td>\n",
              "      <td>5.0</td>\n",
              "      <td>1.0</td>\n",
              "      <td>0.0</td>\n",
              "      <td>1.0</td>\n",
              "      <td>0.0</td>\n",
              "    </tr>\n",
              "    <tr>\n",
              "      <th>30</th>\n",
              "      <td>2015.0</td>\n",
              "      <td>7.0</td>\n",
              "      <td>23.0</td>\n",
              "      <td>30.0</td>\n",
              "      <td>17.0</td>\n",
              "      <td>23.0</td>\n",
              "      <td>0.0</td>\n",
              "      <td>5.0</td>\n",
              "      <td>1.0</td>\n",
              "      <td>0.0</td>\n",
              "      <td>1.0</td>\n",
              "      <td>0.0</td>\n",
              "    </tr>\n",
              "    <tr>\n",
              "      <th>31</th>\n",
              "      <td>2015.0</td>\n",
              "      <td>7.0</td>\n",
              "      <td>21.0</td>\n",
              "      <td>32.0</td>\n",
              "      <td>18.0</td>\n",
              "      <td>25.0</td>\n",
              "      <td>0.0</td>\n",
              "      <td>7.0</td>\n",
              "      <td>5.0</td>\n",
              "      <td>0.0</td>\n",
              "      <td>5.0</td>\n",
              "      <td>0.0</td>\n",
              "    </tr>\n",
              "  </tbody>\n",
              "</table>\n",
              "</div>"
            ],
            "text/plain": [
              "        Year  Month   Day  Max Temp (°C)  Min Temp (°C)  Mean Temp (°C)  \\\n",
              "week                                                                      \n",
              "27    2015.0    7.0   3.0           26.0           13.0            19.0   \n",
              "28    2015.0    7.0   9.0           25.0           15.0            20.0   \n",
              "29    2015.0    7.0  16.0           29.0           18.0            23.0   \n",
              "30    2015.0    7.0  23.0           30.0           17.0            23.0   \n",
              "31    2015.0    7.0  21.0           32.0           18.0            25.0   \n",
              "\n",
              "      Heat Deg Days (°C)  Cool Deg Days (°C)  Total Rain (mm)  \\\n",
              "week                                                            \n",
              "27                   0.0                 1.0              0.0   \n",
              "28                   0.0                 2.0              4.0   \n",
              "29                   0.0                 5.0              1.0   \n",
              "30                   0.0                 5.0              1.0   \n",
              "31                   0.0                 7.0              5.0   \n",
              "\n",
              "      Total Snow (cm)  Total Precip (mm)  Snow on Grnd (cm)  \n",
              "week                                                         \n",
              "27                0.0                0.0                0.0  \n",
              "28                0.0                4.0                0.0  \n",
              "29                0.0                1.0                0.0  \n",
              "30                0.0                1.0                0.0  \n",
              "31                0.0                5.0                0.0  "
            ]
          },
          "metadata": {
            "tags": []
          },
          "execution_count": 1178
        }
      ]
    },
    {
      "cell_type": "code",
      "metadata": {
        "id": "tycc7zJKG223",
        "colab_type": "code",
        "colab": {
          "base_uri": "https://localhost:8080/",
          "height": 35
        },
        "outputId": "3f1380f4-afb9-475d-d66d-1ac48086f851"
      },
      "source": [
        "camedia.shape"
      ],
      "execution_count": 1179,
      "outputs": [
        {
          "output_type": "execute_result",
          "data": {
            "text/plain": [
              "(52, 21)"
            ]
          },
          "metadata": {
            "tags": []
          },
          "execution_count": 1179
        }
      ]
    },
    {
      "cell_type": "code",
      "metadata": {
        "id": "oZRTyg-9Ju_-",
        "colab_type": "code",
        "colab": {
          "base_uri": "https://localhost:8080/",
          "height": 35
        },
        "outputId": "1b9e5979-67c9-46ff-dce0-45b5098e28ee"
      },
      "source": [
        "gropped_climate.shape"
      ],
      "execution_count": 1180,
      "outputs": [
        {
          "output_type": "execute_result",
          "data": {
            "text/plain": [
              "(53, 12)"
            ]
          },
          "metadata": {
            "tags": []
          },
          "execution_count": 1180
        }
      ]
    },
    {
      "cell_type": "markdown",
      "metadata": {
        "id": "-ICSrDGkH5Kg",
        "colab_type": "text"
      },
      "source": [
        "Merging climate data in all three dataframe"
      ]
    },
    {
      "cell_type": "code",
      "metadata": {
        "id": "SghT2Da4_luG",
        "colab_type": "code",
        "colab": {}
      },
      "source": [
        "gropped_climate.reset_index(inplace=True)\n",
        "camdcl=camedia.merge(gropped_climate,how=\"inner\",left_on=\"order_week\",right_on=\"week\")"
      ],
      "execution_count": 1181,
      "outputs": []
    },
    {
      "cell_type": "code",
      "metadata": {
        "id": "kgIvd0MwHbPq",
        "colab_type": "code",
        "colab": {
          "base_uri": "https://localhost:8080/",
          "height": 274
        },
        "outputId": "cce5b829-8227-4916-8d07-268aeb9e0d94"
      },
      "source": [
        "camdcl.head()"
      ],
      "execution_count": 1182,
      "outputs": [
        {
          "output_type": "execute_result",
          "data": {
            "text/html": [
              "<div>\n",
              "<style scoped>\n",
              "    .dataframe tbody tr th:only-of-type {\n",
              "        vertical-align: middle;\n",
              "    }\n",
              "\n",
              "    .dataframe tbody tr th {\n",
              "        vertical-align: top;\n",
              "    }\n",
              "\n",
              "    .dataframe thead th {\n",
              "        text-align: right;\n",
              "    }\n",
              "</style>\n",
              "<table border=\"1\" class=\"dataframe\">\n",
              "  <thead>\n",
              "    <tr style=\"text-align: right;\">\n",
              "      <th></th>\n",
              "      <th>order_week</th>\n",
              "      <th>Year_x</th>\n",
              "      <th>Month_x</th>\n",
              "      <th>gmv</th>\n",
              "      <th>units</th>\n",
              "      <th>sla</th>\n",
              "      <th>product_mrp</th>\n",
              "      <th>Discount</th>\n",
              "      <th>Total Investment</th>\n",
              "      <th>TV</th>\n",
              "      <th>Digital</th>\n",
              "      <th>Sponsorship</th>\n",
              "      <th>Content Marketing</th>\n",
              "      <th>Online marketing</th>\n",
              "      <th>Affiliates</th>\n",
              "      <th>SEM</th>\n",
              "      <th>NPS</th>\n",
              "      <th>Stock Index</th>\n",
              "      <th>Adstock_Digital</th>\n",
              "      <th>Adstock_Sponsorship</th>\n",
              "      <th>Adstock_Online marketing</th>\n",
              "      <th>week</th>\n",
              "      <th>Year_y</th>\n",
              "      <th>Month_y</th>\n",
              "      <th>Day</th>\n",
              "      <th>Max Temp (°C)</th>\n",
              "      <th>Min Temp (°C)</th>\n",
              "      <th>Mean Temp (°C)</th>\n",
              "      <th>Heat Deg Days (°C)</th>\n",
              "      <th>Cool Deg Days (°C)</th>\n",
              "      <th>Total Rain (mm)</th>\n",
              "      <th>Total Snow (cm)</th>\n",
              "      <th>Total Precip (mm)</th>\n",
              "      <th>Snow on Grnd (cm)</th>\n",
              "    </tr>\n",
              "  </thead>\n",
              "  <tbody>\n",
              "    <tr>\n",
              "      <th>0</th>\n",
              "      <td>27</td>\n",
              "      <td>2015.0</td>\n",
              "      <td>7.0</td>\n",
              "      <td>674.0</td>\n",
              "      <td>1.0</td>\n",
              "      <td>2.0</td>\n",
              "      <td>1512.0</td>\n",
              "      <td>838.0</td>\n",
              "      <td>17.061775</td>\n",
              "      <td>0.21533</td>\n",
              "      <td>2.533014</td>\n",
              "      <td>7.41427</td>\n",
              "      <td>0.000933</td>\n",
              "      <td>1.327278</td>\n",
              "      <td>0.547254</td>\n",
              "      <td>5.023697</td>\n",
              "      <td>54.599588</td>\n",
              "      <td>1177</td>\n",
              "      <td>2.533014</td>\n",
              "      <td>7.41427</td>\n",
              "      <td>1.327278</td>\n",
              "      <td>27</td>\n",
              "      <td>2015.0</td>\n",
              "      <td>7.0</td>\n",
              "      <td>3.0</td>\n",
              "      <td>26.0</td>\n",
              "      <td>13.0</td>\n",
              "      <td>19.0</td>\n",
              "      <td>0.0</td>\n",
              "      <td>1.0</td>\n",
              "      <td>0.0</td>\n",
              "      <td>0.0</td>\n",
              "      <td>0.0</td>\n",
              "      <td>0.0</td>\n",
              "    </tr>\n",
              "    <tr>\n",
              "      <th>1</th>\n",
              "      <td>28</td>\n",
              "      <td>2015.0</td>\n",
              "      <td>7.0</td>\n",
              "      <td>1372.0</td>\n",
              "      <td>1.0</td>\n",
              "      <td>7.0</td>\n",
              "      <td>2488.0</td>\n",
              "      <td>1105.0</td>\n",
              "      <td>17.061775</td>\n",
              "      <td>0.21533</td>\n",
              "      <td>2.533014</td>\n",
              "      <td>7.41427</td>\n",
              "      <td>0.000933</td>\n",
              "      <td>1.327278</td>\n",
              "      <td>0.547254</td>\n",
              "      <td>5.023697</td>\n",
              "      <td>54.599588</td>\n",
              "      <td>1177</td>\n",
              "      <td>2.533014</td>\n",
              "      <td>7.41427</td>\n",
              "      <td>1.327278</td>\n",
              "      <td>28</td>\n",
              "      <td>2015.0</td>\n",
              "      <td>7.0</td>\n",
              "      <td>9.0</td>\n",
              "      <td>25.0</td>\n",
              "      <td>15.0</td>\n",
              "      <td>20.0</td>\n",
              "      <td>0.0</td>\n",
              "      <td>2.0</td>\n",
              "      <td>4.0</td>\n",
              "      <td>0.0</td>\n",
              "      <td>4.0</td>\n",
              "      <td>0.0</td>\n",
              "    </tr>\n",
              "    <tr>\n",
              "      <th>2</th>\n",
              "      <td>29</td>\n",
              "      <td>2015.0</td>\n",
              "      <td>7.0</td>\n",
              "      <td>1488.0</td>\n",
              "      <td>1.0</td>\n",
              "      <td>6.0</td>\n",
              "      <td>2567.0</td>\n",
              "      <td>1079.0</td>\n",
              "      <td>17.061775</td>\n",
              "      <td>0.21533</td>\n",
              "      <td>2.533014</td>\n",
              "      <td>7.41427</td>\n",
              "      <td>0.000933</td>\n",
              "      <td>1.327278</td>\n",
              "      <td>0.547254</td>\n",
              "      <td>5.023697</td>\n",
              "      <td>54.599588</td>\n",
              "      <td>1177</td>\n",
              "      <td>2.533014</td>\n",
              "      <td>7.41427</td>\n",
              "      <td>1.327278</td>\n",
              "      <td>29</td>\n",
              "      <td>2015.0</td>\n",
              "      <td>7.0</td>\n",
              "      <td>16.0</td>\n",
              "      <td>29.0</td>\n",
              "      <td>18.0</td>\n",
              "      <td>23.0</td>\n",
              "      <td>0.0</td>\n",
              "      <td>5.0</td>\n",
              "      <td>1.0</td>\n",
              "      <td>0.0</td>\n",
              "      <td>1.0</td>\n",
              "      <td>0.0</td>\n",
              "    </tr>\n",
              "    <tr>\n",
              "      <th>3</th>\n",
              "      <td>30</td>\n",
              "      <td>2015.0</td>\n",
              "      <td>7.0</td>\n",
              "      <td>1454.0</td>\n",
              "      <td>1.0</td>\n",
              "      <td>6.0</td>\n",
              "      <td>2571.0</td>\n",
              "      <td>1121.0</td>\n",
              "      <td>17.061775</td>\n",
              "      <td>0.21533</td>\n",
              "      <td>2.533014</td>\n",
              "      <td>7.41427</td>\n",
              "      <td>0.000933</td>\n",
              "      <td>1.327278</td>\n",
              "      <td>0.547254</td>\n",
              "      <td>5.023697</td>\n",
              "      <td>54.599588</td>\n",
              "      <td>1177</td>\n",
              "      <td>2.533014</td>\n",
              "      <td>7.41427</td>\n",
              "      <td>1.327278</td>\n",
              "      <td>30</td>\n",
              "      <td>2015.0</td>\n",
              "      <td>7.0</td>\n",
              "      <td>23.0</td>\n",
              "      <td>30.0</td>\n",
              "      <td>17.0</td>\n",
              "      <td>23.0</td>\n",
              "      <td>0.0</td>\n",
              "      <td>5.0</td>\n",
              "      <td>1.0</td>\n",
              "      <td>0.0</td>\n",
              "      <td>1.0</td>\n",
              "      <td>0.0</td>\n",
              "    </tr>\n",
              "    <tr>\n",
              "      <th>4</th>\n",
              "      <td>31</td>\n",
              "      <td>2015.0</td>\n",
              "      <td>7.0</td>\n",
              "      <td>1464.0</td>\n",
              "      <td>1.0</td>\n",
              "      <td>6.0</td>\n",
              "      <td>2498.0</td>\n",
              "      <td>1034.0</td>\n",
              "      <td>17.061775</td>\n",
              "      <td>0.21533</td>\n",
              "      <td>2.533014</td>\n",
              "      <td>7.41427</td>\n",
              "      <td>0.000933</td>\n",
              "      <td>1.327278</td>\n",
              "      <td>0.547254</td>\n",
              "      <td>5.023697</td>\n",
              "      <td>54.599588</td>\n",
              "      <td>1177</td>\n",
              "      <td>2.533014</td>\n",
              "      <td>7.41427</td>\n",
              "      <td>1.327278</td>\n",
              "      <td>31</td>\n",
              "      <td>2015.0</td>\n",
              "      <td>7.0</td>\n",
              "      <td>21.0</td>\n",
              "      <td>32.0</td>\n",
              "      <td>18.0</td>\n",
              "      <td>25.0</td>\n",
              "      <td>0.0</td>\n",
              "      <td>7.0</td>\n",
              "      <td>5.0</td>\n",
              "      <td>0.0</td>\n",
              "      <td>5.0</td>\n",
              "      <td>0.0</td>\n",
              "    </tr>\n",
              "  </tbody>\n",
              "</table>\n",
              "</div>"
            ],
            "text/plain": [
              "   order_week  Year_x  Month_x     gmv  units  sla  product_mrp  Discount  \\\n",
              "0          27  2015.0      7.0   674.0    1.0  2.0       1512.0     838.0   \n",
              "1          28  2015.0      7.0  1372.0    1.0  7.0       2488.0    1105.0   \n",
              "2          29  2015.0      7.0  1488.0    1.0  6.0       2567.0    1079.0   \n",
              "3          30  2015.0      7.0  1454.0    1.0  6.0       2571.0    1121.0   \n",
              "4          31  2015.0      7.0  1464.0    1.0  6.0       2498.0    1034.0   \n",
              "\n",
              "   Total Investment       TV   Digital  Sponsorship  Content Marketing  \\\n",
              "0         17.061775  0.21533  2.533014      7.41427           0.000933   \n",
              "1         17.061775  0.21533  2.533014      7.41427           0.000933   \n",
              "2         17.061775  0.21533  2.533014      7.41427           0.000933   \n",
              "3         17.061775  0.21533  2.533014      7.41427           0.000933   \n",
              "4         17.061775  0.21533  2.533014      7.41427           0.000933   \n",
              "\n",
              "   Online marketing   Affiliates       SEM        NPS  Stock Index  \\\n",
              "0          1.327278     0.547254  5.023697  54.599588         1177   \n",
              "1          1.327278     0.547254  5.023697  54.599588         1177   \n",
              "2          1.327278     0.547254  5.023697  54.599588         1177   \n",
              "3          1.327278     0.547254  5.023697  54.599588         1177   \n",
              "4          1.327278     0.547254  5.023697  54.599588         1177   \n",
              "\n",
              "   Adstock_Digital  Adstock_Sponsorship  Adstock_Online marketing  week  \\\n",
              "0         2.533014              7.41427                  1.327278    27   \n",
              "1         2.533014              7.41427                  1.327278    28   \n",
              "2         2.533014              7.41427                  1.327278    29   \n",
              "3         2.533014              7.41427                  1.327278    30   \n",
              "4         2.533014              7.41427                  1.327278    31   \n",
              "\n",
              "   Year_y  Month_y   Day  Max Temp (°C)  Min Temp (°C)  Mean Temp (°C)  \\\n",
              "0  2015.0      7.0   3.0           26.0           13.0            19.0   \n",
              "1  2015.0      7.0   9.0           25.0           15.0            20.0   \n",
              "2  2015.0      7.0  16.0           29.0           18.0            23.0   \n",
              "3  2015.0      7.0  23.0           30.0           17.0            23.0   \n",
              "4  2015.0      7.0  21.0           32.0           18.0            25.0   \n",
              "\n",
              "   Heat Deg Days (°C)  Cool Deg Days (°C)  Total Rain (mm)  Total Snow (cm)  \\\n",
              "0                 0.0                 1.0              0.0              0.0   \n",
              "1                 0.0                 2.0              4.0              0.0   \n",
              "2                 0.0                 5.0              1.0              0.0   \n",
              "3                 0.0                 5.0              1.0              0.0   \n",
              "4                 0.0                 7.0              5.0              0.0   \n",
              "\n",
              "   Total Precip (mm)  Snow on Grnd (cm)  \n",
              "0                0.0                0.0  \n",
              "1                4.0                0.0  \n",
              "2                1.0                0.0  \n",
              "3                1.0                0.0  \n",
              "4                5.0                0.0  "
            ]
          },
          "metadata": {
            "tags": []
          },
          "execution_count": 1182
        }
      ]
    },
    {
      "cell_type": "code",
      "metadata": {
        "id": "63yKz_3DHc7y",
        "colab_type": "code",
        "colab": {}
      },
      "source": [
        "gamdcl=gamedia.merge(gropped_climate,how=\"inner\",left_on=\"order_week\",right_on=\"week\")"
      ],
      "execution_count": 1183,
      "outputs": []
    },
    {
      "cell_type": "code",
      "metadata": {
        "id": "mzKGMNpmNMi1",
        "colab_type": "code",
        "colab": {}
      },
      "source": [
        "hamdcl=hamedia.merge(gropped_climate,how=\"inner\",left_on=\"order_week\",right_on=\"week\")"
      ],
      "execution_count": 1184,
      "outputs": []
    },
    {
      "cell_type": "code",
      "metadata": {
        "id": "37TM52a0NUdb",
        "colab_type": "code",
        "colab": {
          "base_uri": "https://localhost:8080/",
          "height": 274
        },
        "outputId": "d6896b23-020d-4030-cb65-5bda897057ad"
      },
      "source": [
        "gamdcl.head()"
      ],
      "execution_count": 1185,
      "outputs": [
        {
          "output_type": "execute_result",
          "data": {
            "text/html": [
              "<div>\n",
              "<style scoped>\n",
              "    .dataframe tbody tr th:only-of-type {\n",
              "        vertical-align: middle;\n",
              "    }\n",
              "\n",
              "    .dataframe tbody tr th {\n",
              "        vertical-align: top;\n",
              "    }\n",
              "\n",
              "    .dataframe thead th {\n",
              "        text-align: right;\n",
              "    }\n",
              "</style>\n",
              "<table border=\"1\" class=\"dataframe\">\n",
              "  <thead>\n",
              "    <tr style=\"text-align: right;\">\n",
              "      <th></th>\n",
              "      <th>order_week</th>\n",
              "      <th>Year_x</th>\n",
              "      <th>Month_x</th>\n",
              "      <th>gmv</th>\n",
              "      <th>units</th>\n",
              "      <th>sla</th>\n",
              "      <th>product_mrp</th>\n",
              "      <th>Discount</th>\n",
              "      <th>Total Investment</th>\n",
              "      <th>TV</th>\n",
              "      <th>Digital</th>\n",
              "      <th>Sponsorship</th>\n",
              "      <th>Content Marketing</th>\n",
              "      <th>Online marketing</th>\n",
              "      <th>Affiliates</th>\n",
              "      <th>SEM</th>\n",
              "      <th>NPS</th>\n",
              "      <th>Stock Index</th>\n",
              "      <th>Adstock_Digital</th>\n",
              "      <th>Adstock_Sponsorship</th>\n",
              "      <th>Adstock_Online marketing</th>\n",
              "      <th>week</th>\n",
              "      <th>Year_y</th>\n",
              "      <th>Month_y</th>\n",
              "      <th>Day</th>\n",
              "      <th>Max Temp (°C)</th>\n",
              "      <th>Min Temp (°C)</th>\n",
              "      <th>Mean Temp (°C)</th>\n",
              "      <th>Heat Deg Days (°C)</th>\n",
              "      <th>Cool Deg Days (°C)</th>\n",
              "      <th>Total Rain (mm)</th>\n",
              "      <th>Total Snow (cm)</th>\n",
              "      <th>Total Precip (mm)</th>\n",
              "      <th>Snow on Grnd (cm)</th>\n",
              "    </tr>\n",
              "  </thead>\n",
              "  <tbody>\n",
              "    <tr>\n",
              "      <th>0</th>\n",
              "      <td>27</td>\n",
              "      <td>2015.0</td>\n",
              "      <td>7.0</td>\n",
              "      <td>1294.0</td>\n",
              "      <td>1.0</td>\n",
              "      <td>3.0</td>\n",
              "      <td>3766.0</td>\n",
              "      <td>2480.0</td>\n",
              "      <td>17.061775</td>\n",
              "      <td>0.21533</td>\n",
              "      <td>2.533014</td>\n",
              "      <td>7.41427</td>\n",
              "      <td>0.000933</td>\n",
              "      <td>1.327278</td>\n",
              "      <td>0.547254</td>\n",
              "      <td>5.023697</td>\n",
              "      <td>54.599588</td>\n",
              "      <td>1177</td>\n",
              "      <td>2.533014</td>\n",
              "      <td>7.41427</td>\n",
              "      <td>1.327278</td>\n",
              "      <td>27</td>\n",
              "      <td>2015.0</td>\n",
              "      <td>7.0</td>\n",
              "      <td>3.0</td>\n",
              "      <td>26.0</td>\n",
              "      <td>13.0</td>\n",
              "      <td>19.0</td>\n",
              "      <td>0.0</td>\n",
              "      <td>1.0</td>\n",
              "      <td>0.0</td>\n",
              "      <td>0.0</td>\n",
              "      <td>0.0</td>\n",
              "      <td>0.0</td>\n",
              "    </tr>\n",
              "    <tr>\n",
              "      <th>1</th>\n",
              "      <td>28</td>\n",
              "      <td>2015.0</td>\n",
              "      <td>7.0</td>\n",
              "      <td>899.0</td>\n",
              "      <td>1.0</td>\n",
              "      <td>5.0</td>\n",
              "      <td>1828.0</td>\n",
              "      <td>939.0</td>\n",
              "      <td>17.061775</td>\n",
              "      <td>0.21533</td>\n",
              "      <td>2.533014</td>\n",
              "      <td>7.41427</td>\n",
              "      <td>0.000933</td>\n",
              "      <td>1.327278</td>\n",
              "      <td>0.547254</td>\n",
              "      <td>5.023697</td>\n",
              "      <td>54.599588</td>\n",
              "      <td>1177</td>\n",
              "      <td>2.533014</td>\n",
              "      <td>7.41427</td>\n",
              "      <td>1.327278</td>\n",
              "      <td>28</td>\n",
              "      <td>2015.0</td>\n",
              "      <td>7.0</td>\n",
              "      <td>9.0</td>\n",
              "      <td>25.0</td>\n",
              "      <td>15.0</td>\n",
              "      <td>20.0</td>\n",
              "      <td>0.0</td>\n",
              "      <td>2.0</td>\n",
              "      <td>4.0</td>\n",
              "      <td>0.0</td>\n",
              "      <td>4.0</td>\n",
              "      <td>0.0</td>\n",
              "    </tr>\n",
              "    <tr>\n",
              "      <th>2</th>\n",
              "      <td>29</td>\n",
              "      <td>2015.0</td>\n",
              "      <td>7.0</td>\n",
              "      <td>828.0</td>\n",
              "      <td>1.0</td>\n",
              "      <td>5.0</td>\n",
              "      <td>1805.0</td>\n",
              "      <td>983.0</td>\n",
              "      <td>17.061775</td>\n",
              "      <td>0.21533</td>\n",
              "      <td>2.533014</td>\n",
              "      <td>7.41427</td>\n",
              "      <td>0.000933</td>\n",
              "      <td>1.327278</td>\n",
              "      <td>0.547254</td>\n",
              "      <td>5.023697</td>\n",
              "      <td>54.599588</td>\n",
              "      <td>1177</td>\n",
              "      <td>2.533014</td>\n",
              "      <td>7.41427</td>\n",
              "      <td>1.327278</td>\n",
              "      <td>29</td>\n",
              "      <td>2015.0</td>\n",
              "      <td>7.0</td>\n",
              "      <td>16.0</td>\n",
              "      <td>29.0</td>\n",
              "      <td>18.0</td>\n",
              "      <td>23.0</td>\n",
              "      <td>0.0</td>\n",
              "      <td>5.0</td>\n",
              "      <td>1.0</td>\n",
              "      <td>0.0</td>\n",
              "      <td>1.0</td>\n",
              "      <td>0.0</td>\n",
              "    </tr>\n",
              "    <tr>\n",
              "      <th>3</th>\n",
              "      <td>30</td>\n",
              "      <td>2015.0</td>\n",
              "      <td>7.0</td>\n",
              "      <td>1038.0</td>\n",
              "      <td>1.0</td>\n",
              "      <td>5.0</td>\n",
              "      <td>2322.0</td>\n",
              "      <td>1281.0</td>\n",
              "      <td>17.061775</td>\n",
              "      <td>0.21533</td>\n",
              "      <td>2.533014</td>\n",
              "      <td>7.41427</td>\n",
              "      <td>0.000933</td>\n",
              "      <td>1.327278</td>\n",
              "      <td>0.547254</td>\n",
              "      <td>5.023697</td>\n",
              "      <td>54.599588</td>\n",
              "      <td>1177</td>\n",
              "      <td>2.533014</td>\n",
              "      <td>7.41427</td>\n",
              "      <td>1.327278</td>\n",
              "      <td>30</td>\n",
              "      <td>2015.0</td>\n",
              "      <td>7.0</td>\n",
              "      <td>23.0</td>\n",
              "      <td>30.0</td>\n",
              "      <td>17.0</td>\n",
              "      <td>23.0</td>\n",
              "      <td>0.0</td>\n",
              "      <td>5.0</td>\n",
              "      <td>1.0</td>\n",
              "      <td>0.0</td>\n",
              "      <td>1.0</td>\n",
              "      <td>0.0</td>\n",
              "    </tr>\n",
              "    <tr>\n",
              "      <th>4</th>\n",
              "      <td>31</td>\n",
              "      <td>2015.0</td>\n",
              "      <td>7.0</td>\n",
              "      <td>1038.0</td>\n",
              "      <td>1.0</td>\n",
              "      <td>6.0</td>\n",
              "      <td>5045.0</td>\n",
              "      <td>4027.0</td>\n",
              "      <td>17.061775</td>\n",
              "      <td>0.21533</td>\n",
              "      <td>2.533014</td>\n",
              "      <td>7.41427</td>\n",
              "      <td>0.000933</td>\n",
              "      <td>1.327278</td>\n",
              "      <td>0.547254</td>\n",
              "      <td>5.023697</td>\n",
              "      <td>54.599588</td>\n",
              "      <td>1177</td>\n",
              "      <td>2.533014</td>\n",
              "      <td>7.41427</td>\n",
              "      <td>1.327278</td>\n",
              "      <td>31</td>\n",
              "      <td>2015.0</td>\n",
              "      <td>7.0</td>\n",
              "      <td>21.0</td>\n",
              "      <td>32.0</td>\n",
              "      <td>18.0</td>\n",
              "      <td>25.0</td>\n",
              "      <td>0.0</td>\n",
              "      <td>7.0</td>\n",
              "      <td>5.0</td>\n",
              "      <td>0.0</td>\n",
              "      <td>5.0</td>\n",
              "      <td>0.0</td>\n",
              "    </tr>\n",
              "  </tbody>\n",
              "</table>\n",
              "</div>"
            ],
            "text/plain": [
              "   order_week  Year_x  Month_x     gmv  units  sla  product_mrp  Discount  \\\n",
              "0          27  2015.0      7.0  1294.0    1.0  3.0       3766.0    2480.0   \n",
              "1          28  2015.0      7.0   899.0    1.0  5.0       1828.0     939.0   \n",
              "2          29  2015.0      7.0   828.0    1.0  5.0       1805.0     983.0   \n",
              "3          30  2015.0      7.0  1038.0    1.0  5.0       2322.0    1281.0   \n",
              "4          31  2015.0      7.0  1038.0    1.0  6.0       5045.0    4027.0   \n",
              "\n",
              "   Total Investment       TV   Digital  Sponsorship  Content Marketing  \\\n",
              "0         17.061775  0.21533  2.533014      7.41427           0.000933   \n",
              "1         17.061775  0.21533  2.533014      7.41427           0.000933   \n",
              "2         17.061775  0.21533  2.533014      7.41427           0.000933   \n",
              "3         17.061775  0.21533  2.533014      7.41427           0.000933   \n",
              "4         17.061775  0.21533  2.533014      7.41427           0.000933   \n",
              "\n",
              "   Online marketing   Affiliates       SEM        NPS  Stock Index  \\\n",
              "0          1.327278     0.547254  5.023697  54.599588         1177   \n",
              "1          1.327278     0.547254  5.023697  54.599588         1177   \n",
              "2          1.327278     0.547254  5.023697  54.599588         1177   \n",
              "3          1.327278     0.547254  5.023697  54.599588         1177   \n",
              "4          1.327278     0.547254  5.023697  54.599588         1177   \n",
              "\n",
              "   Adstock_Digital  Adstock_Sponsorship  Adstock_Online marketing  week  \\\n",
              "0         2.533014              7.41427                  1.327278    27   \n",
              "1         2.533014              7.41427                  1.327278    28   \n",
              "2         2.533014              7.41427                  1.327278    29   \n",
              "3         2.533014              7.41427                  1.327278    30   \n",
              "4         2.533014              7.41427                  1.327278    31   \n",
              "\n",
              "   Year_y  Month_y   Day  Max Temp (°C)  Min Temp (°C)  Mean Temp (°C)  \\\n",
              "0  2015.0      7.0   3.0           26.0           13.0            19.0   \n",
              "1  2015.0      7.0   9.0           25.0           15.0            20.0   \n",
              "2  2015.0      7.0  16.0           29.0           18.0            23.0   \n",
              "3  2015.0      7.0  23.0           30.0           17.0            23.0   \n",
              "4  2015.0      7.0  21.0           32.0           18.0            25.0   \n",
              "\n",
              "   Heat Deg Days (°C)  Cool Deg Days (°C)  Total Rain (mm)  Total Snow (cm)  \\\n",
              "0                 0.0                 1.0              0.0              0.0   \n",
              "1                 0.0                 2.0              4.0              0.0   \n",
              "2                 0.0                 5.0              1.0              0.0   \n",
              "3                 0.0                 5.0              1.0              0.0   \n",
              "4                 0.0                 7.0              5.0              0.0   \n",
              "\n",
              "   Total Precip (mm)  Snow on Grnd (cm)  \n",
              "0                0.0                0.0  \n",
              "1                4.0                0.0  \n",
              "2                1.0                0.0  \n",
              "3                1.0                0.0  \n",
              "4                5.0                0.0  "
            ]
          },
          "metadata": {
            "tags": []
          },
          "execution_count": 1185
        }
      ]
    },
    {
      "cell_type": "code",
      "metadata": {
        "id": "6kYewyhrQT4N",
        "colab_type": "code",
        "colab": {
          "base_uri": "https://localhost:8080/",
          "height": 274
        },
        "outputId": "c432cd48-7063-4ada-c02d-19a115b03586"
      },
      "source": [
        "hamdcl.head()"
      ],
      "execution_count": 1186,
      "outputs": [
        {
          "output_type": "execute_result",
          "data": {
            "text/html": [
              "<div>\n",
              "<style scoped>\n",
              "    .dataframe tbody tr th:only-of-type {\n",
              "        vertical-align: middle;\n",
              "    }\n",
              "\n",
              "    .dataframe tbody tr th {\n",
              "        vertical-align: top;\n",
              "    }\n",
              "\n",
              "    .dataframe thead th {\n",
              "        text-align: right;\n",
              "    }\n",
              "</style>\n",
              "<table border=\"1\" class=\"dataframe\">\n",
              "  <thead>\n",
              "    <tr style=\"text-align: right;\">\n",
              "      <th></th>\n",
              "      <th>order_week</th>\n",
              "      <th>Year_x</th>\n",
              "      <th>Month_x</th>\n",
              "      <th>gmv</th>\n",
              "      <th>units</th>\n",
              "      <th>sla</th>\n",
              "      <th>product_mrp</th>\n",
              "      <th>Discount</th>\n",
              "      <th>Total Investment</th>\n",
              "      <th>TV</th>\n",
              "      <th>Digital</th>\n",
              "      <th>Sponsorship</th>\n",
              "      <th>Content Marketing</th>\n",
              "      <th>Online marketing</th>\n",
              "      <th>Affiliates</th>\n",
              "      <th>SEM</th>\n",
              "      <th>NPS</th>\n",
              "      <th>Stock Index</th>\n",
              "      <th>Adstock_Digital</th>\n",
              "      <th>Adstock_Sponsorship</th>\n",
              "      <th>Adstock_Online marketing</th>\n",
              "      <th>week</th>\n",
              "      <th>Year_y</th>\n",
              "      <th>Month_y</th>\n",
              "      <th>Day</th>\n",
              "      <th>Max Temp (°C)</th>\n",
              "      <th>Min Temp (°C)</th>\n",
              "      <th>Mean Temp (°C)</th>\n",
              "      <th>Heat Deg Days (°C)</th>\n",
              "      <th>Cool Deg Days (°C)</th>\n",
              "      <th>Total Rain (mm)</th>\n",
              "      <th>Total Snow (cm)</th>\n",
              "      <th>Total Precip (mm)</th>\n",
              "      <th>Snow on Grnd (cm)</th>\n",
              "    </tr>\n",
              "  </thead>\n",
              "  <tbody>\n",
              "    <tr>\n",
              "      <th>0</th>\n",
              "      <td>27</td>\n",
              "      <td>2015.0</td>\n",
              "      <td>7.0</td>\n",
              "      <td>2733.0</td>\n",
              "      <td>1.0</td>\n",
              "      <td>3.0</td>\n",
              "      <td>4712.0</td>\n",
              "      <td>1980.0</td>\n",
              "      <td>17.061775</td>\n",
              "      <td>0.21533</td>\n",
              "      <td>2.533014</td>\n",
              "      <td>7.41427</td>\n",
              "      <td>0.000933</td>\n",
              "      <td>1.327278</td>\n",
              "      <td>0.547254</td>\n",
              "      <td>5.023697</td>\n",
              "      <td>54.599588</td>\n",
              "      <td>1177</td>\n",
              "      <td>2.533014</td>\n",
              "      <td>7.41427</td>\n",
              "      <td>1.327278</td>\n",
              "      <td>27</td>\n",
              "      <td>2015.0</td>\n",
              "      <td>7.0</td>\n",
              "      <td>3.0</td>\n",
              "      <td>26.0</td>\n",
              "      <td>13.0</td>\n",
              "      <td>19.0</td>\n",
              "      <td>0.0</td>\n",
              "      <td>1.0</td>\n",
              "      <td>0.0</td>\n",
              "      <td>0.0</td>\n",
              "      <td>0.0</td>\n",
              "      <td>0.0</td>\n",
              "    </tr>\n",
              "    <tr>\n",
              "      <th>1</th>\n",
              "      <td>28</td>\n",
              "      <td>2015.0</td>\n",
              "      <td>7.0</td>\n",
              "      <td>2208.0</td>\n",
              "      <td>1.0</td>\n",
              "      <td>8.0</td>\n",
              "      <td>3512.0</td>\n",
              "      <td>1310.0</td>\n",
              "      <td>17.061775</td>\n",
              "      <td>0.21533</td>\n",
              "      <td>2.533014</td>\n",
              "      <td>7.41427</td>\n",
              "      <td>0.000933</td>\n",
              "      <td>1.327278</td>\n",
              "      <td>0.547254</td>\n",
              "      <td>5.023697</td>\n",
              "      <td>54.599588</td>\n",
              "      <td>1177</td>\n",
              "      <td>2.533014</td>\n",
              "      <td>7.41427</td>\n",
              "      <td>1.327278</td>\n",
              "      <td>28</td>\n",
              "      <td>2015.0</td>\n",
              "      <td>7.0</td>\n",
              "      <td>9.0</td>\n",
              "      <td>25.0</td>\n",
              "      <td>15.0</td>\n",
              "      <td>20.0</td>\n",
              "      <td>0.0</td>\n",
              "      <td>2.0</td>\n",
              "      <td>4.0</td>\n",
              "      <td>0.0</td>\n",
              "      <td>4.0</td>\n",
              "      <td>0.0</td>\n",
              "    </tr>\n",
              "    <tr>\n",
              "      <th>2</th>\n",
              "      <td>29</td>\n",
              "      <td>2015.0</td>\n",
              "      <td>7.0</td>\n",
              "      <td>2209.0</td>\n",
              "      <td>1.0</td>\n",
              "      <td>7.0</td>\n",
              "      <td>3622.0</td>\n",
              "      <td>1415.0</td>\n",
              "      <td>17.061775</td>\n",
              "      <td>0.21533</td>\n",
              "      <td>2.533014</td>\n",
              "      <td>7.41427</td>\n",
              "      <td>0.000933</td>\n",
              "      <td>1.327278</td>\n",
              "      <td>0.547254</td>\n",
              "      <td>5.023697</td>\n",
              "      <td>54.599588</td>\n",
              "      <td>1177</td>\n",
              "      <td>2.533014</td>\n",
              "      <td>7.41427</td>\n",
              "      <td>1.327278</td>\n",
              "      <td>29</td>\n",
              "      <td>2015.0</td>\n",
              "      <td>7.0</td>\n",
              "      <td>16.0</td>\n",
              "      <td>29.0</td>\n",
              "      <td>18.0</td>\n",
              "      <td>23.0</td>\n",
              "      <td>0.0</td>\n",
              "      <td>5.0</td>\n",
              "      <td>1.0</td>\n",
              "      <td>0.0</td>\n",
              "      <td>1.0</td>\n",
              "      <td>0.0</td>\n",
              "    </tr>\n",
              "    <tr>\n",
              "      <th>3</th>\n",
              "      <td>30</td>\n",
              "      <td>2015.0</td>\n",
              "      <td>7.0</td>\n",
              "      <td>2126.0</td>\n",
              "      <td>1.0</td>\n",
              "      <td>7.0</td>\n",
              "      <td>3554.0</td>\n",
              "      <td>1430.0</td>\n",
              "      <td>17.061775</td>\n",
              "      <td>0.21533</td>\n",
              "      <td>2.533014</td>\n",
              "      <td>7.41427</td>\n",
              "      <td>0.000933</td>\n",
              "      <td>1.327278</td>\n",
              "      <td>0.547254</td>\n",
              "      <td>5.023697</td>\n",
              "      <td>54.599588</td>\n",
              "      <td>1177</td>\n",
              "      <td>2.533014</td>\n",
              "      <td>7.41427</td>\n",
              "      <td>1.327278</td>\n",
              "      <td>30</td>\n",
              "      <td>2015.0</td>\n",
              "      <td>7.0</td>\n",
              "      <td>23.0</td>\n",
              "      <td>30.0</td>\n",
              "      <td>17.0</td>\n",
              "      <td>23.0</td>\n",
              "      <td>0.0</td>\n",
              "      <td>5.0</td>\n",
              "      <td>1.0</td>\n",
              "      <td>0.0</td>\n",
              "      <td>1.0</td>\n",
              "      <td>0.0</td>\n",
              "    </tr>\n",
              "    <tr>\n",
              "      <th>4</th>\n",
              "      <td>31</td>\n",
              "      <td>2015.0</td>\n",
              "      <td>7.0</td>\n",
              "      <td>2183.0</td>\n",
              "      <td>1.0</td>\n",
              "      <td>7.0</td>\n",
              "      <td>3606.0</td>\n",
              "      <td>1425.0</td>\n",
              "      <td>17.061775</td>\n",
              "      <td>0.21533</td>\n",
              "      <td>2.533014</td>\n",
              "      <td>7.41427</td>\n",
              "      <td>0.000933</td>\n",
              "      <td>1.327278</td>\n",
              "      <td>0.547254</td>\n",
              "      <td>5.023697</td>\n",
              "      <td>54.599588</td>\n",
              "      <td>1177</td>\n",
              "      <td>2.533014</td>\n",
              "      <td>7.41427</td>\n",
              "      <td>1.327278</td>\n",
              "      <td>31</td>\n",
              "      <td>2015.0</td>\n",
              "      <td>7.0</td>\n",
              "      <td>21.0</td>\n",
              "      <td>32.0</td>\n",
              "      <td>18.0</td>\n",
              "      <td>25.0</td>\n",
              "      <td>0.0</td>\n",
              "      <td>7.0</td>\n",
              "      <td>5.0</td>\n",
              "      <td>0.0</td>\n",
              "      <td>5.0</td>\n",
              "      <td>0.0</td>\n",
              "    </tr>\n",
              "  </tbody>\n",
              "</table>\n",
              "</div>"
            ],
            "text/plain": [
              "   order_week  Year_x  Month_x     gmv  units  sla  product_mrp  Discount  \\\n",
              "0          27  2015.0      7.0  2733.0    1.0  3.0       4712.0    1980.0   \n",
              "1          28  2015.0      7.0  2208.0    1.0  8.0       3512.0    1310.0   \n",
              "2          29  2015.0      7.0  2209.0    1.0  7.0       3622.0    1415.0   \n",
              "3          30  2015.0      7.0  2126.0    1.0  7.0       3554.0    1430.0   \n",
              "4          31  2015.0      7.0  2183.0    1.0  7.0       3606.0    1425.0   \n",
              "\n",
              "   Total Investment       TV   Digital  Sponsorship  Content Marketing  \\\n",
              "0         17.061775  0.21533  2.533014      7.41427           0.000933   \n",
              "1         17.061775  0.21533  2.533014      7.41427           0.000933   \n",
              "2         17.061775  0.21533  2.533014      7.41427           0.000933   \n",
              "3         17.061775  0.21533  2.533014      7.41427           0.000933   \n",
              "4         17.061775  0.21533  2.533014      7.41427           0.000933   \n",
              "\n",
              "   Online marketing   Affiliates       SEM        NPS  Stock Index  \\\n",
              "0          1.327278     0.547254  5.023697  54.599588         1177   \n",
              "1          1.327278     0.547254  5.023697  54.599588         1177   \n",
              "2          1.327278     0.547254  5.023697  54.599588         1177   \n",
              "3          1.327278     0.547254  5.023697  54.599588         1177   \n",
              "4          1.327278     0.547254  5.023697  54.599588         1177   \n",
              "\n",
              "   Adstock_Digital  Adstock_Sponsorship  Adstock_Online marketing  week  \\\n",
              "0         2.533014              7.41427                  1.327278    27   \n",
              "1         2.533014              7.41427                  1.327278    28   \n",
              "2         2.533014              7.41427                  1.327278    29   \n",
              "3         2.533014              7.41427                  1.327278    30   \n",
              "4         2.533014              7.41427                  1.327278    31   \n",
              "\n",
              "   Year_y  Month_y   Day  Max Temp (°C)  Min Temp (°C)  Mean Temp (°C)  \\\n",
              "0  2015.0      7.0   3.0           26.0           13.0            19.0   \n",
              "1  2015.0      7.0   9.0           25.0           15.0            20.0   \n",
              "2  2015.0      7.0  16.0           29.0           18.0            23.0   \n",
              "3  2015.0      7.0  23.0           30.0           17.0            23.0   \n",
              "4  2015.0      7.0  21.0           32.0           18.0            25.0   \n",
              "\n",
              "   Heat Deg Days (°C)  Cool Deg Days (°C)  Total Rain (mm)  Total Snow (cm)  \\\n",
              "0                 0.0                 1.0              0.0              0.0   \n",
              "1                 0.0                 2.0              4.0              0.0   \n",
              "2                 0.0                 5.0              1.0              0.0   \n",
              "3                 0.0                 5.0              1.0              0.0   \n",
              "4                 0.0                 7.0              5.0              0.0   \n",
              "\n",
              "   Total Precip (mm)  Snow on Grnd (cm)  \n",
              "0                0.0                0.0  \n",
              "1                4.0                0.0  \n",
              "2                1.0                0.0  \n",
              "3                1.0                0.0  \n",
              "4                5.0                0.0  "
            ]
          },
          "metadata": {
            "tags": []
          },
          "execution_count": 1186
        }
      ]
    },
    {
      "cell_type": "code",
      "metadata": {
        "id": "Kv2Nea_EQWu7",
        "colab_type": "code",
        "colab": {
          "base_uri": "https://localhost:8080/",
          "height": 69
        },
        "outputId": "0f13cfd2-85a0-4746-96fd-e94ec6871862"
      },
      "source": [
        "print(gamdcl.shape)\n",
        "print(hamdcl.shape)\n",
        "print(camdcl.shape)"
      ],
      "execution_count": 1187,
      "outputs": [
        {
          "output_type": "stream",
          "text": [
            "(53, 34)\n",
            "(50, 34)\n",
            "(52, 34)\n"
          ],
          "name": "stdout"
        }
      ]
    },
    {
      "cell_type": "markdown",
      "metadata": {
        "id": "lCA3VdoHe1dR",
        "colab_type": "text"
      },
      "source": [
        "\t\tHoliday list\n",
        "\t2015\t \n",
        "         (18-19th July)\n",
        "\t\t     (15-17th Aug)\n",
        "\t\t     (28-30th Aug)\n",
        "\t\t     (17-15th Oct)\n",
        "\t\t     (7-14th Nov)\n",
        "\t\t    (25th Dec'15 - 3rd Jan'16)\n",
        "\t2016\t \n",
        "    (20-22 Jan)\n",
        "\t\t(1-2 Feb)\n",
        "\t\t(20-21 Feb)\n",
        "\t\t(14-15 Feb)\n",
        "\t\t(7-9 Mar)\n",
        "\t\t(25-27 May)"
      ]
    },
    {
      "cell_type": "code",
      "metadata": {
        "id": "SbL_Y83gf4Wm",
        "colab_type": "code",
        "colab": {}
      },
      "source": [
        "#making a list of holidays\n",
        "holidays=pd.DataFrame([\"2015-07-18\",\"2015-07-19\",\"2015-08-15\",\"2015-08-16\",\"2015-08-17\",\"2015-08-28\",\"2015-08-29\",\"2015-08-30\",\"2015-10-15\",\"2015-10-16\",\"2015-10-17\",\n",
        "          \"2015-11-07\",\"2015-11-08\",\"2015-11-09\",\"2015-11-10\",\"2015-11-11\",\"2015-11-12\",\"2015-11-13\",\"2015-11-14\",\"2015-12-25\",\"2015-12-26\",\"2015-12-27\"\n",
        "          ,\"2015-12-28\",\"2015-12-29\",\"2015-12-30\",\"2015-12-31\",\"2016-01-01\",\"2016-01-02\",\"2016-01-03\",\"2016-01-20\",\"2016-01-21\",\"2016-01-22\",\n",
        "          \"2016-02-01\",\"2016-02-02\",\"2016-02-20\",\"2016-02-21\",\"2016-02-14\",\"2016-02-15\",\"2016-03-07\",\"2016-03-08\",\"2016-03-09\",\"2016-05-25\",\"2016-05-26\",\"2016-05-27\"],columns=[\"Date\"])"
      ],
      "execution_count": 1188,
      "outputs": []
    },
    {
      "cell_type": "code",
      "metadata": {
        "id": "62WbBxZEo1wO",
        "colab_type": "code",
        "colab": {}
      },
      "source": [
        "holidays[\"Date\"]=pd.to_datetime(holidays.Date)"
      ],
      "execution_count": 1189,
      "outputs": []
    },
    {
      "cell_type": "code",
      "metadata": {
        "id": "WYK92gKSpAFJ",
        "colab_type": "code",
        "colab": {}
      },
      "source": [
        "holidays['week'] = holidays['Date'].dt.week\n",
        "holidays.loc[(holidays['Date'].dt.year == 2016) & (holidays['Date'].dt.week !=53), 'week'] = 53+holidays['Date'].dt.week"
      ],
      "execution_count": 1190,
      "outputs": []
    },
    {
      "cell_type": "code",
      "metadata": {
        "id": "8733uGDJwNC5",
        "colab_type": "code",
        "colab": {
          "base_uri": "https://localhost:8080/",
          "height": 202
        },
        "outputId": "c412d146-7a05-4e5c-d13a-8c209bbd6bad"
      },
      "source": [
        "holidays.head()"
      ],
      "execution_count": 1191,
      "outputs": [
        {
          "output_type": "execute_result",
          "data": {
            "text/html": [
              "<div>\n",
              "<style scoped>\n",
              "    .dataframe tbody tr th:only-of-type {\n",
              "        vertical-align: middle;\n",
              "    }\n",
              "\n",
              "    .dataframe tbody tr th {\n",
              "        vertical-align: top;\n",
              "    }\n",
              "\n",
              "    .dataframe thead th {\n",
              "        text-align: right;\n",
              "    }\n",
              "</style>\n",
              "<table border=\"1\" class=\"dataframe\">\n",
              "  <thead>\n",
              "    <tr style=\"text-align: right;\">\n",
              "      <th></th>\n",
              "      <th>Date</th>\n",
              "      <th>week</th>\n",
              "    </tr>\n",
              "  </thead>\n",
              "  <tbody>\n",
              "    <tr>\n",
              "      <th>0</th>\n",
              "      <td>2015-07-18</td>\n",
              "      <td>29</td>\n",
              "    </tr>\n",
              "    <tr>\n",
              "      <th>1</th>\n",
              "      <td>2015-07-19</td>\n",
              "      <td>29</td>\n",
              "    </tr>\n",
              "    <tr>\n",
              "      <th>2</th>\n",
              "      <td>2015-08-15</td>\n",
              "      <td>33</td>\n",
              "    </tr>\n",
              "    <tr>\n",
              "      <th>3</th>\n",
              "      <td>2015-08-16</td>\n",
              "      <td>33</td>\n",
              "    </tr>\n",
              "    <tr>\n",
              "      <th>4</th>\n",
              "      <td>2015-08-17</td>\n",
              "      <td>34</td>\n",
              "    </tr>\n",
              "  </tbody>\n",
              "</table>\n",
              "</div>"
            ],
            "text/plain": [
              "        Date  week\n",
              "0 2015-07-18    29\n",
              "1 2015-07-19    29\n",
              "2 2015-08-15    33\n",
              "3 2015-08-16    33\n",
              "4 2015-08-17    34"
            ]
          },
          "metadata": {
            "tags": []
          },
          "execution_count": 1191
        }
      ]
    },
    {
      "cell_type": "code",
      "metadata": {
        "id": "J91N1iwsBwOV",
        "colab_type": "code",
        "colab": {}
      },
      "source": [
        "#Adding holidays flag to main dataframe\n",
        "gamdcl[\"holidays\"]=gamdcl.week.isin(holidays.week).astype(np.int8)\n",
        "camdcl[\"holidays\"]=camdcl.week.isin(holidays.week).astype(np.int8)\n",
        "hamdcl[\"holidays\"] = hamdcl.week.isin(holidays.week).astype(np.int8)"
      ],
      "execution_count": 1192,
      "outputs": []
    },
    {
      "cell_type": "markdown",
      "metadata": {
        "id": "kQBCCzu7OUvT",
        "colab_type": "text"
      },
      "source": [
        "PayDay Addition\n",
        "As we know only 1st and 15th of month is payday.we will find weeks for all the months."
      ]
    },
    {
      "cell_type": "code",
      "metadata": {
        "id": "KNqy35jzCOFx",
        "colab_type": "code",
        "colab": {}
      },
      "source": [
        "payday=pd.DataFrame([\"2015-07-01\",\"2015-07-15\",\"2015-08-01\",\"2015-08-15\",\"2015-09-01\",\"2015-09-15\",\"2015-10-01\",\"2015-10-15\",\"2015-11-01\",\"2015-11-15\",\"2015-12-01\",\n",
        "                     \"2015-12-15\",\"2016-01-01\",\"2016-01-15\",\"2016-02-01\",\"2016-02-15\",\"2016-03-01\",\"2016-03-15\",\"2016-04-01\",\"2016-04-15\",\"2016-05-01\",\"2016-05-15\",\n",
        "                     \"2016-06-01\",\"2016-06-15\"],columns=[\"Date\"])"
      ],
      "execution_count": 1193,
      "outputs": []
    },
    {
      "cell_type": "code",
      "metadata": {
        "id": "0fuIvkE_9GtU",
        "colab_type": "code",
        "colab": {}
      },
      "source": [
        "payday[\"Date\"]=pd.to_datetime(payday.Date)"
      ],
      "execution_count": 1194,
      "outputs": []
    },
    {
      "cell_type": "code",
      "metadata": {
        "id": "0q44eKn0Fbza",
        "colab_type": "code",
        "colab": {
          "base_uri": "https://localhost:8080/",
          "height": 202
        },
        "outputId": "294d946c-de72-40b0-c7b5-2e27d63d5657"
      },
      "source": [
        "payday.head()"
      ],
      "execution_count": 1195,
      "outputs": [
        {
          "output_type": "execute_result",
          "data": {
            "text/html": [
              "<div>\n",
              "<style scoped>\n",
              "    .dataframe tbody tr th:only-of-type {\n",
              "        vertical-align: middle;\n",
              "    }\n",
              "\n",
              "    .dataframe tbody tr th {\n",
              "        vertical-align: top;\n",
              "    }\n",
              "\n",
              "    .dataframe thead th {\n",
              "        text-align: right;\n",
              "    }\n",
              "</style>\n",
              "<table border=\"1\" class=\"dataframe\">\n",
              "  <thead>\n",
              "    <tr style=\"text-align: right;\">\n",
              "      <th></th>\n",
              "      <th>Date</th>\n",
              "    </tr>\n",
              "  </thead>\n",
              "  <tbody>\n",
              "    <tr>\n",
              "      <th>0</th>\n",
              "      <td>2015-07-01</td>\n",
              "    </tr>\n",
              "    <tr>\n",
              "      <th>1</th>\n",
              "      <td>2015-07-15</td>\n",
              "    </tr>\n",
              "    <tr>\n",
              "      <th>2</th>\n",
              "      <td>2015-08-01</td>\n",
              "    </tr>\n",
              "    <tr>\n",
              "      <th>3</th>\n",
              "      <td>2015-08-15</td>\n",
              "    </tr>\n",
              "    <tr>\n",
              "      <th>4</th>\n",
              "      <td>2015-09-01</td>\n",
              "    </tr>\n",
              "  </tbody>\n",
              "</table>\n",
              "</div>"
            ],
            "text/plain": [
              "        Date\n",
              "0 2015-07-01\n",
              "1 2015-07-15\n",
              "2 2015-08-01\n",
              "3 2015-08-15\n",
              "4 2015-09-01"
            ]
          },
          "metadata": {
            "tags": []
          },
          "execution_count": 1195
        }
      ]
    },
    {
      "cell_type": "code",
      "metadata": {
        "id": "afOooTKnUD2d",
        "colab_type": "code",
        "colab": {}
      },
      "source": [
        "payday['week'] = payday['Date'].dt.week\n",
        "payday.loc[(payday['Date'].dt.year == 2016) & (payday['Date'].dt.week !=53), 'week'] = 53+payday['Date'].dt.week"
      ],
      "execution_count": 1196,
      "outputs": []
    },
    {
      "cell_type": "code",
      "metadata": {
        "id": "6wdnSISQ9CZ1",
        "colab_type": "code",
        "colab": {}
      },
      "source": [
        "#Adding payday flag to main dataframe\n",
        "gamdcl[\"payday\"]=gamdcl.week.isin(payday.week).astype(np.int8)\n",
        "camdcl[\"payday\"]=camdcl.week.isin(payday.week).astype(np.int8)\n",
        "hamdcl[\"payday\"] = hamdcl.week.isin(payday.week).astype(np.int8)"
      ],
      "execution_count": 1197,
      "outputs": []
    },
    {
      "cell_type": "code",
      "metadata": {
        "id": "M3uOrcu99g5z",
        "colab_type": "code",
        "colab": {
          "base_uri": "https://localhost:8080/",
          "height": 274
        },
        "outputId": "1381379a-11df-41d6-c2c4-b10fabc55ef4"
      },
      "source": [
        "gamdcl.head()"
      ],
      "execution_count": 1198,
      "outputs": [
        {
          "output_type": "execute_result",
          "data": {
            "text/html": [
              "<div>\n",
              "<style scoped>\n",
              "    .dataframe tbody tr th:only-of-type {\n",
              "        vertical-align: middle;\n",
              "    }\n",
              "\n",
              "    .dataframe tbody tr th {\n",
              "        vertical-align: top;\n",
              "    }\n",
              "\n",
              "    .dataframe thead th {\n",
              "        text-align: right;\n",
              "    }\n",
              "</style>\n",
              "<table border=\"1\" class=\"dataframe\">\n",
              "  <thead>\n",
              "    <tr style=\"text-align: right;\">\n",
              "      <th></th>\n",
              "      <th>order_week</th>\n",
              "      <th>Year_x</th>\n",
              "      <th>Month_x</th>\n",
              "      <th>gmv</th>\n",
              "      <th>units</th>\n",
              "      <th>sla</th>\n",
              "      <th>product_mrp</th>\n",
              "      <th>Discount</th>\n",
              "      <th>Total Investment</th>\n",
              "      <th>TV</th>\n",
              "      <th>Digital</th>\n",
              "      <th>Sponsorship</th>\n",
              "      <th>Content Marketing</th>\n",
              "      <th>Online marketing</th>\n",
              "      <th>Affiliates</th>\n",
              "      <th>SEM</th>\n",
              "      <th>NPS</th>\n",
              "      <th>Stock Index</th>\n",
              "      <th>Adstock_Digital</th>\n",
              "      <th>Adstock_Sponsorship</th>\n",
              "      <th>Adstock_Online marketing</th>\n",
              "      <th>week</th>\n",
              "      <th>Year_y</th>\n",
              "      <th>Month_y</th>\n",
              "      <th>Day</th>\n",
              "      <th>Max Temp (°C)</th>\n",
              "      <th>Min Temp (°C)</th>\n",
              "      <th>Mean Temp (°C)</th>\n",
              "      <th>Heat Deg Days (°C)</th>\n",
              "      <th>Cool Deg Days (°C)</th>\n",
              "      <th>Total Rain (mm)</th>\n",
              "      <th>Total Snow (cm)</th>\n",
              "      <th>Total Precip (mm)</th>\n",
              "      <th>Snow on Grnd (cm)</th>\n",
              "      <th>holidays</th>\n",
              "      <th>payday</th>\n",
              "    </tr>\n",
              "  </thead>\n",
              "  <tbody>\n",
              "    <tr>\n",
              "      <th>0</th>\n",
              "      <td>27</td>\n",
              "      <td>2015.0</td>\n",
              "      <td>7.0</td>\n",
              "      <td>1294.0</td>\n",
              "      <td>1.0</td>\n",
              "      <td>3.0</td>\n",
              "      <td>3766.0</td>\n",
              "      <td>2480.0</td>\n",
              "      <td>17.061775</td>\n",
              "      <td>0.21533</td>\n",
              "      <td>2.533014</td>\n",
              "      <td>7.41427</td>\n",
              "      <td>0.000933</td>\n",
              "      <td>1.327278</td>\n",
              "      <td>0.547254</td>\n",
              "      <td>5.023697</td>\n",
              "      <td>54.599588</td>\n",
              "      <td>1177</td>\n",
              "      <td>2.533014</td>\n",
              "      <td>7.41427</td>\n",
              "      <td>1.327278</td>\n",
              "      <td>27</td>\n",
              "      <td>2015.0</td>\n",
              "      <td>7.0</td>\n",
              "      <td>3.0</td>\n",
              "      <td>26.0</td>\n",
              "      <td>13.0</td>\n",
              "      <td>19.0</td>\n",
              "      <td>0.0</td>\n",
              "      <td>1.0</td>\n",
              "      <td>0.0</td>\n",
              "      <td>0.0</td>\n",
              "      <td>0.0</td>\n",
              "      <td>0.0</td>\n",
              "      <td>0</td>\n",
              "      <td>1</td>\n",
              "    </tr>\n",
              "    <tr>\n",
              "      <th>1</th>\n",
              "      <td>28</td>\n",
              "      <td>2015.0</td>\n",
              "      <td>7.0</td>\n",
              "      <td>899.0</td>\n",
              "      <td>1.0</td>\n",
              "      <td>5.0</td>\n",
              "      <td>1828.0</td>\n",
              "      <td>939.0</td>\n",
              "      <td>17.061775</td>\n",
              "      <td>0.21533</td>\n",
              "      <td>2.533014</td>\n",
              "      <td>7.41427</td>\n",
              "      <td>0.000933</td>\n",
              "      <td>1.327278</td>\n",
              "      <td>0.547254</td>\n",
              "      <td>5.023697</td>\n",
              "      <td>54.599588</td>\n",
              "      <td>1177</td>\n",
              "      <td>2.533014</td>\n",
              "      <td>7.41427</td>\n",
              "      <td>1.327278</td>\n",
              "      <td>28</td>\n",
              "      <td>2015.0</td>\n",
              "      <td>7.0</td>\n",
              "      <td>9.0</td>\n",
              "      <td>25.0</td>\n",
              "      <td>15.0</td>\n",
              "      <td>20.0</td>\n",
              "      <td>0.0</td>\n",
              "      <td>2.0</td>\n",
              "      <td>4.0</td>\n",
              "      <td>0.0</td>\n",
              "      <td>4.0</td>\n",
              "      <td>0.0</td>\n",
              "      <td>0</td>\n",
              "      <td>0</td>\n",
              "    </tr>\n",
              "    <tr>\n",
              "      <th>2</th>\n",
              "      <td>29</td>\n",
              "      <td>2015.0</td>\n",
              "      <td>7.0</td>\n",
              "      <td>828.0</td>\n",
              "      <td>1.0</td>\n",
              "      <td>5.0</td>\n",
              "      <td>1805.0</td>\n",
              "      <td>983.0</td>\n",
              "      <td>17.061775</td>\n",
              "      <td>0.21533</td>\n",
              "      <td>2.533014</td>\n",
              "      <td>7.41427</td>\n",
              "      <td>0.000933</td>\n",
              "      <td>1.327278</td>\n",
              "      <td>0.547254</td>\n",
              "      <td>5.023697</td>\n",
              "      <td>54.599588</td>\n",
              "      <td>1177</td>\n",
              "      <td>2.533014</td>\n",
              "      <td>7.41427</td>\n",
              "      <td>1.327278</td>\n",
              "      <td>29</td>\n",
              "      <td>2015.0</td>\n",
              "      <td>7.0</td>\n",
              "      <td>16.0</td>\n",
              "      <td>29.0</td>\n",
              "      <td>18.0</td>\n",
              "      <td>23.0</td>\n",
              "      <td>0.0</td>\n",
              "      <td>5.0</td>\n",
              "      <td>1.0</td>\n",
              "      <td>0.0</td>\n",
              "      <td>1.0</td>\n",
              "      <td>0.0</td>\n",
              "      <td>1</td>\n",
              "      <td>1</td>\n",
              "    </tr>\n",
              "    <tr>\n",
              "      <th>3</th>\n",
              "      <td>30</td>\n",
              "      <td>2015.0</td>\n",
              "      <td>7.0</td>\n",
              "      <td>1038.0</td>\n",
              "      <td>1.0</td>\n",
              "      <td>5.0</td>\n",
              "      <td>2322.0</td>\n",
              "      <td>1281.0</td>\n",
              "      <td>17.061775</td>\n",
              "      <td>0.21533</td>\n",
              "      <td>2.533014</td>\n",
              "      <td>7.41427</td>\n",
              "      <td>0.000933</td>\n",
              "      <td>1.327278</td>\n",
              "      <td>0.547254</td>\n",
              "      <td>5.023697</td>\n",
              "      <td>54.599588</td>\n",
              "      <td>1177</td>\n",
              "      <td>2.533014</td>\n",
              "      <td>7.41427</td>\n",
              "      <td>1.327278</td>\n",
              "      <td>30</td>\n",
              "      <td>2015.0</td>\n",
              "      <td>7.0</td>\n",
              "      <td>23.0</td>\n",
              "      <td>30.0</td>\n",
              "      <td>17.0</td>\n",
              "      <td>23.0</td>\n",
              "      <td>0.0</td>\n",
              "      <td>5.0</td>\n",
              "      <td>1.0</td>\n",
              "      <td>0.0</td>\n",
              "      <td>1.0</td>\n",
              "      <td>0.0</td>\n",
              "      <td>0</td>\n",
              "      <td>0</td>\n",
              "    </tr>\n",
              "    <tr>\n",
              "      <th>4</th>\n",
              "      <td>31</td>\n",
              "      <td>2015.0</td>\n",
              "      <td>7.0</td>\n",
              "      <td>1038.0</td>\n",
              "      <td>1.0</td>\n",
              "      <td>6.0</td>\n",
              "      <td>5045.0</td>\n",
              "      <td>4027.0</td>\n",
              "      <td>17.061775</td>\n",
              "      <td>0.21533</td>\n",
              "      <td>2.533014</td>\n",
              "      <td>7.41427</td>\n",
              "      <td>0.000933</td>\n",
              "      <td>1.327278</td>\n",
              "      <td>0.547254</td>\n",
              "      <td>5.023697</td>\n",
              "      <td>54.599588</td>\n",
              "      <td>1177</td>\n",
              "      <td>2.533014</td>\n",
              "      <td>7.41427</td>\n",
              "      <td>1.327278</td>\n",
              "      <td>31</td>\n",
              "      <td>2015.0</td>\n",
              "      <td>7.0</td>\n",
              "      <td>21.0</td>\n",
              "      <td>32.0</td>\n",
              "      <td>18.0</td>\n",
              "      <td>25.0</td>\n",
              "      <td>0.0</td>\n",
              "      <td>7.0</td>\n",
              "      <td>5.0</td>\n",
              "      <td>0.0</td>\n",
              "      <td>5.0</td>\n",
              "      <td>0.0</td>\n",
              "      <td>0</td>\n",
              "      <td>1</td>\n",
              "    </tr>\n",
              "  </tbody>\n",
              "</table>\n",
              "</div>"
            ],
            "text/plain": [
              "   order_week  Year_x  Month_x     gmv  units  sla  product_mrp  Discount  \\\n",
              "0          27  2015.0      7.0  1294.0    1.0  3.0       3766.0    2480.0   \n",
              "1          28  2015.0      7.0   899.0    1.0  5.0       1828.0     939.0   \n",
              "2          29  2015.0      7.0   828.0    1.0  5.0       1805.0     983.0   \n",
              "3          30  2015.0      7.0  1038.0    1.0  5.0       2322.0    1281.0   \n",
              "4          31  2015.0      7.0  1038.0    1.0  6.0       5045.0    4027.0   \n",
              "\n",
              "   Total Investment       TV   Digital  Sponsorship  Content Marketing  \\\n",
              "0         17.061775  0.21533  2.533014      7.41427           0.000933   \n",
              "1         17.061775  0.21533  2.533014      7.41427           0.000933   \n",
              "2         17.061775  0.21533  2.533014      7.41427           0.000933   \n",
              "3         17.061775  0.21533  2.533014      7.41427           0.000933   \n",
              "4         17.061775  0.21533  2.533014      7.41427           0.000933   \n",
              "\n",
              "   Online marketing   Affiliates       SEM        NPS  Stock Index  \\\n",
              "0          1.327278     0.547254  5.023697  54.599588         1177   \n",
              "1          1.327278     0.547254  5.023697  54.599588         1177   \n",
              "2          1.327278     0.547254  5.023697  54.599588         1177   \n",
              "3          1.327278     0.547254  5.023697  54.599588         1177   \n",
              "4          1.327278     0.547254  5.023697  54.599588         1177   \n",
              "\n",
              "   Adstock_Digital  Adstock_Sponsorship  Adstock_Online marketing  week  \\\n",
              "0         2.533014              7.41427                  1.327278    27   \n",
              "1         2.533014              7.41427                  1.327278    28   \n",
              "2         2.533014              7.41427                  1.327278    29   \n",
              "3         2.533014              7.41427                  1.327278    30   \n",
              "4         2.533014              7.41427                  1.327278    31   \n",
              "\n",
              "   Year_y  Month_y   Day  Max Temp (°C)  Min Temp (°C)  Mean Temp (°C)  \\\n",
              "0  2015.0      7.0   3.0           26.0           13.0            19.0   \n",
              "1  2015.0      7.0   9.0           25.0           15.0            20.0   \n",
              "2  2015.0      7.0  16.0           29.0           18.0            23.0   \n",
              "3  2015.0      7.0  23.0           30.0           17.0            23.0   \n",
              "4  2015.0      7.0  21.0           32.0           18.0            25.0   \n",
              "\n",
              "   Heat Deg Days (°C)  Cool Deg Days (°C)  Total Rain (mm)  Total Snow (cm)  \\\n",
              "0                 0.0                 1.0              0.0              0.0   \n",
              "1                 0.0                 2.0              4.0              0.0   \n",
              "2                 0.0                 5.0              1.0              0.0   \n",
              "3                 0.0                 5.0              1.0              0.0   \n",
              "4                 0.0                 7.0              5.0              0.0   \n",
              "\n",
              "   Total Precip (mm)  Snow on Grnd (cm)  holidays  payday  \n",
              "0                0.0                0.0         0       1  \n",
              "1                4.0                0.0         0       0  \n",
              "2                1.0                0.0         1       1  \n",
              "3                1.0                0.0         0       0  \n",
              "4                5.0                0.0         0       1  "
            ]
          },
          "metadata": {
            "tags": []
          },
          "execution_count": 1198
        }
      ]
    },
    {
      "cell_type": "code",
      "metadata": {
        "id": "IAyiWdLjruxI",
        "colab_type": "code",
        "colab": {}
      },
      "source": [
        "#dropping Year_x and month_x from each of the df.\n",
        "gamdcl.drop([\"Year_x\",\"Month_x\",\"week\"],axis=1,inplace=True)\n",
        "hamdcl.drop([\"Year_x\",\"Month_x\",\"week\"],axis=1,inplace=True)\n",
        "camdcl.drop([\"Year_x\",\"Month_x\",\"week\"],axis=1,inplace=True)"
      ],
      "execution_count": 1199,
      "outputs": []
    },
    {
      "cell_type": "code",
      "metadata": {
        "id": "m_JNJWttd8QP",
        "colab_type": "code",
        "colab": {
          "base_uri": "https://localhost:8080/",
          "height": 607
        },
        "outputId": "d446881e-3203-47a8-d449-0df9fe1ded85"
      },
      "source": [
        "gamdcl.isnull().sum()"
      ],
      "execution_count": 1200,
      "outputs": [
        {
          "output_type": "execute_result",
          "data": {
            "text/plain": [
              "order_week                  0\n",
              "gmv                         0\n",
              "units                       0\n",
              "sla                         0\n",
              "product_mrp                 0\n",
              "Discount                    0\n",
              "Total Investment            0\n",
              "TV                          0\n",
              "Digital                     0\n",
              "Sponsorship                 0\n",
              "Content Marketing           0\n",
              "Online marketing            0\n",
              " Affiliates                 0\n",
              "SEM                         0\n",
              "NPS                         0\n",
              "Stock Index                 0\n",
              "Adstock_Digital             0\n",
              "Adstock_Sponsorship         0\n",
              "Adstock_Online marketing    0\n",
              "Year_y                      0\n",
              "Month_y                     0\n",
              "Day                         0\n",
              "Max Temp (°C)               0\n",
              "Min Temp (°C)               1\n",
              "Mean Temp (°C)              1\n",
              "Heat Deg Days (°C)          1\n",
              "Cool Deg Days (°C)          1\n",
              "Total Rain (mm)             0\n",
              "Total Snow (cm)             0\n",
              "Total Precip (mm)           0\n",
              "Snow on Grnd (cm)           0\n",
              "holidays                    0\n",
              "payday                      0\n",
              "dtype: int64"
            ]
          },
          "metadata": {
            "tags": []
          },
          "execution_count": 1200
        }
      ]
    },
    {
      "cell_type": "code",
      "metadata": {
        "id": "XrxQ49Wue-p4",
        "colab_type": "code",
        "colab": {
          "base_uri": "https://localhost:8080/",
          "height": 35
        },
        "outputId": "ac8d5289-26c7-42e9-d5a0-61bb1d975403"
      },
      "source": [
        "gamdcl[\"Min Temp (°C)\"].mean()"
      ],
      "execution_count": 1201,
      "outputs": [
        {
          "output_type": "execute_result",
          "data": {
            "text/plain": [
              "7.076923076923077"
            ]
          },
          "metadata": {
            "tags": []
          },
          "execution_count": 1201
        }
      ]
    },
    {
      "cell_type": "code",
      "metadata": {
        "id": "Lzy45z1Weoar",
        "colab_type": "code",
        "colab": {}
      },
      "source": [
        "#filling null value by columns mean\n",
        "gamdcl[\"Min Temp (°C)\"].fillna(gamdcl[\"Min Temp (°C)\"].mean(),inplace=True)\n",
        "gamdcl[\"Mean Temp (°C)\"].fillna(gamdcl[\"Mean Temp (°C)\"].mean(),inplace=True) \n",
        "gamdcl[\"Heat Deg Days (°C)\"].fillna(gamdcl[\"Heat Deg Days (°C)\"].mean(),inplace=True) \n",
        "gamdcl[\"Cool Deg Days (°C)\"].fillna(gamdcl[\"Cool Deg Days (°C)\"].mean(),inplace=True)  "
      ],
      "execution_count": 1202,
      "outputs": []
    },
    {
      "cell_type": "code",
      "metadata": {
        "id": "uZCCCMOa4vr_",
        "colab_type": "code",
        "colab": {
          "base_uri": "https://localhost:8080/",
          "height": 607
        },
        "outputId": "33ada5de-293c-4dee-94fc-836f04784721"
      },
      "source": [
        "hamdcl.isnull().sum()"
      ],
      "execution_count": 1244,
      "outputs": [
        {
          "output_type": "execute_result",
          "data": {
            "text/plain": [
              "order_week                  0\n",
              "gmv                         0\n",
              "units                       0\n",
              "sla                         0\n",
              "product_mrp                 0\n",
              "Discount                    0\n",
              "Total Investment            0\n",
              "TV                          0\n",
              "Digital                     0\n",
              "Sponsorship                 0\n",
              "Content Marketing           0\n",
              "Online marketing            0\n",
              " Affiliates                 0\n",
              "SEM                         0\n",
              "NPS                         0\n",
              "Stock Index                 0\n",
              "Adstock_Digital             0\n",
              "Adstock_Sponsorship         0\n",
              "Adstock_Online marketing    0\n",
              "Year_y                      0\n",
              "Month_y                     0\n",
              "Day                         0\n",
              "Max Temp (°C)               0\n",
              "Min Temp (°C)               1\n",
              "Mean Temp (°C)              1\n",
              "Heat Deg Days (°C)          1\n",
              "Cool Deg Days (°C)          1\n",
              "Total Rain (mm)             0\n",
              "Total Snow (cm)             0\n",
              "Total Precip (mm)           0\n",
              "Snow on Grnd (cm)           0\n",
              "holidays                    0\n",
              "payday                      0\n",
              "dtype: int64"
            ]
          },
          "metadata": {
            "tags": []
          },
          "execution_count": 1244
        }
      ]
    },
    {
      "cell_type": "markdown",
      "metadata": {
        "id": "s-HIhdSE_yO8",
        "colab_type": "text"
      },
      "source": [
        "Preparing Modeling for all the gamdcl data frame."
      ]
    },
    {
      "cell_type": "code",
      "metadata": {
        "id": "DW-n3iAS7iqi",
        "colab_type": "code",
        "colab": {
          "base_uri": "https://localhost:8080/",
          "height": 121
        },
        "outputId": "4a7f0226-3b5c-4364-806c-3e17155af9aa"
      },
      "source": [
        "#train test split\n",
        "# Putting response variable to y\n",
        "y = gamdcl['gmv']\n",
        "y.head()"
      ],
      "execution_count": 1203,
      "outputs": [
        {
          "output_type": "execute_result",
          "data": {
            "text/plain": [
              "0    1294.0\n",
              "1     899.0\n",
              "2     828.0\n",
              "3    1038.0\n",
              "4    1038.0\n",
              "Name: gmv, dtype: float64"
            ]
          },
          "metadata": {
            "tags": []
          },
          "execution_count": 1203
        }
      ]
    },
    {
      "cell_type": "code",
      "metadata": {
        "id": "aMZOznp77rRE",
        "colab_type": "code",
        "colab": {
          "base_uri": "https://localhost:8080/",
          "height": 274
        },
        "outputId": "af0d3c56-cbf0-4c3b-e77e-3e3d01ef7e3b"
      },
      "source": [
        "# Putting feature variable to X\n",
        "X = gamdcl.drop(\"gmv\",axis = 1)\n",
        "X.head()"
      ],
      "execution_count": 1204,
      "outputs": [
        {
          "output_type": "execute_result",
          "data": {
            "text/html": [
              "<div>\n",
              "<style scoped>\n",
              "    .dataframe tbody tr th:only-of-type {\n",
              "        vertical-align: middle;\n",
              "    }\n",
              "\n",
              "    .dataframe tbody tr th {\n",
              "        vertical-align: top;\n",
              "    }\n",
              "\n",
              "    .dataframe thead th {\n",
              "        text-align: right;\n",
              "    }\n",
              "</style>\n",
              "<table border=\"1\" class=\"dataframe\">\n",
              "  <thead>\n",
              "    <tr style=\"text-align: right;\">\n",
              "      <th></th>\n",
              "      <th>order_week</th>\n",
              "      <th>units</th>\n",
              "      <th>sla</th>\n",
              "      <th>product_mrp</th>\n",
              "      <th>Discount</th>\n",
              "      <th>Total Investment</th>\n",
              "      <th>TV</th>\n",
              "      <th>Digital</th>\n",
              "      <th>Sponsorship</th>\n",
              "      <th>Content Marketing</th>\n",
              "      <th>Online marketing</th>\n",
              "      <th>Affiliates</th>\n",
              "      <th>SEM</th>\n",
              "      <th>NPS</th>\n",
              "      <th>Stock Index</th>\n",
              "      <th>Adstock_Digital</th>\n",
              "      <th>Adstock_Sponsorship</th>\n",
              "      <th>Adstock_Online marketing</th>\n",
              "      <th>Year_y</th>\n",
              "      <th>Month_y</th>\n",
              "      <th>Day</th>\n",
              "      <th>Max Temp (°C)</th>\n",
              "      <th>Min Temp (°C)</th>\n",
              "      <th>Mean Temp (°C)</th>\n",
              "      <th>Heat Deg Days (°C)</th>\n",
              "      <th>Cool Deg Days (°C)</th>\n",
              "      <th>Total Rain (mm)</th>\n",
              "      <th>Total Snow (cm)</th>\n",
              "      <th>Total Precip (mm)</th>\n",
              "      <th>Snow on Grnd (cm)</th>\n",
              "      <th>holidays</th>\n",
              "      <th>payday</th>\n",
              "    </tr>\n",
              "  </thead>\n",
              "  <tbody>\n",
              "    <tr>\n",
              "      <th>0</th>\n",
              "      <td>27</td>\n",
              "      <td>1.0</td>\n",
              "      <td>3.0</td>\n",
              "      <td>3766.0</td>\n",
              "      <td>2480.0</td>\n",
              "      <td>17.061775</td>\n",
              "      <td>0.21533</td>\n",
              "      <td>2.533014</td>\n",
              "      <td>7.41427</td>\n",
              "      <td>0.000933</td>\n",
              "      <td>1.327278</td>\n",
              "      <td>0.547254</td>\n",
              "      <td>5.023697</td>\n",
              "      <td>54.599588</td>\n",
              "      <td>1177</td>\n",
              "      <td>2.533014</td>\n",
              "      <td>7.41427</td>\n",
              "      <td>1.327278</td>\n",
              "      <td>2015.0</td>\n",
              "      <td>7.0</td>\n",
              "      <td>3.0</td>\n",
              "      <td>26.0</td>\n",
              "      <td>13.0</td>\n",
              "      <td>19.0</td>\n",
              "      <td>0.0</td>\n",
              "      <td>1.0</td>\n",
              "      <td>0.0</td>\n",
              "      <td>0.0</td>\n",
              "      <td>0.0</td>\n",
              "      <td>0.0</td>\n",
              "      <td>0</td>\n",
              "      <td>1</td>\n",
              "    </tr>\n",
              "    <tr>\n",
              "      <th>1</th>\n",
              "      <td>28</td>\n",
              "      <td>1.0</td>\n",
              "      <td>5.0</td>\n",
              "      <td>1828.0</td>\n",
              "      <td>939.0</td>\n",
              "      <td>17.061775</td>\n",
              "      <td>0.21533</td>\n",
              "      <td>2.533014</td>\n",
              "      <td>7.41427</td>\n",
              "      <td>0.000933</td>\n",
              "      <td>1.327278</td>\n",
              "      <td>0.547254</td>\n",
              "      <td>5.023697</td>\n",
              "      <td>54.599588</td>\n",
              "      <td>1177</td>\n",
              "      <td>2.533014</td>\n",
              "      <td>7.41427</td>\n",
              "      <td>1.327278</td>\n",
              "      <td>2015.0</td>\n",
              "      <td>7.0</td>\n",
              "      <td>9.0</td>\n",
              "      <td>25.0</td>\n",
              "      <td>15.0</td>\n",
              "      <td>20.0</td>\n",
              "      <td>0.0</td>\n",
              "      <td>2.0</td>\n",
              "      <td>4.0</td>\n",
              "      <td>0.0</td>\n",
              "      <td>4.0</td>\n",
              "      <td>0.0</td>\n",
              "      <td>0</td>\n",
              "      <td>0</td>\n",
              "    </tr>\n",
              "    <tr>\n",
              "      <th>2</th>\n",
              "      <td>29</td>\n",
              "      <td>1.0</td>\n",
              "      <td>5.0</td>\n",
              "      <td>1805.0</td>\n",
              "      <td>983.0</td>\n",
              "      <td>17.061775</td>\n",
              "      <td>0.21533</td>\n",
              "      <td>2.533014</td>\n",
              "      <td>7.41427</td>\n",
              "      <td>0.000933</td>\n",
              "      <td>1.327278</td>\n",
              "      <td>0.547254</td>\n",
              "      <td>5.023697</td>\n",
              "      <td>54.599588</td>\n",
              "      <td>1177</td>\n",
              "      <td>2.533014</td>\n",
              "      <td>7.41427</td>\n",
              "      <td>1.327278</td>\n",
              "      <td>2015.0</td>\n",
              "      <td>7.0</td>\n",
              "      <td>16.0</td>\n",
              "      <td>29.0</td>\n",
              "      <td>18.0</td>\n",
              "      <td>23.0</td>\n",
              "      <td>0.0</td>\n",
              "      <td>5.0</td>\n",
              "      <td>1.0</td>\n",
              "      <td>0.0</td>\n",
              "      <td>1.0</td>\n",
              "      <td>0.0</td>\n",
              "      <td>1</td>\n",
              "      <td>1</td>\n",
              "    </tr>\n",
              "    <tr>\n",
              "      <th>3</th>\n",
              "      <td>30</td>\n",
              "      <td>1.0</td>\n",
              "      <td>5.0</td>\n",
              "      <td>2322.0</td>\n",
              "      <td>1281.0</td>\n",
              "      <td>17.061775</td>\n",
              "      <td>0.21533</td>\n",
              "      <td>2.533014</td>\n",
              "      <td>7.41427</td>\n",
              "      <td>0.000933</td>\n",
              "      <td>1.327278</td>\n",
              "      <td>0.547254</td>\n",
              "      <td>5.023697</td>\n",
              "      <td>54.599588</td>\n",
              "      <td>1177</td>\n",
              "      <td>2.533014</td>\n",
              "      <td>7.41427</td>\n",
              "      <td>1.327278</td>\n",
              "      <td>2015.0</td>\n",
              "      <td>7.0</td>\n",
              "      <td>23.0</td>\n",
              "      <td>30.0</td>\n",
              "      <td>17.0</td>\n",
              "      <td>23.0</td>\n",
              "      <td>0.0</td>\n",
              "      <td>5.0</td>\n",
              "      <td>1.0</td>\n",
              "      <td>0.0</td>\n",
              "      <td>1.0</td>\n",
              "      <td>0.0</td>\n",
              "      <td>0</td>\n",
              "      <td>0</td>\n",
              "    </tr>\n",
              "    <tr>\n",
              "      <th>4</th>\n",
              "      <td>31</td>\n",
              "      <td>1.0</td>\n",
              "      <td>6.0</td>\n",
              "      <td>5045.0</td>\n",
              "      <td>4027.0</td>\n",
              "      <td>17.061775</td>\n",
              "      <td>0.21533</td>\n",
              "      <td>2.533014</td>\n",
              "      <td>7.41427</td>\n",
              "      <td>0.000933</td>\n",
              "      <td>1.327278</td>\n",
              "      <td>0.547254</td>\n",
              "      <td>5.023697</td>\n",
              "      <td>54.599588</td>\n",
              "      <td>1177</td>\n",
              "      <td>2.533014</td>\n",
              "      <td>7.41427</td>\n",
              "      <td>1.327278</td>\n",
              "      <td>2015.0</td>\n",
              "      <td>7.0</td>\n",
              "      <td>21.0</td>\n",
              "      <td>32.0</td>\n",
              "      <td>18.0</td>\n",
              "      <td>25.0</td>\n",
              "      <td>0.0</td>\n",
              "      <td>7.0</td>\n",
              "      <td>5.0</td>\n",
              "      <td>0.0</td>\n",
              "      <td>5.0</td>\n",
              "      <td>0.0</td>\n",
              "      <td>0</td>\n",
              "      <td>1</td>\n",
              "    </tr>\n",
              "  </tbody>\n",
              "</table>\n",
              "</div>"
            ],
            "text/plain": [
              "   order_week  units  sla  product_mrp  Discount  Total Investment       TV  \\\n",
              "0          27    1.0  3.0       3766.0    2480.0         17.061775  0.21533   \n",
              "1          28    1.0  5.0       1828.0     939.0         17.061775  0.21533   \n",
              "2          29    1.0  5.0       1805.0     983.0         17.061775  0.21533   \n",
              "3          30    1.0  5.0       2322.0    1281.0         17.061775  0.21533   \n",
              "4          31    1.0  6.0       5045.0    4027.0         17.061775  0.21533   \n",
              "\n",
              "    Digital  Sponsorship  Content Marketing  Online marketing   Affiliates  \\\n",
              "0  2.533014      7.41427           0.000933          1.327278     0.547254   \n",
              "1  2.533014      7.41427           0.000933          1.327278     0.547254   \n",
              "2  2.533014      7.41427           0.000933          1.327278     0.547254   \n",
              "3  2.533014      7.41427           0.000933          1.327278     0.547254   \n",
              "4  2.533014      7.41427           0.000933          1.327278     0.547254   \n",
              "\n",
              "        SEM        NPS  Stock Index  Adstock_Digital  Adstock_Sponsorship  \\\n",
              "0  5.023697  54.599588         1177         2.533014              7.41427   \n",
              "1  5.023697  54.599588         1177         2.533014              7.41427   \n",
              "2  5.023697  54.599588         1177         2.533014              7.41427   \n",
              "3  5.023697  54.599588         1177         2.533014              7.41427   \n",
              "4  5.023697  54.599588         1177         2.533014              7.41427   \n",
              "\n",
              "   Adstock_Online marketing  Year_y  Month_y   Day  Max Temp (°C)  \\\n",
              "0                  1.327278  2015.0      7.0   3.0           26.0   \n",
              "1                  1.327278  2015.0      7.0   9.0           25.0   \n",
              "2                  1.327278  2015.0      7.0  16.0           29.0   \n",
              "3                  1.327278  2015.0      7.0  23.0           30.0   \n",
              "4                  1.327278  2015.0      7.0  21.0           32.0   \n",
              "\n",
              "   Min Temp (°C)  Mean Temp (°C)  Heat Deg Days (°C)  Cool Deg Days (°C)  \\\n",
              "0           13.0            19.0                 0.0                 1.0   \n",
              "1           15.0            20.0                 0.0                 2.0   \n",
              "2           18.0            23.0                 0.0                 5.0   \n",
              "3           17.0            23.0                 0.0                 5.0   \n",
              "4           18.0            25.0                 0.0                 7.0   \n",
              "\n",
              "   Total Rain (mm)  Total Snow (cm)  Total Precip (mm)  Snow on Grnd (cm)  \\\n",
              "0              0.0              0.0                0.0                0.0   \n",
              "1              4.0              0.0                4.0                0.0   \n",
              "2              1.0              0.0                1.0                0.0   \n",
              "3              1.0              0.0                1.0                0.0   \n",
              "4              5.0              0.0                5.0                0.0   \n",
              "\n",
              "   holidays  payday  \n",
              "0         0       1  \n",
              "1         0       0  \n",
              "2         1       1  \n",
              "3         0       0  \n",
              "4         0       1  "
            ]
          },
          "metadata": {
            "tags": []
          },
          "execution_count": 1204
        }
      ]
    },
    {
      "cell_type": "code",
      "metadata": {
        "id": "cGNq0pkz9jgy",
        "colab_type": "code",
        "colab": {}
      },
      "source": [
        "# Splitting the data into train and test\n",
        "X_train, X_test, y_train, y_test = train_test_split(X, y, train_size=0.7, test_size=0.3, random_state=100)"
      ],
      "execution_count": 1205,
      "outputs": []
    },
    {
      "cell_type": "code",
      "metadata": {
        "id": "UCku0xyGPgpl",
        "colab_type": "code",
        "colab": {
          "base_uri": "https://localhost:8080/",
          "height": 35
        },
        "outputId": "a1ec7da3-055d-4295-835b-5b1b4d8196fc"
      },
      "source": [
        "# print shapes of train and test sets\n",
        "X_train.shape\n",
        "y_train.shape\n",
        "X_test.shape\n",
        "y_test.shape"
      ],
      "execution_count": 1206,
      "outputs": [
        {
          "output_type": "execute_result",
          "data": {
            "text/plain": [
              "(37, 32)"
            ]
          },
          "metadata": {
            "tags": []
          },
          "execution_count": 1206
        },
        {
          "output_type": "execute_result",
          "data": {
            "text/plain": [
              "(37,)"
            ]
          },
          "metadata": {
            "tags": []
          },
          "execution_count": 1206
        },
        {
          "output_type": "execute_result",
          "data": {
            "text/plain": [
              "(16, 32)"
            ]
          },
          "metadata": {
            "tags": []
          },
          "execution_count": 1206
        },
        {
          "output_type": "execute_result",
          "data": {
            "text/plain": [
              "(16,)"
            ]
          },
          "metadata": {
            "tags": []
          },
          "execution_count": 1206
        }
      ]
    },
    {
      "cell_type": "code",
      "metadata": {
        "id": "iSN5UMht_wR0",
        "colab_type": "code",
        "colab": {}
      },
      "source": [
        "#scalling the data\n",
        "scaler = MinMaxScaler()"
      ],
      "execution_count": 1207,
      "outputs": []
    },
    {
      "cell_type": "code",
      "metadata": {
        "id": "qMYyzvMpbIbR",
        "colab_type": "code",
        "colab": {}
      },
      "source": [
        "X_train[X_train.columns] = scaler.fit_transform(X_train[X_train.columns])"
      ],
      "execution_count": 1208,
      "outputs": []
    },
    {
      "cell_type": "code",
      "metadata": {
        "id": "78HEgY3LnVHy",
        "colab_type": "code",
        "colab": {
          "base_uri": "https://localhost:8080/",
          "height": 274
        },
        "outputId": "baa8b18e-d149-4c6e-c6df-8ca9d2b0ec90"
      },
      "source": [
        "X_train.head()"
      ],
      "execution_count": 1209,
      "outputs": [
        {
          "output_type": "execute_result",
          "data": {
            "text/html": [
              "<div>\n",
              "<style scoped>\n",
              "    .dataframe tbody tr th:only-of-type {\n",
              "        vertical-align: middle;\n",
              "    }\n",
              "\n",
              "    .dataframe tbody tr th {\n",
              "        vertical-align: top;\n",
              "    }\n",
              "\n",
              "    .dataframe thead th {\n",
              "        text-align: right;\n",
              "    }\n",
              "</style>\n",
              "<table border=\"1\" class=\"dataframe\">\n",
              "  <thead>\n",
              "    <tr style=\"text-align: right;\">\n",
              "      <th></th>\n",
              "      <th>order_week</th>\n",
              "      <th>units</th>\n",
              "      <th>sla</th>\n",
              "      <th>product_mrp</th>\n",
              "      <th>Discount</th>\n",
              "      <th>Total Investment</th>\n",
              "      <th>TV</th>\n",
              "      <th>Digital</th>\n",
              "      <th>Sponsorship</th>\n",
              "      <th>Content Marketing</th>\n",
              "      <th>Online marketing</th>\n",
              "      <th>Affiliates</th>\n",
              "      <th>SEM</th>\n",
              "      <th>NPS</th>\n",
              "      <th>Stock Index</th>\n",
              "      <th>Adstock_Digital</th>\n",
              "      <th>Adstock_Sponsorship</th>\n",
              "      <th>Adstock_Online marketing</th>\n",
              "      <th>Year_y</th>\n",
              "      <th>Month_y</th>\n",
              "      <th>Day</th>\n",
              "      <th>Max Temp (°C)</th>\n",
              "      <th>Min Temp (°C)</th>\n",
              "      <th>Mean Temp (°C)</th>\n",
              "      <th>Heat Deg Days (°C)</th>\n",
              "      <th>Cool Deg Days (°C)</th>\n",
              "      <th>Total Rain (mm)</th>\n",
              "      <th>Total Snow (cm)</th>\n",
              "      <th>Total Precip (mm)</th>\n",
              "      <th>Snow on Grnd (cm)</th>\n",
              "      <th>holidays</th>\n",
              "      <th>payday</th>\n",
              "    </tr>\n",
              "  </thead>\n",
              "  <tbody>\n",
              "    <tr>\n",
              "      <th>26</th>\n",
              "      <td>0.48</td>\n",
              "      <td>0.0</td>\n",
              "      <td>1.0</td>\n",
              "      <td>0.272483</td>\n",
              "      <td>0.198503</td>\n",
              "      <td>0.615905</td>\n",
              "      <td>0.580086</td>\n",
              "      <td>0.214307</td>\n",
              "      <td>0.665502</td>\n",
              "      <td>0.309895</td>\n",
              "      <td>0.922944</td>\n",
              "      <td>0.925570</td>\n",
              "      <td>0.294678</td>\n",
              "      <td>0.089912</td>\n",
              "      <td>0.101322</td>\n",
              "      <td>0.206299</td>\n",
              "      <td>0.530307</td>\n",
              "      <td>0.944023</td>\n",
              "      <td>0.0</td>\n",
              "      <td>1.000000</td>\n",
              "      <td>0.826087</td>\n",
              "      <td>0.37500</td>\n",
              "      <td>0.392857</td>\n",
              "      <td>0.413793</td>\n",
              "      <td>0.454545</td>\n",
              "      <td>0.0</td>\n",
              "      <td>0.538462</td>\n",
              "      <td>0.0</td>\n",
              "      <td>0.4375</td>\n",
              "      <td>0.0</td>\n",
              "      <td>1.0</td>\n",
              "      <td>0.0</td>\n",
              "    </tr>\n",
              "    <tr>\n",
              "      <th>41</th>\n",
              "      <td>0.80</td>\n",
              "      <td>0.0</td>\n",
              "      <td>1.0</td>\n",
              "      <td>0.248486</td>\n",
              "      <td>0.105834</td>\n",
              "      <td>0.313667</td>\n",
              "      <td>0.559394</td>\n",
              "      <td>0.034183</td>\n",
              "      <td>0.278020</td>\n",
              "      <td>0.010124</td>\n",
              "      <td>0.675889</td>\n",
              "      <td>0.770220</td>\n",
              "      <td>0.058015</td>\n",
              "      <td>0.476577</td>\n",
              "      <td>1.000000</td>\n",
              "      <td>0.059195</td>\n",
              "      <td>0.362393</td>\n",
              "      <td>0.747641</td>\n",
              "      <td>1.0</td>\n",
              "      <td>0.272727</td>\n",
              "      <td>0.391304</td>\n",
              "      <td>0.59375</td>\n",
              "      <td>0.357143</td>\n",
              "      <td>0.482759</td>\n",
              "      <td>0.363636</td>\n",
              "      <td>0.0</td>\n",
              "      <td>0.000000</td>\n",
              "      <td>0.0</td>\n",
              "      <td>0.0000</td>\n",
              "      <td>0.0</td>\n",
              "      <td>0.0</td>\n",
              "      <td>1.0</td>\n",
              "    </tr>\n",
              "    <tr>\n",
              "      <th>28</th>\n",
              "      <td>0.54</td>\n",
              "      <td>0.0</td>\n",
              "      <td>1.0</td>\n",
              "      <td>0.403678</td>\n",
              "      <td>0.341249</td>\n",
              "      <td>0.418747</td>\n",
              "      <td>0.470601</td>\n",
              "      <td>0.000000</td>\n",
              "      <td>0.037516</td>\n",
              "      <td>0.261317</td>\n",
              "      <td>0.939289</td>\n",
              "      <td>1.000000</td>\n",
              "      <td>0.057337</td>\n",
              "      <td>0.172859</td>\n",
              "      <td>0.162996</td>\n",
              "      <td>0.064634</td>\n",
              "      <td>0.249625</td>\n",
              "      <td>1.000000</td>\n",
              "      <td>1.0</td>\n",
              "      <td>0.000000</td>\n",
              "      <td>0.391304</td>\n",
              "      <td>0.03125</td>\n",
              "      <td>0.035714</td>\n",
              "      <td>0.000000</td>\n",
              "      <td>1.000000</td>\n",
              "      <td>0.0</td>\n",
              "      <td>0.230769</td>\n",
              "      <td>0.0</td>\n",
              "      <td>0.1875</td>\n",
              "      <td>1.0</td>\n",
              "      <td>0.0</td>\n",
              "      <td>1.0</td>\n",
              "    </tr>\n",
              "    <tr>\n",
              "      <th>38</th>\n",
              "      <td>0.74</td>\n",
              "      <td>0.0</td>\n",
              "      <td>1.0</td>\n",
              "      <td>0.230993</td>\n",
              "      <td>0.090862</td>\n",
              "      <td>0.575196</td>\n",
              "      <td>1.000000</td>\n",
              "      <td>0.135125</td>\n",
              "      <td>0.484715</td>\n",
              "      <td>0.107429</td>\n",
              "      <td>0.755225</td>\n",
              "      <td>0.842066</td>\n",
              "      <td>0.091117</td>\n",
              "      <td>0.296507</td>\n",
              "      <td>0.000000</td>\n",
              "      <td>0.152990</td>\n",
              "      <td>0.383503</td>\n",
              "      <td>0.827097</td>\n",
              "      <td>1.0</td>\n",
              "      <td>0.181818</td>\n",
              "      <td>0.826087</td>\n",
              "      <td>0.40625</td>\n",
              "      <td>0.285714</td>\n",
              "      <td>0.344828</td>\n",
              "      <td>0.545455</td>\n",
              "      <td>0.0</td>\n",
              "      <td>1.000000</td>\n",
              "      <td>0.0</td>\n",
              "      <td>0.8125</td>\n",
              "      <td>0.0</td>\n",
              "      <td>0.0</td>\n",
              "      <td>0.0</td>\n",
              "    </tr>\n",
              "    <tr>\n",
              "      <th>17</th>\n",
              "      <td>0.30</td>\n",
              "      <td>0.0</td>\n",
              "      <td>1.0</td>\n",
              "      <td>0.245122</td>\n",
              "      <td>0.141714</td>\n",
              "      <td>1.000000</td>\n",
              "      <td>0.660487</td>\n",
              "      <td>1.000000</td>\n",
              "      <td>1.000000</td>\n",
              "      <td>1.000000</td>\n",
              "      <td>1.000000</td>\n",
              "      <td>0.945686</td>\n",
              "      <td>1.000000</td>\n",
              "      <td>0.000000</td>\n",
              "      <td>0.859031</td>\n",
              "      <td>1.000000</td>\n",
              "      <td>1.000000</td>\n",
              "      <td>0.952334</td>\n",
              "      <td>0.0</td>\n",
              "      <td>0.818182</td>\n",
              "      <td>0.739130</td>\n",
              "      <td>0.62500</td>\n",
              "      <td>0.750000</td>\n",
              "      <td>0.689655</td>\n",
              "      <td>0.090909</td>\n",
              "      <td>0.0</td>\n",
              "      <td>0.076923</td>\n",
              "      <td>0.0</td>\n",
              "      <td>0.0625</td>\n",
              "      <td>0.0</td>\n",
              "      <td>0.0</td>\n",
              "      <td>0.0</td>\n",
              "    </tr>\n",
              "  </tbody>\n",
              "</table>\n",
              "</div>"
            ],
            "text/plain": [
              "    order_week  units  sla  product_mrp  Discount  Total Investment        TV  \\\n",
              "26        0.48    0.0  1.0     0.272483  0.198503          0.615905  0.580086   \n",
              "41        0.80    0.0  1.0     0.248486  0.105834          0.313667  0.559394   \n",
              "28        0.54    0.0  1.0     0.403678  0.341249          0.418747  0.470601   \n",
              "38        0.74    0.0  1.0     0.230993  0.090862          0.575196  1.000000   \n",
              "17        0.30    0.0  1.0     0.245122  0.141714          1.000000  0.660487   \n",
              "\n",
              "     Digital  Sponsorship  Content Marketing  Online marketing   Affiliates  \\\n",
              "26  0.214307     0.665502           0.309895          0.922944     0.925570   \n",
              "41  0.034183     0.278020           0.010124          0.675889     0.770220   \n",
              "28  0.000000     0.037516           0.261317          0.939289     1.000000   \n",
              "38  0.135125     0.484715           0.107429          0.755225     0.842066   \n",
              "17  1.000000     1.000000           1.000000          1.000000     0.945686   \n",
              "\n",
              "         SEM       NPS  Stock Index  Adstock_Digital  Adstock_Sponsorship  \\\n",
              "26  0.294678  0.089912     0.101322         0.206299             0.530307   \n",
              "41  0.058015  0.476577     1.000000         0.059195             0.362393   \n",
              "28  0.057337  0.172859     0.162996         0.064634             0.249625   \n",
              "38  0.091117  0.296507     0.000000         0.152990             0.383503   \n",
              "17  1.000000  0.000000     0.859031         1.000000             1.000000   \n",
              "\n",
              "    Adstock_Online marketing  Year_y   Month_y       Day  Max Temp (°C)  \\\n",
              "26                  0.944023     0.0  1.000000  0.826087        0.37500   \n",
              "41                  0.747641     1.0  0.272727  0.391304        0.59375   \n",
              "28                  1.000000     1.0  0.000000  0.391304        0.03125   \n",
              "38                  0.827097     1.0  0.181818  0.826087        0.40625   \n",
              "17                  0.952334     0.0  0.818182  0.739130        0.62500   \n",
              "\n",
              "    Min Temp (°C)  Mean Temp (°C)  Heat Deg Days (°C)  Cool Deg Days (°C)  \\\n",
              "26       0.392857        0.413793            0.454545                 0.0   \n",
              "41       0.357143        0.482759            0.363636                 0.0   \n",
              "28       0.035714        0.000000            1.000000                 0.0   \n",
              "38       0.285714        0.344828            0.545455                 0.0   \n",
              "17       0.750000        0.689655            0.090909                 0.0   \n",
              "\n",
              "    Total Rain (mm)  Total Snow (cm)  Total Precip (mm)  Snow on Grnd (cm)  \\\n",
              "26         0.538462              0.0             0.4375                0.0   \n",
              "41         0.000000              0.0             0.0000                0.0   \n",
              "28         0.230769              0.0             0.1875                1.0   \n",
              "38         1.000000              0.0             0.8125                0.0   \n",
              "17         0.076923              0.0             0.0625                0.0   \n",
              "\n",
              "    holidays  payday  \n",
              "26       1.0     0.0  \n",
              "41       0.0     1.0  \n",
              "28       0.0     1.0  \n",
              "38       0.0     0.0  \n",
              "17       0.0     0.0  "
            ]
          },
          "metadata": {
            "tags": []
          },
          "execution_count": 1209
        }
      ]
    },
    {
      "cell_type": "code",
      "metadata": {
        "id": "yeB87eYm8_zX",
        "colab_type": "code",
        "colab": {}
      },
      "source": [
        "#performing scaling on test data\n",
        "X_test = scaler.transform(X_test)"
      ],
      "execution_count": 1210,
      "outputs": []
    },
    {
      "cell_type": "code",
      "metadata": {
        "id": "TYaRa_FUcAWC",
        "colab_type": "code",
        "colab": {}
      },
      "source": [
        "linreg = LinearRegression()"
      ],
      "execution_count": 1211,
      "outputs": []
    },
    {
      "cell_type": "code",
      "metadata": {
        "id": "t-H1Hsyn_VfJ",
        "colab_type": "code",
        "colab": {
          "base_uri": "https://localhost:8080/",
          "height": 35
        },
        "outputId": "86509bb9-1ad9-4059-f483-46ba8f45873d"
      },
      "source": [
        "linreg.fit(X_train, y_train)"
      ],
      "execution_count": 1212,
      "outputs": [
        {
          "output_type": "execute_result",
          "data": {
            "text/plain": [
              "LinearRegression(copy_X=True, fit_intercept=True, n_jobs=None, normalize=False)"
            ]
          },
          "metadata": {
            "tags": []
          },
          "execution_count": 1212
        }
      ]
    },
    {
      "cell_type": "code",
      "metadata": {
        "id": "NPPK8PG1LMBW",
        "colab_type": "code",
        "colab": {
          "base_uri": "https://localhost:8080/",
          "height": 104
        },
        "outputId": "02c62202-d32d-43b1-c2ac-6ebeb2972b26"
      },
      "source": [
        "    y_hat = linreg.predict(X_test)\n",
        "    y_hat_train = linreg.predict(X_train)\n",
        "    #Display errors\n",
        "    print('R2_score for train:',r2_score(y_true = y_train,y_pred = y_hat_train))\n",
        "    print('R2_score for test:',r2_score(y_true = y_test,y_pred = y_hat))\n",
        "    print('Mean Absolute Error:', mas(y_test, y_hat))\n",
        "    print('Root Mean Squared Error test:', np.sqrt(mse(y_test, y_hat)))\n",
        "    print('Root Mean Squared Error train:', np.sqrt(mse(y_train, y_hat_train)))"
      ],
      "execution_count": 1213,
      "outputs": [
        {
          "output_type": "stream",
          "text": [
            "R2_score for train: 0.9997750539477882\n",
            "R2_score for test: 0.5484802562162863\n",
            "Mean Absolute Error: 41.61193813494692\n",
            "Root Mean Squared Error test: 112.92238967711768\n",
            "Root Mean Squared Error train: 2.371713925253308\n"
          ],
          "name": "stdout"
        }
      ]
    },
    {
      "cell_type": "markdown",
      "metadata": {
        "id": "jAqgOcjsm9uH",
        "colab_type": "text"
      },
      "source": [
        "USING RFE"
      ]
    },
    {
      "cell_type": "code",
      "metadata": {
        "id": "bp1ENnTQm5Ks",
        "colab_type": "code",
        "colab": {
          "base_uri": "https://localhost:8080/",
          "height": 35
        },
        "outputId": "c1dc4adb-7c14-4f48-e13d-723ab07c9dec"
      },
      "source": [
        "# Running RFE with the output number of the variable equal to 15\n",
        "lm = LinearRegression()\n",
        "lm.fit(X_train, y_train)\n",
        "\n",
        "rfe = RFE(lm, 10)             # running RFE\n",
        "rfe = rfe.fit(X_train, y_train)"
      ],
      "execution_count": 1214,
      "outputs": [
        {
          "output_type": "execute_result",
          "data": {
            "text/plain": [
              "LinearRegression(copy_X=True, fit_intercept=True, n_jobs=None, normalize=False)"
            ]
          },
          "metadata": {
            "tags": []
          },
          "execution_count": 1214
        }
      ]
    },
    {
      "cell_type": "code",
      "metadata": {
        "id": "r-ed8JWnhnR2",
        "colab_type": "code",
        "colab": {
          "base_uri": "https://localhost:8080/",
          "height": 572
        },
        "outputId": "d39d66b4-be8a-473a-abe2-e03f1591423c"
      },
      "source": [
        "list(zip(X_train.columns,rfe.support_,rfe.ranking_))"
      ],
      "execution_count": 1215,
      "outputs": [
        {
          "output_type": "execute_result",
          "data": {
            "text/plain": [
              "[('order_week', True, 1),\n",
              " ('units', False, 23),\n",
              " ('sla', False, 18),\n",
              " ('product_mrp', True, 1),\n",
              " ('Discount', True, 1),\n",
              " ('Total Investment', True, 1),\n",
              " ('TV', False, 2),\n",
              " ('Digital', True, 1),\n",
              " ('Sponsorship', False, 9),\n",
              " ('Content Marketing', False, 6),\n",
              " ('Online marketing', False, 7),\n",
              " (' Affiliates', True, 1),\n",
              " ('SEM', False, 3),\n",
              " ('NPS', True, 1),\n",
              " ('Stock Index', False, 15),\n",
              " ('Adstock_Digital', False, 14),\n",
              " ('Adstock_Sponsorship', False, 8),\n",
              " ('Adstock_Online marketing', True, 1),\n",
              " ('Year_y', True, 1),\n",
              " ('Month_y', True, 1),\n",
              " ('Day', False, 10),\n",
              " ('Max Temp (°C)', False, 20),\n",
              " ('Min Temp (°C)', False, 5),\n",
              " ('Mean Temp (°C)', False, 4),\n",
              " ('Heat Deg Days (°C)', False, 16),\n",
              " ('Cool Deg Days (°C)', False, 17),\n",
              " ('Total Rain (mm)', False, 12),\n",
              " ('Total Snow (cm)', False, 13),\n",
              " ('Total Precip (mm)', False, 11),\n",
              " ('Snow on Grnd (cm)', False, 21),\n",
              " ('holidays', False, 22),\n",
              " ('payday', False, 19)]"
            ]
          },
          "metadata": {
            "tags": []
          },
          "execution_count": 1215
        }
      ]
    },
    {
      "cell_type": "code",
      "metadata": {
        "id": "yJPfLjmpnFdX",
        "colab_type": "code",
        "colab": {
          "base_uri": "https://localhost:8080/",
          "height": 52
        },
        "outputId": "70b3a959-9e4d-4297-ab1e-f57ffbc623f5"
      },
      "source": [
        "# predict \n",
        "y_pred = rfe.predict(X_test)\n",
        "\n",
        "# evaluate the model on test set\n",
        "r2 = sklearn.metrics.r2_score(y_test, y_pred)\n",
        "print(r2)\n",
        "# predict prices of X_test\n",
        "y_pred = rfe.predict(X_train)\n",
        "\n",
        "# evaluate the model on training set\n",
        "r2 = sklearn.metrics.r2_score(y_train, y_pred)\n",
        "print(r2)"
      ],
      "execution_count": 1216,
      "outputs": [
        {
          "output_type": "stream",
          "text": [
            "0.9992196798945093\n",
            "0.9989225925937111\n"
          ],
          "name": "stdout"
        }
      ]
    },
    {
      "cell_type": "markdown",
      "metadata": {
        "id": "nwHPpBbhzCGl",
        "colab_type": "text"
      },
      "source": [
        "The result is quite good. So we can proceed with 10 features."
      ]
    },
    {
      "cell_type": "code",
      "metadata": {
        "id": "Vk0Ww-n8pTPM",
        "colab_type": "code",
        "colab": {
          "base_uri": "https://localhost:8080/",
          "height": 69
        },
        "outputId": "805f2aba-1878-423a-f075-c670f459daa4"
      },
      "source": [
        "col = X_train.columns[rfe.support_]\n",
        "col"
      ],
      "execution_count": 1217,
      "outputs": [
        {
          "output_type": "execute_result",
          "data": {
            "text/plain": [
              "Index(['order_week', 'product_mrp', 'Discount', 'Total Investment', 'Digital',\n",
              "       ' Affiliates', 'NPS', 'Adstock_Online marketing', 'Year_y', 'Month_y'],\n",
              "      dtype='object')"
            ]
          },
          "metadata": {
            "tags": []
          },
          "execution_count": 1217
        }
      ]
    },
    {
      "cell_type": "code",
      "metadata": {
        "id": "bYMjVzcqqPFu",
        "colab_type": "code",
        "colab": {
          "base_uri": "https://localhost:8080/",
          "height": 139
        },
        "outputId": "4f756a38-224e-41a2-e2bc-1f28a375aad9"
      },
      "source": [
        "X_train.columns[~rfe.support_]"
      ],
      "execution_count": 1218,
      "outputs": [
        {
          "output_type": "execute_result",
          "data": {
            "text/plain": [
              "Index(['units', 'sla', 'TV', 'Sponsorship', 'Content Marketing',\n",
              "       'Online marketing', 'SEM', 'Stock Index', 'Adstock_Digital',\n",
              "       'Adstock_Sponsorship', 'Day', 'Max Temp (°C)', 'Min Temp (°C)',\n",
              "       'Mean Temp (°C)', 'Heat Deg Days (°C)', 'Cool Deg Days (°C)',\n",
              "       'Total Rain (mm)', 'Total Snow (cm)', 'Total Precip (mm)',\n",
              "       'Snow on Grnd (cm)', 'holidays', 'payday'],\n",
              "      dtype='object')"
            ]
          },
          "metadata": {
            "tags": []
          },
          "execution_count": 1218
        }
      ]
    },
    {
      "cell_type": "markdown",
      "metadata": {
        "id": "pIehpCcs0sNA",
        "colab_type": "text"
      },
      "source": [
        "Preparing Modeling for hamdcl data frame."
      ]
    },
    {
      "cell_type": "code",
      "metadata": {
        "id": "M_G0IA_s1d4E",
        "colab_type": "code",
        "colab": {
          "base_uri": "https://localhost:8080/",
          "height": 121
        },
        "outputId": "af052941-8f8b-41c3-8109-5c4c75c91816"
      },
      "source": [
        "#train test split\n",
        "# Putting response variable to y\n",
        "y = hamdcl['gmv']\n",
        "y.head()"
      ],
      "execution_count": 1237,
      "outputs": [
        {
          "output_type": "execute_result",
          "data": {
            "text/plain": [
              "0    2733.0\n",
              "1    2208.0\n",
              "2    2209.0\n",
              "3    2126.0\n",
              "4    2183.0\n",
              "Name: gmv, dtype: float64"
            ]
          },
          "metadata": {
            "tags": []
          },
          "execution_count": 1237
        }
      ]
    },
    {
      "cell_type": "code",
      "metadata": {
        "id": "twlHvG641yAP",
        "colab_type": "code",
        "colab": {
          "base_uri": "https://localhost:8080/",
          "height": 274
        },
        "outputId": "113ce7b7-7421-4981-d56d-7d6c463899c9"
      },
      "source": [
        "# Putting feature variable to X\n",
        "X = hamdcl.drop(\"gmv\",axis = 1)\n",
        "X.head()"
      ],
      "execution_count": 1238,
      "outputs": [
        {
          "output_type": "execute_result",
          "data": {
            "text/html": [
              "<div>\n",
              "<style scoped>\n",
              "    .dataframe tbody tr th:only-of-type {\n",
              "        vertical-align: middle;\n",
              "    }\n",
              "\n",
              "    .dataframe tbody tr th {\n",
              "        vertical-align: top;\n",
              "    }\n",
              "\n",
              "    .dataframe thead th {\n",
              "        text-align: right;\n",
              "    }\n",
              "</style>\n",
              "<table border=\"1\" class=\"dataframe\">\n",
              "  <thead>\n",
              "    <tr style=\"text-align: right;\">\n",
              "      <th></th>\n",
              "      <th>order_week</th>\n",
              "      <th>units</th>\n",
              "      <th>sla</th>\n",
              "      <th>product_mrp</th>\n",
              "      <th>Discount</th>\n",
              "      <th>Total Investment</th>\n",
              "      <th>TV</th>\n",
              "      <th>Digital</th>\n",
              "      <th>Sponsorship</th>\n",
              "      <th>Content Marketing</th>\n",
              "      <th>Online marketing</th>\n",
              "      <th>Affiliates</th>\n",
              "      <th>SEM</th>\n",
              "      <th>NPS</th>\n",
              "      <th>Stock Index</th>\n",
              "      <th>Adstock_Digital</th>\n",
              "      <th>Adstock_Sponsorship</th>\n",
              "      <th>Adstock_Online marketing</th>\n",
              "      <th>Year_y</th>\n",
              "      <th>Month_y</th>\n",
              "      <th>Day</th>\n",
              "      <th>Max Temp (°C)</th>\n",
              "      <th>Min Temp (°C)</th>\n",
              "      <th>Mean Temp (°C)</th>\n",
              "      <th>Heat Deg Days (°C)</th>\n",
              "      <th>Cool Deg Days (°C)</th>\n",
              "      <th>Total Rain (mm)</th>\n",
              "      <th>Total Snow (cm)</th>\n",
              "      <th>Total Precip (mm)</th>\n",
              "      <th>Snow on Grnd (cm)</th>\n",
              "      <th>holidays</th>\n",
              "      <th>payday</th>\n",
              "    </tr>\n",
              "  </thead>\n",
              "  <tbody>\n",
              "    <tr>\n",
              "      <th>0</th>\n",
              "      <td>27</td>\n",
              "      <td>1.0</td>\n",
              "      <td>3.0</td>\n",
              "      <td>4712.0</td>\n",
              "      <td>1980.0</td>\n",
              "      <td>17.061775</td>\n",
              "      <td>0.21533</td>\n",
              "      <td>2.533014</td>\n",
              "      <td>7.41427</td>\n",
              "      <td>0.000933</td>\n",
              "      <td>1.327278</td>\n",
              "      <td>0.547254</td>\n",
              "      <td>5.023697</td>\n",
              "      <td>54.599588</td>\n",
              "      <td>1177</td>\n",
              "      <td>2.533014</td>\n",
              "      <td>7.41427</td>\n",
              "      <td>1.327278</td>\n",
              "      <td>2015.0</td>\n",
              "      <td>7.0</td>\n",
              "      <td>3.0</td>\n",
              "      <td>26.0</td>\n",
              "      <td>13.0</td>\n",
              "      <td>19.0</td>\n",
              "      <td>0.0</td>\n",
              "      <td>1.0</td>\n",
              "      <td>0.0</td>\n",
              "      <td>0.0</td>\n",
              "      <td>0.0</td>\n",
              "      <td>0.0</td>\n",
              "      <td>0</td>\n",
              "      <td>1</td>\n",
              "    </tr>\n",
              "    <tr>\n",
              "      <th>1</th>\n",
              "      <td>28</td>\n",
              "      <td>1.0</td>\n",
              "      <td>8.0</td>\n",
              "      <td>3512.0</td>\n",
              "      <td>1310.0</td>\n",
              "      <td>17.061775</td>\n",
              "      <td>0.21533</td>\n",
              "      <td>2.533014</td>\n",
              "      <td>7.41427</td>\n",
              "      <td>0.000933</td>\n",
              "      <td>1.327278</td>\n",
              "      <td>0.547254</td>\n",
              "      <td>5.023697</td>\n",
              "      <td>54.599588</td>\n",
              "      <td>1177</td>\n",
              "      <td>2.533014</td>\n",
              "      <td>7.41427</td>\n",
              "      <td>1.327278</td>\n",
              "      <td>2015.0</td>\n",
              "      <td>7.0</td>\n",
              "      <td>9.0</td>\n",
              "      <td>25.0</td>\n",
              "      <td>15.0</td>\n",
              "      <td>20.0</td>\n",
              "      <td>0.0</td>\n",
              "      <td>2.0</td>\n",
              "      <td>4.0</td>\n",
              "      <td>0.0</td>\n",
              "      <td>4.0</td>\n",
              "      <td>0.0</td>\n",
              "      <td>0</td>\n",
              "      <td>0</td>\n",
              "    </tr>\n",
              "    <tr>\n",
              "      <th>2</th>\n",
              "      <td>29</td>\n",
              "      <td>1.0</td>\n",
              "      <td>7.0</td>\n",
              "      <td>3622.0</td>\n",
              "      <td>1415.0</td>\n",
              "      <td>17.061775</td>\n",
              "      <td>0.21533</td>\n",
              "      <td>2.533014</td>\n",
              "      <td>7.41427</td>\n",
              "      <td>0.000933</td>\n",
              "      <td>1.327278</td>\n",
              "      <td>0.547254</td>\n",
              "      <td>5.023697</td>\n",
              "      <td>54.599588</td>\n",
              "      <td>1177</td>\n",
              "      <td>2.533014</td>\n",
              "      <td>7.41427</td>\n",
              "      <td>1.327278</td>\n",
              "      <td>2015.0</td>\n",
              "      <td>7.0</td>\n",
              "      <td>16.0</td>\n",
              "      <td>29.0</td>\n",
              "      <td>18.0</td>\n",
              "      <td>23.0</td>\n",
              "      <td>0.0</td>\n",
              "      <td>5.0</td>\n",
              "      <td>1.0</td>\n",
              "      <td>0.0</td>\n",
              "      <td>1.0</td>\n",
              "      <td>0.0</td>\n",
              "      <td>1</td>\n",
              "      <td>1</td>\n",
              "    </tr>\n",
              "    <tr>\n",
              "      <th>3</th>\n",
              "      <td>30</td>\n",
              "      <td>1.0</td>\n",
              "      <td>7.0</td>\n",
              "      <td>3554.0</td>\n",
              "      <td>1430.0</td>\n",
              "      <td>17.061775</td>\n",
              "      <td>0.21533</td>\n",
              "      <td>2.533014</td>\n",
              "      <td>7.41427</td>\n",
              "      <td>0.000933</td>\n",
              "      <td>1.327278</td>\n",
              "      <td>0.547254</td>\n",
              "      <td>5.023697</td>\n",
              "      <td>54.599588</td>\n",
              "      <td>1177</td>\n",
              "      <td>2.533014</td>\n",
              "      <td>7.41427</td>\n",
              "      <td>1.327278</td>\n",
              "      <td>2015.0</td>\n",
              "      <td>7.0</td>\n",
              "      <td>23.0</td>\n",
              "      <td>30.0</td>\n",
              "      <td>17.0</td>\n",
              "      <td>23.0</td>\n",
              "      <td>0.0</td>\n",
              "      <td>5.0</td>\n",
              "      <td>1.0</td>\n",
              "      <td>0.0</td>\n",
              "      <td>1.0</td>\n",
              "      <td>0.0</td>\n",
              "      <td>0</td>\n",
              "      <td>0</td>\n",
              "    </tr>\n",
              "    <tr>\n",
              "      <th>4</th>\n",
              "      <td>31</td>\n",
              "      <td>1.0</td>\n",
              "      <td>7.0</td>\n",
              "      <td>3606.0</td>\n",
              "      <td>1425.0</td>\n",
              "      <td>17.061775</td>\n",
              "      <td>0.21533</td>\n",
              "      <td>2.533014</td>\n",
              "      <td>7.41427</td>\n",
              "      <td>0.000933</td>\n",
              "      <td>1.327278</td>\n",
              "      <td>0.547254</td>\n",
              "      <td>5.023697</td>\n",
              "      <td>54.599588</td>\n",
              "      <td>1177</td>\n",
              "      <td>2.533014</td>\n",
              "      <td>7.41427</td>\n",
              "      <td>1.327278</td>\n",
              "      <td>2015.0</td>\n",
              "      <td>7.0</td>\n",
              "      <td>21.0</td>\n",
              "      <td>32.0</td>\n",
              "      <td>18.0</td>\n",
              "      <td>25.0</td>\n",
              "      <td>0.0</td>\n",
              "      <td>7.0</td>\n",
              "      <td>5.0</td>\n",
              "      <td>0.0</td>\n",
              "      <td>5.0</td>\n",
              "      <td>0.0</td>\n",
              "      <td>0</td>\n",
              "      <td>1</td>\n",
              "    </tr>\n",
              "  </tbody>\n",
              "</table>\n",
              "</div>"
            ],
            "text/plain": [
              "   order_week  units  sla  product_mrp  Discount  Total Investment       TV  \\\n",
              "0          27    1.0  3.0       4712.0    1980.0         17.061775  0.21533   \n",
              "1          28    1.0  8.0       3512.0    1310.0         17.061775  0.21533   \n",
              "2          29    1.0  7.0       3622.0    1415.0         17.061775  0.21533   \n",
              "3          30    1.0  7.0       3554.0    1430.0         17.061775  0.21533   \n",
              "4          31    1.0  7.0       3606.0    1425.0         17.061775  0.21533   \n",
              "\n",
              "    Digital  Sponsorship  Content Marketing  Online marketing   Affiliates  \\\n",
              "0  2.533014      7.41427           0.000933          1.327278     0.547254   \n",
              "1  2.533014      7.41427           0.000933          1.327278     0.547254   \n",
              "2  2.533014      7.41427           0.000933          1.327278     0.547254   \n",
              "3  2.533014      7.41427           0.000933          1.327278     0.547254   \n",
              "4  2.533014      7.41427           0.000933          1.327278     0.547254   \n",
              "\n",
              "        SEM        NPS  Stock Index  Adstock_Digital  Adstock_Sponsorship  \\\n",
              "0  5.023697  54.599588         1177         2.533014              7.41427   \n",
              "1  5.023697  54.599588         1177         2.533014              7.41427   \n",
              "2  5.023697  54.599588         1177         2.533014              7.41427   \n",
              "3  5.023697  54.599588         1177         2.533014              7.41427   \n",
              "4  5.023697  54.599588         1177         2.533014              7.41427   \n",
              "\n",
              "   Adstock_Online marketing  Year_y  Month_y   Day  Max Temp (°C)  \\\n",
              "0                  1.327278  2015.0      7.0   3.0           26.0   \n",
              "1                  1.327278  2015.0      7.0   9.0           25.0   \n",
              "2                  1.327278  2015.0      7.0  16.0           29.0   \n",
              "3                  1.327278  2015.0      7.0  23.0           30.0   \n",
              "4                  1.327278  2015.0      7.0  21.0           32.0   \n",
              "\n",
              "   Min Temp (°C)  Mean Temp (°C)  Heat Deg Days (°C)  Cool Deg Days (°C)  \\\n",
              "0           13.0            19.0                 0.0                 1.0   \n",
              "1           15.0            20.0                 0.0                 2.0   \n",
              "2           18.0            23.0                 0.0                 5.0   \n",
              "3           17.0            23.0                 0.0                 5.0   \n",
              "4           18.0            25.0                 0.0                 7.0   \n",
              "\n",
              "   Total Rain (mm)  Total Snow (cm)  Total Precip (mm)  Snow on Grnd (cm)  \\\n",
              "0              0.0              0.0                0.0                0.0   \n",
              "1              4.0              0.0                4.0                0.0   \n",
              "2              1.0              0.0                1.0                0.0   \n",
              "3              1.0              0.0                1.0                0.0   \n",
              "4              5.0              0.0                5.0                0.0   \n",
              "\n",
              "   holidays  payday  \n",
              "0         0       1  \n",
              "1         0       0  \n",
              "2         1       1  \n",
              "3         0       0  \n",
              "4         0       1  "
            ]
          },
          "metadata": {
            "tags": []
          },
          "execution_count": 1238
        }
      ]
    },
    {
      "cell_type": "code",
      "metadata": {
        "id": "9rMoXj-m0xYK",
        "colab_type": "code",
        "colab": {
          "base_uri": "https://localhost:8080/",
          "height": 35
        },
        "outputId": "b8045c35-1517-45c6-ab5b-b1cd94e14bc4"
      },
      "source": [
        "# Splitting the data into train and test\n",
        "X_train, X_test, y_train, y_test = train_test_split(X, y, train_size=0.7, test_size=0.3, random_state=100)\n",
        "# print shapes of train and test sets\n",
        "X_train.shape\n",
        "y_train.shape\n",
        "X_test.shape\n",
        "y_test.shape"
      ],
      "execution_count": 1239,
      "outputs": [
        {
          "output_type": "execute_result",
          "data": {
            "text/plain": [
              "(35, 32)"
            ]
          },
          "metadata": {
            "tags": []
          },
          "execution_count": 1239
        },
        {
          "output_type": "execute_result",
          "data": {
            "text/plain": [
              "(35,)"
            ]
          },
          "metadata": {
            "tags": []
          },
          "execution_count": 1239
        },
        {
          "output_type": "execute_result",
          "data": {
            "text/plain": [
              "(15, 32)"
            ]
          },
          "metadata": {
            "tags": []
          },
          "execution_count": 1239
        },
        {
          "output_type": "execute_result",
          "data": {
            "text/plain": [
              "(15,)"
            ]
          },
          "metadata": {
            "tags": []
          },
          "execution_count": 1239
        }
      ]
    },
    {
      "cell_type": "code",
      "metadata": {
        "id": "UGeEY40X1c7w",
        "colab_type": "code",
        "colab": {
          "base_uri": "https://localhost:8080/",
          "height": 35
        },
        "outputId": "54f37eaa-7351-4f18-f151-07ae8f5064f8"
      },
      "source": [
        "# Splitting the data into train and test\n",
        "X_train, X_test, y_train, y_test = train_test_split(X, y, train_size=0.7, test_size=0.3, random_state=100)\n",
        "# print shapes of train and test sets\n",
        "X_train.shape\n",
        "y_train.shape\n",
        "X_test.shape\n",
        "y_test.shape"
      ],
      "execution_count": 1240,
      "outputs": [
        {
          "output_type": "execute_result",
          "data": {
            "text/plain": [
              "(35, 32)"
            ]
          },
          "metadata": {
            "tags": []
          },
          "execution_count": 1240
        },
        {
          "output_type": "execute_result",
          "data": {
            "text/plain": [
              "(35,)"
            ]
          },
          "metadata": {
            "tags": []
          },
          "execution_count": 1240
        },
        {
          "output_type": "execute_result",
          "data": {
            "text/plain": [
              "(15, 32)"
            ]
          },
          "metadata": {
            "tags": []
          },
          "execution_count": 1240
        },
        {
          "output_type": "execute_result",
          "data": {
            "text/plain": [
              "(15,)"
            ]
          },
          "metadata": {
            "tags": []
          },
          "execution_count": 1240
        }
      ]
    },
    {
      "cell_type": "code",
      "metadata": {
        "id": "Hl1H4WB_1rR2",
        "colab_type": "code",
        "colab": {}
      },
      "source": [
        "#scalling the data\n",
        "scaler = MinMaxScaler()"
      ],
      "execution_count": 1241,
      "outputs": []
    },
    {
      "cell_type": "code",
      "metadata": {
        "id": "xKYgzqHL14OI",
        "colab_type": "code",
        "colab": {
          "base_uri": "https://localhost:8080/",
          "height": 274
        },
        "outputId": "3007496d-9919-4afe-94d2-005422f64588"
      },
      "source": [
        "X_train[X_train.columns] = scaler.fit_transform(X_train[X_train.columns])\n",
        "X_train.head()\n",
        "\n",
        "#performing scaling on test data\n",
        "X_test = scaler.transform(X_test)"
      ],
      "execution_count": 1242,
      "outputs": [
        {
          "output_type": "execute_result",
          "data": {
            "text/html": [
              "<div>\n",
              "<style scoped>\n",
              "    .dataframe tbody tr th:only-of-type {\n",
              "        vertical-align: middle;\n",
              "    }\n",
              "\n",
              "    .dataframe tbody tr th {\n",
              "        vertical-align: top;\n",
              "    }\n",
              "\n",
              "    .dataframe thead th {\n",
              "        text-align: right;\n",
              "    }\n",
              "</style>\n",
              "<table border=\"1\" class=\"dataframe\">\n",
              "  <thead>\n",
              "    <tr style=\"text-align: right;\">\n",
              "      <th></th>\n",
              "      <th>order_week</th>\n",
              "      <th>units</th>\n",
              "      <th>sla</th>\n",
              "      <th>product_mrp</th>\n",
              "      <th>Discount</th>\n",
              "      <th>Total Investment</th>\n",
              "      <th>TV</th>\n",
              "      <th>Digital</th>\n",
              "      <th>Sponsorship</th>\n",
              "      <th>Content Marketing</th>\n",
              "      <th>Online marketing</th>\n",
              "      <th>Affiliates</th>\n",
              "      <th>SEM</th>\n",
              "      <th>NPS</th>\n",
              "      <th>Stock Index</th>\n",
              "      <th>Adstock_Digital</th>\n",
              "      <th>Adstock_Sponsorship</th>\n",
              "      <th>Adstock_Online marketing</th>\n",
              "      <th>Year_y</th>\n",
              "      <th>Month_y</th>\n",
              "      <th>Day</th>\n",
              "      <th>Max Temp (°C)</th>\n",
              "      <th>Min Temp (°C)</th>\n",
              "      <th>Mean Temp (°C)</th>\n",
              "      <th>Heat Deg Days (°C)</th>\n",
              "      <th>Cool Deg Days (°C)</th>\n",
              "      <th>Total Rain (mm)</th>\n",
              "      <th>Total Snow (cm)</th>\n",
              "      <th>Total Precip (mm)</th>\n",
              "      <th>Snow on Grnd (cm)</th>\n",
              "      <th>holidays</th>\n",
              "      <th>payday</th>\n",
              "    </tr>\n",
              "  </thead>\n",
              "  <tbody>\n",
              "    <tr>\n",
              "      <th>25</th>\n",
              "      <td>0.54</td>\n",
              "      <td>0.0</td>\n",
              "      <td>0.25</td>\n",
              "      <td>0.642224</td>\n",
              "      <td>0.563692</td>\n",
              "      <td>0.373196</td>\n",
              "      <td>0.458428</td>\n",
              "      <td>0.000000</td>\n",
              "      <td>0.000000</td>\n",
              "      <td>0.261118</td>\n",
              "      <td>0.936133</td>\n",
              "      <td>1.000000</td>\n",
              "      <td>0.016476</td>\n",
              "      <td>0.264150</td>\n",
              "      <td>0.162996</td>\n",
              "      <td>0.064634</td>\n",
              "      <td>0.231366</td>\n",
              "      <td>1.000000</td>\n",
              "      <td>1.0</td>\n",
              "      <td>0.000000</td>\n",
              "      <td>0.391304</td>\n",
              "      <td>0.114286</td>\n",
              "      <td>0.129032</td>\n",
              "      <td>0.09375</td>\n",
              "      <td>0.88</td>\n",
              "      <td>0.000000</td>\n",
              "      <td>0.230769</td>\n",
              "      <td>0.0</td>\n",
              "      <td>0.1875</td>\n",
              "      <td>1.0</td>\n",
              "      <td>0.0</td>\n",
              "      <td>1.0</td>\n",
              "    </tr>\n",
              "    <tr>\n",
              "      <th>26</th>\n",
              "      <td>0.56</td>\n",
              "      <td>0.0</td>\n",
              "      <td>0.25</td>\n",
              "      <td>0.571851</td>\n",
              "      <td>0.525553</td>\n",
              "      <td>0.373196</td>\n",
              "      <td>0.458428</td>\n",
              "      <td>0.000000</td>\n",
              "      <td>0.000000</td>\n",
              "      <td>0.261118</td>\n",
              "      <td>0.936133</td>\n",
              "      <td>1.000000</td>\n",
              "      <td>0.016476</td>\n",
              "      <td>0.264150</td>\n",
              "      <td>0.162996</td>\n",
              "      <td>0.064634</td>\n",
              "      <td>0.231366</td>\n",
              "      <td>1.000000</td>\n",
              "      <td>1.0</td>\n",
              "      <td>0.000000</td>\n",
              "      <td>0.695652</td>\n",
              "      <td>0.085714</td>\n",
              "      <td>NaN</td>\n",
              "      <td>NaN</td>\n",
              "      <td>NaN</td>\n",
              "      <td>NaN</td>\n",
              "      <td>0.000000</td>\n",
              "      <td>0.0</td>\n",
              "      <td>0.0000</td>\n",
              "      <td>0.0</td>\n",
              "      <td>1.0</td>\n",
              "      <td>0.0</td>\n",
              "    </tr>\n",
              "    <tr>\n",
              "      <th>35</th>\n",
              "      <td>0.74</td>\n",
              "      <td>0.0</td>\n",
              "      <td>0.50</td>\n",
              "      <td>0.067416</td>\n",
              "      <td>0.034325</td>\n",
              "      <td>0.541906</td>\n",
              "      <td>1.000000</td>\n",
              "      <td>0.135125</td>\n",
              "      <td>0.464631</td>\n",
              "      <td>0.107189</td>\n",
              "      <td>0.742500</td>\n",
              "      <td>0.831104</td>\n",
              "      <td>0.051720</td>\n",
              "      <td>0.453100</td>\n",
              "      <td>0.000000</td>\n",
              "      <td>0.152990</td>\n",
              "      <td>0.368502</td>\n",
              "      <td>0.824282</td>\n",
              "      <td>1.0</td>\n",
              "      <td>0.181818</td>\n",
              "      <td>0.826087</td>\n",
              "      <td>0.457143</td>\n",
              "      <td>0.354839</td>\n",
              "      <td>0.40625</td>\n",
              "      <td>0.48</td>\n",
              "      <td>0.000000</td>\n",
              "      <td>1.000000</td>\n",
              "      <td>0.0</td>\n",
              "      <td>0.8125</td>\n",
              "      <td>0.0</td>\n",
              "      <td>0.0</td>\n",
              "      <td>0.0</td>\n",
              "    </tr>\n",
              "    <tr>\n",
              "      <th>17</th>\n",
              "      <td>0.36</td>\n",
              "      <td>0.0</td>\n",
              "      <td>0.50</td>\n",
              "      <td>0.435245</td>\n",
              "      <td>0.355454</td>\n",
              "      <td>0.223094</td>\n",
              "      <td>0.440886</td>\n",
              "      <td>0.067355</td>\n",
              "      <td>0.123920</td>\n",
              "      <td>0.048706</td>\n",
              "      <td>0.791265</td>\n",
              "      <td>0.886522</td>\n",
              "      <td>0.052729</td>\n",
              "      <td>0.255030</td>\n",
              "      <td>0.960352</td>\n",
              "      <td>0.527563</td>\n",
              "      <td>0.451847</td>\n",
              "      <td>0.926750</td>\n",
              "      <td>0.0</td>\n",
              "      <td>0.909091</td>\n",
              "      <td>0.304348</td>\n",
              "      <td>0.485714</td>\n",
              "      <td>0.516129</td>\n",
              "      <td>0.50000</td>\n",
              "      <td>0.36</td>\n",
              "      <td>0.000000</td>\n",
              "      <td>0.384615</td>\n",
              "      <td>0.0</td>\n",
              "      <td>0.3125</td>\n",
              "      <td>0.0</td>\n",
              "      <td>1.0</td>\n",
              "      <td>1.0</td>\n",
              "    </tr>\n",
              "    <tr>\n",
              "      <th>7</th>\n",
              "      <td>0.16</td>\n",
              "      <td>0.0</td>\n",
              "      <td>0.50</td>\n",
              "      <td>0.351271</td>\n",
              "      <td>0.303585</td>\n",
              "      <td>0.517279</td>\n",
              "      <td>0.403336</td>\n",
              "      <td>0.074017</td>\n",
              "      <td>0.728045</td>\n",
              "      <td>0.176978</td>\n",
              "      <td>0.653202</td>\n",
              "      <td>0.658241</td>\n",
              "      <td>0.087496</td>\n",
              "      <td>0.247719</td>\n",
              "      <td>0.378855</td>\n",
              "      <td>0.065286</td>\n",
              "      <td>0.514533</td>\n",
              "      <td>0.460549</td>\n",
              "      <td>0.0</td>\n",
              "      <td>0.727273</td>\n",
              "      <td>0.086957</td>\n",
              "      <td>0.942857</td>\n",
              "      <td>1.000000</td>\n",
              "      <td>0.96875</td>\n",
              "      <td>0.00</td>\n",
              "      <td>0.857143</td>\n",
              "      <td>0.769231</td>\n",
              "      <td>0.0</td>\n",
              "      <td>0.6250</td>\n",
              "      <td>0.0</td>\n",
              "      <td>0.0</td>\n",
              "      <td>1.0</td>\n",
              "    </tr>\n",
              "  </tbody>\n",
              "</table>\n",
              "</div>"
            ],
            "text/plain": [
              "    order_week  units   sla  product_mrp  Discount  Total Investment  \\\n",
              "25        0.54    0.0  0.25     0.642224  0.563692          0.373196   \n",
              "26        0.56    0.0  0.25     0.571851  0.525553          0.373196   \n",
              "35        0.74    0.0  0.50     0.067416  0.034325          0.541906   \n",
              "17        0.36    0.0  0.50     0.435245  0.355454          0.223094   \n",
              "7         0.16    0.0  0.50     0.351271  0.303585          0.517279   \n",
              "\n",
              "          TV   Digital  Sponsorship  Content Marketing  Online marketing  \\\n",
              "25  0.458428  0.000000     0.000000           0.261118          0.936133   \n",
              "26  0.458428  0.000000     0.000000           0.261118          0.936133   \n",
              "35  1.000000  0.135125     0.464631           0.107189          0.742500   \n",
              "17  0.440886  0.067355     0.123920           0.048706          0.791265   \n",
              "7   0.403336  0.074017     0.728045           0.176978          0.653202   \n",
              "\n",
              "     Affiliates       SEM       NPS  Stock Index  Adstock_Digital  \\\n",
              "25     1.000000  0.016476  0.264150     0.162996         0.064634   \n",
              "26     1.000000  0.016476  0.264150     0.162996         0.064634   \n",
              "35     0.831104  0.051720  0.453100     0.000000         0.152990   \n",
              "17     0.886522  0.052729  0.255030     0.960352         0.527563   \n",
              "7      0.658241  0.087496  0.247719     0.378855         0.065286   \n",
              "\n",
              "    Adstock_Sponsorship  Adstock_Online marketing  Year_y   Month_y       Day  \\\n",
              "25             0.231366                  1.000000     1.0  0.000000  0.391304   \n",
              "26             0.231366                  1.000000     1.0  0.000000  0.695652   \n",
              "35             0.368502                  0.824282     1.0  0.181818  0.826087   \n",
              "17             0.451847                  0.926750     0.0  0.909091  0.304348   \n",
              "7              0.514533                  0.460549     0.0  0.727273  0.086957   \n",
              "\n",
              "    Max Temp (°C)  Min Temp (°C)  Mean Temp (°C)  Heat Deg Days (°C)  \\\n",
              "25       0.114286       0.129032         0.09375                0.88   \n",
              "26       0.085714            NaN             NaN                 NaN   \n",
              "35       0.457143       0.354839         0.40625                0.48   \n",
              "17       0.485714       0.516129         0.50000                0.36   \n",
              "7        0.942857       1.000000         0.96875                0.00   \n",
              "\n",
              "    Cool Deg Days (°C)  Total Rain (mm)  Total Snow (cm)  Total Precip (mm)  \\\n",
              "25            0.000000         0.230769              0.0             0.1875   \n",
              "26                 NaN         0.000000              0.0             0.0000   \n",
              "35            0.000000         1.000000              0.0             0.8125   \n",
              "17            0.000000         0.384615              0.0             0.3125   \n",
              "7             0.857143         0.769231              0.0             0.6250   \n",
              "\n",
              "    Snow on Grnd (cm)  holidays  payday  \n",
              "25                1.0       0.0     1.0  \n",
              "26                0.0       1.0     0.0  \n",
              "35                0.0       0.0     0.0  \n",
              "17                0.0       1.0     1.0  \n",
              "7                 0.0       0.0     1.0  "
            ]
          },
          "metadata": {
            "tags": []
          },
          "execution_count": 1242
        }
      ]
    },
    {
      "cell_type": "code",
      "metadata": {
        "id": "k7sLoRbw17hf",
        "colab_type": "code",
        "colab": {
          "base_uri": "https://localhost:8080/",
          "height": 381
        },
        "outputId": "e1140c6c-71fc-4c08-dfb3-06c313c7c9b2"
      },
      "source": [
        "# step-1: create a cross-validation scheme\n",
        "folds = KFold(n_splits = 5, shuffle = True, random_state = 100)\n",
        "\n",
        "# step-2: specify range of hyperparameters to tune\n",
        "hyper_params = [{'n_features_to_select': list(range(1, 14))}]\n",
        "\n",
        "\n",
        "# step-3: perform grid search\n",
        "# 3.1 specify model\n",
        "lm = LinearRegression()\n",
        "lm.fit(X_train, y_train)\n",
        "rfe = RFE(lm)             \n",
        "\n",
        "# 3.2 call GridSearchCV()\n",
        "model_cv = GridSearchCV(estimator = rfe, \n",
        "                        param_grid = hyper_params, \n",
        "                        scoring= 'r2', \n",
        "                        cv = folds, \n",
        "                        verbose = 1,\n",
        "                        return_train_score=True)      \n",
        "\n",
        "# fit the model\n",
        "model_cv.fit(X_train, y_train)"
      ],
      "execution_count": 1243,
      "outputs": [
        {
          "output_type": "error",
          "ename": "ValueError",
          "evalue": "ignored",
          "traceback": [
            "\u001b[0;31m---------------------------------------------------------------------------\u001b[0m",
            "\u001b[0;31mValueError\u001b[0m                                Traceback (most recent call last)",
            "\u001b[0;32m<ipython-input-1243-ae138c9d93b4>\u001b[0m in \u001b[0;36m<module>\u001b[0;34m()\u001b[0m\n\u001b[1;32m      9\u001b[0m \u001b[0;31m# 3.1 specify model\u001b[0m\u001b[0;34m\u001b[0m\u001b[0;34m\u001b[0m\u001b[0;34m\u001b[0m\u001b[0m\n\u001b[1;32m     10\u001b[0m \u001b[0mlm\u001b[0m \u001b[0;34m=\u001b[0m \u001b[0mLinearRegression\u001b[0m\u001b[0;34m(\u001b[0m\u001b[0;34m)\u001b[0m\u001b[0;34m\u001b[0m\u001b[0;34m\u001b[0m\u001b[0m\n\u001b[0;32m---> 11\u001b[0;31m \u001b[0mlm\u001b[0m\u001b[0;34m.\u001b[0m\u001b[0mfit\u001b[0m\u001b[0;34m(\u001b[0m\u001b[0mX_train\u001b[0m\u001b[0;34m,\u001b[0m \u001b[0my_train\u001b[0m\u001b[0;34m)\u001b[0m\u001b[0;34m\u001b[0m\u001b[0;34m\u001b[0m\u001b[0m\n\u001b[0m\u001b[1;32m     12\u001b[0m \u001b[0mrfe\u001b[0m \u001b[0;34m=\u001b[0m \u001b[0mRFE\u001b[0m\u001b[0;34m(\u001b[0m\u001b[0mlm\u001b[0m\u001b[0;34m)\u001b[0m\u001b[0;34m\u001b[0m\u001b[0;34m\u001b[0m\u001b[0m\n\u001b[1;32m     13\u001b[0m \u001b[0;34m\u001b[0m\u001b[0m\n",
            "\u001b[0;32m/usr/local/lib/python3.6/dist-packages/sklearn/linear_model/_base.py\u001b[0m in \u001b[0;36mfit\u001b[0;34m(self, X, y, sample_weight)\u001b[0m\n\u001b[1;32m    490\u001b[0m         \u001b[0mn_jobs_\u001b[0m \u001b[0;34m=\u001b[0m \u001b[0mself\u001b[0m\u001b[0;34m.\u001b[0m\u001b[0mn_jobs\u001b[0m\u001b[0;34m\u001b[0m\u001b[0;34m\u001b[0m\u001b[0m\n\u001b[1;32m    491\u001b[0m         X, y = check_X_y(X, y, accept_sparse=['csr', 'csc', 'coo'],\n\u001b[0;32m--> 492\u001b[0;31m                          y_numeric=True, multi_output=True)\n\u001b[0m\u001b[1;32m    493\u001b[0m \u001b[0;34m\u001b[0m\u001b[0m\n\u001b[1;32m    494\u001b[0m         \u001b[0;32mif\u001b[0m \u001b[0msample_weight\u001b[0m \u001b[0;32mis\u001b[0m \u001b[0;32mnot\u001b[0m \u001b[0;32mNone\u001b[0m\u001b[0;34m:\u001b[0m\u001b[0;34m\u001b[0m\u001b[0;34m\u001b[0m\u001b[0m\n",
            "\u001b[0;32m/usr/local/lib/python3.6/dist-packages/sklearn/utils/validation.py\u001b[0m in \u001b[0;36mcheck_X_y\u001b[0;34m(X, y, accept_sparse, accept_large_sparse, dtype, order, copy, force_all_finite, ensure_2d, allow_nd, multi_output, ensure_min_samples, ensure_min_features, y_numeric, warn_on_dtype, estimator)\u001b[0m\n\u001b[1;32m    753\u001b[0m                     \u001b[0mensure_min_features\u001b[0m\u001b[0;34m=\u001b[0m\u001b[0mensure_min_features\u001b[0m\u001b[0;34m,\u001b[0m\u001b[0;34m\u001b[0m\u001b[0;34m\u001b[0m\u001b[0m\n\u001b[1;32m    754\u001b[0m                     \u001b[0mwarn_on_dtype\u001b[0m\u001b[0;34m=\u001b[0m\u001b[0mwarn_on_dtype\u001b[0m\u001b[0;34m,\u001b[0m\u001b[0;34m\u001b[0m\u001b[0;34m\u001b[0m\u001b[0m\n\u001b[0;32m--> 755\u001b[0;31m                     estimator=estimator)\n\u001b[0m\u001b[1;32m    756\u001b[0m     \u001b[0;32mif\u001b[0m \u001b[0mmulti_output\u001b[0m\u001b[0;34m:\u001b[0m\u001b[0;34m\u001b[0m\u001b[0;34m\u001b[0m\u001b[0m\n\u001b[1;32m    757\u001b[0m         y = check_array(y, 'csr', force_all_finite=True, ensure_2d=False,\n",
            "\u001b[0;32m/usr/local/lib/python3.6/dist-packages/sklearn/utils/validation.py\u001b[0m in \u001b[0;36mcheck_array\u001b[0;34m(array, accept_sparse, accept_large_sparse, dtype, order, copy, force_all_finite, ensure_2d, allow_nd, ensure_min_samples, ensure_min_features, warn_on_dtype, estimator)\u001b[0m\n\u001b[1;32m    576\u001b[0m         \u001b[0;32mif\u001b[0m \u001b[0mforce_all_finite\u001b[0m\u001b[0;34m:\u001b[0m\u001b[0;34m\u001b[0m\u001b[0;34m\u001b[0m\u001b[0m\n\u001b[1;32m    577\u001b[0m             _assert_all_finite(array,\n\u001b[0;32m--> 578\u001b[0;31m                                allow_nan=force_all_finite == 'allow-nan')\n\u001b[0m\u001b[1;32m    579\u001b[0m \u001b[0;34m\u001b[0m\u001b[0m\n\u001b[1;32m    580\u001b[0m     \u001b[0;32mif\u001b[0m \u001b[0mensure_min_samples\u001b[0m \u001b[0;34m>\u001b[0m \u001b[0;36m0\u001b[0m\u001b[0;34m:\u001b[0m\u001b[0;34m\u001b[0m\u001b[0;34m\u001b[0m\u001b[0m\n",
            "\u001b[0;32m/usr/local/lib/python3.6/dist-packages/sklearn/utils/validation.py\u001b[0m in \u001b[0;36m_assert_all_finite\u001b[0;34m(X, allow_nan, msg_dtype)\u001b[0m\n\u001b[1;32m     58\u001b[0m                     \u001b[0mmsg_err\u001b[0m\u001b[0;34m.\u001b[0m\u001b[0mformat\u001b[0m\u001b[0;34m\u001b[0m\u001b[0;34m\u001b[0m\u001b[0m\n\u001b[1;32m     59\u001b[0m                     (type_err,\n\u001b[0;32m---> 60\u001b[0;31m                      msg_dtype if msg_dtype is not None else X.dtype)\n\u001b[0m\u001b[1;32m     61\u001b[0m             )\n\u001b[1;32m     62\u001b[0m     \u001b[0;31m# for object dtype data, we only check for NaNs (GH-13254)\u001b[0m\u001b[0;34m\u001b[0m\u001b[0;34m\u001b[0m\u001b[0;34m\u001b[0m\u001b[0m\n",
            "\u001b[0;31mValueError\u001b[0m: Input contains NaN, infinity or a value too large for dtype('float64')."
          ]
        }
      ]
    },
    {
      "cell_type": "code",
      "metadata": {
        "id": "2EzMgvyb1-S4",
        "colab_type": "code",
        "colab": {}
      },
      "source": [
        "# cv results\n",
        "cv_results = pd.DataFrame(model_cv.cv_results_)\n",
        "cv_results.head()"
      ],
      "execution_count": null,
      "outputs": []
    },
    {
      "cell_type": "code",
      "metadata": {
        "id": "X236cTb_2Lg9",
        "colab_type": "code",
        "colab": {}
      },
      "source": [
        "# plotting cv results\n",
        "plt.figure(figsize=(16,6))\n",
        "\n",
        "plt.plot(cv_results[\"param_n_features_to_select\"], cv_results[\"mean_test_score\"])\n",
        "plt.plot(cv_results[\"param_n_features_to_select\"], cv_results[\"mean_train_score\"])\n",
        "plt.xlabel('number of features')\n",
        "plt.ylabel('r-squared')\n",
        "plt.title(\"Optimal Number of Features\")\n",
        "plt.legend(['test score', 'train score'], loc='upper left')"
      ],
      "execution_count": null,
      "outputs": []
    },
    {
      "cell_type": "markdown",
      "metadata": {
        "id": "gcyHL3r32vMX",
        "colab_type": "text"
      },
      "source": [
        "From this we can see we can get a good result with only 2 features but i ma going with 10 features which can be explained as best features."
      ]
    },
    {
      "cell_type": "code",
      "metadata": {
        "id": "s9QU3OEQ2SYk",
        "colab_type": "code",
        "colab": {}
      },
      "source": [
        "# final model\n",
        "n_features_optimal = 10\n",
        "\n",
        "lm = LinearRegression()\n",
        "lm.fit(X_train, y_train)\n",
        "\n",
        "rfe = RFE(lm, n_features_to_select=n_features_optimal)     \n",
        "rfe = rfe.fit(X_train, y_train)\n",
        "\n",
        "# predict gmv of X_train\n",
        "y_pred = rfe.predict(X_train)\n",
        "r2 = sklearn.metrics.r2_score(y_train, y_pred)\n",
        "print(\"\\nR2 Test\",r2)\n",
        "\n",
        "# predict gmv of X_test\n",
        "y_pred = rfe.predict(X_test)\n",
        "r2 = sklearn.metrics.r2_score(y_test, y_pred)\n",
        "print(\"R2 Test\",r2)"
      ],
      "execution_count": null,
      "outputs": []
    },
    {
      "cell_type": "code",
      "metadata": {
        "id": "jqiU3u5M2ZYH",
        "colab_type": "code",
        "colab": {}
      },
      "source": [
        ""
      ],
      "execution_count": null,
      "outputs": []
    }
  ]
}