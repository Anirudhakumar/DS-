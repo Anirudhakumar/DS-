{
  "nbformat": 4,
  "nbformat_minor": 0,
  "metadata": {
    "colab": {
      "name": "MarketMixModeling.ipynb",
      "provenance": [],
      "collapsed_sections": [],
      "mount_file_id": "1XYoJ-KDaGH0y86xJxGCX3tcjH6JIj9Xu",
      "authorship_tag": "ABX9TyOJJNrv5GjP4d5vZCL8GrMa",
      "include_colab_link": true
    },
    "kernelspec": {
      "name": "python3",
      "display_name": "Python 3"
    },
    "accelerator": "GPU"
  },
  "cells": [
    {
      "cell_type": "markdown",
      "metadata": {
        "id": "view-in-github",
        "colab_type": "text"
      },
      "source": [
        "<a href=\"https://colab.research.google.com/github/Anirudhakumar/DS-/blob/master/MarketMixModeling.ipynb\" target=\"_parent\"><img src=\"https://colab.research.google.com/assets/colab-badge.svg\" alt=\"Open In Colab\"/></a>"
      ]
    },
    {
      "cell_type": "code",
      "metadata": {
        "id": "cSzl4g9wpEpZ",
        "colab_type": "code",
        "colab": {}
      },
      "source": [
        "import pandas as pd\n",
        "from google.colab import drive"
      ],
      "execution_count": 1,
      "outputs": []
    },
    {
      "cell_type": "code",
      "metadata": {
        "id": "vSAgMsZNu3-9",
        "colab_type": "code",
        "colab": {
          "base_uri": "https://localhost:8080/",
          "height": 124
        },
        "outputId": "c8dfc1f7-b227-48dd-b012-c2ec1d409dd5"
      },
      "source": [
        "drive.mount(\"/content/drive\")"
      ],
      "execution_count": 2,
      "outputs": [
        {
          "output_type": "stream",
          "text": [
            "Go to this URL in a browser: https://accounts.google.com/o/oauth2/auth?client_id=947318989803-6bn6qk8qdgf4n4g3pfee6491hc0brc4i.apps.googleusercontent.com&redirect_uri=urn%3aietf%3awg%3aoauth%3a2.0%3aoob&response_type=code&scope=email%20https%3a%2f%2fwww.googleapis.com%2fauth%2fdocs.test%20https%3a%2f%2fwww.googleapis.com%2fauth%2fdrive%20https%3a%2f%2fwww.googleapis.com%2fauth%2fdrive.photos.readonly%20https%3a%2f%2fwww.googleapis.com%2fauth%2fpeopleapi.readonly\n",
            "\n",
            "Enter your authorization code:\n",
            "··········\n",
            "Mounted at /content/drive\n"
          ],
          "name": "stdout"
        }
      ]
    },
    {
      "cell_type": "code",
      "metadata": {
        "id": "avfSu1VtvCzi",
        "colab_type": "code",
        "colab": {
          "base_uri": "https://localhost:8080/",
          "height": 72
        },
        "outputId": "0f1244df-260b-476c-8e35-37af6c7fc669"
      },
      "source": [
        "df=pd.read_csv(\"./drive/My Drive/ConsumerElectronics.csv\")"
      ],
      "execution_count": 3,
      "outputs": [
        {
          "output_type": "stream",
          "text": [
            "/usr/local/lib/python3.6/dist-packages/IPython/core/interactiveshell.py:2718: DtypeWarning: Columns (6,12,13) have mixed types.Specify dtype option on import or set low_memory=False.\n",
            "  interactivity=interactivity, compiler=compiler, result=result)\n"
          ],
          "name": "stderr"
        }
      ]
    },
    {
      "cell_type": "code",
      "metadata": {
        "id": "Ylb3pzkGwmAm",
        "colab_type": "code",
        "colab": {
          "base_uri": "https://localhost:8080/",
          "height": 309
        },
        "outputId": "421a0175-985c-46b6-c95f-911ca5a42181"
      },
      "source": [
        "df.head()"
      ],
      "execution_count": 4,
      "outputs": [
        {
          "output_type": "execute_result",
          "data": {
            "text/html": [
              "<div>\n",
              "<style scoped>\n",
              "    .dataframe tbody tr th:only-of-type {\n",
              "        vertical-align: middle;\n",
              "    }\n",
              "\n",
              "    .dataframe tbody tr th {\n",
              "        vertical-align: top;\n",
              "    }\n",
              "\n",
              "    .dataframe thead th {\n",
              "        text-align: right;\n",
              "    }\n",
              "</style>\n",
              "<table border=\"1\" class=\"dataframe\">\n",
              "  <thead>\n",
              "    <tr style=\"text-align: right;\">\n",
              "      <th></th>\n",
              "      <th>fsn_id</th>\n",
              "      <th>order_date</th>\n",
              "      <th>Year</th>\n",
              "      <th>Month</th>\n",
              "      <th>order_id</th>\n",
              "      <th>order_item_id</th>\n",
              "      <th>gmv</th>\n",
              "      <th>units</th>\n",
              "      <th>deliverybdays</th>\n",
              "      <th>deliverycdays</th>\n",
              "      <th>s1_fact.order_payment_type</th>\n",
              "      <th>sla</th>\n",
              "      <th>cust_id</th>\n",
              "      <th>pincode</th>\n",
              "      <th>product_analytic_super_category</th>\n",
              "      <th>product_analytic_category</th>\n",
              "      <th>product_analytic_sub_category</th>\n",
              "      <th>product_analytic_vertical</th>\n",
              "      <th>product_mrp</th>\n",
              "      <th>product_procurement_sla</th>\n",
              "    </tr>\n",
              "  </thead>\n",
              "  <tbody>\n",
              "    <tr>\n",
              "      <th>0</th>\n",
              "      <td>ACCCX3S58G7B5F6P</td>\n",
              "      <td>2015-10-17 15:11:54</td>\n",
              "      <td>2015</td>\n",
              "      <td>10</td>\n",
              "      <td>3.419301e+15</td>\n",
              "      <td>3.419301e+15</td>\n",
              "      <td>6400</td>\n",
              "      <td>1</td>\n",
              "      <td>\\N</td>\n",
              "      <td>\\N</td>\n",
              "      <td>COD</td>\n",
              "      <td>5</td>\n",
              "      <td>-1.01299130778588E+018</td>\n",
              "      <td>-7.79175582905735E+018</td>\n",
              "      <td>CE</td>\n",
              "      <td>CameraAccessory</td>\n",
              "      <td>CameraAccessory</td>\n",
              "      <td>CameraTripod</td>\n",
              "      <td>7190</td>\n",
              "      <td>0</td>\n",
              "    </tr>\n",
              "    <tr>\n",
              "      <th>1</th>\n",
              "      <td>ACCCX3S58G7B5F6P</td>\n",
              "      <td>2015-10-19 10:07:22</td>\n",
              "      <td>2015</td>\n",
              "      <td>10</td>\n",
              "      <td>1.420831e+15</td>\n",
              "      <td>1.420831e+15</td>\n",
              "      <td>6900</td>\n",
              "      <td>1</td>\n",
              "      <td>\\N</td>\n",
              "      <td>\\N</td>\n",
              "      <td>COD</td>\n",
              "      <td>7</td>\n",
              "      <td>-8.99032457905512E+018</td>\n",
              "      <td>7.33541149097431E+018</td>\n",
              "      <td>CE</td>\n",
              "      <td>CameraAccessory</td>\n",
              "      <td>CameraAccessory</td>\n",
              "      <td>CameraTripod</td>\n",
              "      <td>7190</td>\n",
              "      <td>0</td>\n",
              "    </tr>\n",
              "    <tr>\n",
              "      <th>2</th>\n",
              "      <td>ACCCX3S5AHMF55FV</td>\n",
              "      <td>2015-10-20 15:45:56</td>\n",
              "      <td>2015</td>\n",
              "      <td>10</td>\n",
              "      <td>2.421913e+15</td>\n",
              "      <td>2.421913e+15</td>\n",
              "      <td>1990</td>\n",
              "      <td>1</td>\n",
              "      <td>\\N</td>\n",
              "      <td>\\N</td>\n",
              "      <td>COD</td>\n",
              "      <td>10</td>\n",
              "      <td>-1.0404429420466E+018</td>\n",
              "      <td>-7.47768776228657E+018</td>\n",
              "      <td>CE</td>\n",
              "      <td>CameraAccessory</td>\n",
              "      <td>CameraAccessory</td>\n",
              "      <td>CameraTripod</td>\n",
              "      <td>2099</td>\n",
              "      <td>3</td>\n",
              "    </tr>\n",
              "    <tr>\n",
              "      <th>3</th>\n",
              "      <td>ACCCX3S5AHMF55FV</td>\n",
              "      <td>2015-10-14 12:05:15</td>\n",
              "      <td>2015</td>\n",
              "      <td>10</td>\n",
              "      <td>4.416592e+15</td>\n",
              "      <td>4.416592e+15</td>\n",
              "      <td>1690</td>\n",
              "      <td>1</td>\n",
              "      <td>\\N</td>\n",
              "      <td>\\N</td>\n",
              "      <td>Prepaid</td>\n",
              "      <td>4</td>\n",
              "      <td>-7.60496084352714E+018</td>\n",
              "      <td>-5.83593163877661E+018</td>\n",
              "      <td>CE</td>\n",
              "      <td>CameraAccessory</td>\n",
              "      <td>CameraAccessory</td>\n",
              "      <td>CameraTripod</td>\n",
              "      <td>2099</td>\n",
              "      <td>3</td>\n",
              "    </tr>\n",
              "    <tr>\n",
              "      <th>4</th>\n",
              "      <td>ACCCX3S5AHMF55FV</td>\n",
              "      <td>2015-10-17 21:25:03</td>\n",
              "      <td>2015</td>\n",
              "      <td>10</td>\n",
              "      <td>4.419525e+15</td>\n",
              "      <td>4.419525e+15</td>\n",
              "      <td>1618</td>\n",
              "      <td>1</td>\n",
              "      <td>\\N</td>\n",
              "      <td>\\N</td>\n",
              "      <td>Prepaid</td>\n",
              "      <td>6</td>\n",
              "      <td>2.8945572083453E+018</td>\n",
              "      <td>5.34735360997242E+017</td>\n",
              "      <td>CE</td>\n",
              "      <td>CameraAccessory</td>\n",
              "      <td>CameraAccessory</td>\n",
              "      <td>CameraTripod</td>\n",
              "      <td>2099</td>\n",
              "      <td>3</td>\n",
              "    </tr>\n",
              "  </tbody>\n",
              "</table>\n",
              "</div>"
            ],
            "text/plain": [
              "             fsn_id           order_date  ...  product_mrp  product_procurement_sla\n",
              "0  ACCCX3S58G7B5F6P  2015-10-17 15:11:54  ...         7190                        0\n",
              "1  ACCCX3S58G7B5F6P  2015-10-19 10:07:22  ...         7190                        0\n",
              "2  ACCCX3S5AHMF55FV  2015-10-20 15:45:56  ...         2099                        3\n",
              "3  ACCCX3S5AHMF55FV  2015-10-14 12:05:15  ...         2099                        3\n",
              "4  ACCCX3S5AHMF55FV  2015-10-17 21:25:03  ...         2099                        3\n",
              "\n",
              "[5 rows x 20 columns]"
            ]
          },
          "metadata": {
            "tags": []
          },
          "execution_count": 4
        }
      ]
    },
    {
      "cell_type": "code",
      "metadata": {
        "id": "EfBa3l41wrus",
        "colab_type": "code",
        "colab": {
          "base_uri": "https://localhost:8080/",
          "height": 364
        },
        "outputId": "937a09ce-df46-4aee-c15b-277646bf4576"
      },
      "source": [
        "!nvidia-smi"
      ],
      "execution_count": 4,
      "outputs": [
        {
          "output_type": "stream",
          "text": [
            "Sat Jul  4 17:00:10 2020       \n",
            "+-----------------------------------------------------------------------------+\n",
            "| NVIDIA-SMI 450.36.06    Driver Version: 418.67       CUDA Version: 10.1     |\n",
            "|-------------------------------+----------------------+----------------------+\n",
            "| GPU  Name        Persistence-M| Bus-Id        Disp.A | Volatile Uncorr. ECC |\n",
            "| Fan  Temp  Perf  Pwr:Usage/Cap|         Memory-Usage | GPU-Util  Compute M. |\n",
            "|                               |                      |               MIG M. |\n",
            "|===============================+======================+======================|\n",
            "|   0  Tesla K80           Off  | 00000000:00:04.0 Off |                    0 |\n",
            "| N/A   64C    P8    35W / 149W |      0MiB / 11441MiB |      0%      Default |\n",
            "|                               |                      |                 ERR! |\n",
            "+-------------------------------+----------------------+----------------------+\n",
            "                                                                               \n",
            "+-----------------------------------------------------------------------------+\n",
            "| Processes:                                                                  |\n",
            "|  GPU   GI   CI        PID   Type   Process name                  GPU Memory |\n",
            "|        ID   ID                                                   Usage      |\n",
            "|=============================================================================|\n",
            "|  No running processes found                                                 |\n",
            "+-----------------------------------------------------------------------------+\n"
          ],
          "name": "stdout"
        }
      ]
    },
    {
      "cell_type": "code",
      "metadata": {
        "id": "Ds6U9Em0xASn",
        "colab_type": "code",
        "colab": {}
      },
      "source": [
        ""
      ],
      "execution_count": null,
      "outputs": []
    }
  ]
}